{
 "cells": [
  {
   "cell_type": "code",
   "execution_count": 2,
   "metadata": {},
   "outputs": [],
   "source": [
    "import pandas as pd\n",
    "import numpy as np\n",
    "import warnings\n",
    "warnings.filterwarnings('ignore')\n",
    "from tqdm import tqdm\n",
    "import pubchempy as pcp\n",
    "import requests"
   ]
  },
  {
   "cell_type": "code",
   "execution_count": 6,
   "metadata": {},
   "outputs": [
    {
     "data": {
      "text/html": [
       "<div>\n",
       "<style scoped>\n",
       "    .dataframe tbody tr th:only-of-type {\n",
       "        vertical-align: middle;\n",
       "    }\n",
       "\n",
       "    .dataframe tbody tr th {\n",
       "        vertical-align: top;\n",
       "    }\n",
       "\n",
       "    .dataframe thead th {\n",
       "        text-align: right;\n",
       "    }\n",
       "</style>\n",
       "<table border=\"1\" class=\"dataframe\">\n",
       "  <thead>\n",
       "    <tr style=\"text-align: right;\">\n",
       "      <th></th>\n",
       "      <th>variant</th>\n",
       "      <th>gene</th>\n",
       "      <th>type</th>\n",
       "      <th>level of evidence</th>\n",
       "      <th>chemicals</th>\n",
       "      <th>phenotypes</th>\n",
       "    </tr>\n",
       "  </thead>\n",
       "  <tbody>\n",
       "    <tr>\n",
       "      <th>0</th>\n",
       "      <td>CYP2C9*1, CYP2C9*2, CYP2C9*3, CYP2C9*13</td>\n",
       "      <td>CYP2C9</td>\n",
       "      <td>Metabolism/PK</td>\n",
       "      <td>1A</td>\n",
       "      <td>meloxicam</td>\n",
       "      <td>NaN</td>\n",
       "    </tr>\n",
       "    <tr>\n",
       "      <th>1</th>\n",
       "      <td>CYP2C9*1, CYP2C9*3, CYP2C9*13</td>\n",
       "      <td>CYP2C9</td>\n",
       "      <td>Metabolism/PK</td>\n",
       "      <td>1A</td>\n",
       "      <td>lornoxicam</td>\n",
       "      <td>NaN</td>\n",
       "    </tr>\n",
       "    <tr>\n",
       "      <th>2</th>\n",
       "      <td>CYP2C9*1, CYP2C9*2, CYP2C9*3</td>\n",
       "      <td>CYP2C9</td>\n",
       "      <td>Metabolism/PK</td>\n",
       "      <td>1A</td>\n",
       "      <td>siponimod</td>\n",
       "      <td>NaN</td>\n",
       "    </tr>\n",
       "    <tr>\n",
       "      <th>3</th>\n",
       "      <td>rs17376848</td>\n",
       "      <td>DPYD</td>\n",
       "      <td>Toxicity</td>\n",
       "      <td>1A</td>\n",
       "      <td>capecitabine</td>\n",
       "      <td>Neoplasms</td>\n",
       "    </tr>\n",
       "    <tr>\n",
       "      <th>4</th>\n",
       "      <td>rs2297595</td>\n",
       "      <td>DPYD</td>\n",
       "      <td>Toxicity</td>\n",
       "      <td>1A</td>\n",
       "      <td>capecitabine</td>\n",
       "      <td>Neoplasms</td>\n",
       "    </tr>\n",
       "  </tbody>\n",
       "</table>\n",
       "</div>"
      ],
      "text/plain": [
       "                                   variant    gene           type  \\\n",
       "0  CYP2C9*1, CYP2C9*2, CYP2C9*3, CYP2C9*13  CYP2C9  Metabolism/PK   \n",
       "1            CYP2C9*1, CYP2C9*3, CYP2C9*13  CYP2C9  Metabolism/PK   \n",
       "2             CYP2C9*1, CYP2C9*2, CYP2C9*3  CYP2C9  Metabolism/PK   \n",
       "3                               rs17376848    DPYD       Toxicity   \n",
       "4                                rs2297595    DPYD       Toxicity   \n",
       "\n",
       "  level of evidence     chemicals phenotypes  \n",
       "0                1A     meloxicam        NaN  \n",
       "1                1A    lornoxicam        NaN  \n",
       "2                1A     siponimod        NaN  \n",
       "3                1A  capecitabine  Neoplasms  \n",
       "4                1A  capecitabine  Neoplasms  "
      ]
     },
     "execution_count": 6,
     "metadata": {},
     "output_type": "execute_result"
    }
   ],
   "source": [
    "pharmgkb_df = pd.read_csv('rawData/PharmGKB/clinicalVariants/clinicalVariants.tsv', sep='\\t')\n",
    "pharmgkb_df = pharmgkb_df.dropna(subset=['chemicals'])\n",
    "pharmgkb_df = pharmgkb_df.dropna(subset=['gene']).reset_index(drop= True)\n",
    "# print(pharmgkb_df)\n",
    "pharmgkb_df.head()"
   ]
  },
  {
   "cell_type": "code",
   "execution_count": 7,
   "metadata": {},
   "outputs": [
    {
     "data": {
      "text/html": [
       "<div>\n",
       "<style scoped>\n",
       "    .dataframe tbody tr th:only-of-type {\n",
       "        vertical-align: middle;\n",
       "    }\n",
       "\n",
       "    .dataframe tbody tr th {\n",
       "        vertical-align: top;\n",
       "    }\n",
       "\n",
       "    .dataframe thead th {\n",
       "        text-align: right;\n",
       "    }\n",
       "</style>\n",
       "<table border=\"1\" class=\"dataframe\">\n",
       "  <thead>\n",
       "    <tr style=\"text-align: right;\">\n",
       "      <th></th>\n",
       "      <th>PharmGKB Accession Id</th>\n",
       "      <th>Name</th>\n",
       "      <th>Generic Names</th>\n",
       "      <th>Trade Names</th>\n",
       "      <th>Brand Mixtures</th>\n",
       "      <th>Type</th>\n",
       "      <th>Cross-references</th>\n",
       "      <th>SMILES</th>\n",
       "      <th>InChI</th>\n",
       "      <th>Dosing Guideline</th>\n",
       "      <th>...</th>\n",
       "      <th>VIP Count</th>\n",
       "      <th>Dosing Guideline Sources</th>\n",
       "      <th>Top Clinical Annotation Level</th>\n",
       "      <th>Top FDA Label Testing Level</th>\n",
       "      <th>Top Any Drug Label Testing Level</th>\n",
       "      <th>Label Has Dosing Info</th>\n",
       "      <th>Has Rx Annotation</th>\n",
       "      <th>RxNorm Identifiers</th>\n",
       "      <th>ATC Identifiers</th>\n",
       "      <th>PubChem Compound Identifiers</th>\n",
       "    </tr>\n",
       "  </thead>\n",
       "  <tbody>\n",
       "    <tr>\n",
       "      <th>0</th>\n",
       "      <td>PA166250381</td>\n",
       "      <td>10-desmethyl alpha-dihydrotetrabenazine</td>\n",
       "      <td>\"(2R,3R,11bR)-9-methoxy-3-(2-methylpropyl)-2,3...</td>\n",
       "      <td>NaN</td>\n",
       "      <td>NaN</td>\n",
       "      <td>Metabolite</td>\n",
       "      <td>PubChem Compound:59272813</td>\n",
       "      <td>NaN</td>\n",
       "      <td>NaN</td>\n",
       "      <td>No</td>\n",
       "      <td>...</td>\n",
       "      <td>0</td>\n",
       "      <td>NaN</td>\n",
       "      <td>NaN</td>\n",
       "      <td>NaN</td>\n",
       "      <td>NaN</td>\n",
       "      <td>NaN</td>\n",
       "      <td>NaN</td>\n",
       "      <td>NaN</td>\n",
       "      <td>NaN</td>\n",
       "      <td>59272813</td>\n",
       "    </tr>\n",
       "    <tr>\n",
       "      <th>1</th>\n",
       "      <td>PA166250405</td>\n",
       "      <td>10-desmethyl beta-dihydrodeutetrabenazine</td>\n",
       "      <td>\"(2S,3R,11bR)-3-(2-methylpropyl)-9-(trideuteri...</td>\n",
       "      <td>NaN</td>\n",
       "      <td>NaN</td>\n",
       "      <td>Metabolite</td>\n",
       "      <td>PubChem Compound:117693284</td>\n",
       "      <td>NaN</td>\n",
       "      <td>NaN</td>\n",
       "      <td>No</td>\n",
       "      <td>...</td>\n",
       "      <td>0</td>\n",
       "      <td>NaN</td>\n",
       "      <td>NaN</td>\n",
       "      <td>NaN</td>\n",
       "      <td>NaN</td>\n",
       "      <td>NaN</td>\n",
       "      <td>NaN</td>\n",
       "      <td>NaN</td>\n",
       "      <td>NaN</td>\n",
       "      <td>117693284</td>\n",
       "    </tr>\n",
       "    <tr>\n",
       "      <th>2</th>\n",
       "      <td>PA166250403</td>\n",
       "      <td>10-desmethyl beta-dihydrotetrabenazine</td>\n",
       "      <td>\"(2S,3R,11bR)-9-methoxy-3-(2-methylpropyl)-2,3...</td>\n",
       "      <td>NaN</td>\n",
       "      <td>NaN</td>\n",
       "      <td>Metabolite</td>\n",
       "      <td>PubChem Compound:59272796</td>\n",
       "      <td>NaN</td>\n",
       "      <td>NaN</td>\n",
       "      <td>No</td>\n",
       "      <td>...</td>\n",
       "      <td>0</td>\n",
       "      <td>NaN</td>\n",
       "      <td>NaN</td>\n",
       "      <td>NaN</td>\n",
       "      <td>NaN</td>\n",
       "      <td>NaN</td>\n",
       "      <td>NaN</td>\n",
       "      <td>NaN</td>\n",
       "      <td>NaN</td>\n",
       "      <td>59272796</td>\n",
       "    </tr>\n",
       "    <tr>\n",
       "      <th>3</th>\n",
       "      <td>PA166178620</td>\n",
       "      <td>10-formyltetrahydrofolate</td>\n",
       "      <td>NaN</td>\n",
       "      <td>NaN</td>\n",
       "      <td>NaN</td>\n",
       "      <td>Biological Intermediate</td>\n",
       "      <td>PubChem Compound:10</td>\n",
       "      <td>NaN</td>\n",
       "      <td>NaN</td>\n",
       "      <td>No</td>\n",
       "      <td>...</td>\n",
       "      <td>0</td>\n",
       "      <td>NaN</td>\n",
       "      <td>NaN</td>\n",
       "      <td>NaN</td>\n",
       "      <td>NaN</td>\n",
       "      <td>NaN</td>\n",
       "      <td>NaN</td>\n",
       "      <td>NaN</td>\n",
       "      <td>NaN</td>\n",
       "      <td>10</td>\n",
       "    </tr>\n",
       "    <tr>\n",
       "      <th>4</th>\n",
       "      <td>PA166131395</td>\n",
       "      <td>10-hydroxy r-warfarin</td>\n",
       "      <td>NaN</td>\n",
       "      <td>NaN</td>\n",
       "      <td>NaN</td>\n",
       "      <td>Metabolite</td>\n",
       "      <td>HMDB:HMDB13884</td>\n",
       "      <td>NaN</td>\n",
       "      <td>NaN</td>\n",
       "      <td>No</td>\n",
       "      <td>...</td>\n",
       "      <td>0</td>\n",
       "      <td>NaN</td>\n",
       "      <td>NaN</td>\n",
       "      <td>NaN</td>\n",
       "      <td>NaN</td>\n",
       "      <td>NaN</td>\n",
       "      <td>NaN</td>\n",
       "      <td>NaN</td>\n",
       "      <td>NaN</td>\n",
       "      <td>NaN</td>\n",
       "    </tr>\n",
       "  </tbody>\n",
       "</table>\n",
       "<p>5 rows × 24 columns</p>\n",
       "</div>"
      ],
      "text/plain": [
       "  PharmGKB Accession Id                                       Name  \\\n",
       "0           PA166250381    10-desmethyl alpha-dihydrotetrabenazine   \n",
       "1           PA166250405  10-desmethyl beta-dihydrodeutetrabenazine   \n",
       "2           PA166250403     10-desmethyl beta-dihydrotetrabenazine   \n",
       "3           PA166178620                  10-formyltetrahydrofolate   \n",
       "4           PA166131395                      10-hydroxy r-warfarin   \n",
       "\n",
       "                                       Generic Names Trade Names  \\\n",
       "0  \"(2R,3R,11bR)-9-methoxy-3-(2-methylpropyl)-2,3...         NaN   \n",
       "1  \"(2S,3R,11bR)-3-(2-methylpropyl)-9-(trideuteri...         NaN   \n",
       "2  \"(2S,3R,11bR)-9-methoxy-3-(2-methylpropyl)-2,3...         NaN   \n",
       "3                                                NaN         NaN   \n",
       "4                                                NaN         NaN   \n",
       "\n",
       "  Brand Mixtures                     Type            Cross-references SMILES  \\\n",
       "0            NaN               Metabolite   PubChem Compound:59272813    NaN   \n",
       "1            NaN               Metabolite  PubChem Compound:117693284    NaN   \n",
       "2            NaN               Metabolite   PubChem Compound:59272796    NaN   \n",
       "3            NaN  Biological Intermediate         PubChem Compound:10    NaN   \n",
       "4            NaN               Metabolite              HMDB:HMDB13884    NaN   \n",
       "\n",
       "  InChI Dosing Guideline  ... VIP Count  Dosing Guideline Sources  \\\n",
       "0   NaN               No  ...         0                       NaN   \n",
       "1   NaN               No  ...         0                       NaN   \n",
       "2   NaN               No  ...         0                       NaN   \n",
       "3   NaN               No  ...         0                       NaN   \n",
       "4   NaN               No  ...         0                       NaN   \n",
       "\n",
       "   Top Clinical Annotation Level  Top FDA Label Testing Level  \\\n",
       "0                            NaN                          NaN   \n",
       "1                            NaN                          NaN   \n",
       "2                            NaN                          NaN   \n",
       "3                            NaN                          NaN   \n",
       "4                            NaN                          NaN   \n",
       "\n",
       "   Top Any Drug Label Testing Level Label Has Dosing Info Has Rx Annotation  \\\n",
       "0                               NaN                   NaN               NaN   \n",
       "1                               NaN                   NaN               NaN   \n",
       "2                               NaN                   NaN               NaN   \n",
       "3                               NaN                   NaN               NaN   \n",
       "4                               NaN                   NaN               NaN   \n",
       "\n",
       "  RxNorm Identifiers ATC Identifiers PubChem Compound Identifiers  \n",
       "0                NaN             NaN                     59272813  \n",
       "1                NaN             NaN                    117693284  \n",
       "2                NaN             NaN                     59272796  \n",
       "3                NaN             NaN                           10  \n",
       "4                NaN             NaN                          NaN  \n",
       "\n",
       "[5 rows x 24 columns]"
      ]
     },
     "execution_count": 7,
     "metadata": {},
     "output_type": "execute_result"
    }
   ],
   "source": [
    "chemicals_df = pd.read_csv('rawData/PharmGKB/chemicals/chemicals.tsv', sep='\\t', dtype={'PubChem Compound Identifiers': str})\n",
    "chemicals_df.head()\n"
   ]
  },
  {
   "cell_type": "code",
   "execution_count": 8,
   "metadata": {},
   "outputs": [
    {
     "data": {
      "text/html": [
       "<div>\n",
       "<style scoped>\n",
       "    .dataframe tbody tr th:only-of-type {\n",
       "        vertical-align: middle;\n",
       "    }\n",
       "\n",
       "    .dataframe tbody tr th {\n",
       "        vertical-align: top;\n",
       "    }\n",
       "\n",
       "    .dataframe thead th {\n",
       "        text-align: right;\n",
       "    }\n",
       "</style>\n",
       "<table border=\"1\" class=\"dataframe\">\n",
       "  <thead>\n",
       "    <tr style=\"text-align: right;\">\n",
       "      <th></th>\n",
       "      <th>gene</th>\n",
       "      <th>rsid</th>\n",
       "      <th>variant</th>\n",
       "      <th>NPid</th>\n",
       "    </tr>\n",
       "  </thead>\n",
       "  <tbody>\n",
       "    <tr>\n",
       "      <th>0</th>\n",
       "      <td>CYP1B1</td>\n",
       "      <td>rs10012</td>\n",
       "      <td>R48G</td>\n",
       "      <td>NP_000095.2:p.Arg48Gly</td>\n",
       "    </tr>\n",
       "    <tr>\n",
       "      <th>1</th>\n",
       "      <td>ABCG2</td>\n",
       "      <td>rs1002012563</td>\n",
       "      <td>T512N</td>\n",
       "      <td>NP_004818.2:p.Thr512Asn</td>\n",
       "    </tr>\n",
       "    <tr>\n",
       "      <th>2</th>\n",
       "      <td>GABRP</td>\n",
       "      <td>rs10036156</td>\n",
       "      <td>L7V</td>\n",
       "      <td>NP_055026.1:p.Leu7Val</td>\n",
       "    </tr>\n",
       "    <tr>\n",
       "      <th>3</th>\n",
       "      <td>SLC5A7</td>\n",
       "      <td>rs1013940</td>\n",
       "      <td>I89V</td>\n",
       "      <td>NP_068587.1:p.Ile89Val</td>\n",
       "    </tr>\n",
       "    <tr>\n",
       "      <th>4</th>\n",
       "      <td>UGT1A10</td>\n",
       "      <td>rs10187694</td>\n",
       "      <td>E139K</td>\n",
       "      <td>NP_061948.1:p.Glu139Lys</td>\n",
       "    </tr>\n",
       "    <tr>\n",
       "      <th>...</th>\n",
       "      <td>...</td>\n",
       "      <td>...</td>\n",
       "      <td>...</td>\n",
       "      <td>...</td>\n",
       "    </tr>\n",
       "    <tr>\n",
       "      <th>1545</th>\n",
       "      <td>CYP2A6</td>\n",
       "      <td>rs199916117</td>\n",
       "      <td>K194E</td>\n",
       "      <td>NP_000753.3:p.Lys194Glu</td>\n",
       "    </tr>\n",
       "    <tr>\n",
       "      <th>1546</th>\n",
       "      <td>CYP3A4</td>\n",
       "      <td>rs201821708</td>\n",
       "      <td>Y319C</td>\n",
       "      <td>NP_059488.2:p.Tyr319Cys</td>\n",
       "    </tr>\n",
       "    <tr>\n",
       "      <th>1547</th>\n",
       "      <td>CYP2A6</td>\n",
       "      <td>rs28399440</td>\n",
       "      <td>F118L</td>\n",
       "      <td>NP_000753.3:p.Phe118Leu</td>\n",
       "    </tr>\n",
       "    <tr>\n",
       "      <th>1548</th>\n",
       "      <td>CYP2C9</td>\n",
       "      <td>rs370100007</td>\n",
       "      <td>Q214H</td>\n",
       "      <td>NP_000762.2:p.Gln214His</td>\n",
       "    </tr>\n",
       "    <tr>\n",
       "      <th>1549</th>\n",
       "      <td>CYP2C9</td>\n",
       "      <td>rs375805362</td>\n",
       "      <td>R125C</td>\n",
       "      <td>NP_000762.2:p.Arg125Cys</td>\n",
       "    </tr>\n",
       "  </tbody>\n",
       "</table>\n",
       "<p>1550 rows × 4 columns</p>\n",
       "</div>"
      ],
      "text/plain": [
       "         gene          rsid variant                     NPid\n",
       "0      CYP1B1       rs10012    R48G   NP_000095.2:p.Arg48Gly\n",
       "1       ABCG2  rs1002012563   T512N  NP_004818.2:p.Thr512Asn\n",
       "2       GABRP    rs10036156     L7V    NP_055026.1:p.Leu7Val\n",
       "3      SLC5A7     rs1013940    I89V   NP_068587.1:p.Ile89Val\n",
       "4     UGT1A10    rs10187694   E139K  NP_061948.1:p.Glu139Lys\n",
       "...       ...           ...     ...                      ...\n",
       "1545   CYP2A6   rs199916117   K194E  NP_000753.3:p.Lys194Glu\n",
       "1546   CYP3A4   rs201821708   Y319C  NP_059488.2:p.Tyr319Cys\n",
       "1547   CYP2A6    rs28399440   F118L  NP_000753.3:p.Phe118Leu\n",
       "1548   CYP2C9   rs370100007   Q214H  NP_000762.2:p.Gln214His\n",
       "1549   CYP2C9   rs375805362   R125C  NP_000762.2:p.Arg125Cys\n",
       "\n",
       "[1550 rows x 4 columns]"
      ]
     },
     "execution_count": 8,
     "metadata": {},
     "output_type": "execute_result"
    }
   ],
   "source": [
    "variant_df = pd.read_csv('rawData/PharmGKB/variants/variants.tsv', sep='\\t')\n",
    "columns = ['Variant Name', 'Gene Symbols', 'Synonyms']\n",
    "variant_df = pd.DataFrame(data=variant_df, columns=columns)\n",
    "variant_df = variant_df.dropna(subset=['Gene Symbols'])\n",
    "variant_df = variant_df[variant_df['Synonyms'].str.contains('NP')].reset_index(drop=True)\n",
    "\n",
    "protein_dict = {\n",
    "    'Gly':'G', 'Ala':'A', 'Val':'V', 'Leu':'L', 'Ile':'I',\n",
    "    'Pro':'P', 'Phe':'F', 'Tyr':'Y', 'Trp':'W', 'Ser':'S', \n",
    "    'Thr':'T', 'Cys':'C', 'Met':'M', 'Asn':'N', 'Gln':'Q',\n",
    "    'Asp':'D', 'Glu':'E', 'Lys':'K', 'Arg':'R', 'His':'H'\n",
    "}\n",
    "\n",
    "# split NPnumber\n",
    "variant_table = pd.DataFrame(columns=['gene', 'rsid', 'variant', 'NPid'])\n",
    "for i in range(variant_df.shape[0]): # \n",
    "    gene = variant_df['Gene Symbols'][i].split(',')[0]\n",
    "    rsid = variant_df['Variant Name'][i]\n",
    "    synonyms = variant_df['Synonyms'][i]\n",
    "    # split and filtering\n",
    "    syn_list = synonyms.split(',')\n",
    "    np_list = [n for n in syn_list if 'NP' in n]\n",
    "    missense_list = [n for n in np_list if '=' not in n]\n",
    "    #print(missense_list)\n",
    "    try: # for = in NPid: not missense\n",
    "        NPid = missense_list[0].strip()\n",
    "    except IndexError:\n",
    "        continue\n",
    "    string = NPid.split('p.')[-1]\n",
    "    try:\n",
    "        variant = protein_dict[string[0:3]] + string[3:-3] + protein_dict[string[-3:]]\n",
    "    except KeyError:\n",
    "        continue\n",
    "    variant_table = variant_table.append([{'gene':gene, 'rsid':rsid, 'variant':variant, 'NPid':NPid}], ignore_index=True)\n",
    "variant_table"
   ]
  },
  {
   "cell_type": "code",
   "execution_count": 9,
   "metadata": {},
   "outputs": [
    {
     "data": {
      "text/html": [
       "<div>\n",
       "<style scoped>\n",
       "    .dataframe tbody tr th:only-of-type {\n",
       "        vertical-align: middle;\n",
       "    }\n",
       "\n",
       "    .dataframe tbody tr th {\n",
       "        vertical-align: top;\n",
       "    }\n",
       "\n",
       "    .dataframe thead th {\n",
       "        text-align: right;\n",
       "    }\n",
       "</style>\n",
       "<table border=\"1\" class=\"dataframe\">\n",
       "  <thead>\n",
       "    <tr style=\"text-align: right;\">\n",
       "      <th></th>\n",
       "      <th>Variation ID</th>\n",
       "      <th>dbSNP</th>\n",
       "      <th>Chromosome</th>\n",
       "      <th>Position</th>\n",
       "      <th>REF Allele</th>\n",
       "      <th>ALT Allele (IUPAC)</th>\n",
       "      <th>Minor Allele</th>\n",
       "      <th>Minor Allele Global Frequency</th>\n",
       "      <th>Contig</th>\n",
       "      <th>Contig Position</th>\n",
       "      <th>Band</th>\n",
       "    </tr>\n",
       "  </thead>\n",
       "  <tbody>\n",
       "    <tr>\n",
       "      <th>0</th>\n",
       "      <td>rs7414551</td>\n",
       "      <td>rs7414551</td>\n",
       "      <td>1</td>\n",
       "      <td>964594</td>\n",
       "      <td>G</td>\n",
       "      <td>A</td>\n",
       "      <td>A</td>\n",
       "      <td>0.205471</td>\n",
       "      <td>GL000006.2</td>\n",
       "      <td>378606</td>\n",
       "      <td>p36.33</td>\n",
       "    </tr>\n",
       "    <tr>\n",
       "      <th>1</th>\n",
       "      <td>rs146898897</td>\n",
       "      <td>rs146898897</td>\n",
       "      <td>1</td>\n",
       "      <td>1582436</td>\n",
       "      <td>C</td>\n",
       "      <td>T</td>\n",
       "      <td>T</td>\n",
       "      <td>0.007388</td>\n",
       "      <td>GL000006.2</td>\n",
       "      <td>996448</td>\n",
       "      <td>p36.33</td>\n",
       "    </tr>\n",
       "    <tr>\n",
       "      <th>2</th>\n",
       "      <td>rs13303344</td>\n",
       "      <td>rs13303344</td>\n",
       "      <td>1</td>\n",
       "      <td>2016961</td>\n",
       "      <td>C</td>\n",
       "      <td>W</td>\n",
       "      <td>C</td>\n",
       "      <td>0.455072</td>\n",
       "      <td>GL000006.2</td>\n",
       "      <td>1430973</td>\n",
       "      <td>p36.33</td>\n",
       "    </tr>\n",
       "    <tr>\n",
       "      <th>3</th>\n",
       "      <td>rs4481796</td>\n",
       "      <td>rs4481796</td>\n",
       "      <td>1</td>\n",
       "      <td>2017366</td>\n",
       "      <td>T</td>\n",
       "      <td>C</td>\n",
       "      <td>T</td>\n",
       "      <td>0.216454</td>\n",
       "      <td>GL000006.2</td>\n",
       "      <td>1431378</td>\n",
       "      <td>p36.33</td>\n",
       "    </tr>\n",
       "    <tr>\n",
       "      <th>4</th>\n",
       "      <td>rs2376805</td>\n",
       "      <td>rs2376805</td>\n",
       "      <td>1</td>\n",
       "      <td>2024923</td>\n",
       "      <td>G</td>\n",
       "      <td>A</td>\n",
       "      <td>G</td>\n",
       "      <td>0.224441</td>\n",
       "      <td>GL000006.2</td>\n",
       "      <td>1438935</td>\n",
       "      <td>p36.33</td>\n",
       "    </tr>\n",
       "    <tr>\n",
       "      <th>...</th>\n",
       "      <td>...</td>\n",
       "      <td>...</td>\n",
       "      <td>...</td>\n",
       "      <td>...</td>\n",
       "      <td>...</td>\n",
       "      <td>...</td>\n",
       "      <td>...</td>\n",
       "      <td>...</td>\n",
       "      <td>...</td>\n",
       "      <td>...</td>\n",
       "      <td>...</td>\n",
       "    </tr>\n",
       "    <tr>\n",
       "      <th>6819</th>\n",
       "      <td>rs72554665</td>\n",
       "      <td>rs72554665</td>\n",
       "      <td>X</td>\n",
       "      <td>154532269</td>\n",
       "      <td>C</td>\n",
       "      <td>D</td>\n",
       "      <td>A</td>\n",
       "      <td>0.001589</td>\n",
       "      <td>GL000172.2</td>\n",
       "      <td>10056663</td>\n",
       "      <td>q28</td>\n",
       "    </tr>\n",
       "    <tr>\n",
       "      <th>6820</th>\n",
       "      <td>rs2230037</td>\n",
       "      <td>rs2230037</td>\n",
       "      <td>X</td>\n",
       "      <td>154532439</td>\n",
       "      <td>A</td>\n",
       "      <td>G</td>\n",
       "      <td>A</td>\n",
       "      <td>0.215894</td>\n",
       "      <td>GL000172.2</td>\n",
       "      <td>10056833</td>\n",
       "      <td>q28</td>\n",
       "    </tr>\n",
       "    <tr>\n",
       "      <th>6821</th>\n",
       "      <td>rs5030868</td>\n",
       "      <td>rs5030868</td>\n",
       "      <td>X</td>\n",
       "      <td>154534419</td>\n",
       "      <td>G</td>\n",
       "      <td>A</td>\n",
       "      <td>A</td>\n",
       "      <td>0.000795</td>\n",
       "      <td>GL000172.2</td>\n",
       "      <td>10058813</td>\n",
       "      <td>q28</td>\n",
       "    </tr>\n",
       "    <tr>\n",
       "      <th>6822</th>\n",
       "      <td>rs1050829</td>\n",
       "      <td>rs1050829</td>\n",
       "      <td>X</td>\n",
       "      <td>154535277</td>\n",
       "      <td>T</td>\n",
       "      <td>M</td>\n",
       "      <td>C</td>\n",
       "      <td>0.094570</td>\n",
       "      <td>GL000172.2</td>\n",
       "      <td>10059671</td>\n",
       "      <td>q28</td>\n",
       "    </tr>\n",
       "    <tr>\n",
       "      <th>6823</th>\n",
       "      <td>rs1050828</td>\n",
       "      <td>rs1050828</td>\n",
       "      <td>X</td>\n",
       "      <td>154536002</td>\n",
       "      <td>C</td>\n",
       "      <td>T</td>\n",
       "      <td>T</td>\n",
       "      <td>0.037616</td>\n",
       "      <td>GL000172.2</td>\n",
       "      <td>10060396</td>\n",
       "      <td>q28</td>\n",
       "    </tr>\n",
       "  </tbody>\n",
       "</table>\n",
       "<p>6824 rows × 11 columns</p>\n",
       "</div>"
      ],
      "text/plain": [
       "     Variation ID        dbSNP Chromosome   Position REF Allele  \\\n",
       "0       rs7414551    rs7414551          1     964594          G   \n",
       "1     rs146898897  rs146898897          1    1582436          C   \n",
       "2      rs13303344   rs13303344          1    2016961          C   \n",
       "3       rs4481796    rs4481796          1    2017366          T   \n",
       "4       rs2376805    rs2376805          1    2024923          G   \n",
       "...           ...          ...        ...        ...        ...   \n",
       "6819   rs72554665   rs72554665          X  154532269          C   \n",
       "6820    rs2230037    rs2230037          X  154532439          A   \n",
       "6821    rs5030868    rs5030868          X  154534419          G   \n",
       "6822    rs1050829    rs1050829          X  154535277          T   \n",
       "6823    rs1050828    rs1050828          X  154536002          C   \n",
       "\n",
       "     ALT Allele (IUPAC) Minor Allele Minor Allele Global Frequency  \\\n",
       "0                     A            A                      0.205471   \n",
       "1                     T            T                      0.007388   \n",
       "2                     W            C                      0.455072   \n",
       "3                     C            T                      0.216454   \n",
       "4                     A            G                      0.224441   \n",
       "...                 ...          ...                           ...   \n",
       "6819                  D            A                      0.001589   \n",
       "6820                  G            A                      0.215894   \n",
       "6821                  A            A                      0.000795   \n",
       "6822                  M            C                      0.094570   \n",
       "6823                  T            T                      0.037616   \n",
       "\n",
       "          Contig  Contig Position    Band  \n",
       "0     GL000006.2           378606  p36.33  \n",
       "1     GL000006.2           996448  p36.33  \n",
       "2     GL000006.2          1430973  p36.33  \n",
       "3     GL000006.2          1431378  p36.33  \n",
       "4     GL000006.2          1438935  p36.33  \n",
       "...          ...              ...     ...  \n",
       "6819  GL000172.2         10056663     q28  \n",
       "6820  GL000172.2         10056833     q28  \n",
       "6821  GL000172.2         10058813     q28  \n",
       "6822  GL000172.2         10059671     q28  \n",
       "6823  GL000172.2         10060396     q28  \n",
       "\n",
       "[6824 rows x 11 columns]"
      ]
     },
     "execution_count": 9,
     "metadata": {},
     "output_type": "execute_result"
    }
   ],
   "source": [
    "# query_variant_df = pd.DataFrame()\n",
    "# for i in range(len(variant_df)):\n",
    "#     variant = variant_df['Variant Name'][i]\n",
    "#     query_variant_df = query_variant_df.append([{'type':'dbsnp', 'variant': variant}], ignore_index = True)\n",
    "\n",
    "# query_variant_df.to_csv('middlefile/pharmgkb_query_variant_table.tsv', sep = '\\t', index=False)\n",
    "\n",
    "gen_coord_df = pd.read_csv('middlefile/pharmgkb_gen_coords_3a9b7334.txt', sep= '\\t')\n",
    "gen_coord_df"
   ]
  },
  {
   "cell_type": "code",
   "execution_count": 10,
   "metadata": {},
   "outputs": [
    {
     "data": {
      "text/html": [
       "<div>\n",
       "<style scoped>\n",
       "    .dataframe tbody tr th:only-of-type {\n",
       "        vertical-align: middle;\n",
       "    }\n",
       "\n",
       "    .dataframe tbody tr th {\n",
       "        vertical-align: top;\n",
       "    }\n",
       "\n",
       "    .dataframe thead th {\n",
       "        text-align: right;\n",
       "    }\n",
       "</style>\n",
       "<table border=\"1\" class=\"dataframe\">\n",
       "  <thead>\n",
       "    <tr style=\"text-align: right;\">\n",
       "      <th></th>\n",
       "      <th>data source</th>\n",
       "      <th>chemical_type</th>\n",
       "      <th>chemical name</th>\n",
       "      <th>pubchem id</th>\n",
       "      <th>smile</th>\n",
       "      <th>disease name</th>\n",
       "      <th>gene symbol</th>\n",
       "      <th>variant</th>\n",
       "      <th>chromosome</th>\n",
       "      <th>position</th>\n",
       "      <th>ref allele</th>\n",
       "      <th>alt allele</th>\n",
       "      <th>label</th>\n",
       "    </tr>\n",
       "  </thead>\n",
       "  <tbody>\n",
       "    <tr>\n",
       "      <th>0</th>\n",
       "      <td>pharmgkb</td>\n",
       "      <td>Drug</td>\n",
       "      <td>meloxicam</td>\n",
       "      <td>5281106</td>\n",
       "      <td>CC1=CN=C(S1)N/C(=C\\2/C(=O)C3=CC=CC=C3S(=O)(=O)...</td>\n",
       "      <td>NaN</td>\n",
       "      <td>CYP2C9</td>\n",
       "      <td>CYP2C9*1, CYP2C9*2, CYP2C9*3, CYP2C9*13</td>\n",
       "      <td>None</td>\n",
       "      <td>None</td>\n",
       "      <td>None</td>\n",
       "      <td>None</td>\n",
       "      <td>Metabolism/PK</td>\n",
       "    </tr>\n",
       "    <tr>\n",
       "      <th>1</th>\n",
       "      <td>pharmgkb</td>\n",
       "      <td>Drug</td>\n",
       "      <td>lornoxicam</td>\n",
       "      <td>5282204</td>\n",
       "      <td>CN1/C(=C(\\NC2=CC=CC=N2)/O)/C(=O)C3=C(S1(=O)=O)...</td>\n",
       "      <td>NaN</td>\n",
       "      <td>CYP2C9</td>\n",
       "      <td>CYP2C9*1, CYP2C9*3, CYP2C9*13</td>\n",
       "      <td>None</td>\n",
       "      <td>None</td>\n",
       "      <td>None</td>\n",
       "      <td>None</td>\n",
       "      <td>Metabolism/PK</td>\n",
       "    </tr>\n",
       "    <tr>\n",
       "      <th>2</th>\n",
       "      <td>pharmgkb</td>\n",
       "      <td>Drug</td>\n",
       "      <td>siponimod</td>\n",
       "      <td>44599207</td>\n",
       "      <td>NaN</td>\n",
       "      <td>NaN</td>\n",
       "      <td>CYP2C9</td>\n",
       "      <td>CYP2C9*1, CYP2C9*2, CYP2C9*3</td>\n",
       "      <td>None</td>\n",
       "      <td>None</td>\n",
       "      <td>None</td>\n",
       "      <td>None</td>\n",
       "      <td>Metabolism/PK</td>\n",
       "    </tr>\n",
       "    <tr>\n",
       "      <th>3</th>\n",
       "      <td>pharmgkb</td>\n",
       "      <td>Prodrug</td>\n",
       "      <td>capecitabine</td>\n",
       "      <td>60953</td>\n",
       "      <td>CCCCCOC(=O)NC1=NC(=O)N(C=C1F)[C@H]2[C@@H]([C@@...</td>\n",
       "      <td>Neoplasms</td>\n",
       "      <td>DPYD</td>\n",
       "      <td>rs17376848</td>\n",
       "      <td>1</td>\n",
       "      <td>97450068</td>\n",
       "      <td>A</td>\n",
       "      <td>G</td>\n",
       "      <td>Toxicity</td>\n",
       "    </tr>\n",
       "    <tr>\n",
       "      <th>4</th>\n",
       "      <td>pharmgkb</td>\n",
       "      <td>Prodrug</td>\n",
       "      <td>capecitabine</td>\n",
       "      <td>60953</td>\n",
       "      <td>CCCCCOC(=O)NC1=NC(=O)N(C=C1F)[C@H]2[C@@H]([C@@...</td>\n",
       "      <td>Neoplasms</td>\n",
       "      <td>DPYD</td>\n",
       "      <td>M166V</td>\n",
       "      <td>1</td>\n",
       "      <td>97699535</td>\n",
       "      <td>T</td>\n",
       "      <td>C</td>\n",
       "      <td>Toxicity</td>\n",
       "    </tr>\n",
       "    <tr>\n",
       "      <th>...</th>\n",
       "      <td>...</td>\n",
       "      <td>...</td>\n",
       "      <td>...</td>\n",
       "      <td>...</td>\n",
       "      <td>...</td>\n",
       "      <td>...</td>\n",
       "      <td>...</td>\n",
       "      <td>...</td>\n",
       "      <td>...</td>\n",
       "      <td>...</td>\n",
       "      <td>...</td>\n",
       "      <td>...</td>\n",
       "      <td>...</td>\n",
       "    </tr>\n",
       "    <tr>\n",
       "      <th>4823</th>\n",
       "      <td>pharmgkb</td>\n",
       "      <td>Drug</td>\n",
       "      <td>sertraline</td>\n",
       "      <td>68617</td>\n",
       "      <td>CN[C@H]1CC[C@H](C2=CC=CC=C12)C3=CC(=C(C=C3)Cl)Cl</td>\n",
       "      <td>Depressive Disorder, Major,Panic Disorder</td>\n",
       "      <td>SLC6A4</td>\n",
       "      <td>SLC6A4 HTTLPR long form (L allele), SLC6A4 HTT...</td>\n",
       "      <td>None</td>\n",
       "      <td>None</td>\n",
       "      <td>None</td>\n",
       "      <td>None</td>\n",
       "      <td>Efficacy</td>\n",
       "    </tr>\n",
       "    <tr>\n",
       "      <th>4824</th>\n",
       "      <td>pharmgkb</td>\n",
       "      <td>Drug</td>\n",
       "      <td>sertraline</td>\n",
       "      <td>68617</td>\n",
       "      <td>CN[C@H]1CC[C@H](C2=CC=CC=C12)C3=CC(=C(C=C3)Cl)Cl</td>\n",
       "      <td>Anxiety Disorders,Depressive Disorder, Major</td>\n",
       "      <td>SLC6A4</td>\n",
       "      <td>SLC6A4 HTTLPR long form (L allele), SLC6A4 HTT...</td>\n",
       "      <td>None</td>\n",
       "      <td>None</td>\n",
       "      <td>None</td>\n",
       "      <td>None</td>\n",
       "      <td>Toxicity</td>\n",
       "    </tr>\n",
       "    <tr>\n",
       "      <th>4825</th>\n",
       "      <td>pharmgkb</td>\n",
       "      <td>Drug</td>\n",
       "      <td>fluoxetine</td>\n",
       "      <td>3386</td>\n",
       "      <td>CNCCC(C1=CC=CC=C1)OC2=CC=C(C=C2)C(F)(F)F</td>\n",
       "      <td>Depressive Disorder, Major</td>\n",
       "      <td>SLC6A4</td>\n",
       "      <td>rs25531</td>\n",
       "      <td>17</td>\n",
       "      <td>30237328</td>\n",
       "      <td>T</td>\n",
       "      <td>C</td>\n",
       "      <td>Efficacy</td>\n",
       "    </tr>\n",
       "    <tr>\n",
       "      <th>4826</th>\n",
       "      <td>pharmgkb</td>\n",
       "      <td>Drug</td>\n",
       "      <td>fluoxetine</td>\n",
       "      <td>3386</td>\n",
       "      <td>CNCCC(C1=CC=CC=C1)OC2=CC=C(C=C2)C(F)(F)F</td>\n",
       "      <td>Depressive Disorder, Major,Obsessive-Compulsiv...</td>\n",
       "      <td>SLC6A4</td>\n",
       "      <td>SLC6A4 HTTLPR long form (L allele), SLC6A4 HTT...</td>\n",
       "      <td>None</td>\n",
       "      <td>None</td>\n",
       "      <td>None</td>\n",
       "      <td>None</td>\n",
       "      <td>Efficacy</td>\n",
       "    </tr>\n",
       "    <tr>\n",
       "      <th>4827</th>\n",
       "      <td>pharmgkb</td>\n",
       "      <td>Drug Class</td>\n",
       "      <td>Ace Inhibitors, Plain</td>\n",
       "      <td>NaN</td>\n",
       "      <td>NaN</td>\n",
       "      <td>Cough</td>\n",
       "      <td>BDKRB2</td>\n",
       "      <td>rs1799722</td>\n",
       "      <td>14</td>\n",
       "      <td>96204802</td>\n",
       "      <td>C</td>\n",
       "      <td>T</td>\n",
       "      <td>Toxicity</td>\n",
       "    </tr>\n",
       "  </tbody>\n",
       "</table>\n",
       "<p>4828 rows × 13 columns</p>\n",
       "</div>"
      ],
      "text/plain": [
       "     data source chemical_type          chemical name pubchem id  \\\n",
       "0       pharmgkb          Drug              meloxicam    5281106   \n",
       "1       pharmgkb          Drug             lornoxicam    5282204   \n",
       "2       pharmgkb          Drug              siponimod   44599207   \n",
       "3       pharmgkb       Prodrug           capecitabine      60953   \n",
       "4       pharmgkb       Prodrug           capecitabine      60953   \n",
       "...          ...           ...                    ...        ...   \n",
       "4823    pharmgkb          Drug             sertraline      68617   \n",
       "4824    pharmgkb          Drug             sertraline      68617   \n",
       "4825    pharmgkb          Drug             fluoxetine       3386   \n",
       "4826    pharmgkb          Drug             fluoxetine       3386   \n",
       "4827    pharmgkb    Drug Class  Ace Inhibitors, Plain        NaN   \n",
       "\n",
       "                                                  smile  \\\n",
       "0     CC1=CN=C(S1)N/C(=C\\2/C(=O)C3=CC=CC=C3S(=O)(=O)...   \n",
       "1     CN1/C(=C(\\NC2=CC=CC=N2)/O)/C(=O)C3=C(S1(=O)=O)...   \n",
       "2                                                   NaN   \n",
       "3     CCCCCOC(=O)NC1=NC(=O)N(C=C1F)[C@H]2[C@@H]([C@@...   \n",
       "4     CCCCCOC(=O)NC1=NC(=O)N(C=C1F)[C@H]2[C@@H]([C@@...   \n",
       "...                                                 ...   \n",
       "4823   CN[C@H]1CC[C@H](C2=CC=CC=C12)C3=CC(=C(C=C3)Cl)Cl   \n",
       "4824   CN[C@H]1CC[C@H](C2=CC=CC=C12)C3=CC(=C(C=C3)Cl)Cl   \n",
       "4825           CNCCC(C1=CC=CC=C1)OC2=CC=C(C=C2)C(F)(F)F   \n",
       "4826           CNCCC(C1=CC=CC=C1)OC2=CC=C(C=C2)C(F)(F)F   \n",
       "4827                                                NaN   \n",
       "\n",
       "                                           disease name gene symbol  \\\n",
       "0                                                   NaN      CYP2C9   \n",
       "1                                                   NaN      CYP2C9   \n",
       "2                                                   NaN      CYP2C9   \n",
       "3                                             Neoplasms        DPYD   \n",
       "4                                             Neoplasms        DPYD   \n",
       "...                                                 ...         ...   \n",
       "4823          Depressive Disorder, Major,Panic Disorder      SLC6A4   \n",
       "4824       Anxiety Disorders,Depressive Disorder, Major      SLC6A4   \n",
       "4825                         Depressive Disorder, Major      SLC6A4   \n",
       "4826  Depressive Disorder, Major,Obsessive-Compulsiv...      SLC6A4   \n",
       "4827                                              Cough      BDKRB2   \n",
       "\n",
       "                                                variant chromosome  position  \\\n",
       "0               CYP2C9*1, CYP2C9*2, CYP2C9*3, CYP2C9*13       None      None   \n",
       "1                         CYP2C9*1, CYP2C9*3, CYP2C9*13       None      None   \n",
       "2                          CYP2C9*1, CYP2C9*2, CYP2C9*3       None      None   \n",
       "3                                            rs17376848          1  97450068   \n",
       "4                                                 M166V          1  97699535   \n",
       "...                                                 ...        ...       ...   \n",
       "4823  SLC6A4 HTTLPR long form (L allele), SLC6A4 HTT...       None      None   \n",
       "4824  SLC6A4 HTTLPR long form (L allele), SLC6A4 HTT...       None      None   \n",
       "4825                                            rs25531         17  30237328   \n",
       "4826  SLC6A4 HTTLPR long form (L allele), SLC6A4 HTT...       None      None   \n",
       "4827                                          rs1799722         14  96204802   \n",
       "\n",
       "     ref allele alt allele          label  \n",
       "0          None       None  Metabolism/PK  \n",
       "1          None       None  Metabolism/PK  \n",
       "2          None       None  Metabolism/PK  \n",
       "3             A          G       Toxicity  \n",
       "4             T          C       Toxicity  \n",
       "...         ...        ...            ...  \n",
       "4823       None       None       Efficacy  \n",
       "4824       None       None       Toxicity  \n",
       "4825          T          C       Efficacy  \n",
       "4826       None       None       Efficacy  \n",
       "4827          C          T       Toxicity  \n",
       "\n",
       "[4828 rows x 13 columns]"
      ]
     },
     "execution_count": 10,
     "metadata": {},
     "output_type": "execute_result"
    }
   ],
   "source": [
    "pharmgkb_all_df = pd.DataFrame()\n",
    "for i in range(len(pharmgkb_df)):\n",
    "    chemicals = pharmgkb_df['chemicals'][i]\n",
    "    rsid = pharmgkb_df['variant'][i]\n",
    "    gene_symbol = pharmgkb_df['gene'][i].split(',')[0]\n",
    "    label = pharmgkb_df['type'][i]\n",
    "    disease_name = pharmgkb_df['phenotypes'][i]\n",
    "    \n",
    "    try:\n",
    "        variant = variant_table[variant_table['rsid'] == rsid]['variant'].values[0]\n",
    "    \n",
    "    except:\n",
    "        # print(rsid)\n",
    "        variant = rsid\n",
    "\n",
    "    try:\n",
    "        chemical_type = chemicals_df[chemicals_df['Name'] == chemicals]['Type'].values[0]\n",
    "        chemical_smile = chemicals_df[chemicals_df['Name'] == chemicals]['SMILES'].values[0]\n",
    "        pubchem_id = chemicals_df[chemicals_df['Name'] == chemicals]['PubChem Compound Identifiers'].values[0]\n",
    "        # print(chemicals_df[chemicals_df['Name'] == chemicals]['PubChem Compound Identifiers'].values[0])\n",
    "    except :\n",
    "        # print(chemicals)  \n",
    "        chemical_type = None\n",
    "        chemical_smile = None\n",
    "        pubchem_id = None\n",
    "\n",
    "    try:\n",
    "\n",
    "        chromosome = gen_coord_df[gen_coord_df['dbSNP'] == rsid]['Chromosome'].values[0]\n",
    "        position = gen_coord_df[gen_coord_df['dbSNP'] == rsid]['Position'].values[0]\n",
    "        ref_allele = gen_coord_df[gen_coord_df['dbSNP'] == rsid]['REF Allele'].values[0]\n",
    "        alt_allele = gen_coord_df[gen_coord_df['dbSNP'] == rsid]['ALT Allele (IUPAC)'].values[0]\n",
    "        \n",
    "\n",
    "    except IndexError:\n",
    "\n",
    "        chromosome = None\n",
    "        position = None\n",
    "        ref_allele = None\n",
    "        alt_allele = None\n",
    "\n",
    "    pharmgkb_all_df = pharmgkb_all_df.append([{'data source': 'pharmgkb', 'chemical_type': chemical_type, 'chemical name': chemicals, 'pubchem id': pubchem_id, 'smile': chemical_smile, 'disease name': disease_name, 'gene symbol': gene_symbol, 'variant': variant, 'chromosome': chromosome, 'position': position, 'ref allele': ref_allele, 'alt allele': alt_allele, 'label': label}], ignore_index = True)\n",
    "\n",
    "pharmgkb_all_df.to_csv('middlefile/pharmgkb_all_table.tsv', sep = '\\t')\n",
    "pharmgkb_all_df"
   ]
  },
  {
   "cell_type": "code",
   "execution_count": 11,
   "metadata": {},
   "outputs": [
    {
     "name": "stdout",
     "output_type": "stream",
     "text": [
      "(4196, 25)\n",
      "(2562, 25)\n"
     ]
    }
   ],
   "source": [
    "civic_df = pd.read_csv('rawData/CIViC/nightly-ClinicalEvidenceSummaries.tsv', sep='\\t')\n",
    "molecular_df = pd.read_csv('rawData/CIViC/nightly-MolecularProfileSummaries.tsv', sep='\\t')\n",
    "variant_df = pd.read_csv('rawData/CIViC/nightly-VariantSummaries.tsv', sep='\\t')\n",
    "\n",
    "variant_df['variant_id'] = variant_df['variant_id'].astype(object)\n",
    "\n",
    "print(civic_df.shape)\n",
    "civic_df = civic_df.dropna(subset=['therapies']).reset_index(drop=True)\n",
    "print(civic_df.shape)\n",
    "# civic_df['therapies'].isna().value_counts()"
   ]
  },
  {
   "cell_type": "code",
   "execution_count": 12,
   "metadata": {},
   "outputs": [
    {
     "name": "stdout",
     "output_type": "stream",
     "text": [
      "BRAF V600E AND BRAF V600M\n",
      "BRAF V600E AND BRAF Amplification\n",
      "ALK EML4::ALK AND ALK L1196M\n",
      "ABL1 BCR::ABL AND ABL1 E255K\n",
      "ABL1 BCR::ABL AND ABL1 T315I\n",
      "ABL1 BCR::ABL AND ABL1 T315I\n",
      "ALK EML4::ALK AND ALK C1156Y\n",
      "ALK EML4::ALK AND ALK L1196M\n",
      "FLT3 ITD AND FLT3 D835Y\n",
      "ALK EML4::ALK AND ALK Amplification\n",
      "ALK EML4::ALK AND ALK G1202R\n",
      "ALK EML4::ALK AND ALK L1196M\n",
      "ALK EML4::ALK AND ALK S1206Y\n",
      "ALK EML4::ALK AND ALK T1151dup\n",
      "ABL1 BCR::ABL AND ABL1 F317L\n",
      "ABL1 BCR::ABL AND ABL1 F317L\n",
      "ABL1 BCR::ABL AND ABL1 T315I\n",
      "ALK EML4::ALK AND ALK L1152R\n",
      "ALK EML4::ALK AND ALK G1269A\n",
      "ALK EML4::ALK AND ALK G1269A\n",
      "ALK EML4::ALK AND ALK Amplification\n",
      "ALK EML4::ALK AND ALK Amplification\n",
      "EGFR Amplification AND EGFR EGFRVIII\n",
      "ALK EML4::ALK AND ALK C1156Y\n",
      "ALK EML4::ALK AND ALK C1156Y\n",
      "ALK EML4::ALK AND ALK L1198F AND ALK C1156Y\n",
      "ALK EML4::ALK AND ALK L1198F AND ALK C1156Y\n",
      "MET Amplification AND MET Splice Site (c.3028G>A)\n",
      "ALK EML4::ALK AND ALK V1180L\n",
      "ALK EML4::ALK AND ALK V1180L\n",
      "ALK EML4::ALK AND ALK V1180L\n",
      "ALK EML4::ALK AND ALK V1180L\n",
      "ALK EML4::ALK AND ALK V1180L\n",
      "ALK EML4::ALK AND ALK F1245C\n",
      "ALK EML4::ALK AND ALK F1245C\n",
      "ALK EML4::ALK AND ALK F1245C\n",
      "ALK EML4::ALK AND ALK L1196M\n",
      "ALK G1269A AND ALK Fusion\n",
      "ALK EML4::ALK AND ALK S1206Y\n",
      "ALK EML4::ALK AND ALK G1202R\n",
      "ALK EML4::ALK AND ALK C1156Y\n",
      "ALK EML4::ALK AND ALK T1151dup\n",
      "ALK EML4::ALK AND ALK T1151dup\n",
      "ALK EML4::ALK AND ALK T1151dup\n",
      "ALK EML4::ALK AND ALK G1202R\n",
      "ALK EML4::ALK AND ALK G1202R\n",
      "ALK EML4::ALK AND ALK G1202R\n",
      "ALK G1269A AND ALK Fusion\n",
      "ALK G1269A AND ALK Fusion\n",
      "ALK G1269A AND ALK Fusion\n",
      "ALK G1202R AND ALK Fusion\n",
      "ABL1 BCR::ABL AND ABL1 T315I\n",
      "MTOR E2014K AND MTOR E2419K\n",
      "ALK I1171N AND ALK HIP1::ALK\n",
      "ALK EML4::ALK AND ALK I1171S\n",
      "ABL1 BCR::ABL AND ABL1 G250E\n",
      "ABL1 BCR::ABL AND ABL1 G250E\n",
      "ABL1 BCR::ABL AND ABL1 G250E\n",
      "ABL1 BCR::ABL AND ABL1 G250E\n",
      "ABL1 BCR::ABL AND ABL1 G250E\n",
      "ABL1 BCR::ABL AND ABL1 Y253H\n",
      "ABL1 BCR::ABL AND ABL1 E255K\n",
      "ABL1 BCR::ABL AND ABL1 E255K\n",
      "ABL1 BCR::ABL AND ABL1 E255K\n",
      "ABL1 BCR::ABL AND ABL1 E255K\n",
      "ABL1 BCR::ABL AND ABL1 D276G\n",
      "ABL1 BCR::ABL AND ABL1 D276G\n",
      "ABL1 BCR::ABL AND ABL1 T315I\n",
      "ABL1 BCR::ABL AND ABL1 T315I\n",
      "ABL1 BCR::ABL AND ABL1 T315I\n",
      "ABL1 BCR::ABL AND ABL1 T315I\n",
      "ABL1 BCR::ABL AND ABL1 T315I\n",
      "ABL1 BCR::ABL AND ABL1 F317L\n",
      "ABL1 BCR::ABL AND ABL1 F317L\n",
      "ABL1 BCR::ABL AND ABL1 F317L\n",
      "ABL1 BCR::ABL AND ABL1 F317L\n",
      "ABL1 BCR::ABL AND ABL1 F317L\n",
      "ABL1 BCR::ABL AND ABL1 M351T\n",
      "ABL1 BCR::ABL AND ABL1 M351T\n",
      "ABL1 BCR::ABL AND ABL1 M351T\n",
      "ABL1 BCR::ABL AND ABL1 M351T\n",
      "ABL1 BCR::ABL AND ABL1 M351T\n",
      "ABL1 BCR::ABL AND ABL1 G250E\n",
      "ABL1 BCR::ABL AND ABL1 G250E\n",
      "ABL1 BCR::ABL AND ABL1 G250E\n",
      "ABL1 BCR::ABL AND ABL1 G250E\n",
      "ABL1 BCR::ABL AND ABL1 G250E\n",
      "ABL1 BCR::ABL AND ABL1 Y253H\n",
      "ABL1 BCR::ABL AND ABL1 Y253H\n",
      "ABL1 BCR::ABL AND ABL1 Y253H\n",
      "ABL1 BCR::ABL AND ABL1 Y253H\n",
      "ABL1 BCR::ABL AND ABL1 Y253H\n",
      "ABL1 BCR::ABL AND ABL1 Y253H\n",
      "ABL1 BCR::ABL AND ABL1 E255K\n",
      "ABL1 BCR::ABL AND ABL1 E255K\n",
      "ABL1 BCR::ABL AND ABL1 E255K\n",
      "ABL1 BCR::ABL AND ABL1 E255K\n",
      "ABL1 BCR::ABL AND ABL1 E255K\n",
      "ABL1 BCR::ABL AND ABL1 E255K\n",
      "ABL1 BCR::ABL AND ABL1 D276G\n",
      "ABL1 BCR::ABL AND ABL1 D276G\n",
      "ABL1 BCR::ABL AND ABL1 D276G\n",
      "ABL1 BCR::ABL AND ABL1 T315I\n",
      "ABL1 BCR::ABL AND ABL1 T315I\n",
      "ABL1 BCR::ABL AND ABL1 T315I\n",
      "ABL1 BCR::ABL AND ABL1 T315I\n",
      "ABL1 BCR::ABL AND ABL1 T315I\n",
      "ABL1 BCR::ABL AND ABL1 T315I\n",
      "ABL1 BCR::ABL AND ABL1 F317L\n",
      "ABL1 BCR::ABL AND ABL1 F317L\n",
      "ABL1 BCR::ABL AND ABL1 F317L\n",
      "ABL1 BCR::ABL AND ABL1 M351T\n",
      "ABL1 BCR::ABL AND ABL1 M351T\n",
      "ABL1 BCR::ABL AND ABL1 M351T\n",
      "ABL1 BCR::ABL AND ABL1 M351T\n",
      "ABL1 BCR::ABL AND ABL1 F311I\n",
      "ABL1 BCR::ABL AND ABL1 F317V\n",
      "ABL1 BCR::ABL AND ABL1 E255K\n",
      "ABL1 BCR::ABL AND ABL1 T315I\n",
      "ABL1 BCR::ABL AND ABL1 E255K\n",
      "ABL1 BCR::ABL AND ABL1 E255K\n",
      "ABL1 BCR::ABL AND ABL1 T315I\n",
      "ABL1 BCR::ABL AND ABL1 Y253H\n",
      "ABL1 BCR::ABL AND ABL1 F317V\n",
      "ABL1 BCR::ABL AND ABL1 E255K\n",
      "ABL1 BCR::ABL AND ABL1 F317L\n",
      "ABL1 BCR::ABL AND ABL1 E255K\n",
      "ABL1 BCR::ABL AND ABL1 T315I\n",
      "ABL1 BCR::ABL AND ABL1 T315I\n",
      "ABL1 BCR::ABL AND ABL1 Y253H\n",
      "ABL1 BCR::ABL AND ABL1 G250E\n",
      "ABL1 BCR::ABL AND ABL1 D276G\n",
      "ABL1 BCR::ABL AND ABL1 F317L\n",
      "ABL1 BCR::ABL AND ABL1 F317V\n",
      "ABL1 BCR::ABL AND ABL1 M351T\n",
      "BRAF Amplification AND ( BRAF V600E OR BRAF V600K )\n",
      "ABL1 BCR::ABL AND ABL1 G250E\n",
      "ABL1 BCR::ABL AND ABL1 F317L\n",
      "ABL1 BCR::ABL AND ABL1 E255K\n",
      "ABL1 BCR::ABL AND ABL1 T315I\n",
      "ABL1 BCR::ABL AND ABL1 F317L\n",
      "BRAF V600E AND EZH2 Y646F\n",
      "ABL1 BCR::ABL AND ABL1 F317L\n",
      "ABL1 BCR::ABL AND ABL1 M351T\n",
      "ABL1 BCR::ABL AND ABL1 T315I\n",
      "ABL1 BCR::ABL AND ABL1 E255K\n",
      "ABL1 BCR::ABL AND ABL1 Y253H\n",
      "ABL1 BCR::ABL AND ABL1 G250E\n",
      "ABL1 BCR::ABL AND ABL1 F317L\n",
      "ABL1 BCR::ABL AND ABL1 M351T\n",
      "ABL1 BCR::ABL AND ABL1 T315I\n",
      "ABL1 BCR::ABL AND ABL1 E255K\n",
      "ABL1 BCR::ABL AND ABL1 Y253H\n",
      "ABL1 BCR::ABL AND ABL1 G250E\n",
      "ABL1 BCR::ABL AND ABL1 F317L\n",
      "EGFR L858R OR EGFR Exon 19 Deletion\n",
      "ABL1 BCR::ABL AND ABL1 M351T\n",
      "ABL1 BCR::ABL AND ABL1 T315I\n",
      "ABL1 BCR::ABL AND ABL1 T315I\n",
      "ABL1 BCR::ABL AND ABL1 T315I\n",
      "ABL1 BCR::ABL AND ABL1 T315I\n",
      "ABL1 BCR::ABL AND ABL1 F317L\n",
      "ABL1 BCR::ABL AND ABL1 M351T\n",
      "ABL1 BCR::ABL AND ABL1 F317V\n",
      "ABL1 BCR::ABL AND ABL1 F317V\n",
      "ABL1 BCR::ABL AND ABL1 G250E\n",
      "ABL1 BCR::ABL AND ABL1 Y253H\n",
      "ABL1 BCR::ABL AND ABL1 Y253H\n",
      "ABL1 BCR::ABL AND ABL1 F317L\n",
      "ABL1 BCR::ABL AND ABL1 G250E\n",
      "NTRK1 G595R AND NTRK1 G667S\n",
      "EGFR Amplification AND EGFR EGFR::SEPT14\n",
      "EZH2 Y646S OR EZH2 Y646F OR EZH2 Y646H OR EZH2 Y646C OR EZH2 Y646N OR EZH2 A692V OR EZH2 A682G\n",
      "ALK EML4::ALK AND ALK I1171N AND ALK L1196M\n",
      "ALK EML4::ALK AND ALK G1202R AND ALK I1171N AND ALK L1196M\n",
      "ALK EML4::ALK AND ALK I1171N AND ALK L1196M\n",
      "EGFR L858R OR EGFR Exon 19 Deletion\n",
      "EGFR S768I OR EGFR G719A OR EGFR L861Q\n",
      "EGFR L858R OR EGFR Exon 19 Deletion\n",
      "BRCA1 Mutation OR BRCA2 Mutation\n",
      "NTRK3 G623R AND NTRK3 EML4::NTRK3\n"
     ]
    }
   ],
   "source": [
    "civic_all_df = pd.DataFrame()\n",
    "for i in range(len(civic_df)):\n",
    "    therapies = civic_df['therapies'][i]\n",
    "    disease_name = civic_df['disease'][i]\n",
    "    label = civic_df['significance'][i]\n",
    "    molecular_profile = civic_df['molecular_profile'][i]\n",
    "    # print(molecular_profile)\n",
    "    try:\n",
    "        variant_id = int(molecular_df[molecular_df['name'] == molecular_profile]['variant_ids'].values[0])\n",
    "        # print(type(variant_id))\n",
    "        # print(type(variant_df['variant_id'][24]))\n",
    "        gene = variant_df[variant_df['variant_id'] == variant_id]['gene'].values[0]\n",
    "        variant = variant_df[variant_df['variant_id'] == variant_id]['variant'].values[0]\n",
    "        # print(gene)\n",
    "    except:\n",
    "        print(molecular_profile)\n",
    "        continue\n",
    "\n",
    "    civic_all_df = civic_all_df.append([{'data source': 'civic', 'chemical name': therapies, 'disease name': disease_name, 'gene symbol': gene, 'variant': variant, 'label': label}], ignore_index = True)\n",
    "\n",
    "civic_all_df.to_csv('middlefile/civic_all_table.tsv', sep = '\\t', )"
   ]
  },
  {
   "cell_type": "code",
   "execution_count": 13,
   "metadata": {},
   "outputs": [
    {
     "name": "stdout",
     "output_type": "stream",
     "text": [
      "(1164, 7) (2555, 7)\n",
      "(3719, 7)\n"
     ]
    },
    {
     "data": {
      "text/html": [
       "<div>\n",
       "<style scoped>\n",
       "    .dataframe tbody tr th:only-of-type {\n",
       "        vertical-align: middle;\n",
       "    }\n",
       "\n",
       "    .dataframe tbody tr th {\n",
       "        vertical-align: top;\n",
       "    }\n",
       "\n",
       "    .dataframe thead th {\n",
       "        text-align: right;\n",
       "    }\n",
       "</style>\n",
       "<table border=\"1\" class=\"dataframe\">\n",
       "  <thead>\n",
       "    <tr style=\"text-align: right;\">\n",
       "      <th></th>\n",
       "      <th>Gene</th>\n",
       "      <th>Entrez_id</th>\n",
       "      <th>cDNA</th>\n",
       "      <th>Drug</th>\n",
       "      <th>Drug_id</th>\n",
       "      <th>Association</th>\n",
       "      <th>Evidence level</th>\n",
       "    </tr>\n",
       "  </thead>\n",
       "  <tbody>\n",
       "    <tr>\n",
       "      <th>0</th>\n",
       "      <td>ABL1</td>\n",
       "      <td>25</td>\n",
       "      <td>c.944C&gt;T</td>\n",
       "      <td>Nilotinib</td>\n",
       "      <td>DB04868</td>\n",
       "      <td>Resistant</td>\n",
       "      <td>1</td>\n",
       "    </tr>\n",
       "    <tr>\n",
       "      <th>1</th>\n",
       "      <td>ABL1</td>\n",
       "      <td>25</td>\n",
       "      <td>c.944C&gt;T</td>\n",
       "      <td>Dasatinib</td>\n",
       "      <td>DB01254</td>\n",
       "      <td>Resistant</td>\n",
       "      <td>1</td>\n",
       "    </tr>\n",
       "    <tr>\n",
       "      <th>2</th>\n",
       "      <td>ABL1</td>\n",
       "      <td>25</td>\n",
       "      <td>c.944C&gt;T</td>\n",
       "      <td>Bosutinib</td>\n",
       "      <td>DB06616</td>\n",
       "      <td>Resistant</td>\n",
       "      <td>1</td>\n",
       "    </tr>\n",
       "    <tr>\n",
       "      <th>3</th>\n",
       "      <td>ABL1</td>\n",
       "      <td>25</td>\n",
       "      <td>c.895G&gt;C</td>\n",
       "      <td>Dasatinib</td>\n",
       "      <td>DB01254</td>\n",
       "      <td>Resistant</td>\n",
       "      <td>1</td>\n",
       "    </tr>\n",
       "    <tr>\n",
       "      <th>4</th>\n",
       "      <td>ABL1</td>\n",
       "      <td>25</td>\n",
       "      <td>c.943A&gt;G</td>\n",
       "      <td>Dasatinib</td>\n",
       "      <td>DB01254</td>\n",
       "      <td>Resistant</td>\n",
       "      <td>1</td>\n",
       "    </tr>\n",
       "  </tbody>\n",
       "</table>\n",
       "</div>"
      ],
      "text/plain": [
       "   Gene  Entrez_id      cDNA       Drug  Drug_id Association  Evidence level\n",
       "0  ABL1         25  c.944C>T  Nilotinib  DB04868   Resistant               1\n",
       "1  ABL1         25  c.944C>T  Dasatinib  DB01254   Resistant               1\n",
       "2  ABL1         25  c.944C>T  Bosutinib  DB06616   Resistant               1\n",
       "3  ABL1         25  c.895G>C  Dasatinib  DB01254   Resistant               1\n",
       "4  ABL1         25  c.943A>G  Dasatinib  DB01254   Resistant               1"
      ]
     },
     "execution_count": 13,
     "metadata": {},
     "output_type": "execute_result"
    }
   ],
   "source": [
    "dbmcs_df1 = pd.read_csv('rawData/dbMCS/Data for resistance.csv')\n",
    "dbmcs_df2 = pd.read_csv('rawData/dbMCS/Data for sensitivity.csv')\n",
    "print(dbmcs_df1.shape, dbmcs_df2.shape)\n",
    "\n",
    "dbmcs_df = pd.concat([dbmcs_df1, dbmcs_df2]).reset_index(drop=True)\n",
    "print(dbmcs_df.shape)\n",
    "dbmcs_df.head()"
   ]
  },
  {
   "cell_type": "code",
   "execution_count": 14,
   "metadata": {},
   "outputs": [],
   "source": [
    "dbmcs_all_df = pd.DataFrame()\n",
    "for i in range(len(dbmcs_df)):\n",
    "    therapies = dbmcs_df['Drug'][i]\n",
    "    gene = dbmcs_df['Gene'][i]\n",
    "    variant = dbmcs_df['cDNA'][i]\n",
    "    label = dbmcs_df['Association'][i]\n",
    "\n",
    "    dbmcs_all_df = dbmcs_all_df.append([{'data source': 'dbmcs', 'chemical name': therapies, 'gene symbol': gene, 'variant': variant, 'label': label}], ignore_index = True)\n",
    "    \n",
    "dbmcs_all_df.to_csv('middlefile/dbmcs_all_table.tsv', sep = '\\t')"
   ]
  },
  {
   "cell_type": "code",
   "execution_count": 15,
   "metadata": {},
   "outputs": [
    {
     "data": {
      "text/plain": [
       "array(['ABL1', 'EGFR', 'AKR1B1'], dtype=object)"
      ]
     },
     "execution_count": 15,
     "metadata": {},
     "output_type": "execute_result"
    }
   ],
   "source": [
    "aimms_df = pd.read_csv('rawData/AIMMS/AIMMS-human.csv')\n",
    "aimms_df\n",
    "aimms_df['gene'].unique()"
   ]
  },
  {
   "cell_type": "code",
   "execution_count": 16,
   "metadata": {},
   "outputs": [],
   "source": [
    "aimms_all_df = pd.DataFrame()\n",
    "for i in range(len(aimms_df)):\n",
    "    therapies = aimms_df['drug'][i]\n",
    "    gene = aimms_df['gene'][i]\n",
    "    variant = aimms_df['Mutants'][i]\n",
    "    label = aimms_df['ddg'][i]\n",
    "\n",
    "    aimms_all_df = aimms_all_df.append([{'data source': 'aimms', 'chemical name': therapies, 'gene symbol': gene, 'variant': variant, 'ddg': label}], ignore_index = True)\n",
    "    \n",
    "aimms_all_df.to_csv('middlefile/aimms_all_table.tsv', sep = '\\t')"
   ]
  },
  {
   "cell_type": "code",
   "execution_count": 17,
   "metadata": {},
   "outputs": [
    {
     "data": {
      "text/html": [
       "<div>\n",
       "<style scoped>\n",
       "    .dataframe tbody tr th:only-of-type {\n",
       "        vertical-align: middle;\n",
       "    }\n",
       "\n",
       "    .dataframe tbody tr th {\n",
       "        vertical-align: top;\n",
       "    }\n",
       "\n",
       "    .dataframe thead th {\n",
       "        text-align: right;\n",
       "    }\n",
       "</style>\n",
       "<table border=\"1\" class=\"dataframe\">\n",
       "  <thead>\n",
       "    <tr style=\"text-align: right;\">\n",
       "      <th></th>\n",
       "      <th>drug</th>\n",
       "      <th>Mutation</th>\n",
       "      <th>ic50</th>\n",
       "      <th>Unnamed: 3</th>\n",
       "      <th>Unnamed: 4</th>\n",
       "      <th>ddg</th>\n",
       "      <th>gene</th>\n",
       "    </tr>\n",
       "  </thead>\n",
       "  <tbody>\n",
       "    <tr>\n",
       "      <th>0</th>\n",
       "      <td>Cabozantinib</td>\n",
       "      <td>L730I</td>\n",
       "      <td>2.96</td>\n",
       "      <td>12.333333</td>\n",
       "      <td>2.512306</td>\n",
       "      <td>1.496993</td>\n",
       "      <td>RET</td>\n",
       "    </tr>\n",
       "    <tr>\n",
       "      <th>1</th>\n",
       "      <td>Cabozantinib</td>\n",
       "      <td>L730V</td>\n",
       "      <td>2.37</td>\n",
       "      <td>9.875000</td>\n",
       "      <td>2.290006</td>\n",
       "      <td>1.364533</td>\n",
       "      <td>RET</td>\n",
       "    </tr>\n",
       "    <tr>\n",
       "      <th>2</th>\n",
       "      <td>Cabozantinib</td>\n",
       "      <td>L730V/V804M</td>\n",
       "      <td>7.37</td>\n",
       "      <td>30.708333</td>\n",
       "      <td>3.424534</td>\n",
       "      <td>2.040558</td>\n",
       "      <td>RET</td>\n",
       "    </tr>\n",
       "    <tr>\n",
       "      <th>3</th>\n",
       "      <td>Cabozantinib</td>\n",
       "      <td>E732K</td>\n",
       "      <td>1.15</td>\n",
       "      <td>4.791667</td>\n",
       "      <td>1.566878</td>\n",
       "      <td>0.933647</td>\n",
       "      <td>RET</td>\n",
       "    </tr>\n",
       "    <tr>\n",
       "      <th>4</th>\n",
       "      <td>Cabozantinib</td>\n",
       "      <td>V738A</td>\n",
       "      <td>1.20</td>\n",
       "      <td>5.000000</td>\n",
       "      <td>1.609438</td>\n",
       "      <td>0.959007</td>\n",
       "      <td>RET</td>\n",
       "    </tr>\n",
       "  </tbody>\n",
       "</table>\n",
       "</div>"
      ],
      "text/plain": [
       "           drug     Mutation  ic50  Unnamed: 3  Unnamed: 4       ddg gene\n",
       "0  Cabozantinib        L730I  2.96   12.333333    2.512306  1.496993  RET\n",
       "1  Cabozantinib        L730V  2.37    9.875000    2.290006  1.364533  RET\n",
       "2  Cabozantinib  L730V/V804M  7.37   30.708333    3.424534  2.040558  RET\n",
       "3  Cabozantinib        E732K  1.15    4.791667    1.566878  0.933647  RET\n",
       "4  Cabozantinib        V738A  1.20    5.000000    1.609438  0.959007  RET"
      ]
     },
     "execution_count": 17,
     "metadata": {},
     "output_type": "execute_result"
    }
   ],
   "source": [
    "ret_df = pd.read_csv('rawData/RET/RET.csv')\n",
    "ret_df.head()"
   ]
  },
  {
   "cell_type": "code",
   "execution_count": 18,
   "metadata": {},
   "outputs": [],
   "source": [
    "ret_all_df = pd.DataFrame()\n",
    "for i in range(len(ret_df)):\n",
    "    therapies = ret_df['drug'][i]\n",
    "    gene = ret_df['gene'][i]\n",
    "    variant = ret_df['Mutation'][i]\n",
    "    label = ret_df['ddg'][i]\n",
    "\n",
    "    ret_all_df = ret_all_df.append([{'data source': 'ret', 'chemical name': therapies, 'gene symbol': gene, 'variant': variant, 'ddg': label}], ignore_index = True)\n",
    "    \n",
    "ret_all_df.to_csv('middlefile/ret_all_table.tsv', sep = '\\t')"
   ]
  },
  {
   "cell_type": "code",
   "execution_count": 19,
   "metadata": {},
   "outputs": [
    {
     "data": {
      "text/html": [
       "<div>\n",
       "<style scoped>\n",
       "    .dataframe tbody tr th:only-of-type {\n",
       "        vertical-align: middle;\n",
       "    }\n",
       "\n",
       "    .dataframe tbody tr th {\n",
       "        vertical-align: top;\n",
       "    }\n",
       "\n",
       "    .dataframe thead th {\n",
       "        text-align: right;\n",
       "    }\n",
       "</style>\n",
       "<table border=\"1\" class=\"dataframe\">\n",
       "  <thead>\n",
       "    <tr style=\"text-align: right;\">\n",
       "      <th></th>\n",
       "      <th>TARGET</th>\n",
       "      <th>DRUG</th>\n",
       "      <th>MUTATION</th>\n",
       "      <th>CELL_LINE_WT</th>\n",
       "      <th>CELL_LINE_MT</th>\n",
       "      <th>LN_IC50_WT</th>\n",
       "      <th>LN_IC50_MT</th>\n",
       "      <th>DDG</th>\n",
       "      <th>UNIPROT_ID</th>\n",
       "    </tr>\n",
       "  </thead>\n",
       "  <tbody>\n",
       "    <tr>\n",
       "      <th>0</th>\n",
       "      <td>ABL1</td>\n",
       "      <td>Nilotinib</td>\n",
       "      <td>R608H</td>\n",
       "      <td>5637+A375+AMO-1+ASH-3+BE-13+BT-474+BxPC-3+CAL-...</td>\n",
       "      <td>A253</td>\n",
       "      <td>2.767916</td>\n",
       "      <td>3.384217</td>\n",
       "      <td>0.365149</td>\n",
       "      <td>P00519</td>\n",
       "    </tr>\n",
       "    <tr>\n",
       "      <th>1</th>\n",
       "      <td>ABL1</td>\n",
       "      <td>Nilotinib</td>\n",
       "      <td>A1045T</td>\n",
       "      <td>5637+A375+AMO-1+ASH-3+BE-13+BT-474+BxPC-3+CAL-...</td>\n",
       "      <td>C32</td>\n",
       "      <td>2.767916</td>\n",
       "      <td>3.814408</td>\n",
       "      <td>0.620030</td>\n",
       "      <td>P00519</td>\n",
       "    </tr>\n",
       "    <tr>\n",
       "      <th>2</th>\n",
       "      <td>ABL1</td>\n",
       "      <td>Nilotinib</td>\n",
       "      <td>V587M</td>\n",
       "      <td>5637+A375+AMO-1+ASH-3+BE-13+BT-474+BxPC-3+CAL-...</td>\n",
       "      <td>CA46</td>\n",
       "      <td>2.767916</td>\n",
       "      <td>3.014400</td>\n",
       "      <td>0.146038</td>\n",
       "      <td>P00519</td>\n",
       "    </tr>\n",
       "    <tr>\n",
       "      <th>3</th>\n",
       "      <td>ABL1</td>\n",
       "      <td>Nilotinib</td>\n",
       "      <td>P460L</td>\n",
       "      <td>5637+A375+AMO-1+ASH-3+BE-13+BT-474+BxPC-3+CAL-...</td>\n",
       "      <td>CAL-27</td>\n",
       "      <td>2.767916</td>\n",
       "      <td>3.602492</td>\n",
       "      <td>0.494474</td>\n",
       "      <td>P00519</td>\n",
       "    </tr>\n",
       "    <tr>\n",
       "      <th>4</th>\n",
       "      <td>ABL1</td>\n",
       "      <td>Nilotinib</td>\n",
       "      <td>G1079D</td>\n",
       "      <td>5637+A375+AMO-1+ASH-3+BE-13+BT-474+BxPC-3+CAL-...</td>\n",
       "      <td>CAPAN-2</td>\n",
       "      <td>2.767916</td>\n",
       "      <td>5.464567</td>\n",
       "      <td>1.597725</td>\n",
       "      <td>P00519</td>\n",
       "    </tr>\n",
       "  </tbody>\n",
       "</table>\n",
       "</div>"
      ],
      "text/plain": [
       "  TARGET       DRUG MUTATION  \\\n",
       "0   ABL1  Nilotinib    R608H   \n",
       "1   ABL1  Nilotinib   A1045T   \n",
       "2   ABL1  Nilotinib    V587M   \n",
       "3   ABL1  Nilotinib    P460L   \n",
       "4   ABL1  Nilotinib   G1079D   \n",
       "\n",
       "                                        CELL_LINE_WT CELL_LINE_MT  LN_IC50_WT  \\\n",
       "0  5637+A375+AMO-1+ASH-3+BE-13+BT-474+BxPC-3+CAL-...         A253    2.767916   \n",
       "1  5637+A375+AMO-1+ASH-3+BE-13+BT-474+BxPC-3+CAL-...          C32    2.767916   \n",
       "2  5637+A375+AMO-1+ASH-3+BE-13+BT-474+BxPC-3+CAL-...         CA46    2.767916   \n",
       "3  5637+A375+AMO-1+ASH-3+BE-13+BT-474+BxPC-3+CAL-...       CAL-27    2.767916   \n",
       "4  5637+A375+AMO-1+ASH-3+BE-13+BT-474+BxPC-3+CAL-...      CAPAN-2    2.767916   \n",
       "\n",
       "   LN_IC50_MT       DDG UNIPROT_ID  \n",
       "0    3.384217  0.365149     P00519  \n",
       "1    3.814408  0.620030     P00519  \n",
       "2    3.014400  0.146038     P00519  \n",
       "3    3.602492  0.494474     P00519  \n",
       "4    5.464567  1.597725     P00519  "
      ]
     },
     "execution_count": 19,
     "metadata": {},
     "output_type": "execute_result"
    }
   ],
   "source": [
    "gdsc_df = pd.read_csv('rawData/GDSC/GDSC_drug_cell_line_sensitivity.tsv', sep = '\\t')\n",
    "gdsc_df.head()"
   ]
  },
  {
   "cell_type": "code",
   "execution_count": 20,
   "metadata": {},
   "outputs": [],
   "source": [
    "gdsc_all_df = pd.DataFrame()\n",
    "for i in range(len(gdsc_df)):\n",
    "    therapies = gdsc_df['DRUG'][i]\n",
    "    gene = gdsc_df['TARGET'][i]\n",
    "    variant = gdsc_df['MUTATION'][i]\n",
    "    label = gdsc_df['DDG'][i]                                                                                    \n",
    "\n",
    "    \n",
    "    uniprot_id = gdsc_df['UNIPROT_ID'][i]\n",
    "\n",
    "    gdsc_all_df = gdsc_all_df.append([{'data source': 'gdsc', 'chemical name': therapies, 'gene symbol': gene, 'variant': variant, 'uniprot id': uniprot_id, 'ddg': label}], ignore_index = True)\n",
    "    \n",
    "gdsc_all_df.to_csv('middlefile/gdsc_all_table.tsv', sep = '\\t')"
   ]
  },
  {
   "cell_type": "code",
   "execution_count": 21,
   "metadata": {},
   "outputs": [
    {
     "data": {
      "text/html": [
       "<div>\n",
       "<style scoped>\n",
       "    .dataframe tbody tr th:only-of-type {\n",
       "        vertical-align: middle;\n",
       "    }\n",
       "\n",
       "    .dataframe tbody tr th {\n",
       "        vertical-align: top;\n",
       "    }\n",
       "\n",
       "    .dataframe thead th {\n",
       "        text-align: right;\n",
       "    }\n",
       "</style>\n",
       "<table border=\"1\" class=\"dataframe\">\n",
       "  <thead>\n",
       "    <tr style=\"text-align: right;\">\n",
       "      <th></th>\n",
       "      <th>TARGET</th>\n",
       "      <th>DRUG</th>\n",
       "      <th>MUTATION</th>\n",
       "      <th>CELL_LINE_WT</th>\n",
       "      <th>CELL_LINE_MT</th>\n",
       "      <th>LN_IC50_WT</th>\n",
       "      <th>LN_IC50_MT</th>\n",
       "      <th>DDG</th>\n",
       "    </tr>\n",
       "  </thead>\n",
       "  <tbody>\n",
       "    <tr>\n",
       "      <th>0</th>\n",
       "      <td>ALK</td>\n",
       "      <td>TAE-684</td>\n",
       "      <td>p.A96T</td>\n",
       "      <td>L428+HCT116+RVH421+DKMG+MG63+LC1SQSF+SUIT2+EN+...</td>\n",
       "      <td>C2BBE1</td>\n",
       "      <td>3.608218</td>\n",
       "      <td>1.563514</td>\n",
       "      <td>-1.211456</td>\n",
       "    </tr>\n",
       "    <tr>\n",
       "      <th>1</th>\n",
       "      <td>ALK</td>\n",
       "      <td>TAE-684</td>\n",
       "      <td>p.R317T</td>\n",
       "      <td>L428+HCT116+RVH421+DKMG+MG63+LC1SQSF+SUIT2+EN+...</td>\n",
       "      <td>CORL23</td>\n",
       "      <td>3.608218</td>\n",
       "      <td>7.618295</td>\n",
       "      <td>2.375909</td>\n",
       "    </tr>\n",
       "    <tr>\n",
       "      <th>2</th>\n",
       "      <td>ALK</td>\n",
       "      <td>TAE-684</td>\n",
       "      <td>p.G882C</td>\n",
       "      <td>L428+HCT116+RVH421+DKMG+MG63+LC1SQSF+SUIT2+EN+...</td>\n",
       "      <td>EFO27</td>\n",
       "      <td>3.608218</td>\n",
       "      <td>8.000000</td>\n",
       "      <td>2.602064</td>\n",
       "    </tr>\n",
       "    <tr>\n",
       "      <th>3</th>\n",
       "      <td>ALK</td>\n",
       "      <td>TAE-684</td>\n",
       "      <td>p.G689R</td>\n",
       "      <td>L428+HCT116+RVH421+DKMG+MG63+LC1SQSF+SUIT2+EN+...</td>\n",
       "      <td>G361</td>\n",
       "      <td>3.608218</td>\n",
       "      <td>4.944404</td>\n",
       "      <td>0.791670</td>\n",
       "    </tr>\n",
       "    <tr>\n",
       "      <th>4</th>\n",
       "      <td>ALK</td>\n",
       "      <td>TAE-684</td>\n",
       "      <td>p.R753Q</td>\n",
       "      <td>L428+HCT116+RVH421+DKMG+MG63+LC1SQSF+SUIT2+EN+...</td>\n",
       "      <td>HCC78</td>\n",
       "      <td>3.608218</td>\n",
       "      <td>8.000000</td>\n",
       "      <td>2.602064</td>\n",
       "    </tr>\n",
       "  </tbody>\n",
       "</table>\n",
       "</div>"
      ],
      "text/plain": [
       "  TARGET     DRUG MUTATION                                       CELL_LINE_WT  \\\n",
       "0    ALK  TAE-684   p.A96T  L428+HCT116+RVH421+DKMG+MG63+LC1SQSF+SUIT2+EN+...   \n",
       "1    ALK  TAE-684  p.R317T  L428+HCT116+RVH421+DKMG+MG63+LC1SQSF+SUIT2+EN+...   \n",
       "2    ALK  TAE-684  p.G882C  L428+HCT116+RVH421+DKMG+MG63+LC1SQSF+SUIT2+EN+...   \n",
       "3    ALK  TAE-684  p.G689R  L428+HCT116+RVH421+DKMG+MG63+LC1SQSF+SUIT2+EN+...   \n",
       "4    ALK  TAE-684  p.R753Q  L428+HCT116+RVH421+DKMG+MG63+LC1SQSF+SUIT2+EN+...   \n",
       "\n",
       "  CELL_LINE_MT  LN_IC50_WT  LN_IC50_MT       DDG  \n",
       "0       C2BBE1    3.608218    1.563514 -1.211456  \n",
       "1       CORL23    3.608218    7.618295  2.375909  \n",
       "2        EFO27    3.608218    8.000000  2.602064  \n",
       "3         G361    3.608218    4.944404  0.791670  \n",
       "4        HCC78    3.608218    8.000000  2.602064  "
      ]
     },
     "execution_count": 21,
     "metadata": {},
     "output_type": "execute_result"
    }
   ],
   "source": [
    "depmep_df = pd.read_csv('rawData/DepMap/MepMap_drug_cell_line_sensitivity.tsv', sep = '\\t')\n",
    "depmep_df.head()"
   ]
  },
  {
   "cell_type": "code",
   "execution_count": 22,
   "metadata": {},
   "outputs": [],
   "source": [
    "depmep_all_df = pd.DataFrame()\n",
    "for i in range(len(depmep_df)):\n",
    "    therapies = depmep_df['DRUG'][i]\n",
    "    gene = depmep_df['TARGET'][i]\n",
    "    variant = depmep_df['MUTATION'][i]\n",
    "    label = depmep_df['DDG'][i]                                                                                    \n",
    "\n",
    "\n",
    "    depmep_all_df = depmep_all_df.append([{'data source': 'depmep', 'chemical name': therapies, 'gene symbol': gene, 'variant': variant, 'ddg': label}], ignore_index = True)\n",
    "    \n",
    "depmep_all_df.to_csv('middlefile/depmep_all_table.tsv', sep = '\\t')"
   ]
  },
  {
   "cell_type": "code",
   "execution_count": 23,
   "metadata": {},
   "outputs": [],
   "source": [
    "all_data_df = pd.concat([aimms_all_df, civic_all_df, dbmcs_all_df, depmep_all_df, gdsc_all_df, pharmgkb_all_df, ret_all_df]).reset_index(drop = True)\n",
    "all_data_df.to_csv('middlefile/all_data_table.tsv', sep = '\\t', index= False)\n"
   ]
  },
  {
   "cell_type": "code",
   "execution_count": 24,
   "metadata": {},
   "outputs": [
    {
     "name": "stderr",
     "output_type": "stream",
     "text": [
      "  0%|          | 0/1323 [00:00<?, ?it/s]"
     ]
    },
    {
     "name": "stderr",
     "output_type": "stream",
     "text": [
      " 38%|███▊      | 498/1323 [26:33<44:40,  3.25s/it]  "
     ]
    },
    {
     "name": "stdout",
     "output_type": "stream",
     "text": [
      "OR52J2P\n"
     ]
    },
    {
     "name": "stderr",
     "output_type": "stream",
     "text": [
      " 50%|█████     | 664/1323 [34:42<28:22,  2.58s/it]  "
     ]
    },
    {
     "name": "stdout",
     "output_type": "stream",
     "text": [
      "PSORS1C3\n"
     ]
    },
    {
     "name": "stderr",
     "output_type": "stream",
     "text": [
      " 54%|█████▎    | 710/1323 [37:26<29:18,  2.87s/it]  "
     ]
    },
    {
     "name": "stdout",
     "output_type": "stream",
     "text": [
      "HLA-DPB2\n"
     ]
    },
    {
     "name": "stderr",
     "output_type": "stream",
     "text": [
      " 63%|██████▎   | 837/1323 [44:01<19:28,  2.40s/it]  "
     ]
    },
    {
     "name": "stdout",
     "output_type": "stream",
     "text": [
      "HOTAIR\n"
     ]
    },
    {
     "name": "stderr",
     "output_type": "stream",
     "text": [
      " 71%|███████   | 941/1323 [49:02<17:45,  2.79s/it]"
     ]
    },
    {
     "name": "stdout",
     "output_type": "stream",
     "text": [
      "LINC00251\n"
     ]
    },
    {
     "name": "stderr",
     "output_type": "stream",
     "text": [
      " 73%|███████▎  | 963/1323 [50:05<13:15,  2.21s/it]"
     ]
    },
    {
     "name": "stdout",
     "output_type": "stream",
     "text": [
      "CYCSP5\n"
     ]
    },
    {
     "name": "stderr",
     "output_type": "stream",
     "text": [
      " 73%|███████▎  | 966/1323 [50:09<10:04,  1.69s/it]"
     ]
    },
    {
     "name": "stdout",
     "output_type": "stream",
     "text": [
      "MIR27A\n"
     ]
    },
    {
     "name": "stderr",
     "output_type": "stream",
     "text": [
      " 78%|███████▊  | 1036/1323 [53:27<12:48,  2.68s/it]"
     ]
    },
    {
     "name": "stdout",
     "output_type": "stream",
     "text": [
      "MEG3\n"
     ]
    },
    {
     "name": "stderr",
     "output_type": "stream",
     "text": [
      " 86%|████████▋ | 1143/1323 [58:22<06:44,  2.25s/it]"
     ]
    },
    {
     "name": "stdout",
     "output_type": "stream",
     "text": [
      "MIR582\n"
     ]
    },
    {
     "name": "stderr",
     "output_type": "stream",
     "text": [
      " 94%|█████████▍| 1246/1323 [1:02:54<02:29,  1.94s/it]"
     ]
    },
    {
     "name": "stdout",
     "output_type": "stream",
     "text": [
      "CYP2A7P1\n"
     ]
    },
    {
     "name": "stderr",
     "output_type": "stream",
     "text": [
      "100%|██████████| 1323/1323 [1:06:12<00:00,  3.00s/it]\n"
     ]
    },
    {
     "data": {
      "text/html": [
       "<div>\n",
       "<style scoped>\n",
       "    .dataframe tbody tr th:only-of-type {\n",
       "        vertical-align: middle;\n",
       "    }\n",
       "\n",
       "    .dataframe tbody tr th {\n",
       "        vertical-align: top;\n",
       "    }\n",
       "\n",
       "    .dataframe thead th {\n",
       "        text-align: right;\n",
       "    }\n",
       "</style>\n",
       "<table border=\"1\" class=\"dataframe\">\n",
       "  <thead>\n",
       "    <tr style=\"text-align: right;\">\n",
       "      <th></th>\n",
       "      <th>data source</th>\n",
       "      <th>chemical name</th>\n",
       "      <th>gene symbol</th>\n",
       "      <th>variant</th>\n",
       "      <th>ddg</th>\n",
       "      <th>disease name</th>\n",
       "      <th>label</th>\n",
       "      <th>uniprot id</th>\n",
       "      <th>chemical_type</th>\n",
       "      <th>pubchem id</th>\n",
       "      <th>smile</th>\n",
       "      <th>chromosome</th>\n",
       "      <th>position</th>\n",
       "      <th>ref allele</th>\n",
       "      <th>alt allele</th>\n",
       "    </tr>\n",
       "  </thead>\n",
       "  <tbody>\n",
       "    <tr>\n",
       "      <th>0</th>\n",
       "      <td>aimms</td>\n",
       "      <td>dasatinib</td>\n",
       "      <td>ABL1</td>\n",
       "      <td>M244V</td>\n",
       "      <td>0.290000</td>\n",
       "      <td>NaN</td>\n",
       "      <td>NaN</td>\n",
       "      <td>P00519</td>\n",
       "      <td>NaN</td>\n",
       "      <td>NaN</td>\n",
       "      <td>NaN</td>\n",
       "      <td>NaN</td>\n",
       "      <td>NaN</td>\n",
       "      <td>NaN</td>\n",
       "      <td>NaN</td>\n",
       "    </tr>\n",
       "    <tr>\n",
       "      <th>1</th>\n",
       "      <td>aimms</td>\n",
       "      <td>dasatinib</td>\n",
       "      <td>ABL1</td>\n",
       "      <td>G250E</td>\n",
       "      <td>0.480000</td>\n",
       "      <td>NaN</td>\n",
       "      <td>NaN</td>\n",
       "      <td>P00519</td>\n",
       "      <td>NaN</td>\n",
       "      <td>NaN</td>\n",
       "      <td>NaN</td>\n",
       "      <td>NaN</td>\n",
       "      <td>NaN</td>\n",
       "      <td>NaN</td>\n",
       "      <td>NaN</td>\n",
       "    </tr>\n",
       "    <tr>\n",
       "      <th>2</th>\n",
       "      <td>aimms</td>\n",
       "      <td>dasatinib</td>\n",
       "      <td>ABL1</td>\n",
       "      <td>Q252H</td>\n",
       "      <td>0.860000</td>\n",
       "      <td>NaN</td>\n",
       "      <td>NaN</td>\n",
       "      <td>P00519</td>\n",
       "      <td>NaN</td>\n",
       "      <td>NaN</td>\n",
       "      <td>NaN</td>\n",
       "      <td>NaN</td>\n",
       "      <td>NaN</td>\n",
       "      <td>NaN</td>\n",
       "      <td>NaN</td>\n",
       "    </tr>\n",
       "    <tr>\n",
       "      <th>3</th>\n",
       "      <td>aimms</td>\n",
       "      <td>dasatinib</td>\n",
       "      <td>ABL1</td>\n",
       "      <td>Y253F</td>\n",
       "      <td>0.330000</td>\n",
       "      <td>NaN</td>\n",
       "      <td>NaN</td>\n",
       "      <td>P00519</td>\n",
       "      <td>NaN</td>\n",
       "      <td>NaN</td>\n",
       "      <td>NaN</td>\n",
       "      <td>NaN</td>\n",
       "      <td>NaN</td>\n",
       "      <td>NaN</td>\n",
       "      <td>NaN</td>\n",
       "    </tr>\n",
       "    <tr>\n",
       "      <th>4</th>\n",
       "      <td>aimms</td>\n",
       "      <td>dasatinib</td>\n",
       "      <td>ABL1</td>\n",
       "      <td>Y253H</td>\n",
       "      <td>0.290000</td>\n",
       "      <td>NaN</td>\n",
       "      <td>NaN</td>\n",
       "      <td>P00519</td>\n",
       "      <td>NaN</td>\n",
       "      <td>NaN</td>\n",
       "      <td>NaN</td>\n",
       "      <td>NaN</td>\n",
       "      <td>NaN</td>\n",
       "      <td>NaN</td>\n",
       "      <td>NaN</td>\n",
       "    </tr>\n",
       "    <tr>\n",
       "      <th>...</th>\n",
       "      <td>...</td>\n",
       "      <td>...</td>\n",
       "      <td>...</td>\n",
       "      <td>...</td>\n",
       "      <td>...</td>\n",
       "      <td>...</td>\n",
       "      <td>...</td>\n",
       "      <td>...</td>\n",
       "      <td>...</td>\n",
       "      <td>...</td>\n",
       "      <td>...</td>\n",
       "      <td>...</td>\n",
       "      <td>...</td>\n",
       "      <td>...</td>\n",
       "      <td>...</td>\n",
       "    </tr>\n",
       "    <tr>\n",
       "      <th>19664</th>\n",
       "      <td>ret</td>\n",
       "      <td>Nintedanib</td>\n",
       "      <td>RET</td>\n",
       "      <td>G810A</td>\n",
       "      <td>-0.044158</td>\n",
       "      <td>NaN</td>\n",
       "      <td>NaN</td>\n",
       "      <td>P07949</td>\n",
       "      <td>NaN</td>\n",
       "      <td>NaN</td>\n",
       "      <td>NaN</td>\n",
       "      <td>NaN</td>\n",
       "      <td>NaN</td>\n",
       "      <td>NaN</td>\n",
       "      <td>NaN</td>\n",
       "    </tr>\n",
       "    <tr>\n",
       "      <th>19665</th>\n",
       "      <td>ret</td>\n",
       "      <td>Nintedanib</td>\n",
       "      <td>RET</td>\n",
       "      <td>G810S</td>\n",
       "      <td>0.826043</td>\n",
       "      <td>NaN</td>\n",
       "      <td>NaN</td>\n",
       "      <td>P07949</td>\n",
       "      <td>NaN</td>\n",
       "      <td>NaN</td>\n",
       "      <td>NaN</td>\n",
       "      <td>NaN</td>\n",
       "      <td>NaN</td>\n",
       "      <td>NaN</td>\n",
       "      <td>NaN</td>\n",
       "    </tr>\n",
       "    <tr>\n",
       "      <th>19666</th>\n",
       "      <td>ret</td>\n",
       "      <td>Nintedanib</td>\n",
       "      <td>RET</td>\n",
       "      <td>V871I</td>\n",
       "      <td>0.149749</td>\n",
       "      <td>NaN</td>\n",
       "      <td>NaN</td>\n",
       "      <td>P07949</td>\n",
       "      <td>NaN</td>\n",
       "      <td>NaN</td>\n",
       "      <td>NaN</td>\n",
       "      <td>NaN</td>\n",
       "      <td>NaN</td>\n",
       "      <td>NaN</td>\n",
       "      <td>NaN</td>\n",
       "    </tr>\n",
       "    <tr>\n",
       "      <th>19667</th>\n",
       "      <td>ret</td>\n",
       "      <td>Nintedanib</td>\n",
       "      <td>RET</td>\n",
       "      <td>F998V</td>\n",
       "      <td>0.000000</td>\n",
       "      <td>NaN</td>\n",
       "      <td>NaN</td>\n",
       "      <td>P07949</td>\n",
       "      <td>NaN</td>\n",
       "      <td>NaN</td>\n",
       "      <td>NaN</td>\n",
       "      <td>NaN</td>\n",
       "      <td>NaN</td>\n",
       "      <td>NaN</td>\n",
       "      <td>NaN</td>\n",
       "    </tr>\n",
       "    <tr>\n",
       "      <th>19668</th>\n",
       "      <td>ret</td>\n",
       "      <td>Nintedanib</td>\n",
       "      <td>RET</td>\n",
       "      <td>M918T</td>\n",
       "      <td>0.321169</td>\n",
       "      <td>NaN</td>\n",
       "      <td>NaN</td>\n",
       "      <td>P07949</td>\n",
       "      <td>NaN</td>\n",
       "      <td>NaN</td>\n",
       "      <td>NaN</td>\n",
       "      <td>NaN</td>\n",
       "      <td>NaN</td>\n",
       "      <td>NaN</td>\n",
       "      <td>NaN</td>\n",
       "    </tr>\n",
       "  </tbody>\n",
       "</table>\n",
       "<p>19669 rows × 15 columns</p>\n",
       "</div>"
      ],
      "text/plain": [
       "      data source chemical name gene symbol variant       ddg disease name  \\\n",
       "0           aimms     dasatinib        ABL1   M244V  0.290000          NaN   \n",
       "1           aimms     dasatinib        ABL1   G250E  0.480000          NaN   \n",
       "2           aimms     dasatinib        ABL1   Q252H  0.860000          NaN   \n",
       "3           aimms     dasatinib        ABL1   Y253F  0.330000          NaN   \n",
       "4           aimms     dasatinib        ABL1   Y253H  0.290000          NaN   \n",
       "...           ...           ...         ...     ...       ...          ...   \n",
       "19664         ret    Nintedanib         RET   G810A -0.044158          NaN   \n",
       "19665         ret    Nintedanib         RET   G810S  0.826043          NaN   \n",
       "19666         ret    Nintedanib         RET   V871I  0.149749          NaN   \n",
       "19667         ret    Nintedanib         RET   F998V  0.000000          NaN   \n",
       "19668         ret    Nintedanib         RET   M918T  0.321169          NaN   \n",
       "\n",
       "      label uniprot id chemical_type  pubchem id smile chromosome  position  \\\n",
       "0       NaN     P00519           NaN         NaN   NaN        NaN       NaN   \n",
       "1       NaN     P00519           NaN         NaN   NaN        NaN       NaN   \n",
       "2       NaN     P00519           NaN         NaN   NaN        NaN       NaN   \n",
       "3       NaN     P00519           NaN         NaN   NaN        NaN       NaN   \n",
       "4       NaN     P00519           NaN         NaN   NaN        NaN       NaN   \n",
       "...     ...        ...           ...         ...   ...        ...       ...   \n",
       "19664   NaN     P07949           NaN         NaN   NaN        NaN       NaN   \n",
       "19665   NaN     P07949           NaN         NaN   NaN        NaN       NaN   \n",
       "19666   NaN     P07949           NaN         NaN   NaN        NaN       NaN   \n",
       "19667   NaN     P07949           NaN         NaN   NaN        NaN       NaN   \n",
       "19668   NaN     P07949           NaN         NaN   NaN        NaN       NaN   \n",
       "\n",
       "      ref allele alt allele  \n",
       "0            NaN        NaN  \n",
       "1            NaN        NaN  \n",
       "2            NaN        NaN  \n",
       "3            NaN        NaN  \n",
       "4            NaN        NaN  \n",
       "...          ...        ...  \n",
       "19664        NaN        NaN  \n",
       "19665        NaN        NaN  \n",
       "19666        NaN        NaN  \n",
       "19667        NaN        NaN  \n",
       "19668        NaN        NaN  \n",
       "\n",
       "[19669 rows x 15 columns]"
      ]
     },
     "execution_count": 24,
     "metadata": {},
     "output_type": "execute_result"
    }
   ],
   "source": [
    "all_data_df = pd.read_csv('middlefile/all_data_table.tsv', sep = '\\t')\n",
    "symbol_list = all_data_df['gene symbol'].unique()\n",
    "# for i in range(len(symbol_list)):\n",
    "for i in tqdm(range(len(symbol_list))):\n",
    "    try:\n",
    "        gene = symbol_list[i]\n",
    "        url = 'https://rest.uniprot.org/uniprotkb/search?format=json&query=(reviewed:true)%20AND%20(organism_id:9606)%20AND%20' + gene\n",
    "        response = requests.get(url)\n",
    "        data = response.json()\n",
    "        all_data_df.loc[all_data_df['gene symbol'] == gene, 'uniprot id'] = data['results'][0]['primaryAccession']\n",
    "        # print(gene)\n",
    "        # print(data['results'][0]['primaryAccession'])\n",
    "\n",
    "    except:\n",
    "        # print(i)\n",
    "        print(gene)\n",
    "        continue\n",
    "all_data_df.to_csv('middlefile/uniprot_table.tsv', sep = '\\t', index= False)\n",
    "all_data_df"
   ]
  },
  {
   "cell_type": "code",
   "execution_count": 25,
   "metadata": {},
   "outputs": [
    {
     "data": {
      "text/plain": [
       "'MSPLLRRLLLAALLQLAPAQAPVSQPDAPGHQRKVVSWIDVYTRATCQPREVVVPLTVELMGTVAKQLVPSCVTVQRCGGCCPDDGLECVPTGQHQVRMQILMIRYPSSQLGEMSLEEHSQCECRPKKKDSAVKPDRAATPHHRPQPRSVPGWDSAPGAPSPADITHPTPAPGPSAHAAPSTTSALTPGPAAAAADAAASSVAKGGA'"
      ]
     },
     "execution_count": 25,
     "metadata": {},
     "output_type": "execute_result"
    }
   ],
   "source": [
    "gene = 'VEGFB'\n",
    "url = 'https://rest.uniprot.org/uniprotkb/search?format=fasta&query=(reviewed:true)%20AND%20(organism_id:9606)%20AND%20' + gene\n",
    "response = requests.get(url)\n",
    "text = response.text\n",
    "a = text.split('>sp')\n",
    "a = a[1].split('\\n')[1:]\n",
    "a = ''.join(a)\n",
    "a"
   ]
  },
  {
   "cell_type": "code",
   "execution_count": 26,
   "metadata": {},
   "outputs": [
    {
     "name": "stderr",
     "output_type": "stream",
     "text": [
      " 35%|███▌      | 467/1323 [09:49<17:37,  1.24s/it]"
     ]
    },
    {
     "name": "stdout",
     "output_type": "stream",
     "text": [
      "SULT1C4\n"
     ]
    },
    {
     "name": "stderr",
     "output_type": "stream",
     "text": [
      " 38%|███▊      | 498/1323 [10:26<17:11,  1.25s/it]"
     ]
    },
    {
     "name": "stdout",
     "output_type": "stream",
     "text": [
      "OR52J2P\n"
     ]
    },
    {
     "name": "stderr",
     "output_type": "stream",
     "text": [
      " 50%|█████     | 664/1323 [14:04<14:29,  1.32s/it]"
     ]
    },
    {
     "name": "stdout",
     "output_type": "stream",
     "text": [
      "PSORS1C3\n"
     ]
    },
    {
     "name": "stderr",
     "output_type": "stream",
     "text": [
      " 54%|█████▎    | 710/1323 [15:03<12:41,  1.24s/it]"
     ]
    },
    {
     "name": "stdout",
     "output_type": "stream",
     "text": [
      "HLA-DPB2\n"
     ]
    },
    {
     "name": "stderr",
     "output_type": "stream",
     "text": [
      " 63%|██████▎   | 837/1323 [17:41<10:10,  1.26s/it]"
     ]
    },
    {
     "name": "stdout",
     "output_type": "stream",
     "text": [
      "HOTAIR\n"
     ]
    },
    {
     "name": "stderr",
     "output_type": "stream",
     "text": [
      " 71%|███████   | 941/1323 [19:51<07:49,  1.23s/it]"
     ]
    },
    {
     "name": "stdout",
     "output_type": "stream",
     "text": [
      "LINC00251\n"
     ]
    },
    {
     "name": "stderr",
     "output_type": "stream",
     "text": [
      " 73%|███████▎  | 963/1323 [20:18<07:24,  1.23s/it]"
     ]
    },
    {
     "name": "stdout",
     "output_type": "stream",
     "text": [
      "CYCSP5\n"
     ]
    },
    {
     "name": "stderr",
     "output_type": "stream",
     "text": [
      " 73%|███████▎  | 966/1323 [20:22<07:17,  1.22s/it]"
     ]
    },
    {
     "name": "stdout",
     "output_type": "stream",
     "text": [
      "MIR27A\n"
     ]
    },
    {
     "name": "stderr",
     "output_type": "stream",
     "text": [
      " 78%|███████▊  | 1036/1323 [21:48<05:46,  1.21s/it]"
     ]
    },
    {
     "name": "stdout",
     "output_type": "stream",
     "text": [
      "MEG3\n"
     ]
    },
    {
     "name": "stderr",
     "output_type": "stream",
     "text": [
      " 86%|████████▋ | 1143/1323 [23:59<03:40,  1.23s/it]"
     ]
    },
    {
     "name": "stdout",
     "output_type": "stream",
     "text": [
      "MIR582\n"
     ]
    },
    {
     "name": "stderr",
     "output_type": "stream",
     "text": [
      " 94%|█████████▍| 1246/1323 [26:05<01:33,  1.22s/it]"
     ]
    },
    {
     "name": "stdout",
     "output_type": "stream",
     "text": [
      "CYP2A7P1\n"
     ]
    },
    {
     "name": "stderr",
     "output_type": "stream",
     "text": [
      "100%|██████████| 1323/1323 [27:40<00:00,  1.25s/it]\n"
     ]
    }
   ],
   "source": [
    "all_data_df = pd.read_csv('middlefile/uniprot_table.tsv', sep = '\\t')\n",
    "symbol_list = all_data_df['gene symbol'].unique()\n",
    "symbol_list = [item for item in symbol_list if ',' not in item]\n",
    "for i in tqdm(range(len(symbol_list))):\n",
    "    try:\n",
    "        gene = symbol_list[i]\n",
    "        url = 'https://rest.uniprot.org/uniprotkb/search?format=fasta&query=(reviewed:true)%20AND%20(organism_id:9606)%20AND%20' + gene\n",
    "        response = requests.get(url)\n",
    "        text = response.text\n",
    "        fasta = text.split('>sp')[1].split('\\n')[1:]\n",
    "        fasta_merged = ''.join(fasta)\n",
    "        all_data_df.loc[all_data_df['gene symbol'] == gene, 'fasta'] = fasta_merged\n",
    "\n",
    "    except:\n",
    "        print(gene)\n",
    "        continue\n",
    "\n",
    "all_data_df.to_csv('middlefile/fasta_table.tsv', sep = '\\t', index= False)\n",
    "all_data_df"
   ]
  },
  {
   "cell_type": "code",
   "execution_count": 3,
   "metadata": {},
   "outputs": [
    {
     "name": "stderr",
     "output_type": "stream",
     "text": [
      "  1%|          | 11/1417 [00:18<37:37,  1.61s/it]"
     ]
    },
    {
     "name": "stdout",
     "output_type": "stream",
     "text": [
      "Peginterferon Alfa-2b\n"
     ]
    },
    {
     "name": "stderr",
     "output_type": "stream",
     "text": [
      "  2%|▏         | 22/1417 [00:36<36:47,  1.58s/it]"
     ]
    },
    {
     "name": "stdout",
     "output_type": "stream",
     "text": [
      "JAK2 Inhibitor AZD1480\n"
     ]
    },
    {
     "name": "stderr",
     "output_type": "stream",
     "text": [
      "  2%|▏         | 24/1417 [00:39<35:25,  1.53s/it]"
     ]
    },
    {
     "name": "stdout",
     "output_type": "stream",
     "text": [
      "Panitumumab\n"
     ]
    },
    {
     "name": "stderr",
     "output_type": "stream",
     "text": [
      "  2%|▏         | 27/1417 [00:43<34:59,  1.51s/it]"
     ]
    },
    {
     "name": "stdout",
     "output_type": "stream",
     "text": [
      "Cetuximab\n"
     ]
    },
    {
     "name": "stderr",
     "output_type": "stream",
     "text": [
      "  2%|▏         | 31/1417 [00:50<34:57,  1.51s/it]"
     ]
    },
    {
     "name": "stdout",
     "output_type": "stream",
     "text": [
      "Anti-CD33\n"
     ]
    },
    {
     "name": "stderr",
     "output_type": "stream",
     "text": [
      "  3%|▎         | 36/1417 [00:58<35:52,  1.56s/it]"
     ]
    },
    {
     "name": "stdout",
     "output_type": "stream",
     "text": [
      "Akt Inhibitor MK2206\n"
     ]
    },
    {
     "name": "stderr",
     "output_type": "stream",
     "text": [
      "  3%|▎         | 41/1417 [01:06<36:24,  1.59s/it]"
     ]
    },
    {
     "name": "stdout",
     "output_type": "stream",
     "text": [
      "Hormone Therapy\n"
     ]
    },
    {
     "name": "stderr",
     "output_type": "stream",
     "text": [
      "  4%|▎         | 52/1417 [01:24<34:44,  1.53s/it]"
     ]
    },
    {
     "name": "stdout",
     "output_type": "stream",
     "text": [
      "PI3K-alpha Inhibitor MEN1611\n"
     ]
    },
    {
     "name": "stderr",
     "output_type": "stream",
     "text": [
      "  5%|▍         | 64/1417 [01:46<42:29,  1.88s/it]"
     ]
    },
    {
     "name": "stdout",
     "output_type": "stream",
     "text": [
      "Trastuzumab\n"
     ]
    },
    {
     "name": "stderr",
     "output_type": "stream",
     "text": [
      "  5%|▍         | 69/1417 [02:03<58:11,  2.59s/it]  "
     ]
    },
    {
     "name": "stdout",
     "output_type": "stream",
     "text": [
      "Onartuzumab\n"
     ]
    },
    {
     "name": "stderr",
     "output_type": "stream",
     "text": [
      "  5%|▍         | 70/1417 [02:05<51:50,  2.31s/it]"
     ]
    },
    {
     "name": "stdout",
     "output_type": "stream",
     "text": [
      "Epidermal Growth Factor Receptor Tyrosine Kinase Inhibitor\n"
     ]
    },
    {
     "name": "stderr",
     "output_type": "stream",
     "text": [
      "  5%|▌         | 74/1417 [02:12<39:25,  1.76s/it]"
     ]
    },
    {
     "name": "stdout",
     "output_type": "stream",
     "text": [
      "PI3Kbeta Inhibitor AZD8186\n"
     ]
    },
    {
     "name": "stderr",
     "output_type": "stream",
     "text": [
      "  5%|▌         | 77/1417 [02:21<1:10:09,  3.14s/it]"
     ]
    },
    {
     "name": "stdout",
     "output_type": "stream",
     "text": [
      "FACT Complex-targeting Curaxin CBL0137\n"
     ]
    },
    {
     "name": "stderr",
     "output_type": "stream",
     "text": [
      "  6%|▌         | 84/1417 [02:52<1:06:44,  3.00s/it]"
     ]
    },
    {
     "name": "stdout",
     "output_type": "stream",
     "text": [
      "Seribantumab\n"
     ]
    },
    {
     "name": "stderr",
     "output_type": "stream",
     "text": [
      "  6%|▌         | 85/1417 [02:54<55:28,  2.50s/it]  "
     ]
    },
    {
     "name": "stdout",
     "output_type": "stream",
     "text": [
      "Nimotuzumab\n"
     ]
    },
    {
     "name": "stderr",
     "output_type": "stream",
     "text": [
      "  6%|▋         | 92/1417 [03:05<36:18,  1.64s/it]"
     ]
    },
    {
     "name": "stdout",
     "output_type": "stream",
     "text": [
      "NOTCH1 Antibody (PF-06293622)\n"
     ]
    },
    {
     "name": "stderr",
     "output_type": "stream",
     "text": [
      "  7%|▋         | 93/1417 [03:07<34:15,  1.55s/it]"
     ]
    },
    {
     "name": "stdout",
     "output_type": "stream",
     "text": [
      "Patritumab\n"
     ]
    },
    {
     "name": "stderr",
     "output_type": "stream",
     "text": [
      "  7%|▋         | 96/1417 [03:11<33:36,  1.53s/it]"
     ]
    },
    {
     "name": "stdout",
     "output_type": "stream",
     "text": [
      "RG7356\n"
     ]
    },
    {
     "name": "stderr",
     "output_type": "stream",
     "text": [
      "  7%|▋         | 97/1417 [03:13<32:23,  1.47s/it]"
     ]
    },
    {
     "name": "stdout",
     "output_type": "stream",
     "text": [
      "Conatumumab\n"
     ]
    },
    {
     "name": "stderr",
     "output_type": "stream",
     "text": [
      "  7%|▋         | 99/1417 [03:16<32:08,  1.46s/it]"
     ]
    },
    {
     "name": "stdout",
     "output_type": "stream",
     "text": [
      "Chemotherapy\n"
     ]
    },
    {
     "name": "stderr",
     "output_type": "stream",
     "text": [
      "  7%|▋         | 101/1417 [03:19<31:42,  1.45s/it]"
     ]
    },
    {
     "name": "stdout",
     "output_type": "stream",
     "text": [
      "Anti-ErbB3 Monoclonal Antibody AV-203\n"
     ]
    },
    {
     "name": "stderr",
     "output_type": "stream",
     "text": [
      "  8%|▊         | 109/1417 [03:32<33:50,  1.55s/it]"
     ]
    },
    {
     "name": "stdout",
     "output_type": "stream",
     "text": [
      "Bevacizumab\n"
     ]
    },
    {
     "name": "stderr",
     "output_type": "stream",
     "text": [
      "  8%|▊         | 110/1417 [03:33<32:18,  1.48s/it]"
     ]
    },
    {
     "name": "stdout",
     "output_type": "stream",
     "text": [
      "ACLY SiRNA\n"
     ]
    },
    {
     "name": "stderr",
     "output_type": "stream",
     "text": [
      "  8%|▊         | 111/1417 [03:34<31:22,  1.44s/it]"
     ]
    },
    {
     "name": "stdout",
     "output_type": "stream",
     "text": [
      "Anti-EGFR Monoclonal Antibody\n"
     ]
    },
    {
     "name": "stderr",
     "output_type": "stream",
     "text": [
      "  8%|▊         | 112/1417 [03:36<30:34,  1.41s/it]"
     ]
    },
    {
     "name": "stdout",
     "output_type": "stream",
     "text": [
      "Taxane Compound\n"
     ]
    },
    {
     "name": "stderr",
     "output_type": "stream",
     "text": [
      "  8%|▊         | 113/1417 [03:37<29:52,  1.37s/it]"
     ]
    },
    {
     "name": "stdout",
     "output_type": "stream",
     "text": [
      "IGF1R Monoclonal Antibody\n"
     ]
    },
    {
     "name": "stderr",
     "output_type": "stream",
     "text": [
      "  9%|▊         | 123/1417 [03:53<32:17,  1.50s/it]"
     ]
    },
    {
     "name": "stdout",
     "output_type": "stream",
     "text": [
      "Rindopepimut\n"
     ]
    },
    {
     "name": "stderr",
     "output_type": "stream",
     "text": [
      "  9%|▉         | 126/1417 [03:58<33:11,  1.54s/it]"
     ]
    },
    {
     "name": "stdout",
     "output_type": "stream",
     "text": [
      "MEK Inhibitor RO4987655\n"
     ]
    },
    {
     "name": "stderr",
     "output_type": "stream",
     "text": [
      "  9%|▉         | 129/1417 [04:03<34:02,  1.59s/it]"
     ]
    },
    {
     "name": "stdout",
     "output_type": "stream",
     "text": [
      "Futuximab/Modotuximab Mixture\n"
     ]
    },
    {
     "name": "stderr",
     "output_type": "stream",
     "text": [
      " 10%|▉         | 135/1417 [04:13<34:53,  1.63s/it]"
     ]
    },
    {
     "name": "stdout",
     "output_type": "stream",
     "text": [
      "Adjuvant Chemotherapy\n"
     ]
    },
    {
     "name": "stderr",
     "output_type": "stream",
     "text": [
      " 10%|▉         | 136/1417 [04:15<33:19,  1.56s/it]"
     ]
    },
    {
     "name": "stdout",
     "output_type": "stream",
     "text": [
      "PD1 Inhibitor\n"
     ]
    },
    {
     "name": "stderr",
     "output_type": "stream",
     "text": [
      " 10%|▉         | 139/1417 [04:19<31:37,  1.48s/it]"
     ]
    },
    {
     "name": "stdout",
     "output_type": "stream",
     "text": [
      "Atezolizumab\n"
     ]
    },
    {
     "name": "stderr",
     "output_type": "stream",
     "text": [
      " 10%|█         | 148/1417 [04:34<33:39,  1.59s/it]"
     ]
    },
    {
     "name": "stdout",
     "output_type": "stream",
     "text": [
      "Nivolumab\n"
     ]
    },
    {
     "name": "stderr",
     "output_type": "stream",
     "text": [
      " 12%|█▏        | 164/1417 [05:03<40:02,  1.92s/it]"
     ]
    },
    {
     "name": "stdout",
     "output_type": "stream",
     "text": [
      "Alemtuzumab\n"
     ]
    },
    {
     "name": "stderr",
     "output_type": "stream",
     "text": [
      " 12%|█▏        | 165/1417 [05:04<36:23,  1.74s/it]"
     ]
    },
    {
     "name": "stdout",
     "output_type": "stream",
     "text": [
      "Peginterferon Alfa-2a\n"
     ]
    },
    {
     "name": "stderr",
     "output_type": "stream",
     "text": [
      " 12%|█▏        | 168/1417 [05:09<33:08,  1.59s/it]"
     ]
    },
    {
     "name": "stdout",
     "output_type": "stream",
     "text": [
      "Ipilimumab\n"
     ]
    },
    {
     "name": "stderr",
     "output_type": "stream",
     "text": [
      " 12%|█▏        | 169/1417 [05:10<31:33,  1.52s/it]"
     ]
    },
    {
     "name": "stdout",
     "output_type": "stream",
     "text": [
      "Porcupine Inhibitor WNT974\n"
     ]
    },
    {
     "name": "stderr",
     "output_type": "stream",
     "text": [
      " 12%|█▏        | 170/1417 [05:12<30:18,  1.46s/it]"
     ]
    },
    {
     "name": "stdout",
     "output_type": "stream",
     "text": [
      "Platinum Compound\n"
     ]
    },
    {
     "name": "stderr",
     "output_type": "stream",
     "text": [
      " 12%|█▏        | 172/1417 [05:15<30:15,  1.46s/it]"
     ]
    },
    {
     "name": "stdout",
     "output_type": "stream",
     "text": [
      "MTOR Kinase Inhibitor AZD8055\n"
     ]
    },
    {
     "name": "stderr",
     "output_type": "stream",
     "text": [
      " 12%|█▏        | 174/1417 [05:18<30:03,  1.45s/it]"
     ]
    },
    {
     "name": "stdout",
     "output_type": "stream",
     "text": [
      "Pembrolizumab\n"
     ]
    },
    {
     "name": "stderr",
     "output_type": "stream",
     "text": [
      " 13%|█▎        | 179/1417 [05:26<31:43,  1.54s/it]"
     ]
    },
    {
     "name": "stdout",
     "output_type": "stream",
     "text": [
      "MTOR Kinase Inhibitor PP242\n"
     ]
    },
    {
     "name": "stderr",
     "output_type": "stream",
     "text": [
      " 13%|█▎        | 181/1417 [05:29<31:11,  1.51s/it]"
     ]
    },
    {
     "name": "stdout",
     "output_type": "stream",
     "text": [
      "Mitogen-Activated Protein Kinase Kinase Inhibitor\n"
     ]
    },
    {
     "name": "stderr",
     "output_type": "stream",
     "text": [
      " 13%|█▎        | 182/1417 [05:30<29:54,  1.45s/it]"
     ]
    },
    {
     "name": "stdout",
     "output_type": "stream",
     "text": [
      "MET Tyrosine Kinase Inhibitor SGX523\n"
     ]
    },
    {
     "name": "stderr",
     "output_type": "stream",
     "text": [
      " 13%|█▎        | 184/1417 [05:33<30:15,  1.47s/it]"
     ]
    },
    {
     "name": "stdout",
     "output_type": "stream",
     "text": [
      "Aromatase Inhibitor\n"
     ]
    },
    {
     "name": "stderr",
     "output_type": "stream",
     "text": [
      " 13%|█▎        | 185/1417 [05:34<29:32,  1.44s/it]"
     ]
    },
    {
     "name": "stdout",
     "output_type": "stream",
     "text": [
      "CDK Inhibitor SNS-032\n"
     ]
    },
    {
     "name": "stderr",
     "output_type": "stream",
     "text": [
      " 14%|█▎        | 193/1417 [05:47<32:03,  1.57s/it]"
     ]
    },
    {
     "name": "stdout",
     "output_type": "stream",
     "text": [
      "Therapeutic Tumor Infiltrating Lymphocytes\n"
     ]
    },
    {
     "name": "stderr",
     "output_type": "stream",
     "text": [
      " 14%|█▍        | 195/1417 [05:51<32:02,  1.57s/it]"
     ]
    },
    {
     "name": "stdout",
     "output_type": "stream",
     "text": [
      "Pan-AKT Kinase Inhibitor GSK690693\n"
     ]
    },
    {
     "name": "stderr",
     "output_type": "stream",
     "text": [
      " 14%|█▍        | 196/1417 [05:52<30:30,  1.50s/it]"
     ]
    },
    {
     "name": "stdout",
     "output_type": "stream",
     "text": [
      "Pyrimidine Antagonist\n"
     ]
    },
    {
     "name": "stderr",
     "output_type": "stream",
     "text": [
      " 14%|█▍        | 197/1417 [05:53<29:36,  1.46s/it]"
     ]
    },
    {
     "name": "stdout",
     "output_type": "stream",
     "text": [
      "FGFR Inhibitor AZD4547\n"
     ]
    },
    {
     "name": "stderr",
     "output_type": "stream",
     "text": [
      " 14%|█▍        | 204/1417 [06:04<31:02,  1.54s/it]"
     ]
    },
    {
     "name": "stdout",
     "output_type": "stream",
     "text": [
      "EAP Protocol\n"
     ]
    },
    {
     "name": "stderr",
     "output_type": "stream",
     "text": [
      " 15%|█▍        | 207/1417 [06:09<30:49,  1.53s/it]"
     ]
    },
    {
     "name": "stdout",
     "output_type": "stream",
     "text": [
      "Letetresgene Autoleucel\n"
     ]
    },
    {
     "name": "stderr",
     "output_type": "stream",
     "text": [
      " 15%|█▍        | 209/1417 [06:12<30:08,  1.50s/it]"
     ]
    },
    {
     "name": "stdout",
     "output_type": "stream",
     "text": [
      "MDM2 Inhibitor AMGMDS3\n"
     ]
    },
    {
     "name": "stderr",
     "output_type": "stream",
     "text": [
      " 15%|█▍        | 212/1417 [06:17<30:05,  1.50s/it]"
     ]
    },
    {
     "name": "stdout",
     "output_type": "stream",
     "text": [
      "Radiation Therapy\n"
     ]
    },
    {
     "name": "stderr",
     "output_type": "stream",
     "text": [
      " 15%|█▌        | 214/1417 [06:20<29:40,  1.48s/it]"
     ]
    },
    {
     "name": "stdout",
     "output_type": "stream",
     "text": [
      "Radioactive Iodine\n"
     ]
    },
    {
     "name": "stderr",
     "output_type": "stream",
     "text": [
      " 15%|█▌        | 217/1417 [06:24<29:54,  1.50s/it]"
     ]
    },
    {
     "name": "stdout",
     "output_type": "stream",
     "text": [
      "Anti-VEGF Monoclonal Antibody\n"
     ]
    },
    {
     "name": "stderr",
     "output_type": "stream",
     "text": [
      " 15%|█▌        | 219/1417 [06:27<29:49,  1.49s/it]"
     ]
    },
    {
     "name": "stdout",
     "output_type": "stream",
     "text": [
      "Immune Checkpoint Inhibitor\n"
     ]
    },
    {
     "name": "stderr",
     "output_type": "stream",
     "text": [
      " 16%|█▌        | 222/1417 [06:32<30:16,  1.52s/it]"
     ]
    },
    {
     "name": "stdout",
     "output_type": "stream",
     "text": [
      "Rilotumumab\n"
     ]
    },
    {
     "name": "stderr",
     "output_type": "stream",
     "text": [
      " 16%|█▌        | 227/1417 [06:40<32:20,  1.63s/it]"
     ]
    },
    {
     "name": "stdout",
     "output_type": "stream",
     "text": [
      "BET Inhibitor\n"
     ]
    },
    {
     "name": "stderr",
     "output_type": "stream",
     "text": [
      " 17%|█▋        | 238/1417 [06:59<31:00,  1.58s/it]"
     ]
    },
    {
     "name": "stdout",
     "output_type": "stream",
     "text": [
      "Anti-PD1 Monoclonal Antibody\n"
     ]
    },
    {
     "name": "stderr",
     "output_type": "stream",
     "text": [
      " 17%|█▋        | 239/1417 [07:00<29:27,  1.50s/it]"
     ]
    },
    {
     "name": "stdout",
     "output_type": "stream",
     "text": [
      "Anti-PD-L1 Monoclonal Antibody\n"
     ]
    },
    {
     "name": "stderr",
     "output_type": "stream",
     "text": [
      " 17%|█▋        | 240/1417 [07:01<28:27,  1.45s/it]"
     ]
    },
    {
     "name": "stdout",
     "output_type": "stream",
     "text": [
      "Akt/ERK Inhibitor ONC201\n"
     ]
    },
    {
     "name": "stderr",
     "output_type": "stream",
     "text": [
      " 17%|█▋        | 243/1417 [07:06<29:02,  1.48s/it]"
     ]
    },
    {
     "name": "stdout",
     "output_type": "stream",
     "text": [
      "Trastuzumab Deruxtecan\n"
     ]
    },
    {
     "name": "stderr",
     "output_type": "stream",
     "text": [
      " 17%|█▋        | 245/1417 [07:09<29:15,  1.50s/it]"
     ]
    },
    {
     "name": "stdout",
     "output_type": "stream",
     "text": [
      "PI3Ka/Di\n"
     ]
    },
    {
     "name": "stderr",
     "output_type": "stream",
     "text": [
      " 18%|█▊        | 248/1417 [07:14<29:36,  1.52s/it]"
     ]
    },
    {
     "name": "stdout",
     "output_type": "stream",
     "text": [
      "R3Mab\n"
     ]
    },
    {
     "name": "stderr",
     "output_type": "stream",
     "text": [
      " 18%|█▊        | 249/1417 [07:15<28:36,  1.47s/it]"
     ]
    },
    {
     "name": "stdout",
     "output_type": "stream",
     "text": [
      "FLT3/ABL/Aurora Kinase Inhibitor KW-2449\n"
     ]
    },
    {
     "name": "stderr",
     "output_type": "stream",
     "text": [
      " 18%|█▊        | 255/1417 [07:25<30:16,  1.56s/it]"
     ]
    },
    {
     "name": "stdout",
     "output_type": "stream",
     "text": [
      "R-CHOP Regimen\n"
     ]
    },
    {
     "name": "stderr",
     "output_type": "stream",
     "text": [
      " 18%|█▊        | 258/1417 [07:30<30:03,  1.56s/it]"
     ]
    },
    {
     "name": "stdout",
     "output_type": "stream",
     "text": [
      "Imatinib Mesylate + Dasatinib\n"
     ]
    },
    {
     "name": "stderr",
     "output_type": "stream",
     "text": [
      " 18%|█▊        | 259/1417 [07:31<28:42,  1.49s/it]"
     ]
    },
    {
     "name": "stdout",
     "output_type": "stream",
     "text": [
      "Imatinib Mesylate + Nilotinib\n"
     ]
    },
    {
     "name": "stderr",
     "output_type": "stream",
     "text": [
      " 18%|█▊        | 260/1417 [07:32<27:42,  1.44s/it]"
     ]
    },
    {
     "name": "stdout",
     "output_type": "stream",
     "text": [
      "Dasatinib + Nilotinib\n"
     ]
    },
    {
     "name": "stderr",
     "output_type": "stream",
     "text": [
      " 18%|█▊        | 261/1417 [07:33<26:52,  1.40s/it]"
     ]
    },
    {
     "name": "stdout",
     "output_type": "stream",
     "text": [
      "BRAF inhibitors\n"
     ]
    },
    {
     "name": "stderr",
     "output_type": "stream",
     "text": [
      " 19%|█▉        | 271/1417 [07:50<29:06,  1.52s/it]"
     ]
    },
    {
     "name": "stdout",
     "output_type": "stream",
     "text": [
      "Vemurafenib + Cetuximab + Irinotecan\n"
     ]
    },
    {
     "name": "stderr",
     "output_type": "stream",
     "text": [
      " 19%|█▉        | 272/1417 [07:52<28:01,  1.47s/it]"
     ]
    },
    {
     "name": "stdout",
     "output_type": "stream",
     "text": [
      "Irinotecan + Cetuximab\n"
     ]
    },
    {
     "name": "stderr",
     "output_type": "stream",
     "text": [
      " 19%|█▉        | 273/1417 [07:54<30:10,  1.58s/it]"
     ]
    },
    {
     "name": "stdout",
     "output_type": "stream",
     "text": [
      "EGFR TKIs\n"
     ]
    },
    {
     "name": "stderr",
     "output_type": "stream",
     "text": [
      " 19%|█▉        | 274/1417 [07:55<28:31,  1.50s/it]"
     ]
    },
    {
     "name": "stdout",
     "output_type": "stream",
     "text": [
      "Dabrafenib + Trametinib\n"
     ]
    },
    {
     "name": "stderr",
     "output_type": "stream",
     "text": [
      " 20%|█▉        | 278/1417 [08:02<29:49,  1.57s/it]"
     ]
    },
    {
     "name": "stdout",
     "output_type": "stream",
     "text": [
      "Dabrafenib + Trametinib + SCH772984\n"
     ]
    },
    {
     "name": "stderr",
     "output_type": "stream",
     "text": [
      " 20%|██        | 285/1417 [08:13<29:55,  1.59s/it]"
     ]
    },
    {
     "name": "stdout",
     "output_type": "stream",
     "text": [
      "OBX1-012\n"
     ]
    },
    {
     "name": "stderr",
     "output_type": "stream",
     "text": [
      " 20%|██        | 287/1417 [08:16<28:53,  1.53s/it]"
     ]
    },
    {
     "name": "stdout",
     "output_type": "stream",
     "text": [
      "unspecified PD-L1 antibody\n"
     ]
    },
    {
     "name": "stderr",
     "output_type": "stream",
     "text": [
      " 20%|██        | 288/1417 [08:18<28:34,  1.52s/it]"
     ]
    },
    {
     "name": "stdout",
     "output_type": "stream",
     "text": [
      "unspecified CTLA4 antibody + unspecified PD-1 antibody\n"
     ]
    },
    {
     "name": "stderr",
     "output_type": "stream",
     "text": [
      " 20%|██        | 289/1417 [08:19<27:34,  1.47s/it]"
     ]
    },
    {
     "name": "stdout",
     "output_type": "stream",
     "text": [
      "unspecified PD-1 antibody\n"
     ]
    },
    {
     "name": "stderr",
     "output_type": "stream",
     "text": [
      " 21%|██        | 291/1417 [08:22<27:50,  1.48s/it]"
     ]
    },
    {
     "name": "stdout",
     "output_type": "stream",
     "text": [
      "EKI-285\n"
     ]
    },
    {
     "name": "stderr",
     "output_type": "stream",
     "text": [
      " 21%|██        | 292/1417 [08:23<27:24,  1.46s/it]"
     ]
    },
    {
     "name": "stdout",
     "output_type": "stream",
     "text": [
      "Pertuzumab\n"
     ]
    },
    {
     "name": "stderr",
     "output_type": "stream",
     "text": [
      " 21%|██        | 297/1417 [08:32<29:14,  1.57s/it]"
     ]
    },
    {
     "name": "stdout",
     "output_type": "stream",
     "text": [
      "Lapatinib + Trastuzumab\n"
     ]
    },
    {
     "name": "stderr",
     "output_type": "stream",
     "text": [
      " 21%|██        | 298/1417 [08:33<28:01,  1.50s/it]"
     ]
    },
    {
     "name": "stdout",
     "output_type": "stream",
     "text": [
      "Aromatase inhibitors\n"
     ]
    },
    {
     "name": "stderr",
     "output_type": "stream",
     "text": [
      " 21%|██        | 299/1417 [08:34<26:59,  1.45s/it]"
     ]
    },
    {
     "name": "stdout",
     "output_type": "stream",
     "text": [
      "anti-estrogens\n"
     ]
    },
    {
     "name": "stderr",
     "output_type": "stream",
     "text": [
      " 22%|██▏       | 306/1417 [08:46<29:17,  1.58s/it]"
     ]
    },
    {
     "name": "stdout",
     "output_type": "stream",
     "text": [
      "FGFR inhibitors\n"
     ]
    },
    {
     "name": "stderr",
     "output_type": "stream",
     "text": [
      " 22%|██▏       | 310/1417 [08:53<28:34,  1.55s/it]"
     ]
    },
    {
     "name": "stdout",
     "output_type": "stream",
     "text": [
      "All-trans Retinoic Acid + Anthracycline\n"
     ]
    },
    {
     "name": "stderr",
     "output_type": "stream",
     "text": [
      " 22%|██▏       | 313/1417 [08:57<27:48,  1.51s/it]"
     ]
    },
    {
     "name": "stdout",
     "output_type": "stream",
     "text": [
      "Cisplatin + Fluorouracil\n"
     ]
    },
    {
     "name": "stderr",
     "output_type": "stream",
     "text": [
      " 22%|██▏       | 314/1417 [08:59<26:52,  1.46s/it]"
     ]
    },
    {
     "name": "stdout",
     "output_type": "stream",
     "text": [
      "EGFR inhibitors\n"
     ]
    },
    {
     "name": "stderr",
     "output_type": "stream",
     "text": [
      " 22%|██▏       | 315/1417 [09:00<26:12,  1.43s/it]"
     ]
    },
    {
     "name": "stdout",
     "output_type": "stream",
     "text": [
      "AGI-5198 + Talazoparib\n"
     ]
    },
    {
     "name": "stderr",
     "output_type": "stream",
     "text": [
      " 22%|██▏       | 316/1417 [09:01<25:41,  1.40s/it]"
     ]
    },
    {
     "name": "stdout",
     "output_type": "stream",
     "text": [
      "AGI-5198 + Metformin\n"
     ]
    },
    {
     "name": "stderr",
     "output_type": "stream",
     "text": [
      " 22%|██▏       | 317/1417 [09:03<25:12,  1.38s/it]"
     ]
    },
    {
     "name": "stdout",
     "output_type": "stream",
     "text": [
      "AGI-5198 + Radiotherapy\n"
     ]
    },
    {
     "name": "stderr",
     "output_type": "stream",
     "text": [
      " 22%|██▏       | 318/1417 [09:04<24:57,  1.36s/it]"
     ]
    },
    {
     "name": "stdout",
     "output_type": "stream",
     "text": [
      "AGI-5198 + Olaparib\n"
     ]
    },
    {
     "name": "stderr",
     "output_type": "stream",
     "text": [
      " 23%|██▎       | 326/1417 [09:17<29:07,  1.60s/it]"
     ]
    },
    {
     "name": "stdout",
     "output_type": "stream",
     "text": [
      "Gemcitabine + Trametinib\n"
     ]
    },
    {
     "name": "stderr",
     "output_type": "stream",
     "text": [
      " 23%|██▎       | 328/1417 [09:21<28:29,  1.57s/it]"
     ]
    },
    {
     "name": "stdout",
     "output_type": "stream",
     "text": [
      "Gemcitabine + Erlotinib\n"
     ]
    },
    {
     "name": "stderr",
     "output_type": "stream",
     "text": [
      " 23%|██▎       | 329/1417 [09:22<27:04,  1.49s/it]"
     ]
    },
    {
     "name": "stdout",
     "output_type": "stream",
     "text": [
      "Cetuximab + FOLFOX4\n"
     ]
    },
    {
     "name": "stderr",
     "output_type": "stream",
     "text": [
      " 23%|██▎       | 330/1417 [09:28<53:22,  2.95s/it]"
     ]
    },
    {
     "name": "stdout",
     "output_type": "stream",
     "text": [
      "MEK inhibitors\n"
     ]
    },
    {
     "name": "stderr",
     "output_type": "stream",
     "text": [
      " 24%|██▎       | 333/1417 [09:33<36:08,  2.00s/it]"
     ]
    },
    {
     "name": "stdout",
     "output_type": "stream",
     "text": [
      "BRAF + MEK inhibitors\n"
     ]
    },
    {
     "name": "stderr",
     "output_type": "stream",
     "text": [
      " 24%|██▎       | 334/1417 [09:34<33:01,  1.83s/it]"
     ]
    },
    {
     "name": "stdout",
     "output_type": "stream",
     "text": [
      "MET inhibitors\n"
     ]
    },
    {
     "name": "stderr",
     "output_type": "stream",
     "text": [
      " 24%|██▍       | 342/1417 [09:47<27:47,  1.55s/it]"
     ]
    },
    {
     "name": "stdout",
     "output_type": "stream",
     "text": [
      "Pan-TRK inhibitors\n"
     ]
    },
    {
     "name": "stderr",
     "output_type": "stream",
     "text": [
      " 24%|██▍       | 344/1417 [09:50<26:58,  1.51s/it]"
     ]
    },
    {
     "name": "stdout",
     "output_type": "stream",
     "text": [
      "Cetuximab + Fluorouracil\n"
     ]
    },
    {
     "name": "stderr",
     "output_type": "stream",
     "text": [
      " 24%|██▍       | 345/1417 [09:51<26:03,  1.46s/it]"
     ]
    },
    {
     "name": "stdout",
     "output_type": "stream",
     "text": [
      "Bevacizumab + Temsirolimus\n"
     ]
    },
    {
     "name": "stderr",
     "output_type": "stream",
     "text": [
      " 24%|██▍       | 346/1417 [09:53<25:24,  1.42s/it]"
     ]
    },
    {
     "name": "stdout",
     "output_type": "stream",
     "text": [
      "Bortezomib + Temsirolimus + Topotecan\n"
     ]
    },
    {
     "name": "stderr",
     "output_type": "stream",
     "text": [
      " 24%|██▍       | 347/1417 [09:54<24:47,  1.39s/it]"
     ]
    },
    {
     "name": "stdout",
     "output_type": "stream",
     "text": [
      "PI3K pathway inhibitors\n"
     ]
    },
    {
     "name": "stderr",
     "output_type": "stream",
     "text": [
      " 25%|██▍       | 349/1417 [09:57<25:47,  1.45s/it]"
     ]
    },
    {
     "name": "stdout",
     "output_type": "stream",
     "text": [
      "Letrozole + Ribociclib\n"
     ]
    },
    {
     "name": "stderr",
     "output_type": "stream",
     "text": [
      " 25%|██▌       | 359/1417 [10:15<28:02,  1.59s/it]"
     ]
    },
    {
     "name": "stdout",
     "output_type": "stream",
     "text": [
      "Daunorubicin + Cytarabine\n"
     ]
    },
    {
     "name": "stderr",
     "output_type": "stream",
     "text": [
      " 25%|██▌       | 360/1417 [10:16<26:37,  1.51s/it]"
     ]
    },
    {
     "name": "stdout",
     "output_type": "stream",
     "text": [
      "allosteric AKT inhibitors\n"
     ]
    },
    {
     "name": "stderr",
     "output_type": "stream",
     "text": [
      " 25%|██▌       | 361/1417 [10:17<25:53,  1.47s/it]"
     ]
    },
    {
     "name": "stdout",
     "output_type": "stream",
     "text": [
      "non-allosteric AKT inhibitors\n"
     ]
    },
    {
     "name": "stderr",
     "output_type": "stream",
     "text": [
      " 26%|██▌       | 362/1417 [10:19<25:10,  1.43s/it]"
     ]
    },
    {
     "name": "stdout",
     "output_type": "stream",
     "text": [
      "AKT inhibitors\n"
     ]
    },
    {
     "name": "stderr",
     "output_type": "stream",
     "text": [
      " 26%|██▌       | 363/1417 [10:20<24:40,  1.40s/it]"
     ]
    },
    {
     "name": "stdout",
     "output_type": "stream",
     "text": [
      "ARQ 751\n"
     ]
    },
    {
     "name": "stderr",
     "output_type": "stream",
     "text": [
      " 26%|██▌       | 366/1417 [10:25<26:54,  1.54s/it]"
     ]
    },
    {
     "name": "stdout",
     "output_type": "stream",
     "text": [
      "Alectinib + Doxorubicin\n"
     ]
    },
    {
     "name": "stderr",
     "output_type": "stream",
     "text": [
      " 26%|██▌       | 367/1417 [10:26<25:44,  1.47s/it]"
     ]
    },
    {
     "name": "stdout",
     "output_type": "stream",
     "text": [
      "AZD3463 + Doxorubicin\n"
     ]
    },
    {
     "name": "stderr",
     "output_type": "stream",
     "text": [
      " 26%|██▌       | 368/1417 [10:28<24:58,  1.43s/it]"
     ]
    },
    {
     "name": "stdout",
     "output_type": "stream",
     "text": [
      "Crizotinib + Cyclophosphamide + Topotecan\n"
     ]
    },
    {
     "name": "stderr",
     "output_type": "stream",
     "text": [
      " 26%|██▋       | 375/1417 [10:40<27:44,  1.60s/it]"
     ]
    },
    {
     "name": "stdout",
     "output_type": "stream",
     "text": [
      "Temozolomide + Veliparib\n"
     ]
    },
    {
     "name": "stderr",
     "output_type": "stream",
     "text": [
      " 27%|██▋       | 376/1417 [10:41<26:20,  1.52s/it]"
     ]
    },
    {
     "name": "stdout",
     "output_type": "stream",
     "text": [
      "Panitumumab + Dabrafenib + Trametinib\n"
     ]
    },
    {
     "name": "stderr",
     "output_type": "stream",
     "text": [
      " 27%|██▋       | 377/1417 [10:43<27:56,  1.61s/it]"
     ]
    },
    {
     "name": "stdout",
     "output_type": "stream",
     "text": [
      "Vemurafenib + Cobimetinib\n"
     ]
    },
    {
     "name": "stderr",
     "output_type": "stream",
     "text": [
      " 27%|██▋       | 378/1417 [10:44<26:36,  1.54s/it]"
     ]
    },
    {
     "name": "stdout",
     "output_type": "stream",
     "text": [
      "Sorafenib + Panitumumab\n"
     ]
    },
    {
     "name": "stderr",
     "output_type": "stream",
     "text": [
      " 27%|██▋       | 379/1417 [10:46<25:29,  1.47s/it]"
     ]
    },
    {
     "name": "stdout",
     "output_type": "stream",
     "text": [
      "PLX4720 + Pictilisib\n"
     ]
    },
    {
     "name": "stderr",
     "output_type": "stream",
     "text": [
      " 27%|██▋       | 380/1417 [10:47<24:37,  1.42s/it]"
     ]
    },
    {
     "name": "stdout",
     "output_type": "stream",
     "text": [
      "PLX4720 + Nutlin-3\n"
     ]
    },
    {
     "name": "stderr",
     "output_type": "stream",
     "text": [
      " 27%|██▋       | 381/1417 [10:48<24:11,  1.40s/it]"
     ]
    },
    {
     "name": "stdout",
     "output_type": "stream",
     "text": [
      "Vemurafenib + Capecitabine + Bevacizumab\n"
     ]
    },
    {
     "name": "stderr",
     "output_type": "stream",
     "text": [
      " 27%|██▋       | 382/1417 [10:50<23:50,  1.38s/it]"
     ]
    },
    {
     "name": "stdout",
     "output_type": "stream",
     "text": [
      "Selumetinib + Dactolisib\n"
     ]
    },
    {
     "name": "stderr",
     "output_type": "stream",
     "text": [
      " 27%|██▋       | 383/1417 [10:51<23:22,  1.36s/it]"
     ]
    },
    {
     "name": "stdout",
     "output_type": "stream",
     "text": [
      "Vemurafenib + Gefitinib + Cetuximab\n"
     ]
    },
    {
     "name": "stderr",
     "output_type": "stream",
     "text": [
      " 27%|██▋       | 384/1417 [10:52<23:07,  1.34s/it]"
     ]
    },
    {
     "name": "stdout",
     "output_type": "stream",
     "text": [
      "Trametinib + Dabrafenib\n"
     ]
    },
    {
     "name": "stderr",
     "output_type": "stream",
     "text": [
      " 27%|██▋       | 385/1417 [10:54<23:05,  1.34s/it]"
     ]
    },
    {
     "name": "stdout",
     "output_type": "stream",
     "text": [
      "Dactolisib + GDC-0879\n"
     ]
    },
    {
     "name": "stderr",
     "output_type": "stream",
     "text": [
      " 27%|██▋       | 386/1417 [10:55<22:55,  1.33s/it]"
     ]
    },
    {
     "name": "stdout",
     "output_type": "stream",
     "text": [
      "Dabrafenib + Trametinib + Vemurafenib\n"
     ]
    },
    {
     "name": "stderr",
     "output_type": "stream",
     "text": [
      " 27%|██▋       | 388/1417 [10:58<23:58,  1.40s/it]"
     ]
    },
    {
     "name": "stdout",
     "output_type": "stream",
     "text": [
      "Vemurafenib + Panitumumab\n"
     ]
    },
    {
     "name": "stderr",
     "output_type": "stream",
     "text": [
      " 27%|██▋       | 389/1417 [10:59<23:25,  1.37s/it]"
     ]
    },
    {
     "name": "stdout",
     "output_type": "stream",
     "text": [
      "Vemurafenib + Irinotecan + Cetuximab\n"
     ]
    },
    {
     "name": "stderr",
     "output_type": "stream",
     "text": [
      " 28%|██▊       | 390/1417 [11:01<23:12,  1.36s/it]"
     ]
    },
    {
     "name": "stdout",
     "output_type": "stream",
     "text": [
      "Dabrafenib + Trametinib DMSO\n"
     ]
    },
    {
     "name": "stderr",
     "output_type": "stream",
     "text": [
      " 28%|██▊       | 391/1417 [11:02<23:08,  1.35s/it]"
     ]
    },
    {
     "name": "stdout",
     "output_type": "stream",
     "text": [
      "Vemurafenib + Panitumumab + Irinotecan\n"
     ]
    },
    {
     "name": "stderr",
     "output_type": "stream",
     "text": [
      " 28%|██▊       | 392/1417 [11:03<23:07,  1.35s/it]"
     ]
    },
    {
     "name": "stdout",
     "output_type": "stream",
     "text": [
      "Vemurafenib + Pertuzumab\n"
     ]
    },
    {
     "name": "stderr",
     "output_type": "stream",
     "text": [
      " 28%|██▊       | 393/1417 [11:05<23:06,  1.35s/it]"
     ]
    },
    {
     "name": "stdout",
     "output_type": "stream",
     "text": [
      "Encorafenib + Cetuximab\n"
     ]
    },
    {
     "name": "stderr",
     "output_type": "stream",
     "text": [
      " 28%|██▊       | 394/1417 [11:06<23:12,  1.36s/it]"
     ]
    },
    {
     "name": "stdout",
     "output_type": "stream",
     "text": [
      "Alpelisib + Cetuximab + Encorafenib\n"
     ]
    },
    {
     "name": "stderr",
     "output_type": "stream",
     "text": [
      " 28%|██▊       | 395/1417 [11:07<22:55,  1.35s/it]"
     ]
    },
    {
     "name": "stdout",
     "output_type": "stream",
     "text": [
      "Binimetinib + Encorafenib\n"
     ]
    },
    {
     "name": "stderr",
     "output_type": "stream",
     "text": [
      " 28%|██▊       | 396/1417 [11:09<22:51,  1.34s/it]"
     ]
    },
    {
     "name": "stdout",
     "output_type": "stream",
     "text": [
      "Cetuximab + Irinotecan + Vemurafenib\n"
     ]
    },
    {
     "name": "stderr",
     "output_type": "stream",
     "text": [
      " 28%|██▊       | 397/1417 [11:10<22:42,  1.34s/it]"
     ]
    },
    {
     "name": "stdout",
     "output_type": "stream",
     "text": [
      "Mitogen-Activated Protein Kinase Kinase inhibitor + BRAF inhibitor\n"
     ]
    },
    {
     "name": "stderr",
     "output_type": "stream",
     "text": [
      " 28%|██▊       | 398/1417 [11:11<22:43,  1.34s/it]"
     ]
    },
    {
     "name": "stdout",
     "output_type": "stream",
     "text": [
      "ERK inhibitors\n"
     ]
    },
    {
     "name": "stderr",
     "output_type": "stream",
     "text": [
      " 28%|██▊       | 403/1417 [11:19<25:37,  1.52s/it]"
     ]
    },
    {
     "name": "stdout",
     "output_type": "stream",
     "text": [
      "Buparlisib + Vemurafenib\n"
     ]
    },
    {
     "name": "stderr",
     "output_type": "stream",
     "text": [
      " 29%|██▊       | 404/1417 [11:21<24:49,  1.47s/it]"
     ]
    },
    {
     "name": "stdout",
     "output_type": "stream",
     "text": [
      "MK2206 + Vemurafenib\n"
     ]
    },
    {
     "name": "stderr",
     "output_type": "stream",
     "text": [
      " 29%|██▊       | 405/1417 [11:22<24:19,  1.44s/it]"
     ]
    },
    {
     "name": "stdout",
     "output_type": "stream",
     "text": [
      "Cobimetinib + Vemurafenib\n"
     ]
    },
    {
     "name": "stderr",
     "output_type": "stream",
     "text": [
      " 29%|██▊       | 406/1417 [11:23<23:43,  1.41s/it]"
     ]
    },
    {
     "name": "stdout",
     "output_type": "stream",
     "text": [
      "Atezolizumab + Vemurafenib\n"
     ]
    },
    {
     "name": "stderr",
     "output_type": "stream",
     "text": [
      " 29%|██▊       | 407/1417 [11:25<23:23,  1.39s/it]"
     ]
    },
    {
     "name": "stdout",
     "output_type": "stream",
     "text": [
      "Selumetinib + Vemurafenib\n"
     ]
    },
    {
     "name": "stderr",
     "output_type": "stream",
     "text": [
      " 29%|██▉       | 408/1417 [11:26<23:01,  1.37s/it]"
     ]
    },
    {
     "name": "stdout",
     "output_type": "stream",
     "text": [
      "Trametinib + Vemurafenib\n"
     ]
    },
    {
     "name": "stderr",
     "output_type": "stream",
     "text": [
      " 29%|██▉       | 409/1417 [11:27<22:36,  1.35s/it]"
     ]
    },
    {
     "name": "stdout",
     "output_type": "stream",
     "text": [
      "Cetuximab + Vemurafenib\n"
     ]
    },
    {
     "name": "stderr",
     "output_type": "stream",
     "text": [
      " 29%|██▉       | 410/1417 [11:29<22:27,  1.34s/it]"
     ]
    },
    {
     "name": "stdout",
     "output_type": "stream",
     "text": [
      "MK2206 + Trametinib\n"
     ]
    },
    {
     "name": "stderr",
     "output_type": "stream",
     "text": [
      " 29%|██▉       | 411/1417 [11:30<22:21,  1.33s/it]"
     ]
    },
    {
     "name": "stdout",
     "output_type": "stream",
     "text": [
      "Atezolizumab + Cobimetinib + Vemurafenib\n"
     ]
    },
    {
     "name": "stderr",
     "output_type": "stream",
     "text": [
      " 29%|██▉       | 412/1417 [11:32<23:21,  1.39s/it]"
     ]
    },
    {
     "name": "stdout",
     "output_type": "stream",
     "text": [
      "Buparlisib + Trametinib\n"
     ]
    },
    {
     "name": "stderr",
     "output_type": "stream",
     "text": [
      " 29%|██▉       | 413/1417 [11:33<22:58,  1.37s/it]"
     ]
    },
    {
     "name": "stdout",
     "output_type": "stream",
     "text": [
      "Buparlisib + Selumetinib\n"
     ]
    },
    {
     "name": "stderr",
     "output_type": "stream",
     "text": [
      " 29%|██▉       | 415/1417 [11:36<23:59,  1.44s/it]"
     ]
    },
    {
     "name": "stdout",
     "output_type": "stream",
     "text": [
      "Encorafenib + Trametinib\n"
     ]
    },
    {
     "name": "stderr",
     "output_type": "stream",
     "text": [
      " 30%|██▉       | 420/1417 [11:44<26:24,  1.59s/it]"
     ]
    },
    {
     "name": "stdout",
     "output_type": "stream",
     "text": [
      "Panitumumab + Vemurafenib\n"
     ]
    },
    {
     "name": "stderr",
     "output_type": "stream",
     "text": [
      " 30%|██▉       | 422/1417 [11:48<26:55,  1.62s/it]"
     ]
    },
    {
     "name": "stdout",
     "output_type": "stream",
     "text": [
      "Everolimus + PLX4720\n"
     ]
    },
    {
     "name": "stderr",
     "output_type": "stream",
     "text": [
      " 30%|██▉       | 425/1417 [11:52<25:49,  1.56s/it]"
     ]
    },
    {
     "name": "stdout",
     "output_type": "stream",
     "text": [
      "Erlotinib + Vemurafenib\n"
     ]
    },
    {
     "name": "stderr",
     "output_type": "stream",
     "text": [
      " 30%|███       | 426/1417 [11:54<24:44,  1.50s/it]"
     ]
    },
    {
     "name": "stdout",
     "output_type": "stream",
     "text": [
      "Cetuximab + PLX4720\n"
     ]
    },
    {
     "name": "stderr",
     "output_type": "stream",
     "text": [
      " 30%|███       | 428/1417 [11:57<25:33,  1.55s/it]"
     ]
    },
    {
     "name": "stdout",
     "output_type": "stream",
     "text": [
      "Dabrafenib + Panitumumab\n"
     ]
    },
    {
     "name": "stderr",
     "output_type": "stream",
     "text": [
      " 30%|███       | 430/1417 [12:00<24:39,  1.50s/it]"
     ]
    },
    {
     "name": "stdout",
     "output_type": "stream",
     "text": [
      "Dasatinib + Trametinib\n"
     ]
    },
    {
     "name": "stderr",
     "output_type": "stream",
     "text": [
      " 30%|███       | 431/1417 [12:01<23:54,  1.45s/it]"
     ]
    },
    {
     "name": "stdout",
     "output_type": "stream",
     "text": [
      "TW-37 + Vemurafenib\n"
     ]
    },
    {
     "name": "stderr",
     "output_type": "stream",
     "text": [
      " 31%|███       | 433/1417 [12:04<24:01,  1.47s/it]"
     ]
    },
    {
     "name": "stdout",
     "output_type": "stream",
     "text": [
      "PAC-1 + Vemurafenib\n"
     ]
    },
    {
     "name": "stderr",
     "output_type": "stream",
     "text": [
      " 31%|███       | 434/1417 [12:06<23:19,  1.42s/it]"
     ]
    },
    {
     "name": "stdout",
     "output_type": "stream",
     "text": [
      "Cetuximab + Selumetinib\n"
     ]
    },
    {
     "name": "stderr",
     "output_type": "stream",
     "text": [
      " 31%|███       | 436/1417 [12:09<23:41,  1.45s/it]"
     ]
    },
    {
     "name": "stdout",
     "output_type": "stream",
     "text": [
      "Imatinib + PLX4720\n"
     ]
    },
    {
     "name": "stderr",
     "output_type": "stream",
     "text": [
      " 31%|███       | 437/1417 [12:10<23:59,  1.47s/it]"
     ]
    },
    {
     "name": "stdout",
     "output_type": "stream",
     "text": [
      "Gefitinib + PLX4720\n"
     ]
    },
    {
     "name": "stderr",
     "output_type": "stream",
     "text": [
      " 31%|███       | 438/1417 [12:11<23:18,  1.43s/it]"
     ]
    },
    {
     "name": "stdout",
     "output_type": "stream",
     "text": [
      "Dabrafenib + SCH772984\n"
     ]
    },
    {
     "name": "stderr",
     "output_type": "stream",
     "text": [
      " 31%|███       | 439/1417 [12:13<22:53,  1.40s/it]"
     ]
    },
    {
     "name": "stdout",
     "output_type": "stream",
     "text": [
      "Cetuximab + Dabrafenib + SCH772984\n"
     ]
    },
    {
     "name": "stderr",
     "output_type": "stream",
     "text": [
      " 31%|███       | 440/1417 [12:14<22:54,  1.41s/it]"
     ]
    },
    {
     "name": "stdout",
     "output_type": "stream",
     "text": [
      "Afatinib + BI-882370\n"
     ]
    },
    {
     "name": "stderr",
     "output_type": "stream",
     "text": [
      " 31%|███       | 441/1417 [12:16<22:40,  1.39s/it]"
     ]
    },
    {
     "name": "stdout",
     "output_type": "stream",
     "text": [
      "Navitoclax + PLX4720\n"
     ]
    },
    {
     "name": "stderr",
     "output_type": "stream",
     "text": [
      " 31%|███       | 442/1417 [12:17<22:35,  1.39s/it]"
     ]
    },
    {
     "name": "stdout",
     "output_type": "stream",
     "text": [
      "Ganetespib + TAK-733\n"
     ]
    },
    {
     "name": "stderr",
     "output_type": "stream",
     "text": [
      " 31%|███▏      | 443/1417 [12:18<22:23,  1.38s/it]"
     ]
    },
    {
     "name": "stdout",
     "output_type": "stream",
     "text": [
      "SBI-755199\n"
     ]
    },
    {
     "name": "stderr",
     "output_type": "stream",
     "text": [
      " 31%|███▏      | 444/1417 [12:20<22:12,  1.37s/it]"
     ]
    },
    {
     "name": "stdout",
     "output_type": "stream",
     "text": [
      "Navitoclax + Vemurafenib\n"
     ]
    },
    {
     "name": "stderr",
     "output_type": "stream",
     "text": [
      " 31%|███▏      | 445/1417 [12:21<21:52,  1.35s/it]"
     ]
    },
    {
     "name": "stdout",
     "output_type": "stream",
     "text": [
      "Everolimus + Selumetinib\n"
     ]
    },
    {
     "name": "stderr",
     "output_type": "stream",
     "text": [
      " 31%|███▏      | 446/1417 [12:22<21:37,  1.34s/it]"
     ]
    },
    {
     "name": "stdout",
     "output_type": "stream",
     "text": [
      "Pimasertib + Regorafenib\n"
     ]
    },
    {
     "name": "stderr",
     "output_type": "stream",
     "text": [
      " 32%|███▏      | 447/1417 [12:24<21:28,  1.33s/it]"
     ]
    },
    {
     "name": "stdout",
     "output_type": "stream",
     "text": [
      "BI-882370 + Cetuximab\n"
     ]
    },
    {
     "name": "stderr",
     "output_type": "stream",
     "text": [
      " 32%|███▏      | 449/1417 [12:27<22:21,  1.39s/it]"
     ]
    },
    {
     "name": "stdout",
     "output_type": "stream",
     "text": [
      "Trametinib + TW-37\n"
     ]
    },
    {
     "name": "stderr",
     "output_type": "stream",
     "text": [
      " 32%|███▏      | 450/1417 [12:28<22:07,  1.37s/it]"
     ]
    },
    {
     "name": "stdout",
     "output_type": "stream",
     "text": [
      "Cediranib + PLX4720\n"
     ]
    },
    {
     "name": "stderr",
     "output_type": "stream",
     "text": [
      " 32%|███▏      | 451/1417 [12:29<21:51,  1.36s/it]"
     ]
    },
    {
     "name": "stdout",
     "output_type": "stream",
     "text": [
      "Pimasertib + Sorafenib\n"
     ]
    },
    {
     "name": "stderr",
     "output_type": "stream",
     "text": [
      " 32%|███▏      | 453/1417 [12:32<22:48,  1.42s/it]"
     ]
    },
    {
     "name": "stdout",
     "output_type": "stream",
     "text": [
      "Dasatinib + SCH772984\n"
     ]
    },
    {
     "name": "stderr",
     "output_type": "stream",
     "text": [
      " 32%|███▏      | 454/1417 [12:34<22:28,  1.40s/it]"
     ]
    },
    {
     "name": "stdout",
     "output_type": "stream",
     "text": [
      "Alpelisib + PLX4720\n"
     ]
    },
    {
     "name": "stderr",
     "output_type": "stream",
     "text": [
      " 32%|███▏      | 455/1417 [12:35<22:09,  1.38s/it]"
     ]
    },
    {
     "name": "stdout",
     "output_type": "stream",
     "text": [
      "SBI-0640726\n"
     ]
    },
    {
     "name": "stderr",
     "output_type": "stream",
     "text": [
      " 32%|███▏      | 456/1417 [12:36<21:49,  1.36s/it]"
     ]
    },
    {
     "name": "stdout",
     "output_type": "stream",
     "text": [
      "Palbociclib + PD-0325901\n"
     ]
    },
    {
     "name": "stderr",
     "output_type": "stream",
     "text": [
      " 32%|███▏      | 457/1417 [12:38<21:42,  1.36s/it]"
     ]
    },
    {
     "name": "stdout",
     "output_type": "stream",
     "text": [
      "Everolimus + Pimasertib\n"
     ]
    },
    {
     "name": "stderr",
     "output_type": "stream",
     "text": [
      " 32%|███▏      | 459/1417 [12:41<22:32,  1.41s/it]"
     ]
    },
    {
     "name": "stdout",
     "output_type": "stream",
     "text": [
      "PAC-1 + Trametinib + Vemurafenib\n"
     ]
    },
    {
     "name": "stderr",
     "output_type": "stream",
     "text": [
      " 32%|███▏      | 460/1417 [12:42<22:15,  1.40s/it]"
     ]
    },
    {
     "name": "stdout",
     "output_type": "stream",
     "text": [
      "PLX4720 + Selumetinib\n"
     ]
    },
    {
     "name": "stderr",
     "output_type": "stream",
     "text": [
      " 33%|███▎      | 461/1417 [12:43<21:54,  1.38s/it]"
     ]
    },
    {
     "name": "stdout",
     "output_type": "stream",
     "text": [
      "DETD-35\n"
     ]
    },
    {
     "name": "stderr",
     "output_type": "stream",
     "text": [
      " 33%|███▎      | 462/1417 [12:45<22:09,  1.39s/it]"
     ]
    },
    {
     "name": "stdout",
     "output_type": "stream",
     "text": [
      "Lapatinib + Panobinostat\n"
     ]
    },
    {
     "name": "stderr",
     "output_type": "stream",
     "text": [
      " 33%|███▎      | 463/1417 [12:46<22:26,  1.41s/it]"
     ]
    },
    {
     "name": "stdout",
     "output_type": "stream",
     "text": [
      "DETD-35 + Vemurafenib\n"
     ]
    },
    {
     "name": "stderr",
     "output_type": "stream",
     "text": [
      " 33%|███▎      | 464/1417 [12:48<22:25,  1.41s/it]"
     ]
    },
    {
     "name": "stdout",
     "output_type": "stream",
     "text": [
      "PLX4720 + Tivozanib\n"
     ]
    },
    {
     "name": "stderr",
     "output_type": "stream",
     "text": [
      " 33%|███▎      | 465/1417 [12:49<22:02,  1.39s/it]"
     ]
    },
    {
     "name": "stdout",
     "output_type": "stream",
     "text": [
      "Navitoclax + Trametinib\n"
     ]
    },
    {
     "name": "stderr",
     "output_type": "stream",
     "text": [
      " 33%|███▎      | 466/1417 [12:50<21:48,  1.38s/it]"
     ]
    },
    {
     "name": "stdout",
     "output_type": "stream",
     "text": [
      "PF-00477736 + PF3644022\n"
     ]
    },
    {
     "name": "stderr",
     "output_type": "stream",
     "text": [
      " 33%|███▎      | 467/1417 [12:52<21:28,  1.36s/it]"
     ]
    },
    {
     "name": "stdout",
     "output_type": "stream",
     "text": [
      "Dasatinib + Selumetinib\n"
     ]
    },
    {
     "name": "stderr",
     "output_type": "stream",
     "text": [
      " 33%|███▎      | 469/1417 [12:55<22:18,  1.41s/it]"
     ]
    },
    {
     "name": "stdout",
     "output_type": "stream",
     "text": [
      "Cetuximab + SCH772984\n"
     ]
    },
    {
     "name": "stderr",
     "output_type": "stream",
     "text": [
      " 33%|███▎      | 471/1417 [12:58<23:02,  1.46s/it]"
     ]
    },
    {
     "name": "stdout",
     "output_type": "stream",
     "text": [
      "Cetuximab + Dabrafenib\n"
     ]
    },
    {
     "name": "stderr",
     "output_type": "stream",
     "text": [
      " 33%|███▎      | 472/1417 [12:59<22:21,  1.42s/it]"
     ]
    },
    {
     "name": "stdout",
     "output_type": "stream",
     "text": [
      "Lapatinib + Vemurafenib\n"
     ]
    },
    {
     "name": "stderr",
     "output_type": "stream",
     "text": [
      " 33%|███▎      | 473/1417 [13:00<21:56,  1.39s/it]"
     ]
    },
    {
     "name": "stdout",
     "output_type": "stream",
     "text": [
      "CLM3\n"
     ]
    },
    {
     "name": "stderr",
     "output_type": "stream",
     "text": [
      " 34%|███▎      | 476/1417 [13:05<23:01,  1.47s/it]"
     ]
    },
    {
     "name": "stdout",
     "output_type": "stream",
     "text": [
      "BGB-283 + Cetuximab\n"
     ]
    },
    {
     "name": "stderr",
     "output_type": "stream",
     "text": [
      " 34%|███▎      | 477/1417 [13:06<22:29,  1.44s/it]"
     ]
    },
    {
     "name": "stdout",
     "output_type": "stream",
     "text": [
      "Encorafenib + Ribociclib\n"
     ]
    },
    {
     "name": "stderr",
     "output_type": "stream",
     "text": [
      " 34%|███▎      | 478/1417 [13:08<22:27,  1.43s/it]"
     ]
    },
    {
     "name": "stdout",
     "output_type": "stream",
     "text": [
      "Cetuximab + Sorafenib\n"
     ]
    },
    {
     "name": "stderr",
     "output_type": "stream",
     "text": [
      " 34%|███▍      | 479/1417 [13:09<21:54,  1.40s/it]"
     ]
    },
    {
     "name": "stdout",
     "output_type": "stream",
     "text": [
      "Cediranib + PLX4720 + Selumetinib\n"
     ]
    },
    {
     "name": "stderr",
     "output_type": "stream",
     "text": [
      " 34%|███▍      | 480/1417 [13:10<21:44,  1.39s/it]"
     ]
    },
    {
     "name": "stdout",
     "output_type": "stream",
     "text": [
      "Erlotinib + PLX4720\n"
     ]
    },
    {
     "name": "stderr",
     "output_type": "stream",
     "text": [
      " 34%|███▍      | 482/1417 [13:14<23:23,  1.50s/it]"
     ]
    },
    {
     "name": "stdout",
     "output_type": "stream",
     "text": [
      "BI-882370 + Trametinib\n"
     ]
    },
    {
     "name": "stderr",
     "output_type": "stream",
     "text": [
      " 34%|███▍      | 483/1417 [13:15<23:16,  1.49s/it]"
     ]
    },
    {
     "name": "stdout",
     "output_type": "stream",
     "text": [
      "Dabrafenib + Omipalisib\n"
     ]
    },
    {
     "name": "stderr",
     "output_type": "stream",
     "text": [
      " 34%|███▍      | 484/1417 [13:17<22:27,  1.44s/it]"
     ]
    },
    {
     "name": "stdout",
     "output_type": "stream",
     "text": [
      "LSN3074753\n"
     ]
    },
    {
     "name": "stderr",
     "output_type": "stream",
     "text": [
      " 34%|███▍      | 485/1417 [13:18<22:13,  1.43s/it]"
     ]
    },
    {
     "name": "stdout",
     "output_type": "stream",
     "text": [
      "Binimetinib + Cetuximab + Encorafenib\n"
     ]
    },
    {
     "name": "stderr",
     "output_type": "stream",
     "text": [
      " 34%|███▍      | 487/1417 [13:21<22:28,  1.45s/it]"
     ]
    },
    {
     "name": "stdout",
     "output_type": "stream",
     "text": [
      "DT01 + Fluorouracil + Oxaliplatin\n"
     ]
    },
    {
     "name": "stderr",
     "output_type": "stream",
     "text": [
      " 34%|███▍      | 488/1417 [13:22<21:55,  1.42s/it]"
     ]
    },
    {
     "name": "stdout",
     "output_type": "stream",
     "text": [
      "PLX4720 + Vorinostat\n"
     ]
    },
    {
     "name": "stderr",
     "output_type": "stream",
     "text": [
      " 35%|███▍      | 489/1417 [13:24<22:19,  1.44s/it]"
     ]
    },
    {
     "name": "stdout",
     "output_type": "stream",
     "text": [
      "Omipalisib + Trametinib\n"
     ]
    },
    {
     "name": "stderr",
     "output_type": "stream",
     "text": [
      " 35%|███▍      | 491/1417 [13:27<22:24,  1.45s/it]"
     ]
    },
    {
     "name": "stdout",
     "output_type": "stream",
     "text": [
      "Cetuximab + Dabrafenib + Trametinib\n"
     ]
    },
    {
     "name": "stderr",
     "output_type": "stream",
     "text": [
      " 35%|███▍      | 492/1417 [13:28<21:46,  1.41s/it]"
     ]
    },
    {
     "name": "stdout",
     "output_type": "stream",
     "text": [
      "Gefitinib + Vemurafenib\n"
     ]
    },
    {
     "name": "stderr",
     "output_type": "stream",
     "text": [
      " 35%|███▍      | 493/1417 [13:29<21:21,  1.39s/it]"
     ]
    },
    {
     "name": "stdout",
     "output_type": "stream",
     "text": [
      "Dabrafenib + Panitumumab + Trametinib\n"
     ]
    },
    {
     "name": "stderr",
     "output_type": "stream",
     "text": [
      " 35%|███▍      | 494/1417 [13:31<21:07,  1.37s/it]"
     ]
    },
    {
     "name": "stdout",
     "output_type": "stream",
     "text": [
      "Doxorubicin + PLX4720\n"
     ]
    },
    {
     "name": "stderr",
     "output_type": "stream",
     "text": [
      " 35%|███▍      | 495/1417 [13:32<21:03,  1.37s/it]"
     ]
    },
    {
     "name": "stdout",
     "output_type": "stream",
     "text": [
      "BI2536 + PLX4720\n"
     ]
    },
    {
     "name": "stderr",
     "output_type": "stream",
     "text": [
      " 35%|███▌      | 496/1417 [13:33<20:50,  1.36s/it]"
     ]
    },
    {
     "name": "stdout",
     "output_type": "stream",
     "text": [
      "Cetuximab + Encorafenib\n"
     ]
    },
    {
     "name": "stderr",
     "output_type": "stream",
     "text": [
      " 35%|███▌      | 497/1417 [13:35<20:44,  1.35s/it]"
     ]
    },
    {
     "name": "stdout",
     "output_type": "stream",
     "text": [
      "Irinotecan + Panitumumab\n"
     ]
    },
    {
     "name": "stderr",
     "output_type": "stream",
     "text": [
      " 35%|███▌      | 498/1417 [13:36<20:32,  1.34s/it]"
     ]
    },
    {
     "name": "stdout",
     "output_type": "stream",
     "text": [
      "Encorafenib + Binimetinib\n"
     ]
    },
    {
     "name": "stderr",
     "output_type": "stream",
     "text": [
      " 35%|███▌      | 499/1417 [13:37<20:26,  1.34s/it]"
     ]
    },
    {
     "name": "stdout",
     "output_type": "stream",
     "text": [
      "Encorafenib + Binimetinib + Cetuximab\n"
     ]
    },
    {
     "name": "stderr",
     "output_type": "stream",
     "text": [
      " 35%|███▌      | 500/1417 [13:39<20:29,  1.34s/it]"
     ]
    },
    {
     "name": "stdout",
     "output_type": "stream",
     "text": [
      "JAK inhibitors\n"
     ]
    },
    {
     "name": "stderr",
     "output_type": "stream",
     "text": [
      " 35%|███▌      | 501/1417 [13:40<20:28,  1.34s/it]"
     ]
    },
    {
     "name": "stdout",
     "output_type": "stream",
     "text": [
      "Ibrutinib + Ruxolitinib\n"
     ]
    },
    {
     "name": "stderr",
     "output_type": "stream",
     "text": [
      " 35%|███▌      | 502/1417 [13:41<20:23,  1.34s/it]"
     ]
    },
    {
     "name": "stdout",
     "output_type": "stream",
     "text": [
      "Everolimus + Letrozole\n"
     ]
    },
    {
     "name": "stderr",
     "output_type": "stream",
     "text": [
      " 36%|███▌      | 510/1417 [13:55<23:46,  1.57s/it]"
     ]
    },
    {
     "name": "stdout",
     "output_type": "stream",
     "text": [
      "Dasatinib + Erlotinib\n"
     ]
    },
    {
     "name": "stderr",
     "output_type": "stream",
     "text": [
      " 36%|███▌      | 511/1417 [13:56<22:36,  1.50s/it]"
     ]
    },
    {
     "name": "stdout",
     "output_type": "stream",
     "text": [
      "Nilotinib + Saracatinib\n"
     ]
    },
    {
     "name": "stderr",
     "output_type": "stream",
     "text": [
      " 36%|███▋      | 515/1417 [14:02<23:03,  1.53s/it]"
     ]
    },
    {
     "name": "stdout",
     "output_type": "stream",
     "text": [
      "Afatinib + Cetuximab\n"
     ]
    },
    {
     "name": "stderr",
     "output_type": "stream",
     "text": [
      " 36%|███▋      | 516/1417 [14:04<22:08,  1.47s/it]"
     ]
    },
    {
     "name": "stdout",
     "output_type": "stream",
     "text": [
      "Afatinib + Nimotuzumab\n"
     ]
    },
    {
     "name": "stderr",
     "output_type": "stream",
     "text": [
      " 36%|███▋      | 517/1417 [14:05<21:35,  1.44s/it]"
     ]
    },
    {
     "name": "stdout",
     "output_type": "stream",
     "text": [
      "Cetuximab + Sirolimus\n"
     ]
    },
    {
     "name": "stderr",
     "output_type": "stream",
     "text": [
      " 37%|███▋      | 518/1417 [14:06<21:07,  1.41s/it]"
     ]
    },
    {
     "name": "stdout",
     "output_type": "stream",
     "text": [
      "Pemetrexed + Erlotinib\n"
     ]
    },
    {
     "name": "stderr",
     "output_type": "stream",
     "text": [
      " 37%|███▋      | 519/1417 [14:08<20:42,  1.38s/it]"
     ]
    },
    {
     "name": "stdout",
     "output_type": "stream",
     "text": [
      "Futuximab\n"
     ]
    },
    {
     "name": "stderr",
     "output_type": "stream",
     "text": [
      " 37%|███▋      | 520/1417 [14:09<21:22,  1.43s/it]"
     ]
    },
    {
     "name": "stdout",
     "output_type": "stream",
     "text": [
      "Sirolimus + Cetuximab\n"
     ]
    },
    {
     "name": "stderr",
     "output_type": "stream",
     "text": [
      " 37%|███▋      | 525/1417 [14:19<28:22,  1.91s/it]"
     ]
    },
    {
     "name": "stdout",
     "output_type": "stream",
     "text": [
      "MM-151\n"
     ]
    },
    {
     "name": "stderr",
     "output_type": "stream",
     "text": [
      " 37%|███▋      | 527/1417 [14:22<25:19,  1.71s/it]"
     ]
    },
    {
     "name": "stdout",
     "output_type": "stream",
     "text": [
      "Bevacizumab + Erlotinib\n"
     ]
    },
    {
     "name": "stderr",
     "output_type": "stream",
     "text": [
      " 37%|███▋      | 529/1417 [14:25<23:33,  1.59s/it]"
     ]
    },
    {
     "name": "stdout",
     "output_type": "stream",
     "text": [
      "Buparlisib + Osimertinib\n"
     ]
    },
    {
     "name": "stderr",
     "output_type": "stream",
     "text": [
      " 37%|███▋      | 530/1417 [14:27<22:22,  1.51s/it]"
     ]
    },
    {
     "name": "stdout",
     "output_type": "stream",
     "text": [
      "Osimertinib + Selumetinib\n"
     ]
    },
    {
     "name": "stderr",
     "output_type": "stream",
     "text": [
      " 37%|███▋      | 531/1417 [14:28<21:30,  1.46s/it]"
     ]
    },
    {
     "name": "stdout",
     "output_type": "stream",
     "text": [
      "Gefitinib + Pemetrexed\n"
     ]
    },
    {
     "name": "stderr",
     "output_type": "stream",
     "text": [
      " 38%|███▊      | 533/1417 [14:31<21:33,  1.46s/it]"
     ]
    },
    {
     "name": "stdout",
     "output_type": "stream",
     "text": [
      "Cabozantinib + Erlotinib\n"
     ]
    },
    {
     "name": "stderr",
     "output_type": "stream",
     "text": [
      " 38%|███▊      | 535/1417 [14:34<21:18,  1.45s/it]"
     ]
    },
    {
     "name": "stdout",
     "output_type": "stream",
     "text": [
      "hEGFRvIII-CD3 bi-scFv\n"
     ]
    },
    {
     "name": "stderr",
     "output_type": "stream",
     "text": [
      " 38%|███▊      | 537/1417 [14:37<20:23,  1.39s/it]"
     ]
    },
    {
     "name": "stdout",
     "output_type": "stream",
     "text": [
      "Erlotinib + Ganetespib\n"
     ]
    },
    {
     "name": "stderr",
     "output_type": "stream",
     "text": [
      " 38%|███▊      | 538/1417 [14:38<20:05,  1.37s/it]"
     ]
    },
    {
     "name": "stdout",
     "output_type": "stream",
     "text": [
      "Cisplatin + ER2\n"
     ]
    },
    {
     "name": "stderr",
     "output_type": "stream",
     "text": [
      " 38%|███▊      | 539/1417 [14:39<19:52,  1.36s/it]"
     ]
    },
    {
     "name": "stdout",
     "output_type": "stream",
     "text": [
      "Trametinib + WZ4002\n"
     ]
    },
    {
     "name": "stderr",
     "output_type": "stream",
     "text": [
      " 38%|███▊      | 542/1417 [14:44<21:21,  1.47s/it]"
     ]
    },
    {
     "name": "stdout",
     "output_type": "stream",
     "text": [
      "BEZ235 + Selumetinib\n"
     ]
    },
    {
     "name": "stderr",
     "output_type": "stream",
     "text": [
      " 38%|███▊      | 543/1417 [14:45<20:50,  1.43s/it]"
     ]
    },
    {
     "name": "stdout",
     "output_type": "stream",
     "text": [
      "Amlexanox + Selumetinib\n"
     ]
    },
    {
     "name": "stderr",
     "output_type": "stream",
     "text": [
      " 38%|███▊      | 544/1417 [14:47<20:28,  1.41s/it]"
     ]
    },
    {
     "name": "stdout",
     "output_type": "stream",
     "text": [
      "Necitumumab\n"
     ]
    },
    {
     "name": "stderr",
     "output_type": "stream",
     "text": [
      " 38%|███▊      | 545/1417 [14:48<20:10,  1.39s/it]"
     ]
    },
    {
     "name": "stdout",
     "output_type": "stream",
     "text": [
      "Bevacizumab + Gefitinib\n"
     ]
    },
    {
     "name": "stderr",
     "output_type": "stream",
     "text": [
      " 39%|███▊      | 546/1417 [14:49<19:54,  1.37s/it]"
     ]
    },
    {
     "name": "stdout",
     "output_type": "stream",
     "text": [
      "Bevacizumab + Osimertinib\n"
     ]
    },
    {
     "name": "stderr",
     "output_type": "stream",
     "text": [
      " 39%|███▊      | 549/1417 [14:54<21:03,  1.46s/it]"
     ]
    },
    {
     "name": "stdout",
     "output_type": "stream",
     "text": [
      "Afatinib + Sirolimus\n"
     ]
    },
    {
     "name": "stderr",
     "output_type": "stream",
     "text": [
      " 39%|███▉      | 550/1417 [14:55<20:33,  1.42s/it]"
     ]
    },
    {
     "name": "stdout",
     "output_type": "stream",
     "text": [
      "Trastuzumab + Neratinib + Lapatinib\n"
     ]
    },
    {
     "name": "stderr",
     "output_type": "stream",
     "text": [
      " 39%|███▉      | 551/1417 [14:57<20:09,  1.40s/it]"
     ]
    },
    {
     "name": "stdout",
     "output_type": "stream",
     "text": [
      "ERBB2 TKIs\n"
     ]
    },
    {
     "name": "stderr",
     "output_type": "stream",
     "text": [
      " 39%|███▉      | 552/1417 [14:58<19:42,  1.37s/it]"
     ]
    },
    {
     "name": "stdout",
     "output_type": "stream",
     "text": [
      "Trastuzumab-based chemotherapy\n"
     ]
    },
    {
     "name": "stderr",
     "output_type": "stream",
     "text": [
      " 39%|███▉      | 553/1417 [14:59<19:30,  1.36s/it]"
     ]
    },
    {
     "name": "stdout",
     "output_type": "stream",
     "text": [
      "Compound 23814 + Tivozanib\n"
     ]
    },
    {
     "name": "stderr",
     "output_type": "stream",
     "text": [
      " 39%|███▉      | 557/1417 [15:06<21:57,  1.53s/it]"
     ]
    },
    {
     "name": "stdout",
     "output_type": "stream",
     "text": [
      "Trastuzumab + XL147\n"
     ]
    },
    {
     "name": "stderr",
     "output_type": "stream",
     "text": [
      " 39%|███▉      | 558/1417 [15:07<21:05,  1.47s/it]"
     ]
    },
    {
     "name": "stdout",
     "output_type": "stream",
     "text": [
      "Cetuximab + Lapatinib\n"
     ]
    },
    {
     "name": "stderr",
     "output_type": "stream",
     "text": [
      " 39%|███▉      | 559/1417 [15:08<20:24,  1.43s/it]"
     ]
    },
    {
     "name": "stdout",
     "output_type": "stream",
     "text": [
      "Neratinib + Trastuzumab\n"
     ]
    },
    {
     "name": "stderr",
     "output_type": "stream",
     "text": [
      " 40%|███▉      | 560/1417 [15:10<19:55,  1.40s/it]"
     ]
    },
    {
     "name": "stdout",
     "output_type": "stream",
     "text": [
      "JQ1 + Osimertinib\n"
     ]
    },
    {
     "name": "stderr",
     "output_type": "stream",
     "text": [
      " 40%|███▉      | 561/1417 [15:11<19:39,  1.38s/it]"
     ]
    },
    {
     "name": "stdout",
     "output_type": "stream",
     "text": [
      "anti-HER3 mAbs\n"
     ]
    },
    {
     "name": "stderr",
     "output_type": "stream",
     "text": [
      " 40%|███▉      | 562/1417 [15:12<19:25,  1.36s/it]"
     ]
    },
    {
     "name": "stdout",
     "output_type": "stream",
     "text": [
      "PI3K pathway inhibitors + MEK inhibitors\n"
     ]
    },
    {
     "name": "stderr",
     "output_type": "stream",
     "text": [
      " 40%|███▉      | 563/1417 [15:14<19:15,  1.35s/it]"
     ]
    },
    {
     "name": "stdout",
     "output_type": "stream",
     "text": [
      "Paclitaxel + Carboplatin\n"
     ]
    },
    {
     "name": "stderr",
     "output_type": "stream",
     "text": [
      " 40%|███▉      | 564/1417 [15:15<19:05,  1.34s/it]"
     ]
    },
    {
     "name": "stdout",
     "output_type": "stream",
     "text": [
      "Paclitaxel + Cisplatin\n"
     ]
    },
    {
     "name": "stderr",
     "output_type": "stream",
     "text": [
      " 40%|███▉      | 565/1417 [15:16<19:12,  1.35s/it]"
     ]
    },
    {
     "name": "stdout",
     "output_type": "stream",
     "text": [
      "EZH2 inhibitors\n"
     ]
    },
    {
     "name": "stderr",
     "output_type": "stream",
     "text": [
      " 40%|███▉      | 566/1417 [15:18<19:07,  1.35s/it]"
     ]
    },
    {
     "name": "stdout",
     "output_type": "stream",
     "text": [
      "ACY-957 + GSK126\n"
     ]
    },
    {
     "name": "stderr",
     "output_type": "stream",
     "text": [
      " 40%|████      | 568/1417 [15:21<19:59,  1.41s/it]"
     ]
    },
    {
     "name": "stdout",
     "output_type": "stream",
     "text": [
      "ACY-957 + DZNeP\n"
     ]
    },
    {
     "name": "stderr",
     "output_type": "stream",
     "text": [
      " 40%|████      | 571/1417 [15:25<20:51,  1.48s/it]"
     ]
    },
    {
     "name": "stdout",
     "output_type": "stream",
     "text": [
      "ACY-957 + Doxorubicin\n"
     ]
    },
    {
     "name": "stderr",
     "output_type": "stream",
     "text": [
      " 40%|████      | 572/1417 [15:27<20:15,  1.44s/it]"
     ]
    },
    {
     "name": "stdout",
     "output_type": "stream",
     "text": [
      "EED226 + EI1\n"
     ]
    },
    {
     "name": "stderr",
     "output_type": "stream",
     "text": [
      " 41%|████      | 577/1417 [15:35<21:46,  1.56s/it]"
     ]
    },
    {
     "name": "stdout",
     "output_type": "stream",
     "text": [
      "GSK3052230\n"
     ]
    },
    {
     "name": "stderr",
     "output_type": "stream",
     "text": [
      " 41%|████      | 582/1417 [15:43<21:41,  1.56s/it]"
     ]
    },
    {
     "name": "stdout",
     "output_type": "stream",
     "text": [
      "SU11248 + Cytarabine\n"
     ]
    },
    {
     "name": "stderr",
     "output_type": "stream",
     "text": [
      " 41%|████      | 583/1417 [15:45<20:46,  1.49s/it]"
     ]
    },
    {
     "name": "stdout",
     "output_type": "stream",
     "text": [
      "SU11248 + Daunorubicin\n"
     ]
    },
    {
     "name": "stderr",
     "output_type": "stream",
     "text": [
      " 41%|████▏     | 586/1417 [15:50<21:53,  1.58s/it]"
     ]
    },
    {
     "name": "stdout",
     "output_type": "stream",
     "text": [
      "Cytarabine + Daunorubicin + Midostaurin\n"
     ]
    },
    {
     "name": "stderr",
     "output_type": "stream",
     "text": [
      " 41%|████▏     | 587/1417 [15:51<20:47,  1.50s/it]"
     ]
    },
    {
     "name": "stdout",
     "output_type": "stream",
     "text": [
      "Arsenic trioxide + Cytarabine + Methotrexate + Tretinoin\n"
     ]
    },
    {
     "name": "stderr",
     "output_type": "stream",
     "text": [
      " 41%|████▏     | 588/1417 [15:52<20:04,  1.45s/it]"
     ]
    },
    {
     "name": "stdout",
     "output_type": "stream",
     "text": [
      "Crenolanib + Trametinib\n"
     ]
    },
    {
     "name": "stderr",
     "output_type": "stream",
     "text": [
      " 42%|████▏     | 590/1417 [15:55<20:36,  1.50s/it]"
     ]
    },
    {
     "name": "stdout",
     "output_type": "stream",
     "text": [
      "Azacitidine + Sorafenib\n"
     ]
    },
    {
     "name": "stderr",
     "output_type": "stream",
     "text": [
      " 42%|████▏     | 592/1417 [15:58<20:30,  1.49s/it]"
     ]
    },
    {
     "name": "stdout",
     "output_type": "stream",
     "text": [
      "AEB071 + Binimetinib\n"
     ]
    },
    {
     "name": "stderr",
     "output_type": "stream",
     "text": [
      " 42%|████▏     | 594/1417 [16:01<20:38,  1.50s/it]"
     ]
    },
    {
     "name": "stdout",
     "output_type": "stream",
     "text": [
      "AEB071 + PD-0325901\n"
     ]
    },
    {
     "name": "stderr",
     "output_type": "stream",
     "text": [
      " 42%|████▏     | 599/1417 [16:09<21:07,  1.55s/it]"
     ]
    },
    {
     "name": "stdout",
     "output_type": "stream",
     "text": [
      "Binimetinib + Everolimus\n"
     ]
    },
    {
     "name": "stderr",
     "output_type": "stream",
     "text": [
      " 43%|████▎     | 604/1417 [16:18<22:23,  1.65s/it]"
     ]
    },
    {
     "name": "stdout",
     "output_type": "stream",
     "text": [
      "AZD8055 + Binimetinib\n"
     ]
    },
    {
     "name": "stderr",
     "output_type": "stream",
     "text": [
      " 43%|████▎     | 605/1417 [16:19<21:08,  1.56s/it]"
     ]
    },
    {
     "name": "stdout",
     "output_type": "stream",
     "text": [
      "Sirolimus + Trametinib\n"
     ]
    },
    {
     "name": "stderr",
     "output_type": "stream",
     "text": [
      " 43%|████▎     | 607/1417 [16:22<20:21,  1.51s/it]"
     ]
    },
    {
     "name": "stdout",
     "output_type": "stream",
     "text": [
      "Oxaliplatin + Fluorouracil\n"
     ]
    },
    {
     "name": "stderr",
     "output_type": "stream",
     "text": [
      " 43%|████▎     | 608/1417 [16:24<19:37,  1.46s/it]"
     ]
    },
    {
     "name": "stdout",
     "output_type": "stream",
     "text": [
      "IDH1 inhibitors\n"
     ]
    },
    {
     "name": "stderr",
     "output_type": "stream",
     "text": [
      " 43%|████▎     | 609/1417 [16:25<19:04,  1.42s/it]"
     ]
    },
    {
     "name": "stdout",
     "output_type": "stream",
     "text": [
      "PARP inhibitors\n"
     ]
    },
    {
     "name": "stderr",
     "output_type": "stream",
     "text": [
      " 43%|████▎     | 612/1417 [16:30<20:03,  1.49s/it]"
     ]
    },
    {
     "name": "stdout",
     "output_type": "stream",
     "text": [
      "Temozolomide + Vandetanib\n"
     ]
    },
    {
     "name": "stderr",
     "output_type": "stream",
     "text": [
      " 43%|████▎     | 613/1417 [16:31<19:24,  1.45s/it]"
     ]
    },
    {
     "name": "stdout",
     "output_type": "stream",
     "text": [
      "Cisplatin + Talazoparib\n"
     ]
    },
    {
     "name": "stderr",
     "output_type": "stream",
     "text": [
      " 43%|████▎     | 616/1417 [16:35<18:55,  1.42s/it]"
     ]
    },
    {
     "name": "stdout",
     "output_type": "stream",
     "text": [
      "IDH2 inhibitors\n"
     ]
    },
    {
     "name": "stderr",
     "output_type": "stream",
     "text": [
      " 44%|████▎     | 618/1417 [16:39<19:51,  1.49s/it]"
     ]
    },
    {
     "name": "stdout",
     "output_type": "stream",
     "text": [
      "Peginterferon alfa-2a\n"
     ]
    },
    {
     "name": "stderr",
     "output_type": "stream",
     "text": [
      " 44%|████▍     | 621/1417 [16:43<20:06,  1.52s/it]"
     ]
    },
    {
     "name": "stdout",
     "output_type": "stream",
     "text": [
      "AZD1208 + Ruxolitinib\n"
     ]
    },
    {
     "name": "stderr",
     "output_type": "stream",
     "text": [
      " 44%|████▍     | 623/1417 [16:46<19:44,  1.49s/it]"
     ]
    },
    {
     "name": "stdout",
     "output_type": "stream",
     "text": [
      "Ruxolitinib + ZSTK474\n"
     ]
    },
    {
     "name": "stderr",
     "output_type": "stream",
     "text": [
      " 44%|████▍     | 625/1417 [16:49<19:34,  1.48s/it]"
     ]
    },
    {
     "name": "stdout",
     "output_type": "stream",
     "text": [
      "Ruxolitinib + SGI-1776\n"
     ]
    },
    {
     "name": "stderr",
     "output_type": "stream",
     "text": [
      " 44%|████▍     | 627/1417 [16:52<19:37,  1.49s/it]"
     ]
    },
    {
     "name": "stdout",
     "output_type": "stream",
     "text": [
      "BEZ235 + Ruxolitinib\n"
     ]
    },
    {
     "name": "stderr",
     "output_type": "stream",
     "text": [
      " 44%|████▍     | 629/1417 [16:55<19:34,  1.49s/it]"
     ]
    },
    {
     "name": "stdout",
     "output_type": "stream",
     "text": [
      "Pictilisib + Ruxolitinib\n"
     ]
    },
    {
     "name": "stderr",
     "output_type": "stream",
     "text": [
      " 45%|████▍     | 634/1417 [17:03<20:04,  1.54s/it]"
     ]
    },
    {
     "name": "stdout",
     "output_type": "stream",
     "text": [
      "VEGFR inhibitors\n"
     ]
    },
    {
     "name": "stderr",
     "output_type": "stream",
     "text": [
      " 45%|████▍     | 635/1417 [17:05<19:09,  1.47s/it]"
     ]
    },
    {
     "name": "stdout",
     "output_type": "stream",
     "text": [
      "unspecified VEGFR2 antibody\n"
     ]
    },
    {
     "name": "stderr",
     "output_type": "stream",
     "text": [
      " 45%|████▌     | 638/1417 [17:09<19:32,  1.50s/it]"
     ]
    },
    {
     "name": "stdout",
     "output_type": "stream",
     "text": [
      "Bevacizumab + Sorafenib\n"
     ]
    },
    {
     "name": "stderr",
     "output_type": "stream",
     "text": [
      " 45%|████▌     | 640/1417 [17:12<19:14,  1.49s/it]"
     ]
    },
    {
     "name": "stdout",
     "output_type": "stream",
     "text": [
      "Cytarabine + Dasatinib\n"
     ]
    },
    {
     "name": "stderr",
     "output_type": "stream",
     "text": [
      " 45%|████▌     | 641/1417 [17:14<18:42,  1.45s/it]"
     ]
    },
    {
     "name": "stdout",
     "output_type": "stream",
     "text": [
      "BPR1J373\n"
     ]
    },
    {
     "name": "stderr",
     "output_type": "stream",
     "text": [
      " 45%|████▌     | 643/1417 [17:17<19:01,  1.47s/it]"
     ]
    },
    {
     "name": "stdout",
     "output_type": "stream",
     "text": [
      "Infigratinib + Imatinib\n"
     ]
    },
    {
     "name": "stderr",
     "output_type": "stream",
     "text": [
      " 45%|████▌     | 644/1417 [17:18<18:31,  1.44s/it]"
     ]
    },
    {
     "name": "stdout",
     "output_type": "stream",
     "text": [
      "G007-LK + Imatinib\n"
     ]
    },
    {
     "name": "stderr",
     "output_type": "stream",
     "text": [
      " 46%|████▌     | 645/1417 [17:20<18:07,  1.41s/it]"
     ]
    },
    {
     "name": "stdout",
     "output_type": "stream",
     "text": [
      "Dactolisib + Selumetinib\n"
     ]
    },
    {
     "name": "stderr",
     "output_type": "stream",
     "text": [
      " 46%|████▌     | 647/1417 [17:23<18:23,  1.43s/it]"
     ]
    },
    {
     "name": "stdout",
     "output_type": "stream",
     "text": [
      "Docetaxel + Selumetinib\n"
     ]
    },
    {
     "name": "stderr",
     "output_type": "stream",
     "text": [
      " 46%|████▌     | 648/1417 [17:24<17:57,  1.40s/it]"
     ]
    },
    {
     "name": "stdout",
     "output_type": "stream",
     "text": [
      "EGFR inhibitor + ARS-853\n"
     ]
    },
    {
     "name": "stderr",
     "output_type": "stream",
     "text": [
      " 46%|████▌     | 649/1417 [17:26<18:56,  1.48s/it]"
     ]
    },
    {
     "name": "stdout",
     "output_type": "stream",
     "text": [
      "Irinotecan + Selumetinib\n"
     ]
    },
    {
     "name": "stderr",
     "output_type": "stream",
     "text": [
      " 46%|████▌     | 650/1417 [17:27<18:47,  1.47s/it]"
     ]
    },
    {
     "name": "stdout",
     "output_type": "stream",
     "text": [
      "Panitumumab + Trametinib\n"
     ]
    },
    {
     "name": "stderr",
     "output_type": "stream",
     "text": [
      " 46%|████▌     | 651/1417 [17:28<18:06,  1.42s/it]"
     ]
    },
    {
     "name": "stdout",
     "output_type": "stream",
     "text": [
      "Cetuximab + Trametinib\n"
     ]
    },
    {
     "name": "stderr",
     "output_type": "stream",
     "text": [
      " 46%|████▋     | 658/1417 [17:40<21:42,  1.72s/it]"
     ]
    },
    {
     "name": "stdout",
     "output_type": "stream",
     "text": [
      "Ruxolitinib + TGX-221\n"
     ]
    },
    {
     "name": "stderr",
     "output_type": "stream",
     "text": [
      " 47%|████▋     | 660/1417 [17:44<20:08,  1.60s/it]"
     ]
    },
    {
     "name": "stdout",
     "output_type": "stream",
     "text": [
      "LY-294002 + Capivasertib\n"
     ]
    },
    {
     "name": "stderr",
     "output_type": "stream",
     "text": [
      " 47%|████▋     | 661/1417 [17:45<19:17,  1.53s/it]"
     ]
    },
    {
     "name": "stdout",
     "output_type": "stream",
     "text": [
      "Pazopanib + Everolimus\n"
     ]
    },
    {
     "name": "stderr",
     "output_type": "stream",
     "text": [
      " 47%|████▋     | 662/1417 [17:46<18:27,  1.47s/it]"
     ]
    },
    {
     "name": "stdout",
     "output_type": "stream",
     "text": [
      "IMG-2005-5\n"
     ]
    },
    {
     "name": "stderr",
     "output_type": "stream",
     "text": [
      " 47%|████▋     | 663/1417 [17:48<17:56,  1.43s/it]"
     ]
    },
    {
     "name": "stdout",
     "output_type": "stream",
     "text": [
      "IRAK-1 or IRAK-4 inhibitors\n"
     ]
    },
    {
     "name": "stderr",
     "output_type": "stream",
     "text": [
      " 47%|████▋     | 666/1417 [17:52<18:04,  1.44s/it]"
     ]
    },
    {
     "name": "stdout",
     "output_type": "stream",
     "text": [
      "Tretinoin + NSC348884\n"
     ]
    },
    {
     "name": "stderr",
     "output_type": "stream",
     "text": [
      " 47%|████▋     | 667/1417 [17:53<17:42,  1.42s/it]"
     ]
    },
    {
     "name": "stdout",
     "output_type": "stream",
     "text": [
      "Anti-CD33 + Anti-CD123\n"
     ]
    },
    {
     "name": "stderr",
     "output_type": "stream",
     "text": [
      " 47%|████▋     | 668/1417 [17:55<17:24,  1.39s/it]"
     ]
    },
    {
     "name": "stdout",
     "output_type": "stream",
     "text": [
      "Induction Therapy\n"
     ]
    },
    {
     "name": "stderr",
     "output_type": "stream",
     "text": [
      " 47%|████▋     | 669/1417 [17:56<17:06,  1.37s/it]"
     ]
    },
    {
     "name": "stdout",
     "output_type": "stream",
     "text": [
      "Everolimus + Binimetinib\n"
     ]
    },
    {
     "name": "stderr",
     "output_type": "stream",
     "text": [
      " 47%|████▋     | 671/1417 [17:59<17:39,  1.42s/it]"
     ]
    },
    {
     "name": "stdout",
     "output_type": "stream",
     "text": [
      "Alpelisib + Binimetinib\n"
     ]
    },
    {
     "name": "stderr",
     "output_type": "stream",
     "text": [
      " 47%|████▋     | 672/1417 [18:00<17:16,  1.39s/it]"
     ]
    },
    {
     "name": "stdout",
     "output_type": "stream",
     "text": [
      "Compound 3144\n"
     ]
    },
    {
     "name": "stderr",
     "output_type": "stream",
     "text": [
      " 48%|████▊     | 674/1417 [18:03<17:42,  1.43s/it]"
     ]
    },
    {
     "name": "stdout",
     "output_type": "stream",
     "text": [
      "Cetuximab + Dactolisib\n"
     ]
    },
    {
     "name": "stderr",
     "output_type": "stream",
     "text": [
      " 48%|████▊     | 675/1417 [18:05<17:26,  1.41s/it]"
     ]
    },
    {
     "name": "stdout",
     "output_type": "stream",
     "text": [
      "AZD5363 + Trastuzumab\n"
     ]
    },
    {
     "name": "stderr",
     "output_type": "stream",
     "text": [
      " 48%|████▊     | 676/1417 [18:06<17:06,  1.39s/it]"
     ]
    },
    {
     "name": "stdout",
     "output_type": "stream",
     "text": [
      "AZD5363 + Lapatinib\n"
     ]
    },
    {
     "name": "stderr",
     "output_type": "stream",
     "text": [
      " 48%|████▊     | 677/1417 [18:07<17:05,  1.39s/it]"
     ]
    },
    {
     "name": "stdout",
     "output_type": "stream",
     "text": [
      "Everolimus + Fulvestrant\n"
     ]
    },
    {
     "name": "stderr",
     "output_type": "stream",
     "text": [
      " 48%|████▊     | 679/1417 [18:10<17:27,  1.42s/it]"
     ]
    },
    {
     "name": "stdout",
     "output_type": "stream",
     "text": [
      "Fulvestrant + Alpelisib\n"
     ]
    },
    {
     "name": "stderr",
     "output_type": "stream",
     "text": [
      " 48%|████▊     | 680/1417 [18:12<17:03,  1.39s/it]"
     ]
    },
    {
     "name": "stdout",
     "output_type": "stream",
     "text": [
      "Cetuximab + Floxuridine + Fluorouracil + Irinotecan\n"
     ]
    },
    {
     "name": "stderr",
     "output_type": "stream",
     "text": [
      " 48%|████▊     | 682/1417 [18:15<17:31,  1.43s/it]"
     ]
    },
    {
     "name": "stdout",
     "output_type": "stream",
     "text": [
      "Alpelisib + Fulvestrant\n"
     ]
    },
    {
     "name": "stderr",
     "output_type": "stream",
     "text": [
      " 48%|████▊     | 683/1417 [18:16<17:06,  1.40s/it]"
     ]
    },
    {
     "name": "stdout",
     "output_type": "stream",
     "text": [
      "Gemcitabine + LY2780301\n"
     ]
    },
    {
     "name": "stderr",
     "output_type": "stream",
     "text": [
      " 48%|████▊     | 684/1417 [18:17<16:48,  1.38s/it]"
     ]
    },
    {
     "name": "stdout",
     "output_type": "stream",
     "text": [
      "Cetuximab + Irinotecan\n"
     ]
    },
    {
     "name": "stderr",
     "output_type": "stream",
     "text": [
      " 48%|████▊     | 685/1417 [18:19<16:45,  1.37s/it]"
     ]
    },
    {
     "name": "stdout",
     "output_type": "stream",
     "text": [
      "PD-0325901 + Pictilisib\n"
     ]
    },
    {
     "name": "stderr",
     "output_type": "stream",
     "text": [
      " 48%|████▊     | 686/1417 [18:20<16:35,  1.36s/it]"
     ]
    },
    {
     "name": "stdout",
     "output_type": "stream",
     "text": [
      "MK2206 + Temsirolimus\n"
     ]
    },
    {
     "name": "stderr",
     "output_type": "stream",
     "text": [
      " 49%|████▊     | 688/1417 [18:23<17:28,  1.44s/it]"
     ]
    },
    {
     "name": "stdout",
     "output_type": "stream",
     "text": [
      "YM-024\n"
     ]
    },
    {
     "name": "stderr",
     "output_type": "stream",
     "text": [
      " 49%|████▊     | 690/1417 [18:26<17:39,  1.46s/it]"
     ]
    },
    {
     "name": "stdout",
     "output_type": "stream",
     "text": [
      "DHM25\n"
     ]
    },
    {
     "name": "stderr",
     "output_type": "stream",
     "text": [
      " 49%|████▉     | 692/1417 [18:29<17:41,  1.46s/it]"
     ]
    },
    {
     "name": "stdout",
     "output_type": "stream",
     "text": [
      "SHR-A1307\n"
     ]
    },
    {
     "name": "stderr",
     "output_type": "stream",
     "text": [
      " 49%|████▉     | 694/1417 [18:32<17:51,  1.48s/it]"
     ]
    },
    {
     "name": "stdout",
     "output_type": "stream",
     "text": [
      "Radiotherapy + Taselisib\n"
     ]
    },
    {
     "name": "stderr",
     "output_type": "stream",
     "text": [
      " 49%|████▉     | 695/1417 [18:34<17:24,  1.45s/it]"
     ]
    },
    {
     "name": "stdout",
     "output_type": "stream",
     "text": [
      "Cisplatin + Pictilisib\n"
     ]
    },
    {
     "name": "stderr",
     "output_type": "stream",
     "text": [
      " 49%|████▉     | 696/1417 [18:35<17:03,  1.42s/it]"
     ]
    },
    {
     "name": "stdout",
     "output_type": "stream",
     "text": [
      "Buparlisib + Paclitaxel\n"
     ]
    },
    {
     "name": "stderr",
     "output_type": "stream",
     "text": [
      " 49%|████▉     | 698/1417 [18:38<17:30,  1.46s/it]"
     ]
    },
    {
     "name": "stdout",
     "output_type": "stream",
     "text": [
      "Alpelisib + Letrozole\n"
     ]
    },
    {
     "name": "stderr",
     "output_type": "stream",
     "text": [
      " 49%|████▉     | 699/1417 [18:39<16:53,  1.41s/it]"
     ]
    },
    {
     "name": "stdout",
     "output_type": "stream",
     "text": [
      "Pictilisib + Sorafenib\n"
     ]
    },
    {
     "name": "stderr",
     "output_type": "stream",
     "text": [
      " 49%|████▉     | 700/1417 [18:41<16:35,  1.39s/it]"
     ]
    },
    {
     "name": "stdout",
     "output_type": "stream",
     "text": [
      "Gemcitabine + Pictilisib\n"
     ]
    },
    {
     "name": "stderr",
     "output_type": "stream",
     "text": [
      " 49%|████▉     | 701/1417 [18:42<16:18,  1.37s/it]"
     ]
    },
    {
     "name": "stdout",
     "output_type": "stream",
     "text": [
      "Carboplatin + Paclitaxel + Temsirolimus\n"
     ]
    },
    {
     "name": "stderr",
     "output_type": "stream",
     "text": [
      " 50%|████▉     | 702/1417 [18:43<16:07,  1.35s/it]"
     ]
    },
    {
     "name": "stdout",
     "output_type": "stream",
     "text": [
      "PW12\n"
     ]
    },
    {
     "name": "stderr",
     "output_type": "stream",
     "text": [
      " 50%|████▉     | 706/1417 [18:50<17:52,  1.51s/it]"
     ]
    },
    {
     "name": "stdout",
     "output_type": "stream",
     "text": [
      "Dactolisib + WEHI-539\n"
     ]
    },
    {
     "name": "stderr",
     "output_type": "stream",
     "text": [
      " 50%|████▉     | 708/1417 [18:53<17:37,  1.49s/it]"
     ]
    },
    {
     "name": "stdout",
     "output_type": "stream",
     "text": [
      "Copanlisib + Paclitaxel\n"
     ]
    },
    {
     "name": "stderr",
     "output_type": "stream",
     "text": [
      " 50%|█████     | 709/1417 [18:54<16:58,  1.44s/it]"
     ]
    },
    {
     "name": "stdout",
     "output_type": "stream",
     "text": [
      "Bevacizumab + FOLFIRI Regimen\n"
     ]
    },
    {
     "name": "stderr",
     "output_type": "stream",
     "text": [
      " 50%|█████     | 710/1417 [18:55<16:32,  1.40s/it]"
     ]
    },
    {
     "name": "stdout",
     "output_type": "stream",
     "text": [
      "MK-2206 + PD184352\n"
     ]
    },
    {
     "name": "stderr",
     "output_type": "stream",
     "text": [
      " 50%|█████     | 714/1417 [19:02<17:44,  1.51s/it]"
     ]
    },
    {
     "name": "stdout",
     "output_type": "stream",
     "text": [
      "Cixutumumab\n"
     ]
    },
    {
     "name": "stderr",
     "output_type": "stream",
     "text": [
      " 50%|█████     | 715/1417 [19:03<17:06,  1.46s/it]"
     ]
    },
    {
     "name": "stdout",
     "output_type": "stream",
     "text": [
      "Teprotumumab\n"
     ]
    },
    {
     "name": "stderr",
     "output_type": "stream",
     "text": [
      " 51%|█████     | 716/1417 [19:04<16:42,  1.43s/it]"
     ]
    },
    {
     "name": "stdout",
     "output_type": "stream",
     "text": [
      "AZD7762 + Irinotecan\n"
     ]
    },
    {
     "name": "stderr",
     "output_type": "stream",
     "text": [
      " 51%|█████     | 717/1417 [19:06<16:16,  1.40s/it]"
     ]
    },
    {
     "name": "stdout",
     "output_type": "stream",
     "text": [
      "Irinotecan + CHK1 or CHK2 inhibitors\n"
     ]
    },
    {
     "name": "stderr",
     "output_type": "stream",
     "text": [
      " 51%|█████     | 720/1417 [19:14<27:37,  2.38s/it]"
     ]
    },
    {
     "name": "stdout",
     "output_type": "stream",
     "text": [
      "HG-6-63-01\n"
     ]
    },
    {
     "name": "stderr",
     "output_type": "stream",
     "text": [
      " 51%|█████     | 721/1417 [19:15<24:01,  2.07s/it]"
     ]
    },
    {
     "name": "stdout",
     "output_type": "stream",
     "text": [
      "XMD15-44\n"
     ]
    },
    {
     "name": "stderr",
     "output_type": "stream",
     "text": [
      " 51%|█████     | 722/1417 [19:16<21:21,  1.84s/it]"
     ]
    },
    {
     "name": "stdout",
     "output_type": "stream",
     "text": [
      "Spliceosome inhibitors\n"
     ]
    },
    {
     "name": "stderr",
     "output_type": "stream",
     "text": [
      " 51%|█████     | 725/1417 [19:21<18:51,  1.63s/it]"
     ]
    },
    {
     "name": "stdout",
     "output_type": "stream",
     "text": [
      "Arsenic trioxide + Posaconazole\n"
     ]
    },
    {
     "name": "stderr",
     "output_type": "stream",
     "text": [
      " 51%|█████▏    | 728/1417 [19:25<17:33,  1.53s/it]"
     ]
    },
    {
     "name": "stdout",
     "output_type": "stream",
     "text": [
      "Everolimus + Radiotherapy\n"
     ]
    },
    {
     "name": "stderr",
     "output_type": "stream",
     "text": [
      " 51%|█████▏    | 729/1417 [19:27<16:50,  1.47s/it]"
     ]
    },
    {
     "name": "stdout",
     "output_type": "stream",
     "text": [
      "Everolimus + Exemestane\n"
     ]
    },
    {
     "name": "stderr",
     "output_type": "stream",
     "text": [
      " 52%|█████▏    | 730/1417 [19:28<16:17,  1.42s/it]"
     ]
    },
    {
     "name": "stdout",
     "output_type": "stream",
     "text": [
      "Mitomycin + Cisplatin + Etoposide\n"
     ]
    },
    {
     "name": "stderr",
     "output_type": "stream",
     "text": [
      " 52%|█████▏    | 731/1417 [19:29<15:57,  1.40s/it]"
     ]
    },
    {
     "name": "stdout",
     "output_type": "stream",
     "text": [
      "HSP90 inhibitors\n"
     ]
    },
    {
     "name": "stderr",
     "output_type": "stream",
     "text": [
      " 52%|█████▏    | 734/1417 [19:34<16:12,  1.42s/it]"
     ]
    },
    {
     "name": "stdout",
     "output_type": "stream",
     "text": [
      "APR-246 + Cisplatin\n"
     ]
    },
    {
     "name": "stderr",
     "output_type": "stream",
     "text": [
      " 52%|█████▏    | 735/1417 [19:35<16:05,  1.42s/it]"
     ]
    },
    {
     "name": "stdout",
     "output_type": "stream",
     "text": [
      "Cisplatin + Irinotecan\n"
     ]
    },
    {
     "name": "stderr",
     "output_type": "stream",
     "text": [
      " 52%|█████▏    | 737/1417 [19:38<17:08,  1.51s/it]"
     ]
    },
    {
     "name": "stdout",
     "output_type": "stream",
     "text": [
      "Cyclophosphamide + Doxorubicin + Fluorouracil\n"
     ]
    },
    {
     "name": "stderr",
     "output_type": "stream",
     "text": [
      " 52%|█████▏    | 738/1417 [19:40<16:37,  1.47s/it]"
     ]
    },
    {
     "name": "stdout",
     "output_type": "stream",
     "text": [
      "Doxorubicin + Ifosfamide\n"
     ]
    },
    {
     "name": "stderr",
     "output_type": "stream",
     "text": [
      " 52%|█████▏    | 742/1417 [19:48<18:48,  1.67s/it]"
     ]
    },
    {
     "name": "stdout",
     "output_type": "stream",
     "text": [
      "Alvespimycin + Vorinostat\n"
     ]
    },
    {
     "name": "stderr",
     "output_type": "stream",
     "text": [
      " 53%|█████▎    | 744/1417 [19:51<17:38,  1.57s/it]"
     ]
    },
    {
     "name": "stdout",
     "output_type": "stream",
     "text": [
      "MK-1775 + Carboplatin\n"
     ]
    },
    {
     "name": "stderr",
     "output_type": "stream",
     "text": [
      " 53%|█████▎    | 745/1417 [19:52<16:46,  1.50s/it]"
     ]
    },
    {
     "name": "stdout",
     "output_type": "stream",
     "text": [
      "Ibrutinib + Rituximab\n"
     ]
    },
    {
     "name": "stderr",
     "output_type": "stream",
     "text": [
      " 53%|█████▎    | 746/1417 [19:53<16:12,  1.45s/it]"
     ]
    },
    {
     "name": "stdout",
     "output_type": "stream",
     "text": [
      "Tanespimycin + Vorinostat\n"
     ]
    },
    {
     "name": "stderr",
     "output_type": "stream",
     "text": [
      " 53%|█████▎    | 747/1417 [19:55<15:56,  1.43s/it]"
     ]
    },
    {
     "name": "stdout",
     "output_type": "stream",
     "text": [
      "Gemcitabine + PLATINUM\n"
     ]
    },
    {
     "name": "stderr",
     "output_type": "stream",
     "text": [
      " 54%|█████▍    | 770/1417 [20:34<17:27,  1.62s/it]"
     ]
    },
    {
     "name": "stdout",
     "output_type": "stream",
     "text": [
      "Venotoclax\n"
     ]
    },
    {
     "name": "stderr",
     "output_type": "stream",
     "text": [
      " 54%|█████▍    | 772/1417 [20:37<17:13,  1.60s/it]"
     ]
    },
    {
     "name": "stdout",
     "output_type": "stream",
     "text": [
      "QL-XII-61\n"
     ]
    },
    {
     "name": "stderr",
     "output_type": "stream",
     "text": [
      " 55%|█████▌    | 783/1417 [20:55<16:19,  1.55s/it]"
     ]
    },
    {
     "name": "stdout",
     "output_type": "stream",
     "text": [
      "XMD15-27\n"
     ]
    },
    {
     "name": "stderr",
     "output_type": "stream",
     "text": [
      " 55%|█████▌    | 785/1417 [20:58<15:51,  1.51s/it]"
     ]
    },
    {
     "name": "stdout",
     "output_type": "stream",
     "text": [
      "BDP-00009066\n"
     ]
    },
    {
     "name": "stderr",
     "output_type": "stream",
     "text": [
      " 56%|█████▌    | 787/1417 [21:01<15:42,  1.50s/it]"
     ]
    },
    {
     "name": "stdout",
     "output_type": "stream",
     "text": [
      "THZ-2-102-1\n"
     ]
    },
    {
     "name": "stderr",
     "output_type": "stream",
     "text": [
      " 56%|█████▌    | 788/1417 [21:03<15:05,  1.44s/it]"
     ]
    },
    {
     "name": "stdout",
     "output_type": "stream",
     "text": [
      "CDK9_5038\n"
     ]
    },
    {
     "name": "stderr",
     "output_type": "stream",
     "text": [
      " 56%|█████▌    | 789/1417 [21:04<14:42,  1.41s/it]"
     ]
    },
    {
     "name": "stdout",
     "output_type": "stream",
     "text": [
      "CDK9_5576\n"
     ]
    },
    {
     "name": "stderr",
     "output_type": "stream",
     "text": [
      " 56%|█████▌    | 791/1417 [21:07<15:05,  1.45s/it]"
     ]
    },
    {
     "name": "stdout",
     "output_type": "stream",
     "text": [
      "THZ-2-49\n"
     ]
    },
    {
     "name": "stderr",
     "output_type": "stream",
     "text": [
      " 56%|█████▋    | 799/1417 [21:20<15:58,  1.55s/it]"
     ]
    },
    {
     "name": "stdout",
     "output_type": "stream",
     "text": [
      "Dyrk1b_0191\n"
     ]
    },
    {
     "name": "stderr",
     "output_type": "stream",
     "text": [
      " 57%|█████▋    | 809/1417 [21:37<15:58,  1.58s/it]"
     ]
    },
    {
     "name": "stdout",
     "output_type": "stream",
     "text": [
      "EphB4_9721\n"
     ]
    },
    {
     "name": "stderr",
     "output_type": "stream",
     "text": [
      " 58%|█████▊    | 815/1417 [21:47<15:55,  1.59s/it]"
     ]
    },
    {
     "name": "stdout",
     "output_type": "stream",
     "text": [
      "IGF1R_3801\n"
     ]
    },
    {
     "name": "stderr",
     "output_type": "stream",
     "text": [
      " 58%|█████▊    | 816/1417 [21:48<15:07,  1.51s/it]"
     ]
    },
    {
     "name": "stdout",
     "output_type": "stream",
     "text": [
      "IGFR_3801\n"
     ]
    },
    {
     "name": "stderr",
     "output_type": "stream",
     "text": [
      " 58%|█████▊    | 818/1417 [21:51<14:47,  1.48s/it]"
     ]
    },
    {
     "name": "stdout",
     "output_type": "stream",
     "text": [
      "FGFR_0939\n"
     ]
    },
    {
     "name": "stderr",
     "output_type": "stream",
     "text": [
      " 58%|█████▊    | 820/1417 [21:54<14:42,  1.48s/it]"
     ]
    },
    {
     "name": "stdout",
     "output_type": "stream",
     "text": [
      "AZD7969\n"
     ]
    },
    {
     "name": "stderr",
     "output_type": "stream",
     "text": [
      " 58%|█████▊    | 821/1417 [21:55<14:14,  1.43s/it]"
     ]
    },
    {
     "name": "stdout",
     "output_type": "stream",
     "text": [
      "KIN001-042\n"
     ]
    },
    {
     "name": "stderr",
     "output_type": "stream",
     "text": [
      " 59%|█████▊    | 832/1417 [22:15<16:13,  1.66s/it]"
     ]
    },
    {
     "name": "stdout",
     "output_type": "stream",
     "text": [
      "KIN001-260\n"
     ]
    },
    {
     "name": "stderr",
     "output_type": "stream",
     "text": [
      " 59%|█████▉    | 833/1417 [22:16<15:14,  1.57s/it]"
     ]
    },
    {
     "name": "stdout",
     "output_type": "stream",
     "text": [
      "IRAK4_4710\n"
     ]
    },
    {
     "name": "stderr",
     "output_type": "stream",
     "text": [
      " 59%|█████▉    | 835/1417 [22:19<14:44,  1.52s/it]"
     ]
    },
    {
     "name": "stdout",
     "output_type": "stream",
     "text": [
      "JAK1_3715\n"
     ]
    },
    {
     "name": "stderr",
     "output_type": "stream",
     "text": [
      " 59%|█████▉    | 836/1417 [22:21<14:11,  1.47s/it]"
     ]
    },
    {
     "name": "stdout",
     "output_type": "stream",
     "text": [
      "JAK1_8709\n"
     ]
    },
    {
     "name": "stderr",
     "output_type": "stream",
     "text": [
      " 59%|█████▉    | 837/1417 [22:22<13:47,  1.43s/it]"
     ]
    },
    {
     "name": "stdout",
     "output_type": "stream",
     "text": [
      "JAK_8517\n"
     ]
    },
    {
     "name": "stderr",
     "output_type": "stream",
     "text": [
      " 59%|█████▉    | 838/1417 [22:23<13:30,  1.40s/it]"
     ]
    },
    {
     "name": "stdout",
     "output_type": "stream",
     "text": [
      "JAK3_7406\n"
     ]
    },
    {
     "name": "stderr",
     "output_type": "stream",
     "text": [
      " 60%|██████    | 851/1417 [22:46<17:30,  1.86s/it]"
     ]
    },
    {
     "name": "stdout",
     "output_type": "stream",
     "text": [
      "ERK_2440\n"
     ]
    },
    {
     "name": "stderr",
     "output_type": "stream",
     "text": [
      " 60%|██████    | 852/1417 [22:47<15:58,  1.70s/it]"
     ]
    },
    {
     "name": "stdout",
     "output_type": "stream",
     "text": [
      "ERK_6604\n"
     ]
    },
    {
     "name": "stderr",
     "output_type": "stream",
     "text": [
      " 61%|██████    | 859/1417 [23:00<15:36,  1.68s/it]"
     ]
    },
    {
     "name": "stdout",
     "output_type": "stream",
     "text": [
      "MCT1_6447\n"
     ]
    },
    {
     "name": "stderr",
     "output_type": "stream",
     "text": [
      " 61%|██████    | 860/1417 [23:02<14:34,  1.57s/it]"
     ]
    },
    {
     "name": "stdout",
     "output_type": "stream",
     "text": [
      "Nutlin-3a (-)\n"
     ]
    },
    {
     "name": "stderr",
     "output_type": "stream",
     "text": [
      " 61%|██████    | 867/1417 [23:13<13:49,  1.51s/it]"
     ]
    },
    {
     "name": "stdout",
     "output_type": "stream",
     "text": [
      "JW-7-52-1\n"
     ]
    },
    {
     "name": "stderr",
     "output_type": "stream",
     "text": [
      " 61%|██████▏   | 868/1417 [23:14<13:19,  1.46s/it]"
     ]
    },
    {
     "name": "stdout",
     "output_type": "stream",
     "text": [
      "QL-VIII-58\n"
     ]
    },
    {
     "name": "stderr",
     "output_type": "stream",
     "text": [
      " 62%|██████▏   | 878/1417 [23:31<14:19,  1.59s/it]"
     ]
    },
    {
     "name": "stdout",
     "output_type": "stream",
     "text": [
      "PAK_5339\n"
     ]
    },
    {
     "name": "stderr",
     "output_type": "stream",
     "text": [
      " 64%|██████▍   | 907/1417 [24:20<13:21,  1.57s/it]"
     ]
    },
    {
     "name": "stdout",
     "output_type": "stream",
     "text": [
      "MCT4_1422\n"
     ]
    },
    {
     "name": "stderr",
     "output_type": "stream",
     "text": [
      " 65%|██████▍   | 914/1417 [24:31<13:17,  1.59s/it]"
     ]
    },
    {
     "name": "stdout",
     "output_type": "stream",
     "text": [
      "TAF1_5496\n"
     ]
    },
    {
     "name": "stderr",
     "output_type": "stream",
     "text": [
      " 65%|██████▍   | 915/1417 [24:33<12:39,  1.51s/it]"
     ]
    },
    {
     "name": "stdout",
     "output_type": "stream",
     "text": [
      "KIN001-236\n"
     ]
    },
    {
     "name": "stderr",
     "output_type": "stream",
     "text": [
      " 65%|██████▌   | 926/1417 [24:51<12:23,  1.51s/it]"
     ]
    },
    {
     "name": "stdout",
     "output_type": "stream",
     "text": [
      "MPS-1-IN-1\n"
     ]
    },
    {
     "name": "stderr",
     "output_type": "stream",
     "text": [
      " 65%|██████▌   | 927/1417 [24:52<12:41,  1.55s/it]"
     ]
    },
    {
     "name": "stdout",
     "output_type": "stream",
     "text": [
      "TTK_3146\n"
     ]
    },
    {
     "name": "stderr",
     "output_type": "stream",
     "text": [
      " 65%|██████▌   | 928/1417 [24:54<12:08,  1.49s/it]"
     ]
    },
    {
     "name": "stdout",
     "output_type": "stream",
     "text": [
      "ULK1_4989\n"
     ]
    },
    {
     "name": "stderr",
     "output_type": "stream",
     "text": [
      " 67%|██████▋   | 948/1417 [25:55<13:05,  1.67s/it]"
     ]
    },
    {
     "name": "stdout",
     "output_type": "stream",
     "text": [
      "rasburicase\n"
     ]
    },
    {
     "name": "stderr",
     "output_type": "stream",
     "text": [
      " 67%|██████▋   | 954/1417 [26:05<12:09,  1.58s/it]"
     ]
    },
    {
     "name": "stdout",
     "output_type": "stream",
     "text": [
      "ivacaftor / lumacaftor\n"
     ]
    },
    {
     "name": "stderr",
     "output_type": "stream",
     "text": [
      " 68%|██████▊   | 957/1417 [26:10<11:58,  1.56s/it]"
     ]
    },
    {
     "name": "stdout",
     "output_type": "stream",
     "text": [
      "hormonal contraceptives for systemic use\n"
     ]
    },
    {
     "name": "stderr",
     "output_type": "stream",
     "text": [
      " 70%|███████   | 997/1417 [27:16<12:09,  1.74s/it]"
     ]
    },
    {
     "name": "stdout",
     "output_type": "stream",
     "text": [
      "aminoglycoside antibacterials\n"
     ]
    },
    {
     "name": "stderr",
     "output_type": "stream",
     "text": [
      " 72%|███████▏  | 1024/1417 [28:01<10:00,  1.53s/it]"
     ]
    },
    {
     "name": "stdout",
     "output_type": "stream",
     "text": [
      "hmg coa reductase inhibitors\n"
     ]
    },
    {
     "name": "stderr",
     "output_type": "stream",
     "text": [
      " 73%|███████▎  | 1033/1417 [28:16<09:48,  1.53s/it]"
     ]
    },
    {
     "name": "stdout",
     "output_type": "stream",
     "text": [
      "antiepileptics\n"
     ]
    },
    {
     "name": "stderr",
     "output_type": "stream",
     "text": [
      " 73%|███████▎  | 1035/1417 [28:19<09:34,  1.50s/it]"
     ]
    },
    {
     "name": "stdout",
     "output_type": "stream",
     "text": [
      "etanercept\n"
     ]
    },
    {
     "name": "stderr",
     "output_type": "stream",
     "text": [
      " 73%|███████▎  | 1036/1417 [28:20<09:10,  1.45s/it]"
     ]
    },
    {
     "name": "stdout",
     "output_type": "stream",
     "text": [
      "Platinum compounds\n"
     ]
    },
    {
     "name": "stderr",
     "output_type": "stream",
     "text": [
      " 73%|███████▎  | 1041/1417 [28:27<08:38,  1.38s/it]"
     ]
    },
    {
     "name": "stdout",
     "output_type": "stream",
     "text": [
      "rituximab\n"
     ]
    },
    {
     "name": "stderr",
     "output_type": "stream",
     "text": [
      " 74%|███████▎  | 1043/1417 [28:30<08:58,  1.44s/it]"
     ]
    },
    {
     "name": "stdout",
     "output_type": "stream",
     "text": [
      "Tumor necrosis factor alpha (TNF-alpha) inhibitors\n"
     ]
    },
    {
     "name": "stderr",
     "output_type": "stream",
     "text": [
      " 74%|███████▎  | 1045/1417 [28:33<09:06,  1.47s/it]"
     ]
    },
    {
     "name": "stdout",
     "output_type": "stream",
     "text": [
      "diuretics\n"
     ]
    },
    {
     "name": "stderr",
     "output_type": "stream",
     "text": [
      " 74%|███████▍  | 1053/1417 [28:46<09:29,  1.56s/it]"
     ]
    },
    {
     "name": "stdout",
     "output_type": "stream",
     "text": [
      "trastuzumab\n"
     ]
    },
    {
     "name": "stderr",
     "output_type": "stream",
     "text": [
      " 74%|███████▍  | 1055/1417 [28:49<09:11,  1.52s/it]"
     ]
    },
    {
     "name": "stdout",
     "output_type": "stream",
     "text": [
      "topoisomerase I inhibitors\n"
     ]
    },
    {
     "name": "stderr",
     "output_type": "stream",
     "text": [
      " 75%|███████▍  | 1060/1417 [28:59<10:05,  1.70s/it]"
     ]
    },
    {
     "name": "stdout",
     "output_type": "stream",
     "text": [
      "cetuximab\n"
     ]
    },
    {
     "name": "stderr",
     "output_type": "stream",
     "text": [
      " 75%|███████▌  | 1067/1417 [29:11<09:17,  1.59s/it]"
     ]
    },
    {
     "name": "stdout",
     "output_type": "stream",
     "text": [
      "Beta Blocking Agents\n"
     ]
    },
    {
     "name": "stderr",
     "output_type": "stream",
     "text": [
      " 75%|███████▌  | 1068/1417 [29:13<08:46,  1.51s/it]"
     ]
    },
    {
     "name": "stdout",
     "output_type": "stream",
     "text": [
      "anthracyclines and related substances\n"
     ]
    },
    {
     "name": "stderr",
     "output_type": "stream",
     "text": [
      " 76%|███████▌  | 1072/1417 [29:19<08:55,  1.55s/it]"
     ]
    },
    {
     "name": "stdout",
     "output_type": "stream",
     "text": [
      "Measles vaccines\n"
     ]
    },
    {
     "name": "stderr",
     "output_type": "stream",
     "text": [
      " 76%|███████▌  | 1073/1417 [29:20<08:33,  1.49s/it]"
     ]
    },
    {
     "name": "stdout",
     "output_type": "stream",
     "text": [
      "antipsychotics\n"
     ]
    },
    {
     "name": "stderr",
     "output_type": "stream",
     "text": [
      " 76%|███████▋  | 1082/1417 [29:36<08:28,  1.52s/it]"
     ]
    },
    {
     "name": "stdout",
     "output_type": "stream",
     "text": [
      "Antihypertensives And Diuretics In Combination\n"
     ]
    },
    {
     "name": "stderr",
     "output_type": "stream",
     "text": [
      " 77%|███████▋  | 1091/1417 [29:50<07:54,  1.45s/it]"
     ]
    },
    {
     "name": "stdout",
     "output_type": "stream",
     "text": [
      "antidepressants\n"
     ]
    },
    {
     "name": "stderr",
     "output_type": "stream",
     "text": [
      " 77%|███████▋  | 1096/1417 [29:58<08:15,  1.54s/it]"
     ]
    },
    {
     "name": "stdout",
     "output_type": "stream",
     "text": [
      "pitrakinra\n"
     ]
    },
    {
     "name": "stderr",
     "output_type": "stream",
     "text": [
      " 78%|███████▊  | 1100/1417 [30:04<07:48,  1.48s/it]"
     ]
    },
    {
     "name": "stdout",
     "output_type": "stream",
     "text": [
      "nitroprusside\n"
     ]
    },
    {
     "name": "stderr",
     "output_type": "stream",
     "text": [
      " 78%|███████▊  | 1110/1417 [30:20<07:47,  1.52s/it]"
     ]
    },
    {
     "name": "stdout",
     "output_type": "stream",
     "text": [
      "Alkylating Agents\n"
     ]
    },
    {
     "name": "stderr",
     "output_type": "stream",
     "text": [
      " 79%|███████▉  | 1123/1417 [30:41<07:22,  1.50s/it]"
     ]
    },
    {
     "name": "stdout",
     "output_type": "stream",
     "text": [
      "corticosteroids\n"
     ]
    },
    {
     "name": "stderr",
     "output_type": "stream",
     "text": [
      " 80%|███████▉  | 1131/1417 [30:54<07:26,  1.56s/it]"
     ]
    },
    {
     "name": "stdout",
     "output_type": "stream",
     "text": [
      "Enzymes\n"
     ]
    },
    {
     "name": "stderr",
     "output_type": "stream",
     "text": [
      " 81%|████████  | 1142/1417 [31:12<07:09,  1.56s/it]"
     ]
    },
    {
     "name": "stdout",
     "output_type": "stream",
     "text": [
      "Bisphosphonates\n"
     ]
    },
    {
     "name": "stderr",
     "output_type": "stream",
     "text": [
      " 81%|████████  | 1143/1417 [31:14<06:49,  1.49s/it]"
     ]
    },
    {
     "name": "stdout",
     "output_type": "stream",
     "text": [
      "antineoplastic agents\n"
     ]
    },
    {
     "name": "stderr",
     "output_type": "stream",
     "text": [
      " 81%|████████  | 1151/1417 [31:26<06:52,  1.55s/it]"
     ]
    },
    {
     "name": "stdout",
     "output_type": "stream",
     "text": [
      "Drugs used in alcohol dependence\n"
     ]
    },
    {
     "name": "stderr",
     "output_type": "stream",
     "text": [
      " 81%|████████▏ | 1154/1417 [31:31<06:15,  1.43s/it]"
     ]
    },
    {
     "name": "stdout",
     "output_type": "stream",
     "text": [
      "eculizumab\n"
     ]
    },
    {
     "name": "stderr",
     "output_type": "stream",
     "text": [
      " 82%|████████▏ | 1164/1417 [31:46<06:38,  1.57s/it]"
     ]
    },
    {
     "name": "stdout",
     "output_type": "stream",
     "text": [
      "radiotherapy\n"
     ]
    },
    {
     "name": "stderr",
     "output_type": "stream",
     "text": [
      " 83%|████████▎ | 1177/1417 [32:09<06:19,  1.58s/it]"
     ]
    },
    {
     "name": "stdout",
     "output_type": "stream",
     "text": [
      "bevacizumab\n"
     ]
    },
    {
     "name": "stderr",
     "output_type": "stream",
     "text": [
      " 83%|████████▎ | 1182/1417 [32:17<05:50,  1.49s/it]"
     ]
    },
    {
     "name": "stdout",
     "output_type": "stream",
     "text": [
      "ustekinumab\n"
     ]
    },
    {
     "name": "stderr",
     "output_type": "stream",
     "text": [
      " 84%|████████▎ | 1184/1417 [32:20<05:53,  1.52s/it]"
     ]
    },
    {
     "name": "stdout",
     "output_type": "stream",
     "text": [
      "egfr inhibitors\n"
     ]
    },
    {
     "name": "stderr",
     "output_type": "stream",
     "text": [
      " 85%|████████▍ | 1200/1417 [32:48<05:48,  1.61s/it]"
     ]
    },
    {
     "name": "stdout",
     "output_type": "stream",
     "text": [
      "Selective serotonin reuptake inhibitors\n"
     ]
    },
    {
     "name": "stderr",
     "output_type": "stream",
     "text": [
      " 85%|████████▍ | 1201/1417 [32:49<05:29,  1.52s/it]"
     ]
    },
    {
     "name": "stdout",
     "output_type": "stream",
     "text": [
      "thiazolidinediones\n"
     ]
    },
    {
     "name": "stderr",
     "output_type": "stream",
     "text": [
      " 85%|████████▍ | 1204/1417 [32:54<05:27,  1.54s/it]"
     ]
    },
    {
     "name": "stdout",
     "output_type": "stream",
     "text": [
      "Influenza vaccines\n"
     ]
    },
    {
     "name": "stderr",
     "output_type": "stream",
     "text": [
      " 85%|████████▌ | 1208/1417 [33:00<05:25,  1.56s/it]"
     ]
    },
    {
     "name": "stdout",
     "output_type": "stream",
     "text": [
      "antithymocyte globulin\n"
     ]
    },
    {
     "name": "stderr",
     "output_type": "stream",
     "text": [
      " 85%|████████▌ | 1209/1417 [33:02<05:10,  1.49s/it]"
     ]
    },
    {
     "name": "stdout",
     "output_type": "stream",
     "text": [
      "Pertussis vaccines\n"
     ]
    },
    {
     "name": "stderr",
     "output_type": "stream",
     "text": [
      " 86%|████████▌ | 1214/1417 [33:11<05:29,  1.62s/it]"
     ]
    },
    {
     "name": "stdout",
     "output_type": "stream",
     "text": [
      "adalimumab\n"
     ]
    },
    {
     "name": "stderr",
     "output_type": "stream",
     "text": [
      " 86%|████████▌ | 1221/1417 [33:24<05:43,  1.75s/it]"
     ]
    },
    {
     "name": "stdout",
     "output_type": "stream",
     "text": [
      "calcium channel blockers\n"
     ]
    },
    {
     "name": "stderr",
     "output_type": "stream",
     "text": [
      " 86%|████████▋ | 1224/1417 [33:29<05:11,  1.61s/it]"
     ]
    },
    {
     "name": "stdout",
     "output_type": "stream",
     "text": [
      "Opium alkaloids and derivatives\n"
     ]
    },
    {
     "name": "stderr",
     "output_type": "stream",
     "text": [
      " 87%|████████▋ | 1234/1417 [33:46<04:55,  1.61s/it]"
     ]
    },
    {
     "name": "stdout",
     "output_type": "stream",
     "text": [
      "infliximab\n"
     ]
    },
    {
     "name": "stderr",
     "output_type": "stream",
     "text": [
      " 87%|████████▋ | 1235/1417 [33:47<04:37,  1.53s/it]"
     ]
    },
    {
     "name": "stdout",
     "output_type": "stream",
     "text": [
      "Antihypertensives\n"
     ]
    },
    {
     "name": "stderr",
     "output_type": "stream",
     "text": [
      " 87%|████████▋ | 1236/1417 [33:49<04:25,  1.47s/it]"
     ]
    },
    {
     "name": "stdout",
     "output_type": "stream",
     "text": [
      "Drugs For Treatment Of Tuberculosis\n"
     ]
    },
    {
     "name": "stderr",
     "output_type": "stream",
     "text": [
      " 87%|████████▋ | 1237/1417 [33:50<04:17,  1.43s/it]"
     ]
    },
    {
     "name": "stdout",
     "output_type": "stream",
     "text": [
      "Hepatitis vaccines\n"
     ]
    },
    {
     "name": "stderr",
     "output_type": "stream",
     "text": [
      " 88%|████████▊ | 1240/1417 [33:55<04:23,  1.49s/it]"
     ]
    },
    {
     "name": "stdout",
     "output_type": "stream",
     "text": [
      "pegloticase\n"
     ]
    },
    {
     "name": "stderr",
     "output_type": "stream",
     "text": [
      " 88%|████████▊ | 1241/1417 [33:56<04:13,  1.44s/it]"
     ]
    },
    {
     "name": "stdout",
     "output_type": "stream",
     "text": [
      "peginterferon alfa-2b\n"
     ]
    },
    {
     "name": "stderr",
     "output_type": "stream",
     "text": [
      " 88%|████████▊ | 1242/1417 [33:57<04:05,  1.40s/it]"
     ]
    },
    {
     "name": "stdout",
     "output_type": "stream",
     "text": [
      "selective beta-2-adrenoreceptor agonists\n"
     ]
    },
    {
     "name": "stderr",
     "output_type": "stream",
     "text": [
      " 88%|████████▊ | 1246/1417 [34:04<04:29,  1.58s/it]"
     ]
    },
    {
     "name": "stdout",
     "output_type": "stream",
     "text": [
      "catecholamines\n"
     ]
    },
    {
     "name": "stderr",
     "output_type": "stream",
     "text": [
      " 89%|████████▉ | 1263/1417 [34:33<03:58,  1.55s/it]"
     ]
    },
    {
     "name": "stdout",
     "output_type": "stream",
     "text": [
      "ranibizumab\n"
     ]
    },
    {
     "name": "stderr",
     "output_type": "stream",
     "text": [
      " 89%|████████▉ | 1266/1417 [34:38<03:53,  1.55s/it]"
     ]
    },
    {
     "name": "stdout",
     "output_type": "stream",
     "text": [
      "Dipeptidyl peptidase 4 (DPP-4) inhibitors\n"
     ]
    },
    {
     "name": "stderr",
     "output_type": "stream",
     "text": [
      " 90%|████████▉ | 1269/1417 [34:43<04:00,  1.62s/it]"
     ]
    },
    {
     "name": "stdout",
     "output_type": "stream",
     "text": [
      "Photodynamic therapy\n"
     ]
    },
    {
     "name": "stderr",
     "output_type": "stream",
     "text": [
      " 90%|████████▉ | 1270/1417 [34:44<03:44,  1.53s/it]"
     ]
    },
    {
     "name": "stdout",
     "output_type": "stream",
     "text": [
      "interferons\n"
     ]
    },
    {
     "name": "stderr",
     "output_type": "stream",
     "text": [
      " 90%|█████████ | 1278/1417 [34:57<03:39,  1.58s/it]"
     ]
    },
    {
     "name": "stdout",
     "output_type": "stream",
     "text": [
      "Dihydropyridine derivatives\n"
     ]
    },
    {
     "name": "stderr",
     "output_type": "stream",
     "text": [
      " 90%|█████████ | 1279/1417 [34:59<03:28,  1.51s/it]"
     ]
    },
    {
     "name": "stdout",
     "output_type": "stream",
     "text": [
      "Analgesics\n"
     ]
    },
    {
     "name": "stderr",
     "output_type": "stream",
     "text": [
      " 90%|█████████ | 1282/1417 [35:03<03:25,  1.52s/it]"
     ]
    },
    {
     "name": "stdout",
     "output_type": "stream",
     "text": [
      "tocilizumab\n"
     ]
    },
    {
     "name": "stderr",
     "output_type": "stream",
     "text": [
      " 91%|█████████ | 1288/1417 [35:13<03:22,  1.57s/it]"
     ]
    },
    {
     "name": "stdout",
     "output_type": "stream",
     "text": [
      "Antibiotics\n"
     ]
    },
    {
     "name": "stderr",
     "output_type": "stream",
     "text": [
      " 91%|█████████ | 1292/1417 [35:20<03:17,  1.58s/it]"
     ]
    },
    {
     "name": "stdout",
     "output_type": "stream",
     "text": [
      "interferon beta-1a\n"
     ]
    },
    {
     "name": "stderr",
     "output_type": "stream",
     "text": [
      " 91%|█████████▏| 1296/1417 [35:26<03:13,  1.60s/it]"
     ]
    },
    {
     "name": "stdout",
     "output_type": "stream",
     "text": [
      "gemtuzumab ozogamicin\n"
     ]
    },
    {
     "name": "stderr",
     "output_type": "stream",
     "text": [
      " 92%|█████████▏| 1301/1417 [35:34<03:02,  1.58s/it]"
     ]
    },
    {
     "name": "stdout",
     "output_type": "stream",
     "text": [
      "Antithyroid Preparations\n"
     ]
    },
    {
     "name": "stderr",
     "output_type": "stream",
     "text": [
      " 92%|█████████▏| 1306/1417 [35:43<02:59,  1.62s/it]"
     ]
    },
    {
     "name": "stdout",
     "output_type": "stream",
     "text": [
      "Drugs Used In Diabetes\n"
     ]
    },
    {
     "name": "stderr",
     "output_type": "stream",
     "text": [
      " 93%|█████████▎| 1323/1417 [36:12<02:30,  1.60s/it]"
     ]
    },
    {
     "name": "stdout",
     "output_type": "stream",
     "text": [
      "highly active antiretroviral therapy (haart)\n"
     ]
    },
    {
     "name": "stderr",
     "output_type": "stream",
     "text": [
      " 94%|█████████▍| 1333/1417 [36:48<07:21,  5.26s/it]"
     ]
    },
    {
     "name": "stdout",
     "output_type": "stream",
     "text": [
      "glucocorticoids\n"
     ]
    },
    {
     "name": "stderr",
     "output_type": "stream",
     "text": [
      " 94%|█████████▍| 1338/1417 [37:04<04:06,  3.12s/it]"
     ]
    },
    {
     "name": "stdout",
     "output_type": "stream",
     "text": [
      "botulinum toxin type a\n"
     ]
    },
    {
     "name": "stderr",
     "output_type": "stream",
     "text": [
      " 96%|█████████▋| 1364/1417 [37:47<01:24,  1.60s/it]"
     ]
    },
    {
     "name": "stdout",
     "output_type": "stream",
     "text": [
      "peginterferon alfa-2a\n"
     ]
    },
    {
     "name": "stderr",
     "output_type": "stream",
     "text": [
      " 97%|█████████▋| 1374/1417 [38:03<01:08,  1.60s/it]"
     ]
    },
    {
     "name": "stdout",
     "output_type": "stream",
     "text": [
      "direct acting antivirals\n"
     ]
    },
    {
     "name": "stderr",
     "output_type": "stream",
     "text": [
      "100%|██████████| 1417/1417 [39:16<00:00,  1.66s/it]\n"
     ]
    }
   ],
   "source": [
    "all_data_df = pd.read_csv('middlefile/fasta_table.tsv', sep = '\\t')\n",
    "drug_list = all_data_df['chemical name'].unique()\n",
    "drug_list = [item for item in drug_list if ',' not in item]\n",
    "for i in tqdm(range(len(drug_list))):\n",
    "    drug = drug_list[i]\n",
    "    try:\n",
    "        # 通过药物名称查询相关信息\n",
    "        compound = pcp.get_compounds(drug, 'name')[0]\n",
    "        \n",
    "        # 获取PubChem ID\n",
    "        pubchem_id = compound.cid\n",
    "        \n",
    "        # 获取指纹 (Fingerprint)\n",
    "        fingerprint = compound.cactvs_fingerprint\n",
    "        \n",
    "        # 获取SMILES\n",
    "        smiles = compound.isomeric_smiles\n",
    "    except:\n",
    "        # print(drug)\n",
    "        compound = None\n",
    "        pubchem_id = None\n",
    "        fingerprint = None\n",
    "        smiles = None\n",
    "        \n",
    "\n",
    "    all_data_df.loc[all_data_df['chemical name'] == drug, 'pubchem id'] = str(pubchem_id)\n",
    "    all_data_df.loc[all_data_df['chemical name'] == drug, 'pubchem fingerprint'] = fingerprint\n",
    "    all_data_df.loc[all_data_df['chemical name'] == drug, 'smile'] = smiles\n",
    "\n",
    "\n",
    "    \n",
    "\n",
    "all_data_df.to_csv('middlefile/drug_table.tsv', sep = '\\t', index= False)\n",
    "all_data_df"
   ]
  },
  {
   "cell_type": "code",
   "execution_count": 9,
   "metadata": {},
   "outputs": [
    {
     "name": "stderr",
     "output_type": "stream",
     "text": [
      "  0%|          | 0/844 [00:00<?, ?it/s]"
     ]
    },
    {
     "name": "stdout",
     "output_type": "stream",
     "text": [
      "nan\n"
     ]
    },
    {
     "name": "stderr",
     "output_type": "stream",
     "text": [
      "  2%|▏         | 16/844 [00:21<19:22,  1.40s/it]"
     ]
    },
    {
     "name": "stdout",
     "output_type": "stream",
     "text": [
      "T-cell Lymphoblastic Leukemia/lymphoma\n"
     ]
    },
    {
     "name": "stderr",
     "output_type": "stream",
     "text": [
      "  2%|▏         | 17/844 [00:22<19:28,  1.41s/it]"
     ]
    },
    {
     "name": "stdout",
     "output_type": "stream",
     "text": [
      "Estrogen-receptor Positive Breast Cancer\n"
     ]
    },
    {
     "name": "stderr",
     "output_type": "stream",
     "text": [
      "  2%|▏         | 19/844 [00:25<19:24,  1.41s/it]"
     ]
    },
    {
     "name": "stdout",
     "output_type": "stream",
     "text": [
      "Malignant Anus Melanoma\n"
     ]
    },
    {
     "name": "stderr",
     "output_type": "stream",
     "text": [
      "  3%|▎         | 22/844 [00:29<19:25,  1.42s/it]"
     ]
    },
    {
     "name": "stdout",
     "output_type": "stream",
     "text": [
      "Invasive Bladder Transitional Cell Carcinoma\n"
     ]
    },
    {
     "name": "stderr",
     "output_type": "stream",
     "text": [
      "  4%|▍         | 33/844 [00:45<19:08,  1.42s/it]"
     ]
    },
    {
     "name": "stdout",
     "output_type": "stream",
     "text": [
      "Her2-receptor Positive Breast Cancer\n"
     ]
    },
    {
     "name": "stderr",
     "output_type": "stream",
     "text": [
      "  7%|▋         | 61/844 [01:25<18:32,  1.42s/it]"
     ]
    },
    {
     "name": "stdout",
     "output_type": "stream",
     "text": [
      "Uterine Corpus Endometrial Carcinoma\n"
     ]
    },
    {
     "name": "stderr",
     "output_type": "stream",
     "text": [
      " 10%|▉         | 82/844 [01:54<17:52,  1.41s/it]"
     ]
    },
    {
     "name": "stdout",
     "output_type": "stream",
     "text": [
      "Colon Mucinous Adenocarcinoma\n"
     ]
    },
    {
     "name": "stderr",
     "output_type": "stream",
     "text": [
      " 10%|█         | 85/844 [01:59<17:54,  1.42s/it]"
     ]
    },
    {
     "name": "stdout",
     "output_type": "stream",
     "text": [
      "Colorectal Adenocarcinoma\n"
     ]
    },
    {
     "name": "stderr",
     "output_type": "stream",
     "text": [
      " 12%|█▏        | 104/844 [02:26<17:31,  1.42s/it]"
     ]
    },
    {
     "name": "stdout",
     "output_type": "stream",
     "text": [
      "B-cell Adult Acute Lymphocytic Leukemia\n"
     ]
    },
    {
     "name": "stderr",
     "output_type": "stream",
     "text": [
      " 14%|█▎        | 114/844 [02:40<17:15,  1.42s/it]"
     ]
    },
    {
     "name": "stdout",
     "output_type": "stream",
     "text": [
      "Triple-receptor Negative Breast Cancer\n"
     ]
    },
    {
     "name": "stderr",
     "output_type": "stream",
     "text": [
      " 14%|█▎        | 115/844 [02:41<17:21,  1.43s/it]"
     ]
    },
    {
     "name": "stdout",
     "output_type": "stream",
     "text": [
      "Scrotum Paget's Disease\n"
     ]
    },
    {
     "name": "stderr",
     "output_type": "stream",
     "text": [
      " 14%|█▍        | 118/844 [02:45<17:09,  1.42s/it]"
     ]
    },
    {
     "name": "stdout",
     "output_type": "stream",
     "text": [
      "Ovarian Serous Cystadenocarcinoma\n"
     ]
    },
    {
     "name": "stderr",
     "output_type": "stream",
     "text": [
      " 15%|█▍        | 123/844 [02:52<17:04,  1.42s/it]"
     ]
    },
    {
     "name": "stdout",
     "output_type": "stream",
     "text": [
      "Her2-receptor Negative Breast Cancer\n"
     ]
    },
    {
     "name": "stderr",
     "output_type": "stream",
     "text": [
      " 15%|█▍        | 125/844 [02:55<17:08,  1.43s/it]"
     ]
    },
    {
     "name": "stdout",
     "output_type": "stream",
     "text": [
      "Mammary Analogue Secretory Carcinoma\n"
     ]
    },
    {
     "name": "stderr",
     "output_type": "stream",
     "text": [
      " 16%|█▌        | 137/844 [03:12<16:52,  1.43s/it]"
     ]
    },
    {
     "name": "stdout",
     "output_type": "stream",
     "text": [
      "Childhood Pilocytic Astrocytoma\n"
     ]
    },
    {
     "name": "stderr",
     "output_type": "stream",
     "text": [
      " 17%|█▋        | 141/844 [03:18<16:36,  1.42s/it]"
     ]
    },
    {
     "name": "stdout",
     "output_type": "stream",
     "text": [
      "Ureter Small Cell Carcinoma\n"
     ]
    },
    {
     "name": "stderr",
     "output_type": "stream",
     "text": [
      " 18%|█▊        | 150/844 [03:31<16:20,  1.41s/it]"
     ]
    },
    {
     "name": "stdout",
     "output_type": "stream",
     "text": [
      "Epithelioid Inflammatory Myofibroblastic Sarcoma\n"
     ]
    },
    {
     "name": "stderr",
     "output_type": "stream",
     "text": [
      " 19%|█▉        | 159/844 [03:44<16:14,  1.42s/it]"
     ]
    },
    {
     "name": "stdout",
     "output_type": "stream",
     "text": [
      "Childhood B-cell Acute Lymphoblastic Leukemia\n"
     ]
    },
    {
     "name": "stderr",
     "output_type": "stream",
     "text": [
      " 19%|█▉        | 161/844 [03:46<16:04,  1.41s/it]"
     ]
    },
    {
     "name": "stdout",
     "output_type": "stream",
     "text": [
      "Childhood Low-grade Glioma\n"
     ]
    },
    {
     "name": "stderr",
     "output_type": "stream",
     "text": [
      " 20%|█▉        | 165/844 [03:52<16:00,  1.41s/it]"
     ]
    },
    {
     "name": "stdout",
     "output_type": "stream",
     "text": [
      "Histiocytic And Dendritic Cell Cancer\n"
     ]
    },
    {
     "name": "stderr",
     "output_type": "stream",
     "text": [
      " 20%|█▉        | 166/844 [03:53<16:00,  1.42s/it]"
     ]
    },
    {
     "name": "stdout",
     "output_type": "stream",
     "text": [
      "Glioblastoma Proneural Subtype\n"
     ]
    },
    {
     "name": "stderr",
     "output_type": "stream",
     "text": [
      " 20%|█▉        | 168/844 [03:56<16:02,  1.42s/it]"
     ]
    },
    {
     "name": "stdout",
     "output_type": "stream",
     "text": [
      "Childhood Acute Lymphocytic Leukemia\n"
     ]
    },
    {
     "name": "stderr",
     "output_type": "stream",
     "text": [
      " 21%|██        | 175/844 [04:06<15:50,  1.42s/it]"
     ]
    },
    {
     "name": "stdout",
     "output_type": "stream",
     "text": [
      "Childhood Ependymoma\n"
     ]
    },
    {
     "name": "stderr",
     "output_type": "stream",
     "text": [
      " 21%|██        | 176/844 [04:08<15:45,  1.42s/it]"
     ]
    },
    {
     "name": "stdout",
     "output_type": "stream",
     "text": [
      "Diffuse Large B-cell Lymphoma Activated B-cell Type\n"
     ]
    },
    {
     "name": "stderr",
     "output_type": "stream",
     "text": [
      " 21%|██        | 179/844 [04:12<15:41,  1.42s/it]"
     ]
    },
    {
     "name": "stdout",
     "output_type": "stream",
     "text": [
      "Pancreatic Acinar Cell Adenocarcinoma\n"
     ]
    },
    {
     "name": "stderr",
     "output_type": "stream",
     "text": [
      " 22%|██▏       | 182/844 [04:16<15:40,  1.42s/it]"
     ]
    },
    {
     "name": "stdout",
     "output_type": "stream",
     "text": [
      "Diffuse Large B-cell Lymphoma Germinal Center B-cell Type\n"
     ]
    },
    {
     "name": "stderr",
     "output_type": "stream",
     "text": [
      " 22%|██▏       | 184/844 [04:19<15:39,  1.42s/it]"
     ]
    },
    {
     "name": "stdout",
     "output_type": "stream",
     "text": [
      "over-anticoagulation\n"
     ]
    },
    {
     "name": "stderr",
     "output_type": "stream",
     "text": [
      " 22%|██▏       | 185/844 [04:20<15:37,  1.42s/it]"
     ]
    },
    {
     "name": "stdout",
     "output_type": "stream",
     "text": [
      "HIV Infections,Hyperbilirubinemia\n"
     ]
    },
    {
     "name": "stderr",
     "output_type": "stream",
     "text": [
      " 22%|██▏       | 186/844 [04:22<15:36,  1.42s/it]"
     ]
    },
    {
     "name": "stdout",
     "output_type": "stream",
     "text": [
      "dose reduction\n"
     ]
    },
    {
     "name": "stderr",
     "output_type": "stream",
     "text": [
      " 23%|██▎       | 190/844 [04:28<15:29,  1.42s/it]"
     ]
    },
    {
     "name": "stdout",
     "output_type": "stream",
     "text": [
      "Depressive Disorder, Major,Mental Disorders\n"
     ]
    },
    {
     "name": "stderr",
     "output_type": "stream",
     "text": [
      " 23%|██▎       | 192/844 [04:30<15:18,  1.41s/it]"
     ]
    },
    {
     "name": "stdout",
     "output_type": "stream",
     "text": [
      "Hemolysis,Methemoglobinemia\n"
     ]
    },
    {
     "name": "stderr",
     "output_type": "stream",
     "text": [
      " 24%|██▎       | 199/844 [04:40<15:16,  1.42s/it]"
     ]
    },
    {
     "name": "stdout",
     "output_type": "stream",
     "text": [
      "Inflammatory Bowel Diseases,Myelosuppression\n"
     ]
    },
    {
     "name": "stderr",
     "output_type": "stream",
     "text": [
      " 24%|██▍       | 201/844 [04:43<15:11,  1.42s/it]"
     ]
    },
    {
     "name": "stdout",
     "output_type": "stream",
     "text": [
      "Drug Hypersensitivity,HIV Infections\n"
     ]
    },
    {
     "name": "stderr",
     "output_type": "stream",
     "text": [
      " 24%|██▍       | 202/844 [04:45<15:11,  1.42s/it]"
     ]
    },
    {
     "name": "stdout",
     "output_type": "stream",
     "text": [
      "Drug Hypersensitivity,drug reaction with eosinophilia and systemic symptoms,Epidermal Necrolysis, Toxic,severe cutaneous adverse reactions,Stevens-Johnson Syndrome\n"
     ]
    },
    {
     "name": "stderr",
     "output_type": "stream",
     "text": [
      " 25%|██▍       | 207/844 [04:52<14:59,  1.41s/it]"
     ]
    },
    {
     "name": "stdout",
     "output_type": "stream",
     "text": [
      "Depressive Disorder,Mental Disorders\n"
     ]
    },
    {
     "name": "stderr",
     "output_type": "stream",
     "text": [
      " 25%|██▌       | 215/844 [05:03<14:51,  1.42s/it]"
     ]
    },
    {
     "name": "stdout",
     "output_type": "stream",
     "text": [
      "cardiotoxicity,Respiratory Insufficiency\n"
     ]
    },
    {
     "name": "stderr",
     "output_type": "stream",
     "text": [
      " 26%|██▌       | 219/844 [05:09<14:38,  1.41s/it]"
     ]
    },
    {
     "name": "stdout",
     "output_type": "stream",
     "text": [
      "Arrhythmias, Cardiac,Tachycardia\n"
     ]
    },
    {
     "name": "stderr",
     "output_type": "stream",
     "text": [
      " 26%|██▌       | 221/844 [05:11<14:38,  1.41s/it]"
     ]
    },
    {
     "name": "stdout",
     "output_type": "stream",
     "text": [
      "Esophagitis,Gastroesophageal Reflux,Helicobacter Infections,Peptic Ulcer\n"
     ]
    },
    {
     "name": "stderr",
     "output_type": "stream",
     "text": [
      " 26%|██▋       | 222/844 [05:13<14:44,  1.42s/it]"
     ]
    },
    {
     "name": "stdout",
     "output_type": "stream",
     "text": [
      "Gastroesophageal Reflux,Helicobacter Infections\n"
     ]
    },
    {
     "name": "stderr",
     "output_type": "stream",
     "text": [
      " 26%|██▋       | 223/844 [05:14<14:44,  1.42s/it]"
     ]
    },
    {
     "name": "stdout",
     "output_type": "stream",
     "text": [
      "Helicobacter Infections,Ulcer\n"
     ]
    },
    {
     "name": "stderr",
     "output_type": "stream",
     "text": [
      " 27%|██▋       | 224/844 [05:16<14:44,  1.43s/it]"
     ]
    },
    {
     "name": "stdout",
     "output_type": "stream",
     "text": [
      "Leukopenia,Neutropenia\n"
     ]
    },
    {
     "name": "stderr",
     "output_type": "stream",
     "text": [
      " 27%|██▋       | 225/844 [05:17<14:40,  1.42s/it]"
     ]
    },
    {
     "name": "stdout",
     "output_type": "stream",
     "text": [
      "Precursor Cell Lymphoblastic Leukemia-Lymphoma\n"
     ]
    },
    {
     "name": "stderr",
     "output_type": "stream",
     "text": [
      " 27%|██▋       | 227/844 [05:20<14:30,  1.41s/it]"
     ]
    },
    {
     "name": "stdout",
     "output_type": "stream",
     "text": [
      "Psychotic Disorders,schizoaffective disorder,Schizophrenia\n"
     ]
    },
    {
     "name": "stderr",
     "output_type": "stream",
     "text": [
      " 27%|██▋       | 228/844 [05:21<14:27,  1.41s/it]"
     ]
    },
    {
     "name": "stdout",
     "output_type": "stream",
     "text": [
      "heart transplantation,hemopoietic stem cell transplant,Kidney Transplantation,liver transplantation,lung transplantation\n"
     ]
    },
    {
     "name": "stderr",
     "output_type": "stream",
     "text": [
      " 27%|██▋       | 230/844 [05:24<14:26,  1.41s/it]"
     ]
    },
    {
     "name": "stdout",
     "output_type": "stream",
     "text": [
      "Acute coronary syndrome,Cardiovascular Diseases,Ischemic Attack, Transient,Stroke\n"
     ]
    },
    {
     "name": "stderr",
     "output_type": "stream",
     "text": [
      " 27%|██▋       | 231/844 [05:26<14:24,  1.41s/it]"
     ]
    },
    {
     "name": "stdout",
     "output_type": "stream",
     "text": [
      "statin-related myopathy\n"
     ]
    },
    {
     "name": "stderr",
     "output_type": "stream",
     "text": [
      " 28%|██▊       | 234/844 [05:30<14:19,  1.41s/it]"
     ]
    },
    {
     "name": "stdout",
     "output_type": "stream",
     "text": [
      "Drug Hypersensitivity,drug reaction with eosinophilia and systemic symptoms,Epidermal Necrolysis, Toxic,Maculopapular Exanthema,Stevens-Johnson Syndrome\n"
     ]
    },
    {
     "name": "stderr",
     "output_type": "stream",
     "text": [
      " 28%|██▊       | 235/844 [05:31<14:16,  1.41s/it]"
     ]
    },
    {
     "name": "stdout",
     "output_type": "stream",
     "text": [
      "heart transplantation,hematopoietic stem cell transplantation,Kidney Transplantation,lung transplantation\n"
     ]
    },
    {
     "name": "stderr",
     "output_type": "stream",
     "text": [
      " 28%|██▊       | 236/844 [05:33<14:17,  1.41s/it]"
     ]
    },
    {
     "name": "stdout",
     "output_type": "stream",
     "text": [
      "drug reaction with eosinophilia and systemic symptoms,Epidermal Necrolysis, Toxic,severe cutaneous adverse reactions,Stevens-Johnson Syndrome\n"
     ]
    },
    {
     "name": "stderr",
     "output_type": "stream",
     "text": [
      " 28%|██▊       | 237/844 [05:34<14:16,  1.41s/it]"
     ]
    },
    {
     "name": "stdout",
     "output_type": "stream",
     "text": [
      "drug reaction with eosinophilia and systemic symptoms,Epidermal Necrolysis, Toxic,Maculopapular Exanthema,severe cutaneous adverse reactions,Stevens-Johnson Syndrome\n"
     ]
    },
    {
     "name": "stderr",
     "output_type": "stream",
     "text": [
      " 28%|██▊       | 238/844 [05:36<14:13,  1.41s/it]"
     ]
    },
    {
     "name": "stdout",
     "output_type": "stream",
     "text": [
      "Epidermal Necrolysis, Toxic,Epilepsy,severe cutaneous adverse reactions,Stevens-Johnson Syndrome\n"
     ]
    },
    {
     "name": "stderr",
     "output_type": "stream",
     "text": [
      " 28%|██▊       | 239/844 [05:37<14:14,  1.41s/it]"
     ]
    },
    {
     "name": "stdout",
     "output_type": "stream",
     "text": [
      "Depressive Disorder,Obsessive-Compulsive Disorder\n"
     ]
    },
    {
     "name": "stderr",
     "output_type": "stream",
     "text": [
      " 28%|██▊       | 240/844 [05:38<14:12,  1.41s/it]"
     ]
    },
    {
     "name": "stdout",
     "output_type": "stream",
     "text": [
      "agitation,Alcohol-Related Disorders,cardiotoxicity,Depression,Depressive Disorder,Depressive Disorder, Major,Drug Toxicity,dysphoria,Edema,Nausea,Obsessive-Compulsive Disorder,Tachycardia,Vomiting\n"
     ]
    },
    {
     "name": "stderr",
     "output_type": "stream",
     "text": [
      " 29%|██▊       | 241/844 [05:40<14:09,  1.41s/it]"
     ]
    },
    {
     "name": "stdout",
     "output_type": "stream",
     "text": [
      "Leukopenia,Myelosuppression\n"
     ]
    },
    {
     "name": "stderr",
     "output_type": "stream",
     "text": [
      " 29%|██▉       | 244/844 [05:44<14:14,  1.42s/it]"
     ]
    },
    {
     "name": "stdout",
     "output_type": "stream",
     "text": [
      "drug-induced liver injury,Hepatitis, Toxic,Toxic liver disease,Tuberculosis\n"
     ]
    },
    {
     "name": "stderr",
     "output_type": "stream",
     "text": [
      " 29%|██▉       | 246/844 [05:47<14:08,  1.42s/it]"
     ]
    },
    {
     "name": "stdout",
     "output_type": "stream",
     "text": [
      "Hepatitis C,HIV Infections\n"
     ]
    },
    {
     "name": "stderr",
     "output_type": "stream",
     "text": [
      " 29%|██▉       | 247/844 [05:48<14:04,  1.41s/it]"
     ]
    },
    {
     "name": "stdout",
     "output_type": "stream",
     "text": [
      "time to therapeutic inr\n"
     ]
    },
    {
     "name": "stderr",
     "output_type": "stream",
     "text": [
      " 29%|██▉       | 248/844 [05:50<14:04,  1.42s/it]"
     ]
    },
    {
     "name": "stdout",
     "output_type": "stream",
     "text": [
      "time in therapeutic range\n"
     ]
    },
    {
     "name": "stderr",
     "output_type": "stream",
     "text": [
      " 30%|██▉       | 250/844 [05:53<14:06,  1.43s/it]"
     ]
    },
    {
     "name": "stdout",
     "output_type": "stream",
     "text": [
      "Drug Hypersensitivity,drug reaction with eosinophilia and systemic symptoms,Leprosy,Maculopapular Exanthema,severe cutaneous adverse reactions,Stevens-Johnson Syndrome\n"
     ]
    },
    {
     "name": "stderr",
     "output_type": "stream",
     "text": [
      " 30%|██▉       | 251/844 [05:54<14:02,  1.42s/it]"
     ]
    },
    {
     "name": "stdout",
     "output_type": "stream",
     "text": [
      "Hypercholesterolemia,Myocardial Infarction\n"
     ]
    },
    {
     "name": "stderr",
     "output_type": "stream",
     "text": [
      " 30%|██▉       | 252/844 [05:55<14:01,  1.42s/it]"
     ]
    },
    {
     "name": "stdout",
     "output_type": "stream",
     "text": [
      "Kidney Transplantation,liver transplantation,Proteinuria\n"
     ]
    },
    {
     "name": "stderr",
     "output_type": "stream",
     "text": [
      " 30%|███       | 254/844 [05:58<14:03,  1.43s/it]"
     ]
    },
    {
     "name": "stdout",
     "output_type": "stream",
     "text": [
      "Atrial Fibrillation,heart valve replacement\n"
     ]
    },
    {
     "name": "stderr",
     "output_type": "stream",
     "text": [
      " 30%|███       | 257/844 [06:03<13:55,  1.42s/it]"
     ]
    },
    {
     "name": "stdout",
     "output_type": "stream",
     "text": [
      "Hemorrhage,over-anticoagulation,time above therapeutic range\n"
     ]
    },
    {
     "name": "stderr",
     "output_type": "stream",
     "text": [
      " 31%|███       | 258/844 [06:04<13:51,  1.42s/it]"
     ]
    },
    {
     "name": "stdout",
     "output_type": "stream",
     "text": [
      "Diabetes Mellitus, Type 2,Heart Failure,Pulmonary Disease, Chronic Obstructive\n"
     ]
    },
    {
     "name": "stderr",
     "output_type": "stream",
     "text": [
      " 31%|███       | 259/844 [06:05<13:46,  1.41s/it]"
     ]
    },
    {
     "name": "stdout",
     "output_type": "stream",
     "text": [
      "Heroin Dependence,Opioid-Related Disorders\n"
     ]
    },
    {
     "name": "stderr",
     "output_type": "stream",
     "text": [
      " 31%|███       | 261/844 [06:08<13:40,  1.41s/it]"
     ]
    },
    {
     "name": "stdout",
     "output_type": "stream",
     "text": [
      "Drug Toxicity,hematotoxicity,Leukopenia,Lymphoma,mucositis,Neoplasms,Neutropenia,Osteosarcoma,Precursor Cell Lymphoblastic Leukemia-Lymphoma,primary central nervous system lymphoma,Thrombocytopenia,Toxic liver disease\n"
     ]
    },
    {
     "name": "stderr",
     "output_type": "stream",
     "text": [
      " 31%|███       | 262/844 [06:10<13:38,  1.41s/it]"
     ]
    },
    {
     "name": "stdout",
     "output_type": "stream",
     "text": [
      "Arthritis, Juvenile Rheumatoid,Arthritis, Psoriatic,Arthritis, Rheumatoid,Drug Toxicity\n"
     ]
    },
    {
     "name": "stderr",
     "output_type": "stream",
     "text": [
      " 31%|███▏      | 264/844 [06:12<13:36,  1.41s/it]"
     ]
    },
    {
     "name": "stdout",
     "output_type": "stream",
     "text": [
      "Epidermal Necrolysis, Toxic,Maculopapular Exanthema,severe cutaneous adverse reactions,Stevens-Johnson Syndrome\n"
     ]
    },
    {
     "name": "stderr",
     "output_type": "stream",
     "text": [
      " 32%|███▏      | 266/844 [06:15<13:28,  1.40s/it]"
     ]
    },
    {
     "name": "stdout",
     "output_type": "stream",
     "text": [
      "Kidney Transplantation,laparoscopic sleeve gastrectomy,liver transplantation,lung transplantation\n"
     ]
    },
    {
     "name": "stderr",
     "output_type": "stream",
     "text": [
      " 32%|███▏      | 267/844 [06:17<13:31,  1.41s/it]"
     ]
    },
    {
     "name": "stdout",
     "output_type": "stream",
     "text": [
      "Kidney Transplantation,liver transplantation\n"
     ]
    },
    {
     "name": "stderr",
     "output_type": "stream",
     "text": [
      " 32%|███▏      | 268/844 [06:18<13:32,  1.41s/it]"
     ]
    },
    {
     "name": "stdout",
     "output_type": "stream",
     "text": [
      "Epidermal Necrolysis, Toxic,severe cutaneous adverse reactions,Stevens-Johnson Syndrome\n"
     ]
    },
    {
     "name": "stderr",
     "output_type": "stream",
     "text": [
      " 32%|███▏      | 269/844 [06:19<13:30,  1.41s/it]"
     ]
    },
    {
     "name": "stdout",
     "output_type": "stream",
     "text": [
      "Arthritis, Psoriatic,Arthritis, Rheumatoid,Crohn Disease,Inflammation,Psoriasis,Spondylitis, Ankylosing\n"
     ]
    },
    {
     "name": "stderr",
     "output_type": "stream",
     "text": [
      " 32%|███▏      | 270/844 [06:21<13:32,  1.41s/it]"
     ]
    },
    {
     "name": "stdout",
     "output_type": "stream",
     "text": [
      "Adenocarcinoma,Carcinoma, Non-Small-Cell Lung,Drug Resistance,Lung Neoplasms\n"
     ]
    },
    {
     "name": "stderr",
     "output_type": "stream",
     "text": [
      " 32%|███▏      | 271/844 [06:22<13:30,  1.41s/it]"
     ]
    },
    {
     "name": "stdout",
     "output_type": "stream",
     "text": [
      "drug reaction with eosinophilia and systemic symptoms,Epidermal Necrolysis, Toxic,Exanthema,Hypersensitivity,Stevens-Johnson Syndrome\n"
     ]
    },
    {
     "name": "stderr",
     "output_type": "stream",
     "text": [
      " 32%|███▏      | 273/844 [06:25<13:23,  1.41s/it]"
     ]
    },
    {
     "name": "stdout",
     "output_type": "stream",
     "text": [
      "Coronary Disease,Hyperlipidemias\n"
     ]
    },
    {
     "name": "stderr",
     "output_type": "stream",
     "text": [
      " 32%|███▏      | 274/844 [06:26<13:24,  1.41s/it]"
     ]
    },
    {
     "name": "stdout",
     "output_type": "stream",
     "text": [
      "Anemia,Hepatitis C, Chronic\n"
     ]
    },
    {
     "name": "stderr",
     "output_type": "stream",
     "text": [
      " 33%|███▎      | 277/844 [06:31<13:20,  1.41s/it]"
     ]
    },
    {
     "name": "stdout",
     "output_type": "stream",
     "text": [
      "Carcinoma, Non-Small-Cell Lung,Drug Resistance\n"
     ]
    },
    {
     "name": "stderr",
     "output_type": "stream",
     "text": [
      " 33%|███▎      | 278/844 [06:32<13:20,  1.41s/it]"
     ]
    },
    {
     "name": "stdout",
     "output_type": "stream",
     "text": [
      "Arthritis, Rheumatoid,Neuromyelitis Optica\n"
     ]
    },
    {
     "name": "stderr",
     "output_type": "stream",
     "text": [
      " 33%|███▎      | 279/844 [06:34<13:18,  1.41s/it]"
     ]
    },
    {
     "name": "stdout",
     "output_type": "stream",
     "text": [
      "Coronary Disease,Myocardial Infarction\n"
     ]
    },
    {
     "name": "stderr",
     "output_type": "stream",
     "text": [
      " 33%|███▎      | 280/844 [06:35<13:15,  1.41s/it]"
     ]
    },
    {
     "name": "stdout",
     "output_type": "stream",
     "text": [
      "Drug Hypersensitivity,Stevens-Johnson Syndrome\n"
     ]
    },
    {
     "name": "stderr",
     "output_type": "stream",
     "text": [
      " 33%|███▎      | 282/844 [06:38<13:14,  1.41s/it]"
     ]
    },
    {
     "name": "stdout",
     "output_type": "stream",
     "text": [
      "Hypertension,Myocardial Infarction\n"
     ]
    },
    {
     "name": "stderr",
     "output_type": "stream",
     "text": [
      " 34%|███▍      | 286/844 [06:43<13:06,  1.41s/it]"
     ]
    },
    {
     "name": "stdout",
     "output_type": "stream",
     "text": [
      "Cough,Hypertension\n"
     ]
    },
    {
     "name": "stderr",
     "output_type": "stream",
     "text": [
      " 34%|███▍      | 287/844 [06:45<13:03,  1.41s/it]"
     ]
    },
    {
     "name": "stdout",
     "output_type": "stream",
     "text": [
      "HIV Infections,Hypertriglyceridemia\n"
     ]
    },
    {
     "name": "stderr",
     "output_type": "stream",
     "text": [
      " 34%|███▍      | 288/844 [06:46<12:59,  1.40s/it]"
     ]
    },
    {
     "name": "stdout",
     "output_type": "stream",
     "text": [
      "Breast Neoplasms,Drug Toxicity\n"
     ]
    },
    {
     "name": "stderr",
     "output_type": "stream",
     "text": [
      " 34%|███▍      | 291/844 [06:50<13:02,  1.41s/it]"
     ]
    },
    {
     "name": "stdout",
     "output_type": "stream",
     "text": [
      "Schizophrenia,Weight gain\n"
     ]
    },
    {
     "name": "stderr",
     "output_type": "stream",
     "text": [
      " 35%|███▍      | 295/844 [06:56<13:06,  1.43s/it]"
     ]
    },
    {
     "name": "stdout",
     "output_type": "stream",
     "text": [
      "Breast Neoplasms,Neutropenia\n"
     ]
    },
    {
     "name": "stderr",
     "output_type": "stream",
     "text": [
      " 35%|███▌      | 296/844 [06:58<13:02,  1.43s/it]"
     ]
    },
    {
     "name": "stdout",
     "output_type": "stream",
     "text": [
      "Carcinoma, Non-Small-Cell Lung,Neoplasms\n"
     ]
    },
    {
     "name": "stderr",
     "output_type": "stream",
     "text": [
      " 35%|███▌      | 299/844 [07:02<12:53,  1.42s/it]"
     ]
    },
    {
     "name": "stdout",
     "output_type": "stream",
     "text": [
      "Cardiovascular Diseases,Coronary Disease,Stroke\n"
     ]
    },
    {
     "name": "stderr",
     "output_type": "stream",
     "text": [
      " 36%|███▌      | 301/844 [07:05<12:47,  1.41s/it]"
     ]
    },
    {
     "name": "stdout",
     "output_type": "stream",
     "text": [
      "Acquired Long QT Syndrome (aLQTS)\n"
     ]
    },
    {
     "name": "stderr",
     "output_type": "stream",
     "text": [
      " 36%|███▌      | 302/844 [07:06<12:47,  1.42s/it]"
     ]
    },
    {
     "name": "stdout",
     "output_type": "stream",
     "text": [
      "Psychotic Disorders,Substance-Related Disorders\n"
     ]
    },
    {
     "name": "stderr",
     "output_type": "stream",
     "text": [
      " 36%|███▋      | 306/844 [07:12<12:48,  1.43s/it]"
     ]
    },
    {
     "name": "stdout",
     "output_type": "stream",
     "text": [
      "Bipolar Disorder,Schizophrenia\n"
     ]
    },
    {
     "name": "stderr",
     "output_type": "stream",
     "text": [
      " 37%|███▋      | 310/844 [07:17<12:30,  1.41s/it]"
     ]
    },
    {
     "name": "stdout",
     "output_type": "stream",
     "text": [
      "HIV Infections,Hyperlipidemias\n"
     ]
    },
    {
     "name": "stderr",
     "output_type": "stream",
     "text": [
      " 37%|███▋      | 313/844 [07:22<12:30,  1.41s/it]"
     ]
    },
    {
     "name": "stdout",
     "output_type": "stream",
     "text": [
      "Drug Toxicity,Psoriasis\n"
     ]
    },
    {
     "name": "stderr",
     "output_type": "stream",
     "text": [
      " 37%|███▋      | 316/844 [07:26<12:28,  1.42s/it]"
     ]
    },
    {
     "name": "stdout",
     "output_type": "stream",
     "text": [
      "Arthritis, Rheumatoid,Drug Toxicity\n"
     ]
    },
    {
     "name": "stderr",
     "output_type": "stream",
     "text": [
      " 38%|███▊      | 318/844 [07:29<12:23,  1.41s/it]"
     ]
    },
    {
     "name": "stdout",
     "output_type": "stream",
     "text": [
      "Arrhythmias, Cardiac,Drug Toxicity,Lymphoma, Non-Hodgkin\n"
     ]
    },
    {
     "name": "stderr",
     "output_type": "stream",
     "text": [
      " 38%|███▊      | 319/844 [07:30<12:27,  1.42s/it]"
     ]
    },
    {
     "name": "stdout",
     "output_type": "stream",
     "text": [
      "Congenital Abnormalities,Craniofacial Abnormalities\n"
     ]
    },
    {
     "name": "stderr",
     "output_type": "stream",
     "text": [
      " 38%|███▊      | 320/844 [07:32<12:20,  1.41s/it]"
     ]
    },
    {
     "name": "stdout",
     "output_type": "stream",
     "text": [
      "Cystitis,Transplantation\n"
     ]
    },
    {
     "name": "stderr",
     "output_type": "stream",
     "text": [
      " 38%|███▊      | 323/844 [07:36<12:15,  1.41s/it]"
     ]
    },
    {
     "name": "stdout",
     "output_type": "stream",
     "text": [
      "Coronary Artery Disease,Hypertension\n"
     ]
    },
    {
     "name": "stderr",
     "output_type": "stream",
     "text": [
      " 38%|███▊      | 324/844 [07:37<12:10,  1.41s/it]"
     ]
    },
    {
     "name": "stdout",
     "output_type": "stream",
     "text": [
      "Hypertension,Kidney Diseases,Nephrosclerosis\n"
     ]
    },
    {
     "name": "stderr",
     "output_type": "stream",
     "text": [
      " 39%|███▊      | 327/844 [07:41<12:13,  1.42s/it]"
     ]
    },
    {
     "name": "stdout",
     "output_type": "stream",
     "text": [
      "Hepatic Veno-Occlusive Disease,Transplantation\n"
     ]
    },
    {
     "name": "stderr",
     "output_type": "stream",
     "text": [
      " 40%|███▉      | 334/844 [07:51<11:56,  1.41s/it]"
     ]
    },
    {
     "name": "stdout",
     "output_type": "stream",
     "text": [
      "Neoplasms,Osteonecrosis\n"
     ]
    },
    {
     "name": "stderr",
     "output_type": "stream",
     "text": [
      " 40%|████      | 340/844 [08:00<11:48,  1.41s/it]"
     ]
    },
    {
     "name": "stdout",
     "output_type": "stream",
     "text": [
      "Diabetes Mellitus,Edema,Hyperlipidemias\n"
     ]
    },
    {
     "name": "stderr",
     "output_type": "stream",
     "text": [
      " 40%|████      | 341/844 [08:01<11:45,  1.40s/it]"
     ]
    },
    {
     "name": "stdout",
     "output_type": "stream",
     "text": [
      "Depression,Depressive Disorder,Depressive Disorder, Major,Hypotension\n"
     ]
    },
    {
     "name": "stderr",
     "output_type": "stream",
     "text": [
      " 41%|████      | 345/844 [08:07<11:40,  1.40s/it]"
     ]
    },
    {
     "name": "stdout",
     "output_type": "stream",
     "text": [
      "Diabetes Mellitus,Hypertension\n"
     ]
    },
    {
     "name": "stderr",
     "output_type": "stream",
     "text": [
      " 41%|████      | 346/844 [08:08<11:37,  1.40s/it]"
     ]
    },
    {
     "name": "stdout",
     "output_type": "stream",
     "text": [
      "Anxiety Disorders,Depressive Disorder, Major\n"
     ]
    },
    {
     "name": "stderr",
     "output_type": "stream",
     "text": [
      " 41%|████      | 348/844 [08:11<11:38,  1.41s/it]"
     ]
    },
    {
     "name": "stdout",
     "output_type": "stream",
     "text": [
      "Hyperlipoproteinemia Type II\n"
     ]
    },
    {
     "name": "stderr",
     "output_type": "stream",
     "text": [
      " 41%|████▏     | 349/844 [08:12<11:37,  1.41s/it]"
     ]
    },
    {
     "name": "stdout",
     "output_type": "stream",
     "text": [
      "Hypercholesterolemia,Myalgia unspecified\n"
     ]
    },
    {
     "name": "stderr",
     "output_type": "stream",
     "text": [
      " 41%|████▏     | 350/844 [08:14<11:40,  1.42s/it]"
     ]
    },
    {
     "name": "stdout",
     "output_type": "stream",
     "text": [
      "Coronary Artery Disease,Myalgia unspecified\n"
     ]
    },
    {
     "name": "stderr",
     "output_type": "stream",
     "text": [
      " 42%|████▏     | 356/844 [08:22<11:34,  1.42s/it]"
     ]
    },
    {
     "name": "stdout",
     "output_type": "stream",
     "text": [
      "Coronary Artery Disease,Hypercholesterolemia\n"
     ]
    },
    {
     "name": "stderr",
     "output_type": "stream",
     "text": [
      " 42%|████▏     | 357/844 [08:24<11:35,  1.43s/it]"
     ]
    },
    {
     "name": "stdout",
     "output_type": "stream",
     "text": [
      "Hyperlipidemias\n"
     ]
    },
    {
     "name": "stderr",
     "output_type": "stream",
     "text": [
      " 42%|████▏     | 358/844 [08:25<11:34,  1.43s/it]"
     ]
    },
    {
     "name": "stdout",
     "output_type": "stream",
     "text": [
      "Coronary Artery Disease,Myocardial Infarction\n"
     ]
    },
    {
     "name": "stderr",
     "output_type": "stream",
     "text": [
      " 43%|████▎     | 360/844 [08:28<11:30,  1.43s/it]"
     ]
    },
    {
     "name": "stdout",
     "output_type": "stream",
     "text": [
      "Diabetes Mellitus,Hypertension,Vascular Diseases\n"
     ]
    },
    {
     "name": "stderr",
     "output_type": "stream",
     "text": [
      " 44%|████▍     | 370/844 [08:42<11:10,  1.41s/it]"
     ]
    },
    {
     "name": "stdout",
     "output_type": "stream",
     "text": [
      "Uterine Cervical Neoplasms\n"
     ]
    },
    {
     "name": "stderr",
     "output_type": "stream",
     "text": [
      " 44%|████▍     | 371/844 [08:44<11:07,  1.41s/it]"
     ]
    },
    {
     "name": "stdout",
     "output_type": "stream",
     "text": [
      "Deafness,Ototoxicity,Testicular Neoplasms\n"
     ]
    },
    {
     "name": "stderr",
     "output_type": "stream",
     "text": [
      " 44%|████▍     | 375/844 [08:49<10:55,  1.40s/it]"
     ]
    },
    {
     "name": "stdout",
     "output_type": "stream",
     "text": [
      "Colorectal Neoplasms,Drug Toxicity\n"
     ]
    },
    {
     "name": "stderr",
     "output_type": "stream",
     "text": [
      " 45%|████▍     | 378/844 [08:53<10:58,  1.41s/it]"
     ]
    },
    {
     "name": "stdout",
     "output_type": "stream",
     "text": [
      "Helicobacter Infections\n"
     ]
    },
    {
     "name": "stderr",
     "output_type": "stream",
     "text": [
      " 45%|████▌     | 381/844 [08:58<10:53,  1.41s/it]"
     ]
    },
    {
     "name": "stdout",
     "output_type": "stream",
     "text": [
      "Angina Pectoris,Heart Failure\n"
     ]
    },
    {
     "name": "stderr",
     "output_type": "stream",
     "text": [
      " 45%|████▌     | 382/844 [08:59<10:56,  1.42s/it]"
     ]
    },
    {
     "name": "stdout",
     "output_type": "stream",
     "text": [
      "Leukopenia,Neoplasms\n"
     ]
    },
    {
     "name": "stderr",
     "output_type": "stream",
     "text": [
      " 46%|████▌     | 385/844 [09:03<10:49,  1.41s/it]"
     ]
    },
    {
     "name": "stdout",
     "output_type": "stream",
     "text": [
      "Anemia, Hemolytic,Hemolysis\n"
     ]
    },
    {
     "name": "stderr",
     "output_type": "stream",
     "text": [
      " 46%|████▌     | 386/844 [09:05<10:49,  1.42s/it]"
     ]
    },
    {
     "name": "stdout",
     "output_type": "stream",
     "text": [
      "Neoplasms,Neutropenia\n"
     ]
    },
    {
     "name": "stderr",
     "output_type": "stream",
     "text": [
      " 46%|████▌     | 387/844 [09:06<10:48,  1.42s/it]"
     ]
    },
    {
     "name": "stdout",
     "output_type": "stream",
     "text": [
      "Headache Disorders,Migraine with Aura,Migraine without Aura\n"
     ]
    },
    {
     "name": "stderr",
     "output_type": "stream",
     "text": [
      " 46%|████▌     | 389/844 [09:09<10:40,  1.41s/it]"
     ]
    },
    {
     "name": "stdout",
     "output_type": "stream",
     "text": [
      "Hemolysis,Lead Poisoning, Nervous System, Childhood\n"
     ]
    },
    {
     "name": "stderr",
     "output_type": "stream",
     "text": [
      " 46%|████▋     | 392/844 [09:13<10:38,  1.41s/it]"
     ]
    },
    {
     "name": "stdout",
     "output_type": "stream",
     "text": [
      "Drug Toxicity,Neurotoxicity Syndromes\n"
     ]
    },
    {
     "name": "stderr",
     "output_type": "stream",
     "text": [
      " 47%|████▋     | 393/844 [09:15<10:40,  1.42s/it]"
     ]
    },
    {
     "name": "stdout",
     "output_type": "stream",
     "text": [
      "Neurotoxicity Syndromes\n"
     ]
    },
    {
     "name": "stderr",
     "output_type": "stream",
     "text": [
      " 47%|████▋     | 394/844 [09:16<10:38,  1.42s/it]"
     ]
    },
    {
     "name": "stdout",
     "output_type": "stream",
     "text": [
      "severe cutaneous adverse reactions\n"
     ]
    },
    {
     "name": "stderr",
     "output_type": "stream",
     "text": [
      " 47%|████▋     | 397/844 [09:20<10:36,  1.42s/it]"
     ]
    },
    {
     "name": "stdout",
     "output_type": "stream",
     "text": [
      "Opioid-Related Disorders\n"
     ]
    },
    {
     "name": "stderr",
     "output_type": "stream",
     "text": [
      " 47%|████▋     | 398/844 [09:22<10:31,  1.42s/it]"
     ]
    },
    {
     "name": "stdout",
     "output_type": "stream",
     "text": [
      "Substance Withdrawal Syndrome\n"
     ]
    },
    {
     "name": "stderr",
     "output_type": "stream",
     "text": [
      " 47%|████▋     | 399/844 [09:23<10:30,  1.42s/it]"
     ]
    },
    {
     "name": "stdout",
     "output_type": "stream",
     "text": [
      "Drug Toxicity,Inflammatory Bowel Diseases,Pancreatitis\n"
     ]
    },
    {
     "name": "stderr",
     "output_type": "stream",
     "text": [
      " 47%|████▋     | 400/844 [09:25<10:25,  1.41s/it]"
     ]
    },
    {
     "name": "stdout",
     "output_type": "stream",
     "text": [
      "Maculopapular Exanthema\n"
     ]
    },
    {
     "name": "stderr",
     "output_type": "stream",
     "text": [
      " 48%|████▊     | 401/844 [09:26<10:25,  1.41s/it]"
     ]
    },
    {
     "name": "stdout",
     "output_type": "stream",
     "text": [
      "drug reaction with eosinophilia and systemic symptoms\n"
     ]
    },
    {
     "name": "stderr",
     "output_type": "stream",
     "text": [
      " 48%|████▊     | 409/844 [09:37<10:12,  1.41s/it]"
     ]
    },
    {
     "name": "stdout",
     "output_type": "stream",
     "text": [
      "Carcinoma, Non-Small-Cell Lung,Colorectal Neoplasms,Neoplasms,Pancreatic Neoplasms\n"
     ]
    },
    {
     "name": "stderr",
     "output_type": "stream",
     "text": [
      " 49%|████▊     | 411/844 [09:40<10:10,  1.41s/it]"
     ]
    },
    {
     "name": "stdout",
     "output_type": "stream",
     "text": [
      "anaphylactoid reaction\n"
     ]
    },
    {
     "name": "stderr",
     "output_type": "stream",
     "text": [
      " 49%|████▉     | 414/844 [09:44<10:05,  1.41s/it]"
     ]
    },
    {
     "name": "stdout",
     "output_type": "stream",
     "text": [
      "Carcinoma, Non-Small-Cell Lung,Mesothelioma\n"
     ]
    },
    {
     "name": "stderr",
     "output_type": "stream",
     "text": [
      " 50%|████▉     | 419/844 [09:52<10:05,  1.42s/it]"
     ]
    },
    {
     "name": "stdout",
     "output_type": "stream",
     "text": [
      "Gastrointestinal Stromal Tumors,Leukemia, Myelogenous, Chronic, BCR-ABL Positive\n"
     ]
    },
    {
     "name": "stderr",
     "output_type": "stream",
     "text": [
      " 50%|████▉     | 420/844 [09:53<10:02,  1.42s/it]"
     ]
    },
    {
     "name": "stdout",
     "output_type": "stream",
     "text": [
      "Hepatitis C, Chronic,HIV Infections\n"
     ]
    },
    {
     "name": "stderr",
     "output_type": "stream",
     "text": [
      " 51%|█████     | 427/844 [10:03<09:48,  1.41s/it]"
     ]
    },
    {
     "name": "stdout",
     "output_type": "stream",
     "text": [
      "hemopoietic stem cell transplant\n"
     ]
    },
    {
     "name": "stderr",
     "output_type": "stream",
     "text": [
      " 51%|█████     | 428/844 [10:04<09:46,  1.41s/it]"
     ]
    },
    {
     "name": "stdout",
     "output_type": "stream",
     "text": [
      "Colitis, Ulcerative,Inflammatory Bowel Diseases\n"
     ]
    },
    {
     "name": "stderr",
     "output_type": "stream",
     "text": [
      " 51%|█████     | 429/844 [10:06<09:47,  1.41s/it]"
     ]
    },
    {
     "name": "stdout",
     "output_type": "stream",
     "text": [
      "Crohn Disease,Inflammatory Bowel Diseases\n"
     ]
    },
    {
     "name": "stderr",
     "output_type": "stream",
     "text": [
      " 51%|█████▏    | 433/844 [10:11<09:38,  1.41s/it]"
     ]
    },
    {
     "name": "stdout",
     "output_type": "stream",
     "text": [
      "Cough,Essential hypertension\n"
     ]
    },
    {
     "name": "stderr",
     "output_type": "stream",
     "text": [
      " 52%|█████▏    | 441/844 [10:23<09:27,  1.41s/it]"
     ]
    },
    {
     "name": "stdout",
     "output_type": "stream",
     "text": [
      "Anemia, Hemolytic,Hemolysis,Protein Deficiency\n"
     ]
    },
    {
     "name": "stderr",
     "output_type": "stream",
     "text": [
      " 52%|█████▏    | 442/844 [10:24<09:26,  1.41s/it]"
     ]
    },
    {
     "name": "stdout",
     "output_type": "stream",
     "text": [
      "schizoaffective disorder,Schizophrenia\n"
     ]
    },
    {
     "name": "stderr",
     "output_type": "stream",
     "text": [
      " 53%|█████▎    | 446/844 [10:30<09:25,  1.42s/it]"
     ]
    },
    {
     "name": "stdout",
     "output_type": "stream",
     "text": [
      "Neoplasms,Ovarian Neoplasms,Stomach Neoplasms\n"
     ]
    },
    {
     "name": "stderr",
     "output_type": "stream",
     "text": [
      " 53%|█████▎    | 447/844 [10:31<09:21,  1.41s/it]"
     ]
    },
    {
     "name": "stdout",
     "output_type": "stream",
     "text": [
      "Obesity,Polycystic Ovary Syndrome\n"
     ]
    },
    {
     "name": "stderr",
     "output_type": "stream",
     "text": [
      " 53%|█████▎    | 448/844 [10:32<09:17,  1.41s/it]"
     ]
    },
    {
     "name": "stdout",
     "output_type": "stream",
     "text": [
      "Autism Spectrum Disorder,Psychotic Disorders,Schizophrenia\n"
     ]
    },
    {
     "name": "stderr",
     "output_type": "stream",
     "text": [
      " 53%|█████▎    | 449/844 [10:34<09:16,  1.41s/it]"
     ]
    },
    {
     "name": "stdout",
     "output_type": "stream",
     "text": [
      "Autism Spectrum Disorder,Schizophrenia\n"
     ]
    },
    {
     "name": "stderr",
     "output_type": "stream",
     "text": [
      " 53%|█████▎    | 451/844 [10:37<09:11,  1.40s/it]"
     ]
    },
    {
     "name": "stdout",
     "output_type": "stream",
     "text": [
      "Depression,suicide\n"
     ]
    },
    {
     "name": "stderr",
     "output_type": "stream",
     "text": [
      " 54%|█████▎    | 452/844 [10:38<09:08,  1.40s/it]"
     ]
    },
    {
     "name": "stdout",
     "output_type": "stream",
     "text": [
      "Infertility, Female,Ovarian hyperstimulation syndrome\n"
     ]
    },
    {
     "name": "stderr",
     "output_type": "stream",
     "text": [
      " 54%|█████▎    | 453/844 [10:39<09:10,  1.41s/it]"
     ]
    },
    {
     "name": "stdout",
     "output_type": "stream",
     "text": [
      "Colorectal Neoplasms,hand-foot syndrome\n"
     ]
    },
    {
     "name": "stderr",
     "output_type": "stream",
     "text": [
      " 54%|█████▍    | 455/844 [10:42<09:05,  1.40s/it]"
     ]
    },
    {
     "name": "stdout",
     "output_type": "stream",
     "text": [
      "Coronary Artery Disease,Coronary Disease,Myocardial Infarction\n"
     ]
    },
    {
     "name": "stderr",
     "output_type": "stream",
     "text": [
      " 54%|█████▍    | 456/844 [10:44<09:06,  1.41s/it]"
     ]
    },
    {
     "name": "stdout",
     "output_type": "stream",
     "text": [
      "Breast Neoplasms,Menopause\n"
     ]
    },
    {
     "name": "stderr",
     "output_type": "stream",
     "text": [
      " 54%|█████▍    | 457/844 [10:45<09:02,  1.40s/it]"
     ]
    },
    {
     "name": "stdout",
     "output_type": "stream",
     "text": [
      "Carcinoma, Renal Cell,hand-foot syndrome\n"
     ]
    },
    {
     "name": "stderr",
     "output_type": "stream",
     "text": [
      " 54%|█████▍    | 458/844 [10:46<08:59,  1.40s/it]"
     ]
    },
    {
     "name": "stdout",
     "output_type": "stream",
     "text": [
      "Carcinoma, Renal Cell,Hypertension\n"
     ]
    },
    {
     "name": "stderr",
     "output_type": "stream",
     "text": [
      " 55%|█████▍    | 460/844 [10:49<09:01,  1.41s/it]"
     ]
    },
    {
     "name": "stdout",
     "output_type": "stream",
     "text": [
      "Depressive Disorder,Narcolepsy\n"
     ]
    },
    {
     "name": "stderr",
     "output_type": "stream",
     "text": [
      " 55%|█████▌    | 467/844 [10:59<08:56,  1.42s/it]"
     ]
    },
    {
     "name": "stdout",
     "output_type": "stream",
     "text": [
      "drug reaction with eosinophilia and systemic symptoms,Epidermal Necrolysis, Toxic,Stevens-Johnson Syndrome\n"
     ]
    },
    {
     "name": "stderr",
     "output_type": "stream",
     "text": [
      " 55%|█████▌    | 468/844 [11:01<08:52,  1.42s/it]"
     ]
    },
    {
     "name": "stdout",
     "output_type": "stream",
     "text": [
      "Autism Spectrum Disorder,Mood Disorders\n"
     ]
    },
    {
     "name": "stderr",
     "output_type": "stream",
     "text": [
      " 56%|█████▌    | 470/844 [11:03<08:50,  1.42s/it]"
     ]
    },
    {
     "name": "stdout",
     "output_type": "stream",
     "text": [
      "Coronary Artery Disease,Diabetes Mellitus, Type 2\n"
     ]
    },
    {
     "name": "stderr",
     "output_type": "stream",
     "text": [
      " 56%|█████▌    | 471/844 [11:05<08:48,  1.42s/it]"
     ]
    },
    {
     "name": "stdout",
     "output_type": "stream",
     "text": [
      "HIV Infections,Pancreatic Neoplasms\n"
     ]
    },
    {
     "name": "stderr",
     "output_type": "stream",
     "text": [
      " 56%|█████▌    | 472/844 [11:06<08:49,  1.42s/it]"
     ]
    },
    {
     "name": "stdout",
     "output_type": "stream",
     "text": [
      "Kidney Transplantation,Myasthenia Gravis\n"
     ]
    },
    {
     "name": "stderr",
     "output_type": "stream",
     "text": [
      " 56%|█████▌    | 473/844 [11:08<08:47,  1.42s/it]"
     ]
    },
    {
     "name": "stdout",
     "output_type": "stream",
     "text": [
      "hypertensive nephrosclerosis\n"
     ]
    },
    {
     "name": "stderr",
     "output_type": "stream",
     "text": [
      " 56%|█████▋    | 476/844 [11:12<08:43,  1.42s/it]"
     ]
    },
    {
     "name": "stdout",
     "output_type": "stream",
     "text": [
      "Pancreatitis,Precursor Cell Lymphoblastic Leukemia-Lymphoma\n"
     ]
    },
    {
     "name": "stderr",
     "output_type": "stream",
     "text": [
      " 57%|█████▋    | 478/844 [11:15<08:37,  1.41s/it]"
     ]
    },
    {
     "name": "stdout",
     "output_type": "stream",
     "text": [
      "Alzheimer Disease,Lewy Body Disease\n"
     ]
    },
    {
     "name": "stderr",
     "output_type": "stream",
     "text": [
      " 57%|█████▋    | 479/844 [11:16<08:34,  1.41s/it]"
     ]
    },
    {
     "name": "stdout",
     "output_type": "stream",
     "text": [
      "Anemia,Nasopharyngeal Neoplasms\n"
     ]
    },
    {
     "name": "stderr",
     "output_type": "stream",
     "text": [
      " 57%|█████▋    | 481/844 [11:19<08:34,  1.42s/it]"
     ]
    },
    {
     "name": "stdout",
     "output_type": "stream",
     "text": [
      "Nasopharyngeal Neoplasms,Neutropenia\n"
     ]
    },
    {
     "name": "stderr",
     "output_type": "stream",
     "text": [
      " 57%|█████▋    | 482/844 [11:21<08:33,  1.42s/it]"
     ]
    },
    {
     "name": "stdout",
     "output_type": "stream",
     "text": [
      "Gastroesophageal Reflux,Transplantation\n"
     ]
    },
    {
     "name": "stderr",
     "output_type": "stream",
     "text": [
      " 57%|█████▋    | 485/844 [11:25<08:29,  1.42s/it]"
     ]
    },
    {
     "name": "stdout",
     "output_type": "stream",
     "text": [
      "Pain,Tobacco Use Disorder\n"
     ]
    },
    {
     "name": "stderr",
     "output_type": "stream",
     "text": [
      " 58%|█████▊    | 486/844 [11:26<08:25,  1.41s/it]"
     ]
    },
    {
     "name": "stdout",
     "output_type": "stream",
     "text": [
      "HIV Infections,Tuberculosis\n"
     ]
    },
    {
     "name": "stderr",
     "output_type": "stream",
     "text": [
      " 58%|█████▊    | 488/844 [11:29<08:20,  1.41s/it]"
     ]
    },
    {
     "name": "stdout",
     "output_type": "stream",
     "text": [
      "Coronary Disease,Osteoporosis\n"
     ]
    },
    {
     "name": "stderr",
     "output_type": "stream",
     "text": [
      " 58%|█████▊    | 490/844 [11:32<08:16,  1.40s/it]"
     ]
    },
    {
     "name": "stdout",
     "output_type": "stream",
     "text": [
      "HIV Infections,nephrolithiasis\n"
     ]
    },
    {
     "name": "stderr",
     "output_type": "stream",
     "text": [
      " 58%|█████▊    | 491/844 [11:33<08:16,  1.41s/it]"
     ]
    },
    {
     "name": "stdout",
     "output_type": "stream",
     "text": [
      "Anemia,Nasopharyngeal Neoplasms,Neutropenia\n"
     ]
    },
    {
     "name": "stderr",
     "output_type": "stream",
     "text": [
      " 58%|█████▊    | 492/844 [11:35<08:18,  1.42s/it]"
     ]
    },
    {
     "name": "stdout",
     "output_type": "stream",
     "text": [
      "Osteonecrosis,Precursor Cell Lymphoblastic Leukemia-Lymphoma\n"
     ]
    },
    {
     "name": "stderr",
     "output_type": "stream",
     "text": [
      " 59%|█████▊    | 495/844 [11:39<08:11,  1.41s/it]"
     ]
    },
    {
     "name": "stdout",
     "output_type": "stream",
     "text": [
      "Anemia,Ovarian Neoplasms\n"
     ]
    },
    {
     "name": "stderr",
     "output_type": "stream",
     "text": [
      " 59%|█████▉    | 499/844 [11:45<08:10,  1.42s/it]"
     ]
    },
    {
     "name": "stdout",
     "output_type": "stream",
     "text": [
      "Carcinoma, Hepatocellular,hand-foot syndrome\n"
     ]
    },
    {
     "name": "stderr",
     "output_type": "stream",
     "text": [
      " 59%|█████▉    | 501/844 [11:47<08:07,  1.42s/it]"
     ]
    },
    {
     "name": "stdout",
     "output_type": "stream",
     "text": [
      "hand-foot syndrome,Hypertension\n"
     ]
    },
    {
     "name": "stderr",
     "output_type": "stream",
     "text": [
      " 59%|█████▉    | 502/844 [11:49<08:01,  1.41s/it]"
     ]
    },
    {
     "name": "stdout",
     "output_type": "stream",
     "text": [
      "Menopause,Schizophrenia\n"
     ]
    },
    {
     "name": "stderr",
     "output_type": "stream",
     "text": [
      " 60%|█████▉    | 503/844 [11:50<07:59,  1.41s/it]"
     ]
    },
    {
     "name": "stdout",
     "output_type": "stream",
     "text": [
      "Arthritis, Rheumatoid,Psoriasis\n"
     ]
    },
    {
     "name": "stderr",
     "output_type": "stream",
     "text": [
      " 60%|█████▉    | 504/844 [11:52<08:00,  1.41s/it]"
     ]
    },
    {
     "name": "stdout",
     "output_type": "stream",
     "text": [
      "Bipolar Disorder,Depression,Substance-Related Disorders\n"
     ]
    },
    {
     "name": "stderr",
     "output_type": "stream",
     "text": [
      " 60%|█████▉    | 506/844 [11:54<07:56,  1.41s/it]"
     ]
    },
    {
     "name": "stdout",
     "output_type": "stream",
     "text": [
      "Irritable Bowel Syndrome,Leukopenia\n"
     ]
    },
    {
     "name": "stderr",
     "output_type": "stream",
     "text": [
      " 60%|██████    | 509/844 [11:59<07:51,  1.41s/it]"
     ]
    },
    {
     "name": "stdout",
     "output_type": "stream",
     "text": [
      "Drug Hypersensitivity,Epidermal Necrolysis, Toxic,erythema exudativum multiforme,Maculopapular Exanthema,Stevens-Johnson Syndrome\n"
     ]
    },
    {
     "name": "stderr",
     "output_type": "stream",
     "text": [
      " 60%|██████    | 510/844 [12:00<07:48,  1.40s/it]"
     ]
    },
    {
     "name": "stdout",
     "output_type": "stream",
     "text": [
      "Epidermal Necrolysis, Toxic,Maculopapular Exanthema,Stevens-Johnson Syndrome\n"
     ]
    },
    {
     "name": "stderr",
     "output_type": "stream",
     "text": [
      " 61%|██████    | 511/844 [12:01<07:47,  1.40s/it]"
     ]
    },
    {
     "name": "stdout",
     "output_type": "stream",
     "text": [
      "Colorectal Neoplasms,Neutropenia\n"
     ]
    },
    {
     "name": "stderr",
     "output_type": "stream",
     "text": [
      " 61%|██████    | 512/844 [12:03<07:48,  1.41s/it]"
     ]
    },
    {
     "name": "stdout",
     "output_type": "stream",
     "text": [
      "Hepatitis C, Chronic,Recurrence\n"
     ]
    },
    {
     "name": "stderr",
     "output_type": "stream",
     "text": [
      " 61%|██████    | 514/844 [12:06<07:43,  1.40s/it]"
     ]
    },
    {
     "name": "stdout",
     "output_type": "stream",
     "text": [
      "Colitis, Ulcerative,Kidney Transplantation\n"
     ]
    },
    {
     "name": "stderr",
     "output_type": "stream",
     "text": [
      " 61%|██████    | 515/844 [12:07<07:43,  1.41s/it]"
     ]
    },
    {
     "name": "stdout",
     "output_type": "stream",
     "text": [
      "Hyperglycemia,Hypertension\n"
     ]
    },
    {
     "name": "stderr",
     "output_type": "stream",
     "text": [
      " 61%|██████    | 516/844 [12:08<07:42,  1.41s/it]"
     ]
    },
    {
     "name": "stdout",
     "output_type": "stream",
     "text": [
      "Kidney Transplantation,lung transplantation\n"
     ]
    },
    {
     "name": "stderr",
     "output_type": "stream",
     "text": [
      " 61%|██████▏   | 518/844 [12:11<07:37,  1.40s/it]"
     ]
    },
    {
     "name": "stdout",
     "output_type": "stream",
     "text": [
      "Arthralgia,Breast Neoplasms\n"
     ]
    },
    {
     "name": "stderr",
     "output_type": "stream",
     "text": [
      " 61%|██████▏   | 519/844 [12:13<07:35,  1.40s/it]"
     ]
    },
    {
     "name": "stdout",
     "output_type": "stream",
     "text": [
      "Asthenia,Neoplasms\n"
     ]
    },
    {
     "name": "stderr",
     "output_type": "stream",
     "text": [
      " 62%|██████▏   | 521/844 [12:16<07:37,  1.42s/it]"
     ]
    },
    {
     "name": "stdout",
     "output_type": "stream",
     "text": [
      "Diarrhea,Neoplasms\n"
     ]
    },
    {
     "name": "stderr",
     "output_type": "stream",
     "text": [
      " 62%|██████▏   | 522/844 [12:17<07:35,  1.41s/it]"
     ]
    },
    {
     "name": "stdout",
     "output_type": "stream",
     "text": [
      "Hyperbilirubinemia,Neoplasms\n"
     ]
    },
    {
     "name": "stderr",
     "output_type": "stream",
     "text": [
      " 62%|██████▏   | 524/844 [12:20<07:33,  1.42s/it]"
     ]
    },
    {
     "name": "stdout",
     "output_type": "stream",
     "text": [
      "Breast Neoplasms,Leukopenia,Neutropenia\n"
     ]
    },
    {
     "name": "stderr",
     "output_type": "stream",
     "text": [
      " 62%|██████▏   | 525/844 [12:21<07:31,  1.42s/it]"
     ]
    },
    {
     "name": "stdout",
     "output_type": "stream",
     "text": [
      "Drug Toxicity,Neoplasms,Ototoxicity\n"
     ]
    },
    {
     "name": "stderr",
     "output_type": "stream",
     "text": [
      " 62%|██████▏   | 526/844 [12:23<07:29,  1.41s/it]"
     ]
    },
    {
     "name": "stdout",
     "output_type": "stream",
     "text": [
      "Neoplasms,nephrotoxicity\n"
     ]
    },
    {
     "name": "stderr",
     "output_type": "stream",
     "text": [
      " 62%|██████▏   | 527/844 [12:24<07:28,  1.41s/it]"
     ]
    },
    {
     "name": "stdout",
     "output_type": "stream",
     "text": [
      "major adverse cardiac events (mace)\n"
     ]
    },
    {
     "name": "stderr",
     "output_type": "stream",
     "text": [
      " 63%|██████▎   | 528/844 [12:25<07:26,  1.41s/it]"
     ]
    },
    {
     "name": "stdout",
     "output_type": "stream",
     "text": [
      "Epidermal Necrolysis, Toxic,HIV Infections,Stevens-Johnson Syndrome\n"
     ]
    },
    {
     "name": "stderr",
     "output_type": "stream",
     "text": [
      " 63%|██████▎   | 530/844 [12:28<07:22,  1.41s/it]"
     ]
    },
    {
     "name": "stdout",
     "output_type": "stream",
     "text": [
      "Breast Neoplasms,Lymphopenia\n"
     ]
    },
    {
     "name": "stderr",
     "output_type": "stream",
     "text": [
      " 63%|██████▎   | 531/844 [12:30<07:23,  1.42s/it]"
     ]
    },
    {
     "name": "stdout",
     "output_type": "stream",
     "text": [
      "Breast Neoplasms,mucositis\n"
     ]
    },
    {
     "name": "stderr",
     "output_type": "stream",
     "text": [
      " 63%|██████▎   | 533/844 [12:32<07:22,  1.42s/it]"
     ]
    },
    {
     "name": "stdout",
     "output_type": "stream",
     "text": [
      "Breast Neoplasms,Hyperglycemia,Leukopenia\n"
     ]
    },
    {
     "name": "stderr",
     "output_type": "stream",
     "text": [
      " 64%|██████▎   | 536/844 [12:37<07:17,  1.42s/it]"
     ]
    },
    {
     "name": "stdout",
     "output_type": "stream",
     "text": [
      "Stroke,Venous Thrombosis\n"
     ]
    },
    {
     "name": "stderr",
     "output_type": "stream",
     "text": [
      " 64%|██████▎   | 537/844 [12:38<07:16,  1.42s/it]"
     ]
    },
    {
     "name": "stdout",
     "output_type": "stream",
     "text": [
      "Coronary Artery Disease,Diabetes Mellitus,Hypercholesterolemia\n"
     ]
    },
    {
     "name": "stderr",
     "output_type": "stream",
     "text": [
      " 64%|██████▎   | 538/844 [12:40<07:13,  1.42s/it]"
     ]
    },
    {
     "name": "stdout",
     "output_type": "stream",
     "text": [
      "Toxic liver disease,Tuberculosis\n"
     ]
    },
    {
     "name": "stderr",
     "output_type": "stream",
     "text": [
      " 64%|██████▍   | 539/844 [12:41<07:10,  1.41s/it]"
     ]
    },
    {
     "name": "stdout",
     "output_type": "stream",
     "text": [
      "drug-induced liver injury,Toxic liver disease\n"
     ]
    },
    {
     "name": "stderr",
     "output_type": "stream",
     "text": [
      " 64%|██████▍   | 540/844 [12:42<07:08,  1.41s/it]"
     ]
    },
    {
     "name": "stdout",
     "output_type": "stream",
     "text": [
      "Acute coronary syndrome,Myocardial Infarction\n"
     ]
    },
    {
     "name": "stderr",
     "output_type": "stream",
     "text": [
      " 64%|██████▍   | 542/844 [12:45<07:05,  1.41s/it]"
     ]
    },
    {
     "name": "stdout",
     "output_type": "stream",
     "text": [
      "Bipolar Disorder,Depressive Disorder,Psychotic Disorders,schizoaffective disorder\n"
     ]
    },
    {
     "name": "stderr",
     "output_type": "stream",
     "text": [
      " 64%|██████▍   | 543/844 [12:47<07:06,  1.42s/it]"
     ]
    },
    {
     "name": "stdout",
     "output_type": "stream",
     "text": [
      "tonsillectomy\n"
     ]
    },
    {
     "name": "stderr",
     "output_type": "stream",
     "text": [
      " 64%|██████▍   | 544/844 [12:48<07:07,  1.42s/it]"
     ]
    },
    {
     "name": "stdout",
     "output_type": "stream",
     "text": [
      "adverse events,gastrointestinal toxicity,Myelosuppression,Urinary Bladder Neoplasms\n"
     ]
    },
    {
     "name": "stderr",
     "output_type": "stream",
     "text": [
      " 65%|██████▍   | 545/844 [12:50<07:07,  1.43s/it]"
     ]
    },
    {
     "name": "stdout",
     "output_type": "stream",
     "text": [
      "gastrointestinal toxicity,Myelosuppression,Urinary Bladder Neoplasms\n"
     ]
    },
    {
     "name": "stderr",
     "output_type": "stream",
     "text": [
      " 65%|██████▍   | 546/844 [12:51<07:03,  1.42s/it]"
     ]
    },
    {
     "name": "stdout",
     "output_type": "stream",
     "text": [
      "hematopoietic stem cell transplantation,Kidney Transplantation,Urinary Bladder Neoplasms\n"
     ]
    },
    {
     "name": "stderr",
     "output_type": "stream",
     "text": [
      " 65%|██████▍   | 547/844 [12:52<07:01,  1.42s/it]"
     ]
    },
    {
     "name": "stdout",
     "output_type": "stream",
     "text": [
      "Hypernatremia,Hypertension\n"
     ]
    },
    {
     "name": "stderr",
     "output_type": "stream",
     "text": [
      " 65%|██████▍   | 548/844 [12:54<06:59,  1.42s/it]"
     ]
    },
    {
     "name": "stdout",
     "output_type": "stream",
     "text": [
      "Carcinoma, Non-Small-Cell Lung,gastrointestinal toxicity,Hematologic Diseases,Leukopenia\n"
     ]
    },
    {
     "name": "stderr",
     "output_type": "stream",
     "text": [
      " 65%|██████▌   | 549/844 [12:55<06:58,  1.42s/it]"
     ]
    },
    {
     "name": "stdout",
     "output_type": "stream",
     "text": [
      "Diabetes Mellitus, Type 2,Polycystic Ovary Syndrome\n"
     ]
    },
    {
     "name": "stderr",
     "output_type": "stream",
     "text": [
      " 65%|██████▌   | 550/844 [12:57<06:58,  1.42s/it]"
     ]
    },
    {
     "name": "stdout",
     "output_type": "stream",
     "text": [
      "Asthenia,Nausea,Neoplasms,Vomiting\n"
     ]
    },
    {
     "name": "stderr",
     "output_type": "stream",
     "text": [
      " 65%|██████▌   | 551/844 [12:58<06:55,  1.42s/it]"
     ]
    },
    {
     "name": "stdout",
     "output_type": "stream",
     "text": [
      "Inflammatory Bowel Diseases,Psoriasis\n"
     ]
    },
    {
     "name": "stderr",
     "output_type": "stream",
     "text": [
      " 65%|██████▌   | 552/844 [12:59<06:53,  1.41s/it]"
     ]
    },
    {
     "name": "stdout",
     "output_type": "stream",
     "text": [
      "Anemia,Dermatitis,Leukopenia,mucositis,Myelosuppression,Neutropenia,Thrombocytopenia\n"
     ]
    },
    {
     "name": "stderr",
     "output_type": "stream",
     "text": [
      " 66%|██████▌   | 553/844 [13:01<06:51,  1.41s/it]"
     ]
    },
    {
     "name": "stdout",
     "output_type": "stream",
     "text": [
      "adverse events,Premature Birth\n"
     ]
    },
    {
     "name": "stderr",
     "output_type": "stream",
     "text": [
      " 66%|██████▌   | 554/844 [13:02<06:50,  1.42s/it]"
     ]
    },
    {
     "name": "stdout",
     "output_type": "stream",
     "text": [
      "drug-induced liver injury,Tuberculosis\n"
     ]
    },
    {
     "name": "stderr",
     "output_type": "stream",
     "text": [
      " 66%|██████▌   | 555/844 [13:04<06:51,  1.42s/it]"
     ]
    },
    {
     "name": "stdout",
     "output_type": "stream",
     "text": [
      "Carcinoma, Renal Cell,Neutropenia\n"
     ]
    },
    {
     "name": "stderr",
     "output_type": "stream",
     "text": [
      " 66%|██████▌   | 556/844 [13:05<06:46,  1.41s/it]"
     ]
    },
    {
     "name": "stdout",
     "output_type": "stream",
     "text": [
      "Acquired Immunodeficiency Syndrome,HIV Infections,nephrolithiasis\n"
     ]
    },
    {
     "name": "stderr",
     "output_type": "stream",
     "text": [
      " 66%|██████▌   | 557/844 [13:06<06:44,  1.41s/it]"
     ]
    },
    {
     "name": "stdout",
     "output_type": "stream",
     "text": [
      "Breast Neoplasms,Colorectal Neoplasms\n"
     ]
    },
    {
     "name": "stderr",
     "output_type": "stream",
     "text": [
      " 66%|██████▌   | 559/844 [13:09<06:41,  1.41s/it]"
     ]
    },
    {
     "name": "stdout",
     "output_type": "stream",
     "text": [
      "Alcoholism,Death\n"
     ]
    },
    {
     "name": "stderr",
     "output_type": "stream",
     "text": [
      " 66%|██████▋   | 561/844 [13:12<06:39,  1.41s/it]"
     ]
    },
    {
     "name": "stdout",
     "output_type": "stream",
     "text": [
      "Hemorrhage,Myocardial Infarction\n"
     ]
    },
    {
     "name": "stderr",
     "output_type": "stream",
     "text": [
      " 67%|██████▋   | 562/844 [13:14<06:37,  1.41s/it]"
     ]
    },
    {
     "name": "stdout",
     "output_type": "stream",
     "text": [
      "Maculopapular Exanthema,severe cutaneous adverse reactions,Stevens-Johnson Syndrome\n"
     ]
    },
    {
     "name": "stderr",
     "output_type": "stream",
     "text": [
      " 67%|██████▋   | 563/844 [13:15<06:35,  1.41s/it]"
     ]
    },
    {
     "name": "stdout",
     "output_type": "stream",
     "text": [
      "drug reaction with eosinophilia and systemic symptoms,Stevens-Johnson Syndrome\n"
     ]
    },
    {
     "name": "stderr",
     "output_type": "stream",
     "text": [
      " 67%|██████▋   | 564/844 [13:16<06:32,  1.40s/it]"
     ]
    },
    {
     "name": "stdout",
     "output_type": "stream",
     "text": [
      "drug reaction with eosinophilia and systemic symptoms,severe cutaneous adverse reactions,Stevens-Johnson Syndrome\n"
     ]
    },
    {
     "name": "stderr",
     "output_type": "stream",
     "text": [
      " 67%|██████▋   | 565/844 [13:18<06:30,  1.40s/it]"
     ]
    },
    {
     "name": "stdout",
     "output_type": "stream",
     "text": [
      "Nausea,Neoplasms,Vomiting\n"
     ]
    },
    {
     "name": "stderr",
     "output_type": "stream",
     "text": [
      " 67%|██████▋   | 566/844 [13:19<06:27,  1.39s/it]"
     ]
    },
    {
     "name": "stdout",
     "output_type": "stream",
     "text": [
      "Multiple Myeloma,progression-free survival\n"
     ]
    },
    {
     "name": "stderr",
     "output_type": "stream",
     "text": [
      " 67%|██████▋   | 567/844 [13:21<06:29,  1.41s/it]"
     ]
    },
    {
     "name": "stdout",
     "output_type": "stream",
     "text": [
      "Cocaine-Related Disorders,Heroin Dependence\n"
     ]
    },
    {
     "name": "stderr",
     "output_type": "stream",
     "text": [
      " 67%|██████▋   | 568/844 [13:22<06:29,  1.41s/it]"
     ]
    },
    {
     "name": "stdout",
     "output_type": "stream",
     "text": [
      "Coronary Disease,Hemorrhage\n"
     ]
    },
    {
     "name": "stderr",
     "output_type": "stream",
     "text": [
      " 67%|██████▋   | 569/844 [13:23<06:27,  1.41s/it]"
     ]
    },
    {
     "name": "stdout",
     "output_type": "stream",
     "text": [
      "Hemorrhage,venous thromboembolism\n"
     ]
    },
    {
     "name": "stderr",
     "output_type": "stream",
     "text": [
      " 68%|██████▊   | 573/844 [13:29<06:22,  1.41s/it]"
     ]
    },
    {
     "name": "stdout",
     "output_type": "stream",
     "text": [
      "Leukopenia,Neutropenia,Precursor Cell Lymphoblastic Leukemia-Lymphoma\n"
     ]
    },
    {
     "name": "stderr",
     "output_type": "stream",
     "text": [
      " 68%|██████▊   | 574/844 [13:30<06:23,  1.42s/it]"
     ]
    },
    {
     "name": "stdout",
     "output_type": "stream",
     "text": [
      "Alzheimer Disease,cognitive dysfunction\n"
     ]
    },
    {
     "name": "stderr",
     "output_type": "stream",
     "text": [
      " 68%|██████▊   | 575/844 [13:32<06:20,  1.41s/it]"
     ]
    },
    {
     "name": "stdout",
     "output_type": "stream",
     "text": [
      "overall survival,Thrombocytopenia\n"
     ]
    },
    {
     "name": "stderr",
     "output_type": "stream",
     "text": [
      " 68%|██████▊   | 576/844 [13:33<06:17,  1.41s/it]"
     ]
    },
    {
     "name": "stdout",
     "output_type": "stream",
     "text": [
      "Drug Toxicity,overall survival\n"
     ]
    },
    {
     "name": "stderr",
     "output_type": "stream",
     "text": [
      " 68%|██████▊   | 577/844 [13:35<06:15,  1.41s/it]"
     ]
    },
    {
     "name": "stdout",
     "output_type": "stream",
     "text": [
      "Anemia,Leukopenia,Nausea,Neutropenia,Thrombocytopenia,Vomiting\n"
     ]
    },
    {
     "name": "stderr",
     "output_type": "stream",
     "text": [
      " 68%|██████▊   | 578/844 [13:36<06:14,  1.41s/it]"
     ]
    },
    {
     "name": "stdout",
     "output_type": "stream",
     "text": [
      "Cardiovascular Diseases,Rhabdomyolysis\n"
     ]
    },
    {
     "name": "stderr",
     "output_type": "stream",
     "text": [
      " 69%|██████▊   | 580/844 [13:39<06:12,  1.41s/it]"
     ]
    },
    {
     "name": "stdout",
     "output_type": "stream",
     "text": [
      "adverse events,Epilepsy\n"
     ]
    },
    {
     "name": "stderr",
     "output_type": "stream",
     "text": [
      " 69%|██████▉   | 581/844 [13:40<06:13,  1.42s/it]"
     ]
    },
    {
     "name": "stdout",
     "output_type": "stream",
     "text": [
      "drug-induced liver injury,Multiple Sclerosis\n"
     ]
    },
    {
     "name": "stderr",
     "output_type": "stream",
     "text": [
      " 69%|██████▉   | 582/844 [13:42<06:09,  1.41s/it]"
     ]
    },
    {
     "name": "stdout",
     "output_type": "stream",
     "text": [
      "Pain, Postoperative,Respiratory Insufficiency\n"
     ]
    },
    {
     "name": "stderr",
     "output_type": "stream",
     "text": [
      " 69%|██████▉   | 584/844 [13:45<06:06,  1.41s/it]"
     ]
    },
    {
     "name": "stdout",
     "output_type": "stream",
     "text": [
      "HIV Infections,Peripheral Nervous System Diseases\n"
     ]
    },
    {
     "name": "stderr",
     "output_type": "stream",
     "text": [
      " 69%|██████▉   | 585/844 [13:46<06:06,  1.42s/it]"
     ]
    },
    {
     "name": "stdout",
     "output_type": "stream",
     "text": [
      "Arthritis, Rheumatoid,Precursor Cell Lymphoblastic Leukemia-Lymphoma\n"
     ]
    },
    {
     "name": "stderr",
     "output_type": "stream",
     "text": [
      " 69%|██████▉   | 586/844 [13:47<06:04,  1.41s/it]"
     ]
    },
    {
     "name": "stdout",
     "output_type": "stream",
     "text": [
      "Colorectal Neoplasms,Head and Neck Neoplasms\n"
     ]
    },
    {
     "name": "stderr",
     "output_type": "stream",
     "text": [
      " 70%|██████▉   | 588/844 [13:50<06:02,  1.41s/it]"
     ]
    },
    {
     "name": "stdout",
     "output_type": "stream",
     "text": [
      "Colonic Neoplasms,Colorectal Neoplasms,Neoplasms,Rectal Neoplasms,Uterine Cervical Neoplasms\n"
     ]
    },
    {
     "name": "stderr",
     "output_type": "stream",
     "text": [
      " 70%|███████   | 591/844 [14:00<12:26,  2.95s/it]"
     ]
    },
    {
     "name": "stdout",
     "output_type": "stream",
     "text": [
      "Alcoholism,Substance-Related Disorders\n"
     ]
    },
    {
     "name": "stderr",
     "output_type": "stream",
     "text": [
      " 70%|███████   | 593/844 [14:02<09:01,  2.16s/it]"
     ]
    },
    {
     "name": "stdout",
     "output_type": "stream",
     "text": [
      "Neutropenia,Pancreatic Neoplasms\n"
     ]
    },
    {
     "name": "stderr",
     "output_type": "stream",
     "text": [
      " 70%|███████   | 594/844 [14:04<08:02,  1.93s/it]"
     ]
    },
    {
     "name": "stdout",
     "output_type": "stream",
     "text": [
      "Testicular Neoplasms,Vomiting\n"
     ]
    },
    {
     "name": "stderr",
     "output_type": "stream",
     "text": [
      " 70%|███████   | 595/844 [14:05<07:22,  1.78s/it]"
     ]
    },
    {
     "name": "stdout",
     "output_type": "stream",
     "text": [
      "Alopecia,Testicular Neoplasms\n"
     ]
    },
    {
     "name": "stderr",
     "output_type": "stream",
     "text": [
      " 71%|███████   | 596/844 [14:07<06:56,  1.68s/it]"
     ]
    },
    {
     "name": "stdout",
     "output_type": "stream",
     "text": [
      "Infection,Nausea,Testicular Neoplasms\n"
     ]
    },
    {
     "name": "stderr",
     "output_type": "stream",
     "text": [
      " 71%|███████   | 597/844 [14:08<06:36,  1.60s/it]"
     ]
    },
    {
     "name": "stdout",
     "output_type": "stream",
     "text": [
      "Alopecia,Pain,Testicular Neoplasms\n"
     ]
    },
    {
     "name": "stderr",
     "output_type": "stream",
     "text": [
      " 71%|███████   | 598/844 [14:09<06:21,  1.55s/it]"
     ]
    },
    {
     "name": "stdout",
     "output_type": "stream",
     "text": [
      "Anemia,Testicular Neoplasms\n"
     ]
    },
    {
     "name": "stderr",
     "output_type": "stream",
     "text": [
      " 71%|███████   | 599/844 [14:11<06:09,  1.51s/it]"
     ]
    },
    {
     "name": "stdout",
     "output_type": "stream",
     "text": [
      "Leukopenia,Testicular Neoplasms\n"
     ]
    },
    {
     "name": "stderr",
     "output_type": "stream",
     "text": [
      " 71%|███████   | 600/844 [14:12<06:01,  1.48s/it]"
     ]
    },
    {
     "name": "stdout",
     "output_type": "stream",
     "text": [
      "febrile neutropenia,Testicular Neoplasms\n"
     ]
    },
    {
     "name": "stderr",
     "output_type": "stream",
     "text": [
      " 71%|███████   | 601/844 [14:14<05:54,  1.46s/it]"
     ]
    },
    {
     "name": "stdout",
     "output_type": "stream",
     "text": [
      "Drug interaction with drug,Drug Toxicity\n"
     ]
    },
    {
     "name": "stderr",
     "output_type": "stream",
     "text": [
      " 72%|███████▏  | 604/844 [14:19<06:13,  1.56s/it]"
     ]
    },
    {
     "name": "stdout",
     "output_type": "stream",
     "text": [
      "short qt syndrome 1\n"
     ]
    },
    {
     "name": "stderr",
     "output_type": "stream",
     "text": [
      " 72%|███████▏  | 605/844 [14:20<06:02,  1.52s/it]"
     ]
    },
    {
     "name": "stdout",
     "output_type": "stream",
     "text": [
      "pneumonitis,progression-free survival\n"
     ]
    },
    {
     "name": "stderr",
     "output_type": "stream",
     "text": [
      " 72%|███████▏  | 607/844 [14:23<05:47,  1.47s/it]"
     ]
    },
    {
     "name": "stdout",
     "output_type": "stream",
     "text": [
      "Heart Arrest,Overdose,Respiratory Insufficiency\n"
     ]
    },
    {
     "name": "stderr",
     "output_type": "stream",
     "text": [
      " 72%|███████▏  | 608/844 [14:25<05:43,  1.46s/it]"
     ]
    },
    {
     "name": "stdout",
     "output_type": "stream",
     "text": [
      "cessation,Tobacco Use Disorder\n"
     ]
    },
    {
     "name": "stderr",
     "output_type": "stream",
     "text": [
      " 72%|███████▏  | 611/844 [14:29<05:31,  1.42s/it]"
     ]
    },
    {
     "name": "stdout",
     "output_type": "stream",
     "text": [
      "Maculopapular Exanthema,Tuberculosis\n"
     ]
    },
    {
     "name": "stderr",
     "output_type": "stream",
     "text": [
      " 73%|███████▎  | 612/844 [14:30<05:30,  1.42s/it]"
     ]
    },
    {
     "name": "stdout",
     "output_type": "stream",
     "text": [
      "Opioid-Related Disorders,Sexual Dysfunctions, Psychological\n"
     ]
    },
    {
     "name": "stderr",
     "output_type": "stream",
     "text": [
      " 73%|███████▎  | 613/844 [14:32<05:26,  1.41s/it]"
     ]
    },
    {
     "name": "stdout",
     "output_type": "stream",
     "text": [
      "adverse events,Opioid-Related Disorders\n"
     ]
    },
    {
     "name": "stderr",
     "output_type": "stream",
     "text": [
      " 73%|███████▎  | 614/844 [14:33<05:25,  1.41s/it]"
     ]
    },
    {
     "name": "stdout",
     "output_type": "stream",
     "text": [
      "Arthritis, Psoriatic,Psoriasis\n"
     ]
    },
    {
     "name": "stderr",
     "output_type": "stream",
     "text": [
      " 73%|███████▎  | 615/844 [14:34<05:25,  1.42s/it]"
     ]
    },
    {
     "name": "stdout",
     "output_type": "stream",
     "text": [
      "Alcoholism,Attention Deficit Disorder with Hyperactivity\n"
     ]
    },
    {
     "name": "stderr",
     "output_type": "stream",
     "text": [
      " 73%|███████▎  | 616/844 [14:36<05:24,  1.42s/it]"
     ]
    },
    {
     "name": "stdout",
     "output_type": "stream",
     "text": [
      "Drug Toxicity,Gastrointestinal Stromal Tumors\n"
     ]
    },
    {
     "name": "stderr",
     "output_type": "stream",
     "text": [
      " 73%|███████▎  | 620/844 [14:41<05:18,  1.42s/it]"
     ]
    },
    {
     "name": "stdout",
     "output_type": "stream",
     "text": [
      "Pancytopenia,Thrombocytopenia\n"
     ]
    },
    {
     "name": "stderr",
     "output_type": "stream",
     "text": [
      " 74%|███████▎  | 621/844 [14:43<05:17,  1.42s/it]"
     ]
    },
    {
     "name": "stdout",
     "output_type": "stream",
     "text": [
      "Depressive Disorder, Major,suicidal ideation\n"
     ]
    },
    {
     "name": "stderr",
     "output_type": "stream",
     "text": [
      " 74%|███████▎  | 622/844 [14:44<05:14,  1.42s/it]"
     ]
    },
    {
     "name": "stdout",
     "output_type": "stream",
     "text": [
      "Drug Toxicity,Tuberculosis\n"
     ]
    },
    {
     "name": "stderr",
     "output_type": "stream",
     "text": [
      " 74%|███████▍  | 624/844 [14:47<05:11,  1.41s/it]"
     ]
    },
    {
     "name": "stdout",
     "output_type": "stream",
     "text": [
      "Mesothelioma,Thrombocytopenia\n"
     ]
    },
    {
     "name": "stderr",
     "output_type": "stream",
     "text": [
      " 74%|███████▍  | 625/844 [14:49<05:10,  1.42s/it]"
     ]
    },
    {
     "name": "stdout",
     "output_type": "stream",
     "text": [
      "Alopecia,Mesothelioma\n"
     ]
    },
    {
     "name": "stderr",
     "output_type": "stream",
     "text": [
      " 74%|███████▍  | 626/844 [14:50<05:08,  1.42s/it]"
     ]
    },
    {
     "name": "stdout",
     "output_type": "stream",
     "text": [
      "Anemia,Mesothelioma\n"
     ]
    },
    {
     "name": "stderr",
     "output_type": "stream",
     "text": [
      " 74%|███████▍  | 627/844 [14:51<05:07,  1.42s/it]"
     ]
    },
    {
     "name": "stdout",
     "output_type": "stream",
     "text": [
      "Leukopenia,Mesothelioma\n"
     ]
    },
    {
     "name": "stderr",
     "output_type": "stream",
     "text": [
      " 74%|███████▍  | 628/844 [14:53<05:05,  1.42s/it]"
     ]
    },
    {
     "name": "stdout",
     "output_type": "stream",
     "text": [
      "hematopoietic stem cell transplantation,Neurotoxicity Syndromes\n"
     ]
    },
    {
     "name": "stderr",
     "output_type": "stream",
     "text": [
      " 75%|███████▍  | 630/844 [14:56<05:06,  1.43s/it]"
     ]
    },
    {
     "name": "stdout",
     "output_type": "stream",
     "text": [
      "Diabetes Mellitus, Type 2,Weight gain\n"
     ]
    },
    {
     "name": "stderr",
     "output_type": "stream",
     "text": [
      " 75%|███████▍  | 631/844 [14:57<05:03,  1.43s/it]"
     ]
    },
    {
     "name": "stdout",
     "output_type": "stream",
     "text": [
      "Carcinoma, Non-Small-Cell Lung,pneumonitis\n"
     ]
    },
    {
     "name": "stderr",
     "output_type": "stream",
     "text": [
      " 75%|███████▍  | 632/844 [14:59<05:01,  1.42s/it]"
     ]
    },
    {
     "name": "stdout",
     "output_type": "stream",
     "text": [
      "adverse events,Carcinoma, Non-Small-Cell Lung\n"
     ]
    },
    {
     "name": "stderr",
     "output_type": "stream",
     "text": [
      " 75%|███████▌  | 633/844 [15:00<05:00,  1.42s/it]"
     ]
    },
    {
     "name": "stdout",
     "output_type": "stream",
     "text": [
      "Constriction, Pathologic,Ischemic Attack, Transient,Stroke\n"
     ]
    },
    {
     "name": "stderr",
     "output_type": "stream",
     "text": [
      " 75%|███████▌  | 634/844 [15:01<04:58,  1.42s/it]"
     ]
    },
    {
     "name": "stdout",
     "output_type": "stream",
     "text": [
      "HIV Infections,Hyperlipidemias,Hypertriglyceridemia\n"
     ]
    },
    {
     "name": "stderr",
     "output_type": "stream",
     "text": [
      " 75%|███████▌  | 635/844 [15:03<04:56,  1.42s/it]"
     ]
    },
    {
     "name": "stdout",
     "output_type": "stream",
     "text": [
      "lung transplantation,overall survival\n"
     ]
    },
    {
     "name": "stderr",
     "output_type": "stream",
     "text": [
      " 75%|███████▌  | 636/844 [15:04<04:55,  1.42s/it]"
     ]
    },
    {
     "name": "stdout",
     "output_type": "stream",
     "text": [
      "chronic lung allograft dysfunction,lung transplantation\n"
     ]
    },
    {
     "name": "stderr",
     "output_type": "stream",
     "text": [
      " 76%|███████▌  | 640/844 [15:10<04:48,  1.42s/it]"
     ]
    },
    {
     "name": "stdout",
     "output_type": "stream",
     "text": [
      "adverse events,Arthritis, Rheumatoid\n"
     ]
    },
    {
     "name": "stderr",
     "output_type": "stream",
     "text": [
      " 76%|███████▌  | 641/844 [15:11<04:46,  1.41s/it]"
     ]
    },
    {
     "name": "stdout",
     "output_type": "stream",
     "text": [
      "heart valve replacement,Hemorrhage\n"
     ]
    },
    {
     "name": "stderr",
     "output_type": "stream",
     "text": [
      " 76%|███████▋  | 644/844 [15:16<04:44,  1.42s/it]"
     ]
    },
    {
     "name": "stdout",
     "output_type": "stream",
     "text": [
      "Epilepsy,Psychotic Disorders\n"
     ]
    },
    {
     "name": "stderr",
     "output_type": "stream",
     "text": [
      " 77%|███████▋  | 647/844 [15:20<04:40,  1.42s/it]"
     ]
    },
    {
     "name": "stdout",
     "output_type": "stream",
     "text": [
      "Hepatitis C,Liver Neoplasms\n"
     ]
    },
    {
     "name": "stderr",
     "output_type": "stream",
     "text": [
      " 77%|███████▋  | 648/844 [15:21<04:39,  1.43s/it]"
     ]
    },
    {
     "name": "stdout",
     "output_type": "stream",
     "text": [
      "Carcinoma, Non-Small-Cell Lung,Thrombocytopenia\n"
     ]
    },
    {
     "name": "stderr",
     "output_type": "stream",
     "text": [
      " 77%|███████▋  | 649/844 [15:23<04:36,  1.42s/it]"
     ]
    },
    {
     "name": "stdout",
     "output_type": "stream",
     "text": [
      "HIV Infections,nephrotoxicity\n"
     ]
    },
    {
     "name": "stderr",
     "output_type": "stream",
     "text": [
      " 77%|███████▋  | 651/844 [15:25<04:31,  1.41s/it]"
     ]
    },
    {
     "name": "stdout",
     "output_type": "stream",
     "text": [
      "sedation,Urticaria\n"
     ]
    },
    {
     "name": "stderr",
     "output_type": "stream",
     "text": [
      " 77%|███████▋  | 652/844 [15:27<04:31,  1.41s/it]"
     ]
    },
    {
     "name": "stdout",
     "output_type": "stream",
     "text": [
      "Neoplasms,Ototoxicity,Testicular Neoplasms\n"
     ]
    },
    {
     "name": "stderr",
     "output_type": "stream",
     "text": [
      " 77%|███████▋  | 653/844 [15:28<04:28,  1.40s/it]"
     ]
    },
    {
     "name": "stdout",
     "output_type": "stream",
     "text": [
      "Alcoholism,Bipolar Disorder\n"
     ]
    },
    {
     "name": "stderr",
     "output_type": "stream",
     "text": [
      " 77%|███████▋  | 654/844 [15:30<04:29,  1.42s/it]"
     ]
    },
    {
     "name": "stdout",
     "output_type": "stream",
     "text": [
      "Carcinoma, Non-Small-Cell Lung,Toxic liver disease\n"
     ]
    },
    {
     "name": "stderr",
     "output_type": "stream",
     "text": [
      " 78%|███████▊  | 655/844 [15:31<04:27,  1.42s/it]"
     ]
    },
    {
     "name": "stdout",
     "output_type": "stream",
     "text": [
      "Carcinoma, Non-Small-Cell Lung,Exanthema\n"
     ]
    },
    {
     "name": "stderr",
     "output_type": "stream",
     "text": [
      " 78%|███████▊  | 656/844 [15:33<04:28,  1.43s/it]"
     ]
    },
    {
     "name": "stdout",
     "output_type": "stream",
     "text": [
      "Carcinoma, Non-Small-Cell Lung,Diarrhea\n"
     ]
    },
    {
     "name": "stderr",
     "output_type": "stream",
     "text": [
      " 78%|███████▊  | 658/844 [15:35<04:25,  1.43s/it]"
     ]
    },
    {
     "name": "stdout",
     "output_type": "stream",
     "text": [
      "Sexual Dysfunctions, Psychological\n"
     ]
    },
    {
     "name": "stderr",
     "output_type": "stream",
     "text": [
      " 78%|███████▊  | 659/844 [15:37<04:24,  1.43s/it]"
     ]
    },
    {
     "name": "stdout",
     "output_type": "stream",
     "text": [
      "Hyperalgesia\n"
     ]
    },
    {
     "name": "stderr",
     "output_type": "stream",
     "text": [
      " 79%|███████▊  | 663/844 [15:43<04:17,  1.42s/it]"
     ]
    },
    {
     "name": "stdout",
     "output_type": "stream",
     "text": [
      "Death,Opioid-Related Disorders\n"
     ]
    },
    {
     "name": "stderr",
     "output_type": "stream",
     "text": [
      " 79%|███████▉  | 665/844 [15:45<04:14,  1.42s/it]"
     ]
    },
    {
     "name": "stdout",
     "output_type": "stream",
     "text": [
      "Colorectal Neoplasms,Esophageal Neoplasms,Osteosarcoma,Ovarian Neoplasms,Pancreatic Neoplasms\n"
     ]
    },
    {
     "name": "stderr",
     "output_type": "stream",
     "text": [
      " 79%|███████▉  | 666/844 [15:47<04:12,  1.42s/it]"
     ]
    },
    {
     "name": "stdout",
     "output_type": "stream",
     "text": [
      "overall survival\n"
     ]
    },
    {
     "name": "stderr",
     "output_type": "stream",
     "text": [
      " 79%|███████▉  | 667/844 [15:48<04:12,  1.43s/it]"
     ]
    },
    {
     "name": "stdout",
     "output_type": "stream",
     "text": [
      "hand-foot syndrome,Neoplasms\n"
     ]
    },
    {
     "name": "stderr",
     "output_type": "stream",
     "text": [
      " 79%|███████▉  | 668/844 [15:50<04:11,  1.43s/it]"
     ]
    },
    {
     "name": "stdout",
     "output_type": "stream",
     "text": [
      "Neoplasms,Osteosarcoma,Ototoxicity,Testicular Neoplasms\n"
     ]
    },
    {
     "name": "stderr",
     "output_type": "stream",
     "text": [
      " 79%|███████▉  | 669/844 [15:51<04:09,  1.42s/it]"
     ]
    },
    {
     "name": "stdout",
     "output_type": "stream",
     "text": [
      "Neutropenia,Urinary Bladder Neoplasms\n"
     ]
    },
    {
     "name": "stderr",
     "output_type": "stream",
     "text": [
      " 79%|███████▉  | 670/844 [15:53<04:07,  1.42s/it]"
     ]
    },
    {
     "name": "stdout",
     "output_type": "stream",
     "text": [
      "Drug Toxicity,Urinary Bladder Neoplasms\n"
     ]
    },
    {
     "name": "stderr",
     "output_type": "stream",
     "text": [
      " 80%|███████▉  | 671/844 [15:54<04:07,  1.43s/it]"
     ]
    },
    {
     "name": "stdout",
     "output_type": "stream",
     "text": [
      "severe cutaneous adverse reactions,Stevens-Johnson Syndrome\n"
     ]
    },
    {
     "name": "stderr",
     "output_type": "stream",
     "text": [
      " 80%|███████▉  | 672/844 [15:55<04:05,  1.43s/it]"
     ]
    },
    {
     "name": "stdout",
     "output_type": "stream",
     "text": [
      "Carcinoma, Hepatocellular,Hyperbilirubinemia\n"
     ]
    },
    {
     "name": "stderr",
     "output_type": "stream",
     "text": [
      " 80%|███████▉  | 673/844 [15:57<04:11,  1.47s/it]"
     ]
    },
    {
     "name": "stdout",
     "output_type": "stream",
     "text": [
      "Hyperprolactinemia,Schizophrenia\n"
     ]
    },
    {
     "name": "stderr",
     "output_type": "stream",
     "text": [
      " 80%|███████▉  | 674/844 [15:58<04:06,  1.45s/it]"
     ]
    },
    {
     "name": "stdout",
     "output_type": "stream",
     "text": [
      "Arteriosclerosis,Coronary Disease,Essential hypertension,glomerular disease,Glomerulonephritis, IGA,Kidney Diseases\n"
     ]
    },
    {
     "name": "stderr",
     "output_type": "stream",
     "text": [
      " 80%|███████▉  | 675/844 [16:00<04:03,  1.44s/it]"
     ]
    },
    {
     "name": "stdout",
     "output_type": "stream",
     "text": [
      "Carcinoma, Non-Small-Cell Lung,Mesothelioma,Pancreatic Neoplasms\n"
     ]
    },
    {
     "name": "stderr",
     "output_type": "stream",
     "text": [
      " 80%|████████  | 676/844 [16:01<04:02,  1.45s/it]"
     ]
    },
    {
     "name": "stdout",
     "output_type": "stream",
     "text": [
      "Carcinoma, Non-Small-Cell Lung,Colorectal Neoplasms,Gastrointestinal Neoplasms,Ovarian Neoplasms\n"
     ]
    },
    {
     "name": "stderr",
     "output_type": "stream",
     "text": [
      " 80%|████████  | 677/844 [16:03<03:59,  1.43s/it]"
     ]
    },
    {
     "name": "stdout",
     "output_type": "stream",
     "text": [
      "Leukopenia,Myelosuppression,Neutropenia,Thrombocytopenia\n"
     ]
    },
    {
     "name": "stderr",
     "output_type": "stream",
     "text": [
      " 81%|████████  | 682/844 [16:10<03:50,  1.42s/it]"
     ]
    },
    {
     "name": "stdout",
     "output_type": "stream",
     "text": [
      "Heart Failure,Neoplasms\n"
     ]
    },
    {
     "name": "stderr",
     "output_type": "stream",
     "text": [
      " 81%|████████  | 683/844 [16:11<03:48,  1.42s/it]"
     ]
    },
    {
     "name": "stdout",
     "output_type": "stream",
     "text": [
      "Cardiomyopathies,Neoplasms\n"
     ]
    },
    {
     "name": "stderr",
     "output_type": "stream",
     "text": [
      " 81%|████████  | 685/844 [16:14<03:46,  1.42s/it]"
     ]
    },
    {
     "name": "stdout",
     "output_type": "stream",
     "text": [
      "Mental Disorders,Schizophrenia\n"
     ]
    },
    {
     "name": "stderr",
     "output_type": "stream",
     "text": [
      " 81%|████████▏ | 686/844 [16:15<03:44,  1.42s/it]"
     ]
    },
    {
     "name": "stdout",
     "output_type": "stream",
     "text": [
      "Metabolic Syndrome,Schizophrenia\n"
     ]
    },
    {
     "name": "stderr",
     "output_type": "stream",
     "text": [
      " 82%|████████▏ | 688/844 [16:18<03:41,  1.42s/it]"
     ]
    },
    {
     "name": "stdout",
     "output_type": "stream",
     "text": [
      "Brain Neoplasms,Deafness,Ototoxicity\n"
     ]
    },
    {
     "name": "stderr",
     "output_type": "stream",
     "text": [
      " 82%|████████▏ | 692/844 [16:24<03:35,  1.42s/it]"
     ]
    },
    {
     "name": "stdout",
     "output_type": "stream",
     "text": [
      "Nausea,Pain, Postoperative,Vomiting\n"
     ]
    },
    {
     "name": "stderr",
     "output_type": "stream",
     "text": [
      " 82%|████████▏ | 693/844 [16:25<03:33,  1.41s/it]"
     ]
    },
    {
     "name": "stdout",
     "output_type": "stream",
     "text": [
      "Constipation,dry mouth,Respiratory Insufficiency\n"
     ]
    },
    {
     "name": "stderr",
     "output_type": "stream",
     "text": [
      " 82%|████████▏ | 694/844 [16:27<03:32,  1.42s/it]"
     ]
    },
    {
     "name": "stdout",
     "output_type": "stream",
     "text": [
      "Exanthema,Opioid-Related Disorders\n"
     ]
    },
    {
     "name": "stderr",
     "output_type": "stream",
     "text": [
      " 82%|████████▏ | 695/844 [16:28<03:30,  1.42s/it]"
     ]
    },
    {
     "name": "stdout",
     "output_type": "stream",
     "text": [
      "adverse events,Nausea,Vomiting\n"
     ]
    },
    {
     "name": "stderr",
     "output_type": "stream",
     "text": [
      " 82%|████████▏ | 696/844 [16:30<03:29,  1.41s/it]"
     ]
    },
    {
     "name": "stdout",
     "output_type": "stream",
     "text": [
      "Opioid-Related Disorders,Sleep Disorders\n"
     ]
    },
    {
     "name": "stderr",
     "output_type": "stream",
     "text": [
      " 83%|████████▎ | 697/844 [16:31<03:28,  1.42s/it]"
     ]
    },
    {
     "name": "stdout",
     "output_type": "stream",
     "text": [
      "overall survival,progression-free survival\n"
     ]
    },
    {
     "name": "stderr",
     "output_type": "stream",
     "text": [
      " 83%|████████▎ | 699/844 [16:34<03:25,  1.42s/it]"
     ]
    },
    {
     "name": "stdout",
     "output_type": "stream",
     "text": [
      "Medulloblastoma,Neoplasms,Ototoxicity,Testicular Neoplasms\n"
     ]
    },
    {
     "name": "stderr",
     "output_type": "stream",
     "text": [
      " 83%|████████▎ | 701/844 [16:37<03:23,  1.42s/it]"
     ]
    },
    {
     "name": "stdout",
     "output_type": "stream",
     "text": [
      "Postoperative Nausea and Vomiting,Vomiting\n"
     ]
    },
    {
     "name": "stderr",
     "output_type": "stream",
     "text": [
      " 83%|████████▎ | 703/844 [16:40<03:20,  1.42s/it]"
     ]
    },
    {
     "name": "stdout",
     "output_type": "stream",
     "text": [
      "HIV Infections,Toxic liver disease\n"
     ]
    },
    {
     "name": "stderr",
     "output_type": "stream",
     "text": [
      " 84%|████████▎ | 705/844 [16:42<03:18,  1.43s/it]"
     ]
    },
    {
     "name": "stdout",
     "output_type": "stream",
     "text": [
      "Carcinoma, Hepatocellular,Carcinoma, Renal Cell\n"
     ]
    },
    {
     "name": "stderr",
     "output_type": "stream",
     "text": [
      " 84%|████████▎ | 706/844 [16:44<03:17,  1.43s/it]"
     ]
    },
    {
     "name": "stdout",
     "output_type": "stream",
     "text": [
      "Carcinoma, Hepatocellular,Liver Neoplasms\n"
     ]
    },
    {
     "name": "stderr",
     "output_type": "stream",
     "text": [
      " 84%|████████▍ | 707/844 [16:45<03:15,  1.43s/it]"
     ]
    },
    {
     "name": "stdout",
     "output_type": "stream",
     "text": [
      "Breast Neoplasms,Ovarian Neoplasms,Peripheral Nervous System Diseases\n"
     ]
    },
    {
     "name": "stderr",
     "output_type": "stream",
     "text": [
      " 84%|████████▍ | 708/844 [16:47<03:15,  1.43s/it]"
     ]
    },
    {
     "name": "stdout",
     "output_type": "stream",
     "text": [
      "sustained virological response (svr)\n"
     ]
    },
    {
     "name": "stderr",
     "output_type": "stream",
     "text": [
      " 84%|████████▍ | 712/844 [16:52<03:07,  1.42s/it]"
     ]
    },
    {
     "name": "stdout",
     "output_type": "stream",
     "text": [
      "Opioid-Related Disorders,Pruritus\n"
     ]
    },
    {
     "name": "stderr",
     "output_type": "stream",
     "text": [
      " 84%|████████▍ | 713/844 [16:54<03:05,  1.42s/it]"
     ]
    },
    {
     "name": "stdout",
     "output_type": "stream",
     "text": [
      "Heroin Dependence,Memory Disorders\n"
     ]
    },
    {
     "name": "stderr",
     "output_type": "stream",
     "text": [
      " 85%|████████▍ | 715/844 [16:57<03:02,  1.42s/it]"
     ]
    },
    {
     "name": "stdout",
     "output_type": "stream",
     "text": [
      "Acute coronary syndrome,Coronary Artery Disease,Hemorrhage,Myocardial Infarction\n"
     ]
    },
    {
     "name": "stderr",
     "output_type": "stream",
     "text": [
      " 85%|████████▍ | 716/844 [16:58<03:01,  1.42s/it]"
     ]
    },
    {
     "name": "stdout",
     "output_type": "stream",
     "text": [
      "Drug Toxicity,Thalassemia\n"
     ]
    },
    {
     "name": "stderr",
     "output_type": "stream",
     "text": [
      " 85%|████████▍ | 717/844 [16:59<03:00,  1.42s/it]"
     ]
    },
    {
     "name": "stdout",
     "output_type": "stream",
     "text": [
      "adverse events,neuropathic pain\n"
     ]
    },
    {
     "name": "stderr",
     "output_type": "stream",
     "text": [
      " 85%|████████▌ | 718/844 [17:01<02:59,  1.42s/it]"
     ]
    },
    {
     "name": "stdout",
     "output_type": "stream",
     "text": [
      "Agranulocytosis,Graves Disease\n"
     ]
    },
    {
     "name": "stderr",
     "output_type": "stream",
     "text": [
      " 85%|████████▌ | 721/844 [17:05<02:54,  1.42s/it]"
     ]
    },
    {
     "name": "stdout",
     "output_type": "stream",
     "text": [
      "Hypertriglyceridemia,schizoaffective disorder,Schizophrenia,Weight gain\n"
     ]
    },
    {
     "name": "stderr",
     "output_type": "stream",
     "text": [
      " 86%|████████▌ | 722/844 [17:07<02:52,  1.41s/it]"
     ]
    },
    {
     "name": "stdout",
     "output_type": "stream",
     "text": [
      "Hypertriglyceridemia,Weight gain\n"
     ]
    },
    {
     "name": "stderr",
     "output_type": "stream",
     "text": [
      " 86%|████████▌ | 723/844 [17:08<02:52,  1.42s/it]"
     ]
    },
    {
     "name": "stdout",
     "output_type": "stream",
     "text": [
      "Fractures, Bone,Pain,Pain, Postoperative\n"
     ]
    },
    {
     "name": "stderr",
     "output_type": "stream",
     "text": [
      " 86%|████████▌ | 724/844 [17:09<02:50,  1.42s/it]"
     ]
    },
    {
     "name": "stdout",
     "output_type": "stream",
     "text": [
      "Colitis, Ulcerative,Crohn Disease,Irritable Bowel Syndrome,Leukopenia,Neutropenia\n"
     ]
    },
    {
     "name": "stderr",
     "output_type": "stream",
     "text": [
      " 86%|████████▌ | 725/844 [17:11<02:49,  1.42s/it]"
     ]
    },
    {
     "name": "stdout",
     "output_type": "stream",
     "text": [
      "Breast Neoplasms,heart transplantation,Kidney Neoplasms,Kidney Transplantation,lung transplantation,Neuroendocrine Tumors\n"
     ]
    },
    {
     "name": "stderr",
     "output_type": "stream",
     "text": [
      " 86%|████████▌ | 726/844 [17:12<02:46,  1.41s/it]"
     ]
    },
    {
     "name": "stdout",
     "output_type": "stream",
     "text": [
      "Breast Neoplasms,Kidney Neoplasms,Neuroendocrine Tumors\n"
     ]
    },
    {
     "name": "stderr",
     "output_type": "stream",
     "text": [
      " 86%|████████▌ | 727/844 [17:14<02:45,  1.41s/it]"
     ]
    },
    {
     "name": "stdout",
     "output_type": "stream",
     "text": [
      "Carcinoma, Squamous Cell,overall survival\n"
     ]
    },
    {
     "name": "stderr",
     "output_type": "stream",
     "text": [
      " 86%|████████▋ | 728/844 [17:15<02:43,  1.41s/it]"
     ]
    },
    {
     "name": "stdout",
     "output_type": "stream",
     "text": [
      "Carcinoma, Squamous Cell,progression-free survival\n"
     ]
    },
    {
     "name": "stderr",
     "output_type": "stream",
     "text": [
      " 86%|████████▋ | 729/844 [17:16<02:42,  1.41s/it]"
     ]
    },
    {
     "name": "stdout",
     "output_type": "stream",
     "text": [
      "Diabetes Mellitus, Type 2,Hypoglycemia\n"
     ]
    },
    {
     "name": "stderr",
     "output_type": "stream",
     "text": [
      " 87%|████████▋ | 731/844 [17:19<02:40,  1.42s/it]"
     ]
    },
    {
     "name": "stdout",
     "output_type": "stream",
     "text": [
      "postanesthesia apnea\n"
     ]
    },
    {
     "name": "stderr",
     "output_type": "stream",
     "text": [
      " 87%|████████▋ | 732/844 [17:21<02:38,  1.42s/it]"
     ]
    },
    {
     "name": "stdout",
     "output_type": "stream",
     "text": [
      "adverse events,Bipolar Disorder,Depression,Depressive Disorder, Major\n"
     ]
    },
    {
     "name": "stderr",
     "output_type": "stream",
     "text": [
      " 87%|████████▋ | 733/844 [17:22<02:37,  1.42s/it]"
     ]
    },
    {
     "name": "stdout",
     "output_type": "stream",
     "text": [
      "Bipolar Disorder,Depression,Depressive Disorder, Major\n"
     ]
    },
    {
     "name": "stderr",
     "output_type": "stream",
     "text": [
      " 87%|████████▋ | 734/844 [17:24<02:36,  1.42s/it]"
     ]
    },
    {
     "name": "stdout",
     "output_type": "stream",
     "text": [
      "Pancreatic Neoplasms,Thrombocytopenia\n"
     ]
    },
    {
     "name": "stderr",
     "output_type": "stream",
     "text": [
      " 87%|████████▋ | 735/844 [17:25<02:36,  1.43s/it]"
     ]
    },
    {
     "name": "stdout",
     "output_type": "stream",
     "text": [
      "Nausea,Pancreatic Neoplasms\n"
     ]
    },
    {
     "name": "stderr",
     "output_type": "stream",
     "text": [
      " 87%|████████▋ | 736/844 [17:26<02:34,  1.43s/it]"
     ]
    },
    {
     "name": "stdout",
     "output_type": "stream",
     "text": [
      "Adenocarcinoma,Carcinoma, Non-Small-Cell Lung,Drug Toxicity,Exanthema,Toxic liver disease\n"
     ]
    },
    {
     "name": "stderr",
     "output_type": "stream",
     "text": [
      " 88%|████████▊ | 739/844 [17:31<02:29,  1.43s/it]"
     ]
    },
    {
     "name": "stdout",
     "output_type": "stream",
     "text": [
      "Leukopenia,Precursor Cell Lymphoblastic Leukemia-Lymphoma\n"
     ]
    },
    {
     "name": "stderr",
     "output_type": "stream",
     "text": [
      " 88%|████████▊ | 740/844 [17:32<02:28,  1.43s/it]"
     ]
    },
    {
     "name": "stdout",
     "output_type": "stream",
     "text": [
      "Leukopenia,Osteosarcoma\n"
     ]
    },
    {
     "name": "stderr",
     "output_type": "stream",
     "text": [
      " 88%|████████▊ | 741/844 [17:34<02:27,  1.43s/it]"
     ]
    },
    {
     "name": "stdout",
     "output_type": "stream",
     "text": [
      "mucositis,Osteosarcoma\n"
     ]
    },
    {
     "name": "stderr",
     "output_type": "stream",
     "text": [
      " 88%|████████▊ | 742/844 [17:35<02:25,  1.42s/it]"
     ]
    },
    {
     "name": "stdout",
     "output_type": "stream",
     "text": [
      "Anemia,mucositis,Osteosarcoma\n"
     ]
    },
    {
     "name": "stderr",
     "output_type": "stream",
     "text": [
      " 88%|████████▊ | 743/844 [17:36<02:23,  1.42s/it]"
     ]
    },
    {
     "name": "stdout",
     "output_type": "stream",
     "text": [
      "cardiotoxicity,Osteosarcoma\n"
     ]
    },
    {
     "name": "stderr",
     "output_type": "stream",
     "text": [
      " 88%|████████▊ | 744/844 [17:38<02:22,  1.42s/it]"
     ]
    },
    {
     "name": "stdout",
     "output_type": "stream",
     "text": [
      "nephrotoxicity,Osteosarcoma\n"
     ]
    },
    {
     "name": "stderr",
     "output_type": "stream",
     "text": [
      " 88%|████████▊ | 745/844 [17:39<02:21,  1.43s/it]"
     ]
    },
    {
     "name": "stdout",
     "output_type": "stream",
     "text": [
      "Hypertension,Hypertrophy, Left Ventricular\n"
     ]
    },
    {
     "name": "stderr",
     "output_type": "stream",
     "text": [
      " 88%|████████▊ | 746/844 [17:41<02:19,  1.43s/it]"
     ]
    },
    {
     "name": "stdout",
     "output_type": "stream",
     "text": [
      "Mesothelioma,Precursor Cell Lymphoblastic Leukemia-Lymphoma\n"
     ]
    },
    {
     "name": "stderr",
     "output_type": "stream",
     "text": [
      " 89%|████████▊ | 747/844 [17:42<02:18,  1.43s/it]"
     ]
    },
    {
     "name": "stdout",
     "output_type": "stream",
     "text": [
      "Neoplasms,Precursor Cell Lymphoblastic Leukemia-Lymphoma\n"
     ]
    },
    {
     "name": "stderr",
     "output_type": "stream",
     "text": [
      " 89%|████████▊ | 748/844 [17:44<02:16,  1.42s/it]"
     ]
    },
    {
     "name": "stdout",
     "output_type": "stream",
     "text": [
      "drug-induced liver injury,Leukopenia,Precursor Cell Lymphoblastic Leukemia-Lymphoma,Thrombocytopenia\n"
     ]
    },
    {
     "name": "stderr",
     "output_type": "stream",
     "text": [
      " 89%|████████▊ | 749/844 [17:45<02:14,  1.42s/it]"
     ]
    },
    {
     "name": "stdout",
     "output_type": "stream",
     "text": [
      "gastrointestinal toxicity,mucositis,Neutropenia,Precursor Cell Lymphoblastic Leukemia-Lymphoma\n"
     ]
    },
    {
     "name": "stderr",
     "output_type": "stream",
     "text": [
      " 89%|████████▉ | 750/844 [17:46<02:13,  1.42s/it]"
     ]
    },
    {
     "name": "stdout",
     "output_type": "stream",
     "text": [
      "Esophageal Neoplasms,Ovarian Neoplasms,Stomach Neoplasms\n"
     ]
    },
    {
     "name": "stderr",
     "output_type": "stream",
     "text": [
      " 89%|████████▉ | 751/844 [17:48<02:12,  1.42s/it]"
     ]
    },
    {
     "name": "stdout",
     "output_type": "stream",
     "text": [
      "Lymphoma, Non-Hodgkin,Precursor Cell Lymphoblastic Leukemia-Lymphoma\n"
     ]
    },
    {
     "name": "stderr",
     "output_type": "stream",
     "text": [
      " 89%|████████▉ | 752/844 [17:49<02:10,  1.42s/it]"
     ]
    },
    {
     "name": "stdout",
     "output_type": "stream",
     "text": [
      "Acute coronary syndrome,Hyperlipoproteinemia Type II\n"
     ]
    },
    {
     "name": "stderr",
     "output_type": "stream",
     "text": [
      " 89%|████████▉ | 754/844 [17:52<02:06,  1.41s/it]"
     ]
    },
    {
     "name": "stdout",
     "output_type": "stream",
     "text": [
      "gastrointestinal toxicity,Hallucinations,Parkinson Disease\n"
     ]
    },
    {
     "name": "stderr",
     "output_type": "stream",
     "text": [
      " 89%|████████▉ | 755/844 [17:53<02:05,  1.41s/it]"
     ]
    },
    {
     "name": "stdout",
     "output_type": "stream",
     "text": [
      "Burkitt Lymphoma,Lymphoma, T-Cell,Precursor Cell Lymphoblastic Leukemia-Lymphoma\n"
     ]
    },
    {
     "name": "stderr",
     "output_type": "stream",
     "text": [
      " 90%|████████▉ | 756/844 [17:55<02:04,  1.41s/it]"
     ]
    },
    {
     "name": "stdout",
     "output_type": "stream",
     "text": [
      "Carcinoma, Non-Small-Cell Lung,Drug Toxicity,Leukemia, B-Cell, Acute\n"
     ]
    },
    {
     "name": "stderr",
     "output_type": "stream",
     "text": [
      " 90%|████████▉ | 757/844 [17:56<02:03,  1.42s/it]"
     ]
    },
    {
     "name": "stdout",
     "output_type": "stream",
     "text": [
      "Osteosarcoma,Precursor Cell Lymphoblastic Leukemia-Lymphoma\n"
     ]
    },
    {
     "name": "stderr",
     "output_type": "stream",
     "text": [
      " 90%|████████▉ | 758/844 [17:58<02:02,  1.43s/it]"
     ]
    },
    {
     "name": "stdout",
     "output_type": "stream",
     "text": [
      "Lymphoma,mucositis,Osteosarcoma,Precursor Cell Lymphoblastic Leukemia-Lymphoma\n"
     ]
    },
    {
     "name": "stderr",
     "output_type": "stream",
     "text": [
      " 90%|████████▉ | 759/844 [17:59<02:00,  1.42s/it]"
     ]
    },
    {
     "name": "stdout",
     "output_type": "stream",
     "text": [
      "Burkitt Lymphoma,Drug Toxicity,Lymphoma, T-Cell,Precursor Cell Lymphoblastic Leukemia-Lymphoma\n"
     ]
    },
    {
     "name": "stderr",
     "output_type": "stream",
     "text": [
      " 90%|█████████ | 760/844 [18:01<01:58,  1.42s/it]"
     ]
    },
    {
     "name": "stdout",
     "output_type": "stream",
     "text": [
      "Leukemia,Lymphoma,Osteosarcoma,Precursor Cell Lymphoblastic Leukemia-Lymphoma\n"
     ]
    },
    {
     "name": "stderr",
     "output_type": "stream",
     "text": [
      " 90%|█████████ | 761/844 [18:02<01:57,  1.41s/it]"
     ]
    },
    {
     "name": "stdout",
     "output_type": "stream",
     "text": [
      "Lymphoma,Osteosarcoma,Precursor Cell Lymphoblastic Leukemia-Lymphoma\n"
     ]
    },
    {
     "name": "stderr",
     "output_type": "stream",
     "text": [
      " 90%|█████████ | 762/844 [18:03<01:55,  1.41s/it]"
     ]
    },
    {
     "name": "stdout",
     "output_type": "stream",
     "text": [
      "Anemia,Leukopenia,Lymphoma, Non-Hodgkin,mucositis,Osteosarcoma,Precursor Cell Lymphoblastic Leukemia-Lymphoma,Thrombocytopenia,Toxic liver disease\n"
     ]
    },
    {
     "name": "stderr",
     "output_type": "stream",
     "text": [
      " 90%|█████████ | 763/844 [18:05<01:54,  1.41s/it]"
     ]
    },
    {
     "name": "stdout",
     "output_type": "stream",
     "text": [
      "Drug Toxicity,Precursor Cell Lymphoblastic Leukemia-Lymphoma\n"
     ]
    },
    {
     "name": "stderr",
     "output_type": "stream",
     "text": [
      " 91%|█████████ | 764/844 [18:06<01:52,  1.41s/it]"
     ]
    },
    {
     "name": "stdout",
     "output_type": "stream",
     "text": [
      "Drug Toxicity,Lymphoma,Osteosarcoma,Precursor Cell Lymphoblastic Leukemia-Lymphoma\n"
     ]
    },
    {
     "name": "stderr",
     "output_type": "stream",
     "text": [
      " 91%|█████████ | 765/844 [18:08<01:52,  1.42s/it]"
     ]
    },
    {
     "name": "stdout",
     "output_type": "stream",
     "text": [
      "gastrointestinal toxicity,Precursor Cell Lymphoblastic Leukemia-Lymphoma\n"
     ]
    },
    {
     "name": "stderr",
     "output_type": "stream",
     "text": [
      " 91%|█████████ | 767/844 [18:10<01:49,  1.42s/it]"
     ]
    },
    {
     "name": "stdout",
     "output_type": "stream",
     "text": [
      "Breast Neoplasms,Peripheral Nervous System Diseases\n"
     ]
    },
    {
     "name": "stderr",
     "output_type": "stream",
     "text": [
      " 91%|█████████ | 769/844 [18:13<01:46,  1.42s/it]"
     ]
    },
    {
     "name": "stdout",
     "output_type": "stream",
     "text": [
      "Constipation,Delirium,Lung Neoplasms,Nausea,Pain,Postoperative Nausea and Vomiting,Pruritus,Respiratory Insufficiency,somnolence,Urinary Retention\n"
     ]
    },
    {
     "name": "stderr",
     "output_type": "stream",
     "text": [
      " 91%|█████████ | 770/844 [18:15<01:44,  1.42s/it]"
     ]
    },
    {
     "name": "stdout",
     "output_type": "stream",
     "text": [
      "adverse events,Constipation,Delirium,Dizziness,Nausea,Pain, Postoperative,Postoperative Nausea and Vomiting,Pruritus,Respiratory Insufficiency,somnolence,Urinary Retention,Vomiting\n"
     ]
    },
    {
     "name": "stderr",
     "output_type": "stream",
     "text": [
      " 91%|█████████▏| 771/844 [18:16<01:42,  1.41s/it]"
     ]
    },
    {
     "name": "stdout",
     "output_type": "stream",
     "text": [
      "Burkitt Lymphoma,Leukemia,Lymphoma,Lymphoma, T-Cell,Precursor Cell Lymphoblastic Leukemia-Lymphoma\n"
     ]
    },
    {
     "name": "stderr",
     "output_type": "stream",
     "text": [
      " 91%|█████████▏| 772/844 [18:17<01:41,  1.41s/it]"
     ]
    },
    {
     "name": "stdout",
     "output_type": "stream",
     "text": [
      "Graft vs Host Disease,Leukemia,Leukemia, Myelogenous, Chronic, BCR-ABL Positive\n"
     ]
    },
    {
     "name": "stderr",
     "output_type": "stream",
     "text": [
      " 92%|█████████▏| 774/844 [18:20<01:39,  1.42s/it]"
     ]
    },
    {
     "name": "stdout",
     "output_type": "stream",
     "text": [
      "adverse events,Hypersensitivity\n"
     ]
    },
    {
     "name": "stderr",
     "output_type": "stream",
     "text": [
      " 92%|█████████▏| 775/844 [18:22<01:37,  1.42s/it]"
     ]
    },
    {
     "name": "stdout",
     "output_type": "stream",
     "text": [
      "nephrotoxicity\n"
     ]
    },
    {
     "name": "stderr",
     "output_type": "stream",
     "text": [
      " 92%|█████████▏| 776/844 [18:23<01:36,  1.42s/it]"
     ]
    },
    {
     "name": "stdout",
     "output_type": "stream",
     "text": [
      "Confusion,Drug Toxicity,Headache,Muscle Rigidity,Schizophrenia,sedation,Seizures,Tachycardia\n"
     ]
    },
    {
     "name": "stderr",
     "output_type": "stream",
     "text": [
      " 92%|█████████▏| 777/844 [18:25<01:34,  1.41s/it]"
     ]
    },
    {
     "name": "stdout",
     "output_type": "stream",
     "text": [
      "adverse events,Alcoholism,Anxiety Disorders\n"
     ]
    },
    {
     "name": "stderr",
     "output_type": "stream",
     "text": [
      " 92%|█████████▏| 778/844 [18:26<01:33,  1.42s/it]"
     ]
    },
    {
     "name": "stdout",
     "output_type": "stream",
     "text": [
      "Neoplasms,Neurotoxicity Syndromes\n"
     ]
    },
    {
     "name": "stderr",
     "output_type": "stream",
     "text": [
      " 92%|█████████▏| 779/844 [18:27<01:32,  1.42s/it]"
     ]
    },
    {
     "name": "stdout",
     "output_type": "stream",
     "text": [
      "Acute coronary syndrome,major adverse cardiac events (mace)\n"
     ]
    },
    {
     "name": "stderr",
     "output_type": "stream",
     "text": [
      " 92%|█████████▏| 780/844 [18:29<01:30,  1.42s/it]"
     ]
    },
    {
     "name": "stdout",
     "output_type": "stream",
     "text": [
      "Coronary Disease,Hypercholesterolemia,Myocardial Infarction\n"
     ]
    },
    {
     "name": "stderr",
     "output_type": "stream",
     "text": [
      " 93%|█████████▎| 781/844 [18:30<01:28,  1.41s/it]"
     ]
    },
    {
     "name": "stdout",
     "output_type": "stream",
     "text": [
      "Neutropenia,Precursor Cell Lymphoblastic Leukemia-Lymphoma,Thrombocytopenia\n"
     ]
    },
    {
     "name": "stderr",
     "output_type": "stream",
     "text": [
      " 93%|█████████▎| 782/844 [18:32<01:27,  1.42s/it]"
     ]
    },
    {
     "name": "stdout",
     "output_type": "stream",
     "text": [
      "Lupus Erythematosus, Systemic,Precursor Cell Lymphoblastic Leukemia-Lymphoma\n"
     ]
    },
    {
     "name": "stderr",
     "output_type": "stream",
     "text": [
      " 93%|█████████▎| 783/844 [18:33<01:26,  1.41s/it]"
     ]
    },
    {
     "name": "stdout",
     "output_type": "stream",
     "text": [
      "Shortened QT interval\n"
     ]
    },
    {
     "name": "stderr",
     "output_type": "stream",
     "text": [
      " 93%|█████████▎| 784/844 [18:34<01:25,  1.42s/it]"
     ]
    },
    {
     "name": "stdout",
     "output_type": "stream",
     "text": [
      "drug-induced liver injury,HIV Infections,Tuberculosis\n"
     ]
    },
    {
     "name": "stderr",
     "output_type": "stream",
     "text": [
      " 93%|█████████▎| 785/844 [18:36<01:24,  1.42s/it]"
     ]
    },
    {
     "name": "stdout",
     "output_type": "stream",
     "text": [
      "adverse events,Hypersensitivity,severe cutaneous adverse reactions\n"
     ]
    },
    {
     "name": "stderr",
     "output_type": "stream",
     "text": [
      " 93%|█████████▎| 786/844 [18:37<01:22,  1.43s/it]"
     ]
    },
    {
     "name": "stdout",
     "output_type": "stream",
     "text": [
      "Leukopenia,Neutropenia,Ovarian Neoplasms\n"
     ]
    },
    {
     "name": "stderr",
     "output_type": "stream",
     "text": [
      " 93%|█████████▎| 787/844 [18:39<01:20,  1.42s/it]"
     ]
    },
    {
     "name": "stdout",
     "output_type": "stream",
     "text": [
      "Dyspepsia,Pain, Postoperative\n"
     ]
    },
    {
     "name": "stderr",
     "output_type": "stream",
     "text": [
      " 93%|█████████▎| 789/844 [18:42<01:17,  1.42s/it]"
     ]
    },
    {
     "name": "stdout",
     "output_type": "stream",
     "text": [
      "Cardiomyopathy, Dilated,Death\n"
     ]
    },
    {
     "name": "stderr",
     "output_type": "stream",
     "text": [
      " 94%|█████████▍| 794/844 [18:49<01:10,  1.41s/it]"
     ]
    },
    {
     "name": "stdout",
     "output_type": "stream",
     "text": [
      "Depressive Disorder, Major,Nausea,Vomiting\n"
     ]
    },
    {
     "name": "stderr",
     "output_type": "stream",
     "text": [
      " 94%|█████████▍| 795/844 [18:50<01:09,  1.41s/it]"
     ]
    },
    {
     "name": "stdout",
     "output_type": "stream",
     "text": [
      "Depressive Disorder, Major,Sexual Dysfunctions, Psychological\n"
     ]
    },
    {
     "name": "stderr",
     "output_type": "stream",
     "text": [
      " 94%|█████████▍| 796/844 [18:52<01:08,  1.42s/it]"
     ]
    },
    {
     "name": "stdout",
     "output_type": "stream",
     "text": [
      "ability to concentrate,Depressive Disorder, Major,Diarrhea,Dizziness,Tremor\n"
     ]
    },
    {
     "name": "stderr",
     "output_type": "stream",
     "text": [
      " 94%|█████████▍| 797/844 [18:53<01:07,  1.43s/it]"
     ]
    },
    {
     "name": "stdout",
     "output_type": "stream",
     "text": [
      "Depressive Disorder, Major,Mood Disorders,Panic Disorder\n"
     ]
    },
    {
     "name": "stderr",
     "output_type": "stream",
     "text": [
      " 95%|█████████▍| 798/844 [18:54<01:05,  1.42s/it]"
     ]
    },
    {
     "name": "stdout",
     "output_type": "stream",
     "text": [
      "Peripheral Nervous System Diseases\n"
     ]
    },
    {
     "name": "stderr",
     "output_type": "stream",
     "text": [
      " 95%|█████████▍| 799/844 [18:56<01:03,  1.42s/it]"
     ]
    },
    {
     "name": "stdout",
     "output_type": "stream",
     "text": [
      "Gastroesophageal Reflux,Helicobacter Infections,Peptic Ulcer\n"
     ]
    },
    {
     "name": "stderr",
     "output_type": "stream",
     "text": [
      " 95%|█████████▍| 800/844 [18:57<01:02,  1.42s/it]"
     ]
    },
    {
     "name": "stdout",
     "output_type": "stream",
     "text": [
      "cardiotoxicity,Neoplasms\n"
     ]
    },
    {
     "name": "stderr",
     "output_type": "stream",
     "text": [
      " 95%|█████████▌| 802/844 [19:00<00:59,  1.41s/it]"
     ]
    },
    {
     "name": "stdout",
     "output_type": "stream",
     "text": [
      "Multiple Myeloma,Osteonecrosis\n"
     ]
    },
    {
     "name": "stderr",
     "output_type": "stream",
     "text": [
      " 95%|█████████▌| 803/844 [19:01<00:57,  1.41s/it]"
     ]
    },
    {
     "name": "stdout",
     "output_type": "stream",
     "text": [
      "Angina Pectoris,Coronary Artery Disease,Myocardial Infarction,Myocardial Ischemia,Thrombosis\n"
     ]
    },
    {
     "name": "stderr",
     "output_type": "stream",
     "text": [
      " 95%|█████████▌| 804/844 [19:03<00:56,  1.40s/it]"
     ]
    },
    {
     "name": "stdout",
     "output_type": "stream",
     "text": [
      "Deafness,Neoplasms,Ototoxicity\n"
     ]
    },
    {
     "name": "stderr",
     "output_type": "stream",
     "text": [
      " 95%|█████████▌| 805/844 [19:04<00:54,  1.40s/it]"
     ]
    },
    {
     "name": "stdout",
     "output_type": "stream",
     "text": [
      "HIV Infections,Kidney Diseases\n"
     ]
    },
    {
     "name": "stderr",
     "output_type": "stream",
     "text": [
      " 95%|█████████▌| 806/844 [19:06<00:53,  1.40s/it]"
     ]
    },
    {
     "name": "stdout",
     "output_type": "stream",
     "text": [
      "Hypercholesterolemia,Hyperlipoproteinemia Type II\n"
     ]
    },
    {
     "name": "stderr",
     "output_type": "stream",
     "text": [
      " 96%|█████████▌| 807/844 [19:07<00:51,  1.40s/it]"
     ]
    },
    {
     "name": "stdout",
     "output_type": "stream",
     "text": [
      "Postoperative Nausea and Vomiting\n"
     ]
    },
    {
     "name": "stderr",
     "output_type": "stream",
     "text": [
      " 96%|█████████▌| 809/844 [19:10<00:49,  1.41s/it]"
     ]
    },
    {
     "name": "stdout",
     "output_type": "stream",
     "text": [
      "Acute coronary syndrome,Angina Pectoris\n"
     ]
    },
    {
     "name": "stderr",
     "output_type": "stream",
     "text": [
      " 96%|█████████▌| 811/844 [19:13<00:46,  1.41s/it]"
     ]
    },
    {
     "name": "stdout",
     "output_type": "stream",
     "text": [
      "drug reaction with eosinophilia and systemic symptoms,HIV Infections,Stevens-Johnson Syndrome,Toxic liver disease\n"
     ]
    },
    {
     "name": "stderr",
     "output_type": "stream",
     "text": [
      " 96%|█████████▌| 812/844 [19:14<00:44,  1.40s/it]"
     ]
    },
    {
     "name": "stdout",
     "output_type": "stream",
     "text": [
      "platelet reactivity\n"
     ]
    },
    {
     "name": "stderr",
     "output_type": "stream",
     "text": [
      " 96%|█████████▋| 814/844 [19:17<00:42,  1.42s/it]"
     ]
    },
    {
     "name": "stdout",
     "output_type": "stream",
     "text": [
      "Diabetes Mellitus, Type 1,Heart Failure\n"
     ]
    },
    {
     "name": "stderr",
     "output_type": "stream",
     "text": [
      " 97%|█████████▋| 815/844 [19:18<00:40,  1.41s/it]"
     ]
    },
    {
     "name": "stdout",
     "output_type": "stream",
     "text": [
      "Bipolar Disorder,Depression,Psychotic Disorders,Schizophrenia,Substance-Related Disorders\n"
     ]
    },
    {
     "name": "stderr",
     "output_type": "stream",
     "text": [
      " 97%|█████████▋| 816/844 [19:20<00:39,  1.41s/it]"
     ]
    },
    {
     "name": "stdout",
     "output_type": "stream",
     "text": [
      "hematopoietic stem cell transplantation,Kidney Transplantation,transplant rejection\n"
     ]
    },
    {
     "name": "stderr",
     "output_type": "stream",
     "text": [
      " 97%|█████████▋| 817/844 [19:21<00:38,  1.41s/it]"
     ]
    },
    {
     "name": "stdout",
     "output_type": "stream",
     "text": [
      "Carcinoma, Non-Small-Cell Lung,Ovarian Neoplasms\n"
     ]
    },
    {
     "name": "stderr",
     "output_type": "stream",
     "text": [
      " 97%|█████████▋| 818/844 [19:23<00:36,  1.41s/it]"
     ]
    },
    {
     "name": "stdout",
     "output_type": "stream",
     "text": [
      "Acute coronary syndrome,Coronary Artery Disease\n"
     ]
    },
    {
     "name": "stderr",
     "output_type": "stream",
     "text": [
      " 97%|█████████▋| 819/844 [19:24<00:35,  1.41s/it]"
     ]
    },
    {
     "name": "stdout",
     "output_type": "stream",
     "text": [
      "Arthritis, Rheumatoid,Crohn Disease,Psoriasis,Spondylitis, Ankylosing\n"
     ]
    },
    {
     "name": "stderr",
     "output_type": "stream",
     "text": [
      " 97%|█████████▋| 820/844 [19:25<00:33,  1.41s/it]"
     ]
    },
    {
     "name": "stdout",
     "output_type": "stream",
     "text": [
      "Myelosuppression,Precursor Cell Lymphoblastic Leukemia-Lymphoma\n"
     ]
    },
    {
     "name": "stderr",
     "output_type": "stream",
     "text": [
      " 97%|█████████▋| 822/844 [19:28<00:31,  1.42s/it]"
     ]
    },
    {
     "name": "stdout",
     "output_type": "stream",
     "text": [
      "Fanconi Syndrome,HIV Infections\n"
     ]
    },
    {
     "name": "stderr",
     "output_type": "stream",
     "text": [
      " 98%|█████████▊| 823/844 [19:30<00:29,  1.41s/it]"
     ]
    },
    {
     "name": "stdout",
     "output_type": "stream",
     "text": [
      "adverse events,Pain, Postoperative\n"
     ]
    },
    {
     "name": "stderr",
     "output_type": "stream",
     "text": [
      " 98%|█████████▊| 824/844 [19:31<00:28,  1.41s/it]"
     ]
    },
    {
     "name": "stdout",
     "output_type": "stream",
     "text": [
      "Alcoholism,hypersexuality state,Tobacco Use Disorder\n"
     ]
    },
    {
     "name": "stderr",
     "output_type": "stream",
     "text": [
      " 98%|█████████▊| 825/844 [19:32<00:26,  1.40s/it]"
     ]
    },
    {
     "name": "stdout",
     "output_type": "stream",
     "text": [
      "Neoplasms,Pain,Pain, Postoperative\n"
     ]
    },
    {
     "name": "stderr",
     "output_type": "stream",
     "text": [
      " 98%|█████████▊| 826/844 [19:34<00:25,  1.41s/it]"
     ]
    },
    {
     "name": "stdout",
     "output_type": "stream",
     "text": [
      "Breast Neoplasms,Kidney Neoplasms,Kidney Transplantation,Neuroendocrine Tumors\n"
     ]
    },
    {
     "name": "stderr",
     "output_type": "stream",
     "text": [
      " 98%|█████████▊| 827/844 [19:35<00:23,  1.40s/it]"
     ]
    },
    {
     "name": "stdout",
     "output_type": "stream",
     "text": [
      "cns depression,Drug Toxicity\n"
     ]
    },
    {
     "name": "stderr",
     "output_type": "stream",
     "text": [
      " 98%|█████████▊| 829/844 [19:38<00:21,  1.41s/it]"
     ]
    },
    {
     "name": "stdout",
     "output_type": "stream",
     "text": [
      "Arthritis, Rheumatoid,Drug Toxicity,hematopoietic stem cell transplantation,Psoriasis,Toxic liver disease\n"
     ]
    },
    {
     "name": "stderr",
     "output_type": "stream",
     "text": [
      " 98%|█████████▊| 830/844 [19:39<00:19,  1.41s/it]"
     ]
    },
    {
     "name": "stdout",
     "output_type": "stream",
     "text": [
      "Burkitt Lymphoma,Lymphoma, T-Cell,Osteosarcoma,Precursor Cell Lymphoblastic Leukemia-Lymphoma\n"
     ]
    },
    {
     "name": "stderr",
     "output_type": "stream",
     "text": [
      " 98%|█████████▊| 831/844 [19:41<00:18,  1.42s/it]"
     ]
    },
    {
     "name": "stdout",
     "output_type": "stream",
     "text": [
      "Leukemia, Lymphoid,Precursor Cell Lymphoblastic Leukemia-Lymphoma\n"
     ]
    },
    {
     "name": "stderr",
     "output_type": "stream",
     "text": [
      " 99%|█████████▊| 832/844 [19:42<00:17,  1.42s/it]"
     ]
    },
    {
     "name": "stdout",
     "output_type": "stream",
     "text": [
      "Leukemia, B-Cell, Acute,Osteosarcoma,Precursor Cell Lymphoblastic Leukemia-Lymphoma\n"
     ]
    },
    {
     "name": "stderr",
     "output_type": "stream",
     "text": [
      " 99%|█████████▊| 833/844 [19:44<00:15,  1.41s/it]"
     ]
    },
    {
     "name": "stdout",
     "output_type": "stream",
     "text": [
      "Burkitt Lymphoma,Leukemia,Lymphoma, T-Cell,Neoplasms,Osteosarcoma,Precursor Cell Lymphoblastic Leukemia-Lymphoma\n"
     ]
    },
    {
     "name": "stderr",
     "output_type": "stream",
     "text": [
      " 99%|█████████▉| 834/844 [19:45<00:14,  1.41s/it]"
     ]
    },
    {
     "name": "stdout",
     "output_type": "stream",
     "text": [
      "Brain Diseases,Drug Toxicity,Osteosarcoma,Precursor Cell Lymphoblastic Leukemia-Lymphoma\n"
     ]
    },
    {
     "name": "stderr",
     "output_type": "stream",
     "text": [
      " 99%|█████████▉| 835/844 [19:46<00:12,  1.41s/it]"
     ]
    },
    {
     "name": "stdout",
     "output_type": "stream",
     "text": [
      "Burkitt Lymphoma,Drug Toxicity,Lymphoma, T-Cell,Osteosarcoma,Precursor Cell Lymphoblastic Leukemia-Lymphoma\n"
     ]
    },
    {
     "name": "stderr",
     "output_type": "stream",
     "text": [
      " 99%|█████████▉| 836/844 [19:48<00:11,  1.41s/it]"
     ]
    },
    {
     "name": "stdout",
     "output_type": "stream",
     "text": [
      "Burkitt Lymphoma,Lymphoma, Non-Hodgkin,Lymphoma, T-Cell,Precursor Cell Lymphoblastic Leukemia-Lymphoma\n"
     ]
    },
    {
     "name": "stderr",
     "output_type": "stream",
     "text": [
      " 99%|█████████▉| 837/844 [19:49<00:09,  1.40s/it]"
     ]
    },
    {
     "name": "stdout",
     "output_type": "stream",
     "text": [
      "adverse events,Constipation,Delirium,Nausea,Pruritus,somnolence,Urinary Retention\n"
     ]
    },
    {
     "name": "stderr",
     "output_type": "stream",
     "text": [
      " 99%|█████████▉| 838/844 [19:51<00:08,  1.41s/it]"
     ]
    },
    {
     "name": "stdout",
     "output_type": "stream",
     "text": [
      "Depressive Disorder, Major,Obsessive-Compulsive Disorder\n"
     ]
    },
    {
     "name": "stderr",
     "output_type": "stream",
     "text": [
      " 99%|█████████▉| 839/844 [19:52<00:07,  1.41s/it]"
     ]
    },
    {
     "name": "stdout",
     "output_type": "stream",
     "text": [
      "Drug Toxicity,Neoplasms,Neutropenia,Peripheral Nervous System Diseases\n"
     ]
    },
    {
     "name": "stderr",
     "output_type": "stream",
     "text": [
      "100%|█████████▉| 840/844 [19:54<00:05,  1.41s/it]"
     ]
    },
    {
     "name": "stdout",
     "output_type": "stream",
     "text": [
      "Drug Toxicity,Neutropenia,Peripheral Nervous System Diseases,Toxic liver disease\n"
     ]
    },
    {
     "name": "stderr",
     "output_type": "stream",
     "text": [
      "100%|█████████▉| 841/844 [19:55<00:04,  1.40s/it]"
     ]
    },
    {
     "name": "stdout",
     "output_type": "stream",
     "text": [
      "Cardiomyopathy, Dilated,Heart Failure\n"
     ]
    },
    {
     "name": "stderr",
     "output_type": "stream",
     "text": [
      "100%|█████████▉| 842/844 [19:56<00:02,  1.40s/it]"
     ]
    },
    {
     "name": "stdout",
     "output_type": "stream",
     "text": [
      "Drug Hypersensitivity,drug reaction with eosinophilia and systemic symptoms,Epidermal Necrolysis, Toxic,Maculopapular Exanthema,severe cutaneous adverse reactions,Stevens-Johnson Syndrome\n"
     ]
    },
    {
     "name": "stderr",
     "output_type": "stream",
     "text": [
      "100%|██████████| 844/844 [19:59<00:00,  1.42s/it]"
     ]
    },
    {
     "name": "stdout",
     "output_type": "stream",
     "text": [
      "Depressive Disorder, Major,Panic Disorder\n"
     ]
    },
    {
     "name": "stderr",
     "output_type": "stream",
     "text": [
      "\n"
     ]
    },
    {
     "data": {
      "text/plain": [
       "http://id.who.int/icd/entity/1969743250    401\n",
       "http://id.who.int/icd/entity/774170412     327\n",
       "http://id.who.int/icd/entity/596808334     195\n",
       "http://id.who.int/icd/entity/1669279433    176\n",
       "http://id.who.int/icd/entity/488336723     168\n",
       "                                          ... \n",
       "http://id.who.int/icd/entity/146744831       1\n",
       "http://id.who.int/icd/entity/190029283       1\n",
       "http://id.who.int/icd/entity/154709545       1\n",
       "http://id.who.int/icd/entity/944754984       1\n",
       "http://id.who.int/icd/entity/1890374210      1\n",
       "Name: icd11, Length: 357, dtype: int64"
      ]
     },
     "execution_count": 9,
     "metadata": {},
     "output_type": "execute_result"
    }
   ],
   "source": [
    "all_data_df = pd.read_csv('middlefile/drug_table.tsv', sep = '\\t')\n",
    "disease_list = all_data_df['disease name'].unique()\n",
    "\n",
    "token_endpoint = 'https://icdaccessmanagement.who.int/connect/token'\n",
    "client_id = '8ce4ac1c-84d5-4e46-b686-796ab943d907_ce952a66-3b10-41a3-9da3-131c7739883a'\n",
    "client_secret = 'ajUCkbpjrbzTSUmtp8cLtVHCIL6FjPFwz/dONYQeyAM='\n",
    "scope = 'icdapi_access'\n",
    "grant_type = 'client_credentials'\n",
    "\n",
    "# get the OAUTH2 token\n",
    "\n",
    "# set data to post\n",
    "payload = {'client_id': client_id, \n",
    "\t   \t   'client_secret': client_secret, \n",
    "           'scope': scope, \n",
    "           'grant_type': grant_type}\n",
    "           \n",
    "# make request\n",
    "r = requests.post(token_endpoint, data=payload, verify=False).json()\n",
    "token = r['access_token']\n",
    "\n",
    "# HTTP header fields to set\n",
    "headers = {'Authorization':  'Bearer '+token, \n",
    "           'Accept': 'json', \n",
    "           'Accept-Language': 'en',\n",
    "\t   'API-Version': 'v2'}\n",
    "\n",
    "for i in tqdm(range(len(disease_list))):\n",
    "    disease = disease_list[i]\n",
    "    try:\n",
    "        # access ICD API\n",
    "        uri = 'https://id.who.int/icd/entity/search?q=' + disease\n",
    "        r = requests.get(uri, headers=headers, verify=False)\n",
    "        icd11_id = r.json()['destinationEntities'][0]['id']\n",
    "\n",
    "    except:\n",
    "        # print(disease)\n",
    "        icd11_id = None\n",
    "        \n",
    "\n",
    "    all_data_df.loc[all_data_df['disease name'] == disease, 'icd11'] = icd11_id\n",
    "\n",
    "    \n",
    "all_data_df.to_csv('middlefile/icd11_table.tsv', sep = '\\t', index= False)\n",
    "all_data_df['icd11'].value_counts() \n"
   ]
  },
  {
   "cell_type": "code",
   "execution_count": 39,
   "metadata": {},
   "outputs": [
    {
     "name": "stderr",
     "output_type": "stream",
     "text": [
      "100%|██████████| 1296/1296 [20:26<00:00,  1.06it/s]\n"
     ]
    },
    {
     "data": {
      "text/html": [
       "<div>\n",
       "<style scoped>\n",
       "    .dataframe tbody tr th:only-of-type {\n",
       "        vertical-align: middle;\n",
       "    }\n",
       "\n",
       "    .dataframe tbody tr th {\n",
       "        vertical-align: top;\n",
       "    }\n",
       "\n",
       "    .dataframe thead th {\n",
       "        text-align: right;\n",
       "    }\n",
       "</style>\n",
       "<table border=\"1\" class=\"dataframe\">\n",
       "  <thead>\n",
       "    <tr style=\"text-align: right;\">\n",
       "      <th></th>\n",
       "      <th>data source</th>\n",
       "      <th>chemical name</th>\n",
       "      <th>gene symbol</th>\n",
       "      <th>variant</th>\n",
       "      <th>ddg</th>\n",
       "      <th>disease name</th>\n",
       "      <th>label</th>\n",
       "      <th>uniprot id</th>\n",
       "      <th>chemical_type</th>\n",
       "      <th>pubchem id</th>\n",
       "      <th>smile</th>\n",
       "      <th>chromosome</th>\n",
       "      <th>position</th>\n",
       "      <th>ref allele</th>\n",
       "      <th>alt allele</th>\n",
       "      <th>fasta</th>\n",
       "      <th>pubchem fingerprint</th>\n",
       "      <th>icd11</th>\n",
       "      <th>pdb list</th>\n",
       "    </tr>\n",
       "  </thead>\n",
       "  <tbody>\n",
       "    <tr>\n",
       "      <th>0</th>\n",
       "      <td>aimms</td>\n",
       "      <td>dasatinib</td>\n",
       "      <td>ABL1</td>\n",
       "      <td>M244V</td>\n",
       "      <td>0.290000</td>\n",
       "      <td>NaN</td>\n",
       "      <td>NaN</td>\n",
       "      <td>P00519</td>\n",
       "      <td>NaN</td>\n",
       "      <td>3062316</td>\n",
       "      <td>CC1=C(C(=CC=C1)Cl)NC(=O)C2=CN=C(S2)NC3=CC(=NC(...</td>\n",
       "      <td>NaN</td>\n",
       "      <td>NaN</td>\n",
       "      <td>NaN</td>\n",
       "      <td>NaN</td>\n",
       "      <td>MLEICLKLVGCKSKKGLSSSSSCYLEEALQRPVASDFEPQGLSEAA...</td>\n",
       "      <td>1110000001111011101100000000000001000100000000...</td>\n",
       "      <td>NaN</td>\n",
       "      <td>1AB2,1AWO,1BBZ,1JU5,1OPL,1ZZP,2ABL,2E2B,2F4J,2...</td>\n",
       "    </tr>\n",
       "    <tr>\n",
       "      <th>1</th>\n",
       "      <td>aimms</td>\n",
       "      <td>dasatinib</td>\n",
       "      <td>ABL1</td>\n",
       "      <td>G250E</td>\n",
       "      <td>0.480000</td>\n",
       "      <td>NaN</td>\n",
       "      <td>NaN</td>\n",
       "      <td>P00519</td>\n",
       "      <td>NaN</td>\n",
       "      <td>3062316</td>\n",
       "      <td>CC1=C(C(=CC=C1)Cl)NC(=O)C2=CN=C(S2)NC3=CC(=NC(...</td>\n",
       "      <td>NaN</td>\n",
       "      <td>NaN</td>\n",
       "      <td>NaN</td>\n",
       "      <td>NaN</td>\n",
       "      <td>MLEICLKLVGCKSKKGLSSSSSCYLEEALQRPVASDFEPQGLSEAA...</td>\n",
       "      <td>1110000001111011101100000000000001000100000000...</td>\n",
       "      <td>NaN</td>\n",
       "      <td>1AB2,1AWO,1BBZ,1JU5,1OPL,1ZZP,2ABL,2E2B,2F4J,2...</td>\n",
       "    </tr>\n",
       "    <tr>\n",
       "      <th>2</th>\n",
       "      <td>aimms</td>\n",
       "      <td>dasatinib</td>\n",
       "      <td>ABL1</td>\n",
       "      <td>Q252H</td>\n",
       "      <td>0.860000</td>\n",
       "      <td>NaN</td>\n",
       "      <td>NaN</td>\n",
       "      <td>P00519</td>\n",
       "      <td>NaN</td>\n",
       "      <td>3062316</td>\n",
       "      <td>CC1=C(C(=CC=C1)Cl)NC(=O)C2=CN=C(S2)NC3=CC(=NC(...</td>\n",
       "      <td>NaN</td>\n",
       "      <td>NaN</td>\n",
       "      <td>NaN</td>\n",
       "      <td>NaN</td>\n",
       "      <td>MLEICLKLVGCKSKKGLSSSSSCYLEEALQRPVASDFEPQGLSEAA...</td>\n",
       "      <td>1110000001111011101100000000000001000100000000...</td>\n",
       "      <td>NaN</td>\n",
       "      <td>1AB2,1AWO,1BBZ,1JU5,1OPL,1ZZP,2ABL,2E2B,2F4J,2...</td>\n",
       "    </tr>\n",
       "    <tr>\n",
       "      <th>3</th>\n",
       "      <td>aimms</td>\n",
       "      <td>dasatinib</td>\n",
       "      <td>ABL1</td>\n",
       "      <td>Y253F</td>\n",
       "      <td>0.330000</td>\n",
       "      <td>NaN</td>\n",
       "      <td>NaN</td>\n",
       "      <td>P00519</td>\n",
       "      <td>NaN</td>\n",
       "      <td>3062316</td>\n",
       "      <td>CC1=C(C(=CC=C1)Cl)NC(=O)C2=CN=C(S2)NC3=CC(=NC(...</td>\n",
       "      <td>NaN</td>\n",
       "      <td>NaN</td>\n",
       "      <td>NaN</td>\n",
       "      <td>NaN</td>\n",
       "      <td>MLEICLKLVGCKSKKGLSSSSSCYLEEALQRPVASDFEPQGLSEAA...</td>\n",
       "      <td>1110000001111011101100000000000001000100000000...</td>\n",
       "      <td>NaN</td>\n",
       "      <td>1AB2,1AWO,1BBZ,1JU5,1OPL,1ZZP,2ABL,2E2B,2F4J,2...</td>\n",
       "    </tr>\n",
       "    <tr>\n",
       "      <th>4</th>\n",
       "      <td>aimms</td>\n",
       "      <td>dasatinib</td>\n",
       "      <td>ABL1</td>\n",
       "      <td>Y253H</td>\n",
       "      <td>0.290000</td>\n",
       "      <td>NaN</td>\n",
       "      <td>NaN</td>\n",
       "      <td>P00519</td>\n",
       "      <td>NaN</td>\n",
       "      <td>3062316</td>\n",
       "      <td>CC1=C(C(=CC=C1)Cl)NC(=O)C2=CN=C(S2)NC3=CC(=NC(...</td>\n",
       "      <td>NaN</td>\n",
       "      <td>NaN</td>\n",
       "      <td>NaN</td>\n",
       "      <td>NaN</td>\n",
       "      <td>MLEICLKLVGCKSKKGLSSSSSCYLEEALQRPVASDFEPQGLSEAA...</td>\n",
       "      <td>1110000001111011101100000000000001000100000000...</td>\n",
       "      <td>NaN</td>\n",
       "      <td>1AB2,1AWO,1BBZ,1JU5,1OPL,1ZZP,2ABL,2E2B,2F4J,2...</td>\n",
       "    </tr>\n",
       "    <tr>\n",
       "      <th>...</th>\n",
       "      <td>...</td>\n",
       "      <td>...</td>\n",
       "      <td>...</td>\n",
       "      <td>...</td>\n",
       "      <td>...</td>\n",
       "      <td>...</td>\n",
       "      <td>...</td>\n",
       "      <td>...</td>\n",
       "      <td>...</td>\n",
       "      <td>...</td>\n",
       "      <td>...</td>\n",
       "      <td>...</td>\n",
       "      <td>...</td>\n",
       "      <td>...</td>\n",
       "      <td>...</td>\n",
       "      <td>...</td>\n",
       "      <td>...</td>\n",
       "      <td>...</td>\n",
       "      <td>...</td>\n",
       "    </tr>\n",
       "    <tr>\n",
       "      <th>19664</th>\n",
       "      <td>ret</td>\n",
       "      <td>Nintedanib</td>\n",
       "      <td>RET</td>\n",
       "      <td>G810A</td>\n",
       "      <td>-0.044158</td>\n",
       "      <td>NaN</td>\n",
       "      <td>NaN</td>\n",
       "      <td>P07949</td>\n",
       "      <td>NaN</td>\n",
       "      <td>135423438</td>\n",
       "      <td>CN1CCN(CC1)CC(=O)N(C)C2=CC=C(C=C2)N=C(C3=CC=CC...</td>\n",
       "      <td>NaN</td>\n",
       "      <td>NaN</td>\n",
       "      <td>NaN</td>\n",
       "      <td>NaN</td>\n",
       "      <td>MAKATSGAAGLRLLLLLLLPLLGKVALGLYFSRDAYWEKLYVDQAA...</td>\n",
       "      <td>1111000001111011101110000000000000000000000000...</td>\n",
       "      <td>NaN</td>\n",
       "      <td>2IVS,2IVT,2IVU,2IVV,2X2K,2X2L,2X2M,2X2U,4CKI,4...</td>\n",
       "    </tr>\n",
       "    <tr>\n",
       "      <th>19665</th>\n",
       "      <td>ret</td>\n",
       "      <td>Nintedanib</td>\n",
       "      <td>RET</td>\n",
       "      <td>G810S</td>\n",
       "      <td>0.826043</td>\n",
       "      <td>NaN</td>\n",
       "      <td>NaN</td>\n",
       "      <td>P07949</td>\n",
       "      <td>NaN</td>\n",
       "      <td>135423438</td>\n",
       "      <td>CN1CCN(CC1)CC(=O)N(C)C2=CC=C(C=C2)N=C(C3=CC=CC...</td>\n",
       "      <td>NaN</td>\n",
       "      <td>NaN</td>\n",
       "      <td>NaN</td>\n",
       "      <td>NaN</td>\n",
       "      <td>MAKATSGAAGLRLLLLLLLPLLGKVALGLYFSRDAYWEKLYVDQAA...</td>\n",
       "      <td>1111000001111011101110000000000000000000000000...</td>\n",
       "      <td>NaN</td>\n",
       "      <td>2IVS,2IVT,2IVU,2IVV,2X2K,2X2L,2X2M,2X2U,4CKI,4...</td>\n",
       "    </tr>\n",
       "    <tr>\n",
       "      <th>19666</th>\n",
       "      <td>ret</td>\n",
       "      <td>Nintedanib</td>\n",
       "      <td>RET</td>\n",
       "      <td>V871I</td>\n",
       "      <td>0.149749</td>\n",
       "      <td>NaN</td>\n",
       "      <td>NaN</td>\n",
       "      <td>P07949</td>\n",
       "      <td>NaN</td>\n",
       "      <td>135423438</td>\n",
       "      <td>CN1CCN(CC1)CC(=O)N(C)C2=CC=C(C=C2)N=C(C3=CC=CC...</td>\n",
       "      <td>NaN</td>\n",
       "      <td>NaN</td>\n",
       "      <td>NaN</td>\n",
       "      <td>NaN</td>\n",
       "      <td>MAKATSGAAGLRLLLLLLLPLLGKVALGLYFSRDAYWEKLYVDQAA...</td>\n",
       "      <td>1111000001111011101110000000000000000000000000...</td>\n",
       "      <td>NaN</td>\n",
       "      <td>2IVS,2IVT,2IVU,2IVV,2X2K,2X2L,2X2M,2X2U,4CKI,4...</td>\n",
       "    </tr>\n",
       "    <tr>\n",
       "      <th>19667</th>\n",
       "      <td>ret</td>\n",
       "      <td>Nintedanib</td>\n",
       "      <td>RET</td>\n",
       "      <td>F998V</td>\n",
       "      <td>0.000000</td>\n",
       "      <td>NaN</td>\n",
       "      <td>NaN</td>\n",
       "      <td>P07949</td>\n",
       "      <td>NaN</td>\n",
       "      <td>135423438</td>\n",
       "      <td>CN1CCN(CC1)CC(=O)N(C)C2=CC=C(C=C2)N=C(C3=CC=CC...</td>\n",
       "      <td>NaN</td>\n",
       "      <td>NaN</td>\n",
       "      <td>NaN</td>\n",
       "      <td>NaN</td>\n",
       "      <td>MAKATSGAAGLRLLLLLLLPLLGKVALGLYFSRDAYWEKLYVDQAA...</td>\n",
       "      <td>1111000001111011101110000000000000000000000000...</td>\n",
       "      <td>NaN</td>\n",
       "      <td>2IVS,2IVT,2IVU,2IVV,2X2K,2X2L,2X2M,2X2U,4CKI,4...</td>\n",
       "    </tr>\n",
       "    <tr>\n",
       "      <th>19668</th>\n",
       "      <td>ret</td>\n",
       "      <td>Nintedanib</td>\n",
       "      <td>RET</td>\n",
       "      <td>M918T</td>\n",
       "      <td>0.321169</td>\n",
       "      <td>NaN</td>\n",
       "      <td>NaN</td>\n",
       "      <td>P07949</td>\n",
       "      <td>NaN</td>\n",
       "      <td>135423438</td>\n",
       "      <td>CN1CCN(CC1)CC(=O)N(C)C2=CC=C(C=C2)N=C(C3=CC=CC...</td>\n",
       "      <td>NaN</td>\n",
       "      <td>NaN</td>\n",
       "      <td>NaN</td>\n",
       "      <td>NaN</td>\n",
       "      <td>MAKATSGAAGLRLLLLLLLPLLGKVALGLYFSRDAYWEKLYVDQAA...</td>\n",
       "      <td>1111000001111011101110000000000000000000000000...</td>\n",
       "      <td>NaN</td>\n",
       "      <td>2IVS,2IVT,2IVU,2IVV,2X2K,2X2L,2X2M,2X2U,4CKI,4...</td>\n",
       "    </tr>\n",
       "  </tbody>\n",
       "</table>\n",
       "<p>19669 rows × 19 columns</p>\n",
       "</div>"
      ],
      "text/plain": [
       "      data source chemical name gene symbol variant       ddg disease name  \\\n",
       "0           aimms     dasatinib        ABL1   M244V  0.290000          NaN   \n",
       "1           aimms     dasatinib        ABL1   G250E  0.480000          NaN   \n",
       "2           aimms     dasatinib        ABL1   Q252H  0.860000          NaN   \n",
       "3           aimms     dasatinib        ABL1   Y253F  0.330000          NaN   \n",
       "4           aimms     dasatinib        ABL1   Y253H  0.290000          NaN   \n",
       "...           ...           ...         ...     ...       ...          ...   \n",
       "19664         ret    Nintedanib         RET   G810A -0.044158          NaN   \n",
       "19665         ret    Nintedanib         RET   G810S  0.826043          NaN   \n",
       "19666         ret    Nintedanib         RET   V871I  0.149749          NaN   \n",
       "19667         ret    Nintedanib         RET   F998V  0.000000          NaN   \n",
       "19668         ret    Nintedanib         RET   M918T  0.321169          NaN   \n",
       "\n",
       "      label uniprot id chemical_type pubchem id  \\\n",
       "0       NaN     P00519           NaN    3062316   \n",
       "1       NaN     P00519           NaN    3062316   \n",
       "2       NaN     P00519           NaN    3062316   \n",
       "3       NaN     P00519           NaN    3062316   \n",
       "4       NaN     P00519           NaN    3062316   \n",
       "...     ...        ...           ...        ...   \n",
       "19664   NaN     P07949           NaN  135423438   \n",
       "19665   NaN     P07949           NaN  135423438   \n",
       "19666   NaN     P07949           NaN  135423438   \n",
       "19667   NaN     P07949           NaN  135423438   \n",
       "19668   NaN     P07949           NaN  135423438   \n",
       "\n",
       "                                                   smile chromosome  position  \\\n",
       "0      CC1=C(C(=CC=C1)Cl)NC(=O)C2=CN=C(S2)NC3=CC(=NC(...        NaN       NaN   \n",
       "1      CC1=C(C(=CC=C1)Cl)NC(=O)C2=CN=C(S2)NC3=CC(=NC(...        NaN       NaN   \n",
       "2      CC1=C(C(=CC=C1)Cl)NC(=O)C2=CN=C(S2)NC3=CC(=NC(...        NaN       NaN   \n",
       "3      CC1=C(C(=CC=C1)Cl)NC(=O)C2=CN=C(S2)NC3=CC(=NC(...        NaN       NaN   \n",
       "4      CC1=C(C(=CC=C1)Cl)NC(=O)C2=CN=C(S2)NC3=CC(=NC(...        NaN       NaN   \n",
       "...                                                  ...        ...       ...   \n",
       "19664  CN1CCN(CC1)CC(=O)N(C)C2=CC=C(C=C2)N=C(C3=CC=CC...        NaN       NaN   \n",
       "19665  CN1CCN(CC1)CC(=O)N(C)C2=CC=C(C=C2)N=C(C3=CC=CC...        NaN       NaN   \n",
       "19666  CN1CCN(CC1)CC(=O)N(C)C2=CC=C(C=C2)N=C(C3=CC=CC...        NaN       NaN   \n",
       "19667  CN1CCN(CC1)CC(=O)N(C)C2=CC=C(C=C2)N=C(C3=CC=CC...        NaN       NaN   \n",
       "19668  CN1CCN(CC1)CC(=O)N(C)C2=CC=C(C=C2)N=C(C3=CC=CC...        NaN       NaN   \n",
       "\n",
       "      ref allele alt allele  \\\n",
       "0            NaN        NaN   \n",
       "1            NaN        NaN   \n",
       "2            NaN        NaN   \n",
       "3            NaN        NaN   \n",
       "4            NaN        NaN   \n",
       "...          ...        ...   \n",
       "19664        NaN        NaN   \n",
       "19665        NaN        NaN   \n",
       "19666        NaN        NaN   \n",
       "19667        NaN        NaN   \n",
       "19668        NaN        NaN   \n",
       "\n",
       "                                                   fasta  \\\n",
       "0      MLEICLKLVGCKSKKGLSSSSSCYLEEALQRPVASDFEPQGLSEAA...   \n",
       "1      MLEICLKLVGCKSKKGLSSSSSCYLEEALQRPVASDFEPQGLSEAA...   \n",
       "2      MLEICLKLVGCKSKKGLSSSSSCYLEEALQRPVASDFEPQGLSEAA...   \n",
       "3      MLEICLKLVGCKSKKGLSSSSSCYLEEALQRPVASDFEPQGLSEAA...   \n",
       "4      MLEICLKLVGCKSKKGLSSSSSCYLEEALQRPVASDFEPQGLSEAA...   \n",
       "...                                                  ...   \n",
       "19664  MAKATSGAAGLRLLLLLLLPLLGKVALGLYFSRDAYWEKLYVDQAA...   \n",
       "19665  MAKATSGAAGLRLLLLLLLPLLGKVALGLYFSRDAYWEKLYVDQAA...   \n",
       "19666  MAKATSGAAGLRLLLLLLLPLLGKVALGLYFSRDAYWEKLYVDQAA...   \n",
       "19667  MAKATSGAAGLRLLLLLLLPLLGKVALGLYFSRDAYWEKLYVDQAA...   \n",
       "19668  MAKATSGAAGLRLLLLLLLPLLGKVALGLYFSRDAYWEKLYVDQAA...   \n",
       "\n",
       "                                     pubchem fingerprint icd11  \\\n",
       "0      1110000001111011101100000000000001000100000000...   NaN   \n",
       "1      1110000001111011101100000000000001000100000000...   NaN   \n",
       "2      1110000001111011101100000000000001000100000000...   NaN   \n",
       "3      1110000001111011101100000000000001000100000000...   NaN   \n",
       "4      1110000001111011101100000000000001000100000000...   NaN   \n",
       "...                                                  ...   ...   \n",
       "19664  1111000001111011101110000000000000000000000000...   NaN   \n",
       "19665  1111000001111011101110000000000000000000000000...   NaN   \n",
       "19666  1111000001111011101110000000000000000000000000...   NaN   \n",
       "19667  1111000001111011101110000000000000000000000000...   NaN   \n",
       "19668  1111000001111011101110000000000000000000000000...   NaN   \n",
       "\n",
       "                                                pdb list  \n",
       "0      1AB2,1AWO,1BBZ,1JU5,1OPL,1ZZP,2ABL,2E2B,2F4J,2...  \n",
       "1      1AB2,1AWO,1BBZ,1JU5,1OPL,1ZZP,2ABL,2E2B,2F4J,2...  \n",
       "2      1AB2,1AWO,1BBZ,1JU5,1OPL,1ZZP,2ABL,2E2B,2F4J,2...  \n",
       "3      1AB2,1AWO,1BBZ,1JU5,1OPL,1ZZP,2ABL,2E2B,2F4J,2...  \n",
       "4      1AB2,1AWO,1BBZ,1JU5,1OPL,1ZZP,2ABL,2E2B,2F4J,2...  \n",
       "...                                                  ...  \n",
       "19664  2IVS,2IVT,2IVU,2IVV,2X2K,2X2L,2X2M,2X2U,4CKI,4...  \n",
       "19665  2IVS,2IVT,2IVU,2IVV,2X2K,2X2L,2X2M,2X2U,4CKI,4...  \n",
       "19666  2IVS,2IVT,2IVU,2IVV,2X2K,2X2L,2X2M,2X2U,4CKI,4...  \n",
       "19667  2IVS,2IVT,2IVU,2IVV,2X2K,2X2L,2X2M,2X2U,4CKI,4...  \n",
       "19668  2IVS,2IVT,2IVU,2IVV,2X2K,2X2L,2X2M,2X2U,4CKI,4...  \n",
       "\n",
       "[19669 rows x 19 columns]"
      ]
     },
     "execution_count": 39,
     "metadata": {},
     "output_type": "execute_result"
    }
   ],
   "source": [
    "all_data_df = pd.read_csv('middlefile/icd11_table.tsv', sep = '\\t')\n",
    "uniprot_id_list = all_data_df['uniprot id'].unique()\n",
    "for i in tqdm(range(len(uniprot_id_list))):\n",
    "    uniprot_id = uniprot_id_list[i]\n",
    "    search_url = \"https://search.rcsb.org/rcsbsearch/v2/query\"\n",
    "    search_request = {\n",
    "        \"query\": {\n",
    "            \"type\": \"group\",\n",
    "            \"logical_operator\": \"and\",\n",
    "            \"nodes\": [\n",
    "                {\n",
    "                    \"type\": \"terminal\",\n",
    "                    \"service\": \"text\",\n",
    "                    \"parameters\": {\n",
    "                        \"operator\": \"exact_match\",\n",
    "                        \"value\": uniprot_id,\n",
    "                        \"attribute\": \"rcsb_polymer_entity_container_identifiers.reference_sequence_identifiers.database_accession\"\n",
    "                    }\n",
    "                },\n",
    "                {\n",
    "                    \"type\": \"terminal\",\n",
    "                    \"service\": \"text\",\n",
    "                    \"parameters\": {\n",
    "                        \"operator\": \"exact_match\",\n",
    "                        \"value\": \"UniProt\",\n",
    "                        \"attribute\": \"rcsb_polymer_entity_container_identifiers.reference_sequence_identifiers.database_name\"\n",
    "                    }\n",
    "                }\n",
    "            ]\n",
    "        },\n",
    "        \"request_options\": {\n",
    "            \"paginate\": {\n",
    "            \"start\": 0,\n",
    "            \"rows\": 1000\n",
    "            }\n",
    "        },\n",
    "        \"return_type\": \"entry\"\n",
    "    }\n",
    "    try:\n",
    "        response = requests.post(search_url, json=search_request)\n",
    "        pdb_list = response.json()['result_set']\n",
    "        pdb_str = ''\n",
    "        for i, pdb_item in enumerate(pdb_list):\n",
    "            pdb_str += pdb_item['identifier']\n",
    "            if i != len(pdb_list)-1 :\n",
    "                pdb_str += ','\n",
    "        # print(uniprot_id)\n",
    "        # print(pdb_str)\n",
    "    except:\n",
    "        # print(uniprot_id)\n",
    "        pdb_list = None\n",
    "\n",
    "    all_data_df.loc[all_data_df['uniprot id'] == uniprot_id, 'pdb list'] = pdb_str   \n",
    "\n",
    "all_data_df.to_csv('middlefile/pdb_table.tsv', sep = '\\t', index= False)\n",
    "all_data_df                              \n"
   ]
  },
  {
   "cell_type": "code",
   "execution_count": 5,
   "metadata": {},
   "outputs": [],
   "source": [
    "all_data_df = pd.read_csv('middlefile/pdb_table.tsv', sep = '\\t')\n",
    "all_data_df['id'] = range(1,len(all_data_df)+1)\n",
    "all_data_df.to_csv('middlefile/final_table.tsv', sep = '\\t', index= False)"
   ]
  },
  {
   "cell_type": "code",
   "execution_count": 4,
   "metadata": {},
   "outputs": [
    {
     "name": "stderr",
     "output_type": "stream",
     "text": [
      " 20%|██        | 1/5 [00:01<00:04,  1.06s/it]"
     ]
    },
    {
     "name": "stdout",
     "output_type": "stream",
     "text": [
      "{'query_id': 'f4b8358d-0445-4b08-932b-d9090531624e', 'result_type': 'entry', 'total_count': 81, 'result_set': [{'identifier': '1AB2', 'score': 1.0}, {'identifier': '1AWO', 'score': 1.0}, {'identifier': '1BBZ', 'score': 1.0}, {'identifier': '1JU5', 'score': 1.0}, {'identifier': '1OPL', 'score': 1.0}, {'identifier': '1ZZP', 'score': 1.0}, {'identifier': '2ABL', 'score': 1.0}, {'identifier': '2E2B', 'score': 1.0}, {'identifier': '2F4J', 'score': 1.0}, {'identifier': '2FO0', 'score': 1.0}, {'identifier': '2G1T', 'score': 1.0}, {'identifier': '2G2F', 'score': 1.0}, {'identifier': '2G2H', 'score': 1.0}, {'identifier': '2G2I', 'score': 1.0}, {'identifier': '2GQG', 'score': 1.0}, {'identifier': '2HIW', 'score': 1.0}, {'identifier': '2HYY', 'score': 1.0}, {'identifier': '2HZ0', 'score': 1.0}, {'identifier': '2HZ4', 'score': 1.0}, {'identifier': '2HZI', 'score': 1.0}, {'identifier': '2O88', 'score': 1.0}, {'identifier': '2V7A', 'score': 1.0}, {'identifier': '3CS9', 'score': 1.0}, {'identifier': '3EG0', 'score': 1.0}, {'identifier': '3EG1', 'score': 1.0}, {'identifier': '3EG2', 'score': 1.0}, {'identifier': '3EG3', 'score': 1.0}, {'identifier': '3EGU', 'score': 1.0}, {'identifier': '3K2M', 'score': 1.0}, {'identifier': '3PYY', 'score': 1.0}, {'identifier': '3QRI', 'score': 1.0}, {'identifier': '3QRJ', 'score': 1.0}, {'identifier': '3QRK', 'score': 1.0}, {'identifier': '3T04', 'score': 1.0}, {'identifier': '3UE4', 'score': 1.0}, {'identifier': '3UYO', 'score': 1.0}, {'identifier': '4J9B', 'score': 1.0}, {'identifier': '4J9C', 'score': 1.0}, {'identifier': '4J9D', 'score': 1.0}, {'identifier': '4J9E', 'score': 1.0}, {'identifier': '4J9F', 'score': 1.0}, {'identifier': '4J9G', 'score': 1.0}, {'identifier': '4J9H', 'score': 1.0}, {'identifier': '4J9I', 'score': 1.0}, {'identifier': '4JJB', 'score': 1.0}, {'identifier': '4JJC', 'score': 1.0}, {'identifier': '4JJD', 'score': 1.0}, {'identifier': '4TWP', 'score': 1.0}, {'identifier': '4WA9', 'score': 1.0}, {'identifier': '4XEY', 'score': 1.0}, {'identifier': '4YC8', 'score': 1.0}, {'identifier': '4ZOG', 'score': 1.0}, {'identifier': '5DC0', 'score': 1.0}, {'identifier': '5DC4', 'score': 1.0}, {'identifier': '5DC9', 'score': 1.0}, {'identifier': '5HU9', 'score': 1.0}, {'identifier': '5MO4', 'score': 1.0}, {'identifier': '5NP2', 'score': 1.0}, {'identifier': '5OAZ', 'score': 1.0}, {'identifier': '6AMV', 'score': 1.0}, {'identifier': '6AMW', 'score': 1.0}, {'identifier': '6BL8', 'score': 1.0}, {'identifier': '6NPE', 'score': 1.0}, {'identifier': '6NPU', 'score': 1.0}, {'identifier': '6NPV', 'score': 1.0}, {'identifier': '6XR6', 'score': 1.0}, {'identifier': '6XR7', 'score': 1.0}, {'identifier': '6XRG', 'score': 1.0}, {'identifier': '7CC2', 'score': 1.0}, {'identifier': '7DT2', 'score': 1.0}, {'identifier': '7N9G', 'score': 1.0}, {'identifier': '7PVQ', 'score': 1.0}, {'identifier': '7PVR', 'score': 1.0}, {'identifier': '7PVS', 'score': 1.0}, {'identifier': '7PVV', 'score': 1.0}, {'identifier': '7PW2', 'score': 1.0}, {'identifier': '7W7X', 'score': 1.0}, {'identifier': '7W7Y', 'score': 1.0}, {'identifier': '8H7F', 'score': 1.0}, {'identifier': '8H7H', 'score': 1.0}, {'identifier': '8SSN', 'score': 1.0}]}\n"
     ]
    },
    {
     "name": "stderr",
     "output_type": "stream",
     "text": [
      " 40%|████      | 2/5 [00:02<00:03,  1.06s/it]"
     ]
    },
    {
     "name": "stdout",
     "output_type": "stream",
     "text": [
      "{'query_id': '26142bb3-6597-4296-8190-2447bd133ff5', 'result_type': 'entry', 'total_count': 291, 'result_set': [{'identifier': '1IVO', 'score': 1.0}, {'identifier': '1M14', 'score': 1.0}, {'identifier': '1M17', 'score': 1.0}, {'identifier': '1MOX', 'score': 1.0}, {'identifier': '1NQL', 'score': 1.0}, {'identifier': '1XKK', 'score': 1.0}, {'identifier': '1YY9', 'score': 1.0}, {'identifier': '1Z9I', 'score': 1.0}, {'identifier': '2EB2', 'score': 1.0}, {'identifier': '2EB3', 'score': 1.0}, {'identifier': '2GS2', 'score': 1.0}, {'identifier': '2GS6', 'score': 1.0}, {'identifier': '2GS7', 'score': 1.0}, {'identifier': '2ITN', 'score': 1.0}, {'identifier': '2ITO', 'score': 1.0}, {'identifier': '2ITP', 'score': 1.0}, {'identifier': '2ITQ', 'score': 1.0}, {'identifier': '2ITT', 'score': 1.0}, {'identifier': '2ITU', 'score': 1.0}, {'identifier': '2ITV', 'score': 1.0}, {'identifier': '2ITW', 'score': 1.0}, {'identifier': '2ITX', 'score': 1.0}, {'identifier': '2ITY', 'score': 1.0}, {'identifier': '2ITZ', 'score': 1.0}, {'identifier': '2J5E', 'score': 1.0}, {'identifier': '2J5F', 'score': 1.0}, {'identifier': '2J6M', 'score': 1.0}, {'identifier': '2JIT', 'score': 1.0}, {'identifier': '2JIU', 'score': 1.0}, {'identifier': '2JIV', 'score': 1.0}, {'identifier': '2KS1', 'score': 1.0}, {'identifier': '2M0B', 'score': 1.0}, {'identifier': '2M20', 'score': 1.0}, {'identifier': '2N5S', 'score': 1.0}, {'identifier': '2RF9', 'score': 1.0}, {'identifier': '2RFD', 'score': 1.0}, {'identifier': '2RFE', 'score': 1.0}, {'identifier': '2RGP', 'score': 1.0}, {'identifier': '3B2U', 'score': 1.0}, {'identifier': '3B2V', 'score': 1.0}, {'identifier': '3BEL', 'score': 1.0}, {'identifier': '3BUO', 'score': 1.0}, {'identifier': '3C09', 'score': 1.0}, {'identifier': '3G5V', 'score': 1.0}, {'identifier': '3G5Y', 'score': 1.0}, {'identifier': '3GOP', 'score': 1.0}, {'identifier': '3GT8', 'score': 1.0}, {'identifier': '3IKA', 'score': 1.0}, {'identifier': '3LZB', 'score': 1.0}, {'identifier': '3NJP', 'score': 1.0}, {'identifier': '3OB2', 'score': 1.0}, {'identifier': '3OP0', 'score': 1.0}, {'identifier': '3P0Y', 'score': 1.0}, {'identifier': '3PFV', 'score': 1.0}, {'identifier': '3POZ', 'score': 1.0}, {'identifier': '3QWQ', 'score': 1.0}, {'identifier': '3UG1', 'score': 1.0}, {'identifier': '3UG2', 'score': 1.0}, {'identifier': '3VJN', 'score': 1.0}, {'identifier': '3VJO', 'score': 1.0}, {'identifier': '3VRP', 'score': 1.0}, {'identifier': '3VRR', 'score': 1.0}, {'identifier': '3W2O', 'score': 1.0}, {'identifier': '3W2P', 'score': 1.0}, {'identifier': '3W2Q', 'score': 1.0}, {'identifier': '3W2R', 'score': 1.0}, {'identifier': '3W2S', 'score': 1.0}, {'identifier': '3W32', 'score': 1.0}, {'identifier': '3W33', 'score': 1.0}, {'identifier': '4G5J', 'score': 1.0}, {'identifier': '4G5P', 'score': 1.0}, {'identifier': '4HJO', 'score': 1.0}, {'identifier': '4I1Z', 'score': 1.0}, {'identifier': '4I20', 'score': 1.0}, {'identifier': '4I21', 'score': 1.0}, {'identifier': '4I22', 'score': 1.0}, {'identifier': '4I23', 'score': 1.0}, {'identifier': '4I24', 'score': 1.0}, {'identifier': '4JQ7', 'score': 1.0}, {'identifier': '4JQ8', 'score': 1.0}, {'identifier': '4JR3', 'score': 1.0}, {'identifier': '4JRV', 'score': 1.0}, {'identifier': '4KRL', 'score': 1.0}, {'identifier': '4KRM', 'score': 1.0}, {'identifier': '4KRO', 'score': 1.0}, {'identifier': '4KRP', 'score': 1.0}, {'identifier': '4LI5', 'score': 1.0}, {'identifier': '4LL0', 'score': 1.0}, {'identifier': '4LQM', 'score': 1.0}, {'identifier': '4LRM', 'score': 1.0}, {'identifier': '4R3P', 'score': 1.0}, {'identifier': '4R3R', 'score': 1.0}, {'identifier': '4R5S', 'score': 1.0}, {'identifier': '4RIW', 'score': 1.0}, {'identifier': '4RIX', 'score': 1.0}, {'identifier': '4RIY', 'score': 1.0}, {'identifier': '4RJ4', 'score': 1.0}, {'identifier': '4RJ5', 'score': 1.0}, {'identifier': '4RJ6', 'score': 1.0}, {'identifier': '4RJ7', 'score': 1.0}, {'identifier': '4RJ8', 'score': 1.0}, {'identifier': '4TKS', 'score': 1.0}, {'identifier': '4UIP', 'score': 1.0}, {'identifier': '4UV7', 'score': 1.0}, {'identifier': '4WD5', 'score': 1.0}, {'identifier': '4WKQ', 'score': 1.0}, {'identifier': '4WRG', 'score': 1.0}, {'identifier': '4ZAU', 'score': 1.0}, {'identifier': '4ZJV', 'score': 1.0}, {'identifier': '4ZSE', 'score': 1.0}, {'identifier': '5C8K', 'score': 1.0}, {'identifier': '5C8M', 'score': 1.0}, {'identifier': '5C8N', 'score': 1.0}, {'identifier': '5CAL', 'score': 1.0}, {'identifier': '5CAN', 'score': 1.0}, {'identifier': '5CAO', 'score': 1.0}, {'identifier': '5CAP', 'score': 1.0}, {'identifier': '5CAQ', 'score': 1.0}, {'identifier': '5CAS', 'score': 1.0}, {'identifier': '5CAU', 'score': 1.0}, {'identifier': '5CAV', 'score': 1.0}, {'identifier': '5CNN', 'score': 1.0}, {'identifier': '5CNO', 'score': 1.0}, {'identifier': '5CZH', 'score': 1.0}, {'identifier': '5CZI', 'score': 1.0}, {'identifier': '5D41', 'score': 1.0}, {'identifier': '5EDP', 'score': 1.0}, {'identifier': '5EDQ', 'score': 1.0}, {'identifier': '5EDR', 'score': 1.0}, {'identifier': '5EM5', 'score': 1.0}, {'identifier': '5EM6', 'score': 1.0}, {'identifier': '5EM7', 'score': 1.0}, {'identifier': '5EM8', 'score': 1.0}, {'identifier': '5FED', 'score': 1.0}, {'identifier': '5FEE', 'score': 1.0}, {'identifier': '5FEQ', 'score': 1.0}, {'identifier': '5GMP', 'score': 1.0}, {'identifier': '5GNK', 'score': 1.0}, {'identifier': '5GTY', 'score': 1.0}, {'identifier': '5GTZ', 'score': 1.0}, {'identifier': '5HCX', 'score': 1.0}, {'identifier': '5HCY', 'score': 1.0}, {'identifier': '5HCZ', 'score': 1.0}, {'identifier': '5HG5', 'score': 1.0}, {'identifier': '5HG7', 'score': 1.0}, {'identifier': '5HG8', 'score': 1.0}, {'identifier': '5HG9', 'score': 1.0}, {'identifier': '5HIB', 'score': 1.0}, {'identifier': '5HIC', 'score': 1.0}, {'identifier': '5J9Y', 'score': 1.0}, {'identifier': '5J9Z', 'score': 1.0}, {'identifier': '5JEB', 'score': 1.0}, {'identifier': '5LV6', 'score': 1.0}, {'identifier': '5SX4', 'score': 1.0}, {'identifier': '5SX5', 'score': 1.0}, {'identifier': '5U8L', 'score': 1.0}, {'identifier': '5UG8', 'score': 1.0}, {'identifier': '5UG9', 'score': 1.0}, {'identifier': '5UGA', 'score': 1.0}, {'identifier': '5UGB', 'score': 1.0}, {'identifier': '5UGC', 'score': 1.0}, {'identifier': '5UWD', 'score': 1.0}, {'identifier': '5WB7', 'score': 1.0}, {'identifier': '5WB8', 'score': 1.0}, {'identifier': '5X26', 'score': 1.0}, {'identifier': '5X27', 'score': 1.0}, {'identifier': '5X28', 'score': 1.0}, {'identifier': '5X2A', 'score': 1.0}, {'identifier': '5X2C', 'score': 1.0}, {'identifier': '5X2F', 'score': 1.0}, {'identifier': '5X2K', 'score': 1.0}, {'identifier': '5XDK', 'score': 1.0}, {'identifier': '5XDL', 'score': 1.0}, {'identifier': '5XGM', 'score': 1.0}, {'identifier': '5XGN', 'score': 1.0}, {'identifier': '5XWD', 'score': 1.0}, {'identifier': '5Y25', 'score': 1.0}, {'identifier': '5Y9T', 'score': 1.0}, {'identifier': '5YU9', 'score': 1.0}, {'identifier': '5ZTO', 'score': 1.0}, {'identifier': '5ZWJ', 'score': 1.0}, {'identifier': '6ARU', 'score': 1.0}, {'identifier': '6B3S', 'score': 1.0}, {'identifier': '6D8E', 'score': 1.0}, {'identifier': '6DUK', 'score': 1.0}, {'identifier': '6JRJ', 'score': 1.0}, {'identifier': '6JRK', 'score': 1.0}, {'identifier': '6JRX', 'score': 1.0}, {'identifier': '6JWL', 'score': 1.0}, {'identifier': '6JX0', 'score': 1.0}, {'identifier': '6JX4', 'score': 1.0}, {'identifier': '6JXT', 'score': 1.0}, {'identifier': '6JZ0', 'score': 1.0}, {'identifier': '6LUB', 'score': 1.0}, {'identifier': '6LUD', 'score': 1.0}, {'identifier': '6P1D', 'score': 1.0}, {'identifier': '6P1L', 'score': 1.0}, {'identifier': '6P8Q', 'score': 1.0}, {'identifier': '6S89', 'score': 1.0}, {'identifier': '6S8A', 'score': 1.0}, {'identifier': '6S9B', 'score': 1.0}, {'identifier': '6S9C', 'score': 1.0}, {'identifier': '6S9D', 'score': 1.0}, {'identifier': '6TFU', 'score': 1.0}, {'identifier': '6TFV', 'score': 1.0}, {'identifier': '6TFW', 'score': 1.0}, {'identifier': '6TFY', 'score': 1.0}, {'identifier': '6TFZ', 'score': 1.0}, {'identifier': '6TG0', 'score': 1.0}, {'identifier': '6TG1', 'score': 1.0}, {'identifier': '6V5N', 'score': 1.0}, {'identifier': '6V5P', 'score': 1.0}, {'identifier': '6V66', 'score': 1.0}, {'identifier': '6V6K', 'score': 1.0}, {'identifier': '6V6O', 'score': 1.0}, {'identifier': '6VH4', 'score': 1.0}, {'identifier': '6VHN', 'score': 1.0}, {'identifier': '6VHP', 'score': 1.0}, {'identifier': '6WA2', 'score': 1.0}, {'identifier': '6WAK', 'score': 1.0}, {'identifier': '6WXN', 'score': 1.0}, {'identifier': '6XL4', 'score': 1.0}, {'identifier': '6Z4B', 'score': 1.0}, {'identifier': '6Z4D', 'score': 1.0}, {'identifier': '7A2A', 'score': 1.0}, {'identifier': '7A6I', 'score': 1.0}, {'identifier': '7A6J', 'score': 1.0}, {'identifier': '7A6K', 'score': 1.0}, {'identifier': '7AEI', 'score': 1.0}, {'identifier': '7AEM', 'score': 1.0}, {'identifier': '7B85', 'score': 1.0}, {'identifier': '7ER2', 'score': 1.0}, {'identifier': '7JXI', 'score': 1.0}, {'identifier': '7JXK', 'score': 1.0}, {'identifier': '7JXL', 'score': 1.0}, {'identifier': '7JXM', 'score': 1.0}, {'identifier': '7JXP', 'score': 1.0}, {'identifier': '7JXQ', 'score': 1.0}, {'identifier': '7JXW', 'score': 1.0}, {'identifier': '7K1H', 'score': 1.0}, {'identifier': '7K1I', 'score': 1.0}, {'identifier': '7KXZ', 'score': 1.0}, {'identifier': '7KY0', 'score': 1.0}, {'identifier': '7LEN', 'score': 1.0}, {'identifier': '7LFR', 'score': 1.0}, {'identifier': '7LFS', 'score': 1.0}, {'identifier': '7LG8', 'score': 1.0}, {'identifier': '7LGS', 'score': 1.0}, {'identifier': '7LTX', 'score': 1.0}, {'identifier': '7OM4', 'score': 1.0}, {'identifier': '7OXB', 'score': 1.0}, {'identifier': '7SI1', 'score': 1.0}, {'identifier': '7SYD', 'score': 1.0}, {'identifier': '7SYE', 'score': 1.0}, {'identifier': '7SZ0', 'score': 1.0}, {'identifier': '7SZ1', 'score': 1.0}, {'identifier': '7SZ5', 'score': 1.0}, {'identifier': '7SZ7', 'score': 1.0}, {'identifier': '7T4I', 'score': 1.0}, {'identifier': '7T4J', 'score': 1.0}, {'identifier': '7TVD', 'score': 1.0}, {'identifier': '7U98', 'score': 1.0}, {'identifier': '7U99', 'score': 1.0}, {'identifier': '7U9A', 'score': 1.0}, {'identifier': '7UKV', 'score': 1.0}, {'identifier': '7UKW', 'score': 1.0}, {'identifier': '7VRA', 'score': 1.0}, {'identifier': '7VRE', 'score': 1.0}, {'identifier': '7ZYM', 'score': 1.0}, {'identifier': '7ZYN', 'score': 1.0}, {'identifier': '7ZYP', 'score': 1.0}, {'identifier': '7ZYQ', 'score': 1.0}, {'identifier': '8A27', 'score': 1.0}, {'identifier': '8A2A', 'score': 1.0}, {'identifier': '8A2B', 'score': 1.0}, {'identifier': '8A2D', 'score': 1.0}, {'identifier': '8D73', 'score': 1.0}, {'identifier': '8D76', 'score': 1.0}, {'identifier': '8DSW', 'score': 1.0}, {'identifier': '8EME', 'score': 1.0}, {'identifier': '8F1H', 'score': 1.0}, {'identifier': '8F1W', 'score': 1.0}, {'identifier': '8F1X', 'score': 1.0}, {'identifier': '8F1Y', 'score': 1.0}, {'identifier': '8F1Z', 'score': 1.0}, {'identifier': '8G63', 'score': 1.0}, {'identifier': '8H7X', 'score': 1.0}, {'identifier': '8HGO', 'score': 1.0}, {'identifier': '8HGP', 'score': 1.0}, {'identifier': '8HGS', 'score': 1.0}, {'identifier': '8HY7', 'score': 1.0}]}\n"
     ]
    },
    {
     "name": "stderr",
     "output_type": "stream",
     "text": [
      " 60%|██████    | 3/5 [00:03<00:02,  1.05s/it]"
     ]
    },
    {
     "name": "stdout",
     "output_type": "stream",
     "text": [
      "{'query_id': '3f5fd879-18b9-4836-b3f5-596255c6c315', 'result_type': 'entry', 'total_count': 166, 'result_set': [{'identifier': '1ABN', 'score': 1.0}, {'identifier': '1ADS', 'score': 1.0}, {'identifier': '1AZ1', 'score': 1.0}, {'identifier': '1AZ2', 'score': 1.0}, {'identifier': '1EF3', 'score': 1.0}, {'identifier': '1EL3', 'score': 1.0}, {'identifier': '1IEI', 'score': 1.0}, {'identifier': '1MAR', 'score': 1.0}, {'identifier': '1PWL', 'score': 1.0}, {'identifier': '1PWM', 'score': 1.0}, {'identifier': '1T40', 'score': 1.0}, {'identifier': '1T41', 'score': 1.0}, {'identifier': '1US0', 'score': 1.0}, {'identifier': '1X96', 'score': 1.0}, {'identifier': '1X97', 'score': 1.0}, {'identifier': '1X98', 'score': 1.0}, {'identifier': '1XGD', 'score': 1.0}, {'identifier': '1Z3N', 'score': 1.0}, {'identifier': '1Z89', 'score': 1.0}, {'identifier': '1Z8A', 'score': 1.0}, {'identifier': '2ACQ', 'score': 1.0}, {'identifier': '2ACR', 'score': 1.0}, {'identifier': '2ACS', 'score': 1.0}, {'identifier': '2ACU', 'score': 1.0}, {'identifier': '2AGT', 'score': 1.0}, {'identifier': '2DUX', 'score': 1.0}, {'identifier': '2DUZ', 'score': 1.0}, {'identifier': '2DV0', 'score': 1.0}, {'identifier': '2F2K', 'score': 1.0}, {'identifier': '2FZ8', 'score': 1.0}, {'identifier': '2FZ9', 'score': 1.0}, {'identifier': '2FZB', 'score': 1.0}, {'identifier': '2FZD', 'score': 1.0}, {'identifier': '2HV5', 'score': 1.0}, {'identifier': '2HVN', 'score': 1.0}, {'identifier': '2HVO', 'score': 1.0}, {'identifier': '2I16', 'score': 1.0}, {'identifier': '2I17', 'score': 1.0}, {'identifier': '2IKG', 'score': 1.0}, {'identifier': '2IKH', 'score': 1.0}, {'identifier': '2IKI', 'score': 1.0}, {'identifier': '2IKJ', 'score': 1.0}, {'identifier': '2INE', 'score': 1.0}, {'identifier': '2INZ', 'score': 1.0}, {'identifier': '2IPW', 'score': 1.0}, {'identifier': '2IQ0', 'score': 1.0}, {'identifier': '2IQD', 'score': 1.0}, {'identifier': '2IS7', 'score': 1.0}, {'identifier': '2ISF', 'score': 1.0}, {'identifier': '2J8T', 'score': 1.0}, {'identifier': '2NVC', 'score': 1.0}, {'identifier': '2NVD', 'score': 1.0}, {'identifier': '2PD5', 'score': 1.0}, {'identifier': '2PD9', 'score': 1.0}, {'identifier': '2PDB', 'score': 1.0}, {'identifier': '2PDC', 'score': 1.0}, {'identifier': '2PDF', 'score': 1.0}, {'identifier': '2PDG', 'score': 1.0}, {'identifier': '2PDH', 'score': 1.0}, {'identifier': '2PDI', 'score': 1.0}, {'identifier': '2PDJ', 'score': 1.0}, {'identifier': '2PDK', 'score': 1.0}, {'identifier': '2PDL', 'score': 1.0}, {'identifier': '2PDM', 'score': 1.0}, {'identifier': '2PDN', 'score': 1.0}, {'identifier': '2PDP', 'score': 1.0}, {'identifier': '2PDQ', 'score': 1.0}, {'identifier': '2PDU', 'score': 1.0}, {'identifier': '2PDW', 'score': 1.0}, {'identifier': '2PDX', 'score': 1.0}, {'identifier': '2PDY', 'score': 1.0}, {'identifier': '2PEV', 'score': 1.0}, {'identifier': '2PF8', 'score': 1.0}, {'identifier': '2PFH', 'score': 1.0}, {'identifier': '2PZN', 'score': 1.0}, {'identifier': '2QXW', 'score': 1.0}, {'identifier': '2R24', 'score': 1.0}, {'identifier': '3BCJ', 'score': 1.0}, {'identifier': '3DN5', 'score': 1.0}, {'identifier': '3G5E', 'score': 1.0}, {'identifier': '3GHR', 'score': 1.0}, {'identifier': '3GHS', 'score': 1.0}, {'identifier': '3GHT', 'score': 1.0}, {'identifier': '3GHU', 'score': 1.0}, {'identifier': '3LBO', 'score': 1.0}, {'identifier': '3LD5', 'score': 1.0}, {'identifier': '3LEN', 'score': 1.0}, {'identifier': '3LEP', 'score': 1.0}, {'identifier': '3LQG', 'score': 1.0}, {'identifier': '3LQL', 'score': 1.0}, {'identifier': '3LZ3', 'score': 1.0}, {'identifier': '3LZ5', 'score': 1.0}, {'identifier': '3M0I', 'score': 1.0}, {'identifier': '3M4H', 'score': 1.0}, {'identifier': '3M64', 'score': 1.0}, {'identifier': '3MB9', 'score': 1.0}, {'identifier': '3MC5', 'score': 1.0}, {'identifier': '3ONB', 'score': 1.0}, {'identifier': '3ONC', 'score': 1.0}, {'identifier': '3P2V', 'score': 1.0}, {'identifier': '3Q65', 'score': 1.0}, {'identifier': '3Q67', 'score': 1.0}, {'identifier': '3RX2', 'score': 1.0}, {'identifier': '3RX3', 'score': 1.0}, {'identifier': '3RX4', 'score': 1.0}, {'identifier': '3S3G', 'score': 1.0}, {'identifier': '3T42', 'score': 1.0}, {'identifier': '3U2C', 'score': 1.0}, {'identifier': '3V35', 'score': 1.0}, {'identifier': '3V36', 'score': 1.0}, {'identifier': '4GCA', 'score': 1.0}, {'identifier': '4IGS', 'score': 1.0}, {'identifier': '4JIR', 'score': 1.0}, {'identifier': '4LAU', 'score': 1.0}, {'identifier': '4LAZ', 'score': 1.0}, {'identifier': '4LB3', 'score': 1.0}, {'identifier': '4LB4', 'score': 1.0}, {'identifier': '4LBR', 'score': 1.0}, {'identifier': '4LBS', 'score': 1.0}, {'identifier': '4NKC', 'score': 1.0}, {'identifier': '4PR4', 'score': 1.0}, {'identifier': '4PRR', 'score': 1.0}, {'identifier': '4PRT', 'score': 1.0}, {'identifier': '4PUU', 'score': 1.0}, {'identifier': '4PUW', 'score': 1.0}, {'identifier': '4Q7B', 'score': 1.0}, {'identifier': '4QBX', 'score': 1.0}, {'identifier': '4QR6', 'score': 1.0}, {'identifier': '4QX4', 'score': 1.0}, {'identifier': '4QXI', 'score': 1.0}, {'identifier': '4RPQ', 'score': 1.0}, {'identifier': '4XZH', 'score': 1.0}, {'identifier': '4XZI', 'score': 1.0}, {'identifier': '4YS1', 'score': 1.0}, {'identifier': '4YU1', 'score': 1.0}, {'identifier': '5HA7', 'score': 1.0}, {'identifier': '5OU0', 'score': 1.0}, {'identifier': '5OUJ', 'score': 1.0}, {'identifier': '5OUK', 'score': 1.0}, {'identifier': '6F7R', 'score': 1.0}, {'identifier': '6F81', 'score': 1.0}, {'identifier': '6F82', 'score': 1.0}, {'identifier': '6F84', 'score': 1.0}, {'identifier': '6F8O', 'score': 1.0}, {'identifier': '6SYW', 'score': 1.0}, {'identifier': '6T27', 'score': 1.0}, {'identifier': '6T3P', 'score': 1.0}, {'identifier': '6T5G', 'score': 1.0}, {'identifier': '6T7Q', 'score': 1.0}, {'identifier': '6TD8', 'score': 1.0}, {'identifier': '6TUC', 'score': 1.0}, {'identifier': '6TUF', 'score': 1.0}, {'identifier': '6TXP', 'score': 1.0}, {'identifier': '6XUM', 'score': 1.0}, {'identifier': '6Y03', 'score': 1.0}, {'identifier': '6Y1P', 'score': 1.0}, {'identifier': '8A4N', 'score': 1.0}, {'identifier': '8AE9', 'score': 1.0}, {'identifier': '8AQG', 'score': 1.0}, {'identifier': '8AQP', 'score': 1.0}, {'identifier': '8AUU', 'score': 1.0}, {'identifier': '8B34', 'score': 1.0}, {'identifier': '8B3N', 'score': 1.0}, {'identifier': '8B3R', 'score': 1.0}, {'identifier': '8B66', 'score': 1.0}, {'identifier': '8BJL', 'score': 1.0}]}\n"
     ]
    },
    {
     "name": "stderr",
     "output_type": "stream",
     "text": [
      " 80%|████████  | 4/5 [00:04<00:01,  1.05s/it]"
     ]
    },
    {
     "name": "stdout",
     "output_type": "stream",
     "text": [
      "{'query_id': '6a94955d-3799-4f72-b713-8e3e06915360', 'result_type': 'entry', 'total_count': 19, 'result_set': [{'identifier': '2QRV', 'score': 1.0}, {'identifier': '3A1A', 'score': 1.0}, {'identifier': '3A1B', 'score': 1.0}, {'identifier': '3LLR', 'score': 1.0}, {'identifier': '3SVM', 'score': 1.0}, {'identifier': '4QBQ', 'score': 1.0}, {'identifier': '4QBR', 'score': 1.0}, {'identifier': '4QBS', 'score': 1.0}, {'identifier': '4U7P', 'score': 1.0}, {'identifier': '4U7T', 'score': 1.0}, {'identifier': '5YX2', 'score': 1.0}, {'identifier': '6BRR', 'score': 1.0}, {'identifier': '6F57', 'score': 1.0}, {'identifier': '6PA7', 'score': 1.0}, {'identifier': '6W89', 'score': 1.0}, {'identifier': '6W8B', 'score': 1.0}, {'identifier': '6W8D', 'score': 1.0}, {'identifier': '6W8J', 'score': 1.0}, {'identifier': '8BA5', 'score': 1.0}]}\n"
     ]
    },
    {
     "name": "stderr",
     "output_type": "stream",
     "text": [
      "100%|██████████| 5/5 [00:05<00:00,  1.05s/it]"
     ]
    },
    {
     "name": "stdout",
     "output_type": "stream",
     "text": [
      "{'query_id': 'dc981724-9284-4979-ad33-6dd5aca8deff', 'result_type': 'entry', 'total_count': 69, 'result_set': [{'identifier': '1S9J', 'score': 1.0}, {'identifier': '2P55', 'score': 1.0}, {'identifier': '3DV3', 'score': 1.0}, {'identifier': '3DY7', 'score': 1.0}, {'identifier': '3E8N', 'score': 1.0}, {'identifier': '3EQB', 'score': 1.0}, {'identifier': '3EQC', 'score': 1.0}, {'identifier': '3EQD', 'score': 1.0}, {'identifier': '3EQF', 'score': 1.0}, {'identifier': '3EQG', 'score': 1.0}, {'identifier': '3EQH', 'score': 1.0}, {'identifier': '3EQI', 'score': 1.0}, {'identifier': '3MBL', 'score': 1.0}, {'identifier': '3ORN', 'score': 1.0}, {'identifier': '3OS3', 'score': 1.0}, {'identifier': '3PP1', 'score': 1.0}, {'identifier': '3SLS', 'score': 1.0}, {'identifier': '3V01', 'score': 1.0}, {'identifier': '3V04', 'score': 1.0}, {'identifier': '3VVH', 'score': 1.0}, {'identifier': '3W8Q', 'score': 1.0}, {'identifier': '3WIG', 'score': 1.0}, {'identifier': '3ZLS', 'score': 1.0}, {'identifier': '3ZLW', 'score': 1.0}, {'identifier': '3ZLX', 'score': 1.0}, {'identifier': '3ZLY', 'score': 1.0}, {'identifier': '3ZM4', 'score': 1.0}, {'identifier': '4AN2', 'score': 1.0}, {'identifier': '4AN3', 'score': 1.0}, {'identifier': '4AN9', 'score': 1.0}, {'identifier': '4ANB', 'score': 1.0}, {'identifier': '4ARK', 'score': 1.0}, {'identifier': '4LMN', 'score': 1.0}, {'identifier': '4MNE', 'score': 1.0}, {'identifier': '4U7Z', 'score': 1.0}, {'identifier': '4U80', 'score': 1.0}, {'identifier': '4U81', 'score': 1.0}, {'identifier': '5BX0', 'score': 1.0}, {'identifier': '5EYM', 'score': 1.0}, {'identifier': '5HZE', 'score': 1.0}, {'identifier': '5YT3', 'score': 1.0}, {'identifier': '6NYB', 'score': 1.0}, {'identifier': '6PP9', 'score': 1.0}, {'identifier': '6Q0J', 'score': 1.0}, {'identifier': '6Q0T', 'score': 1.0}, {'identifier': '6U2G', 'score': 1.0}, {'identifier': '6V2W', 'score': 1.0}, {'identifier': '6X2P', 'score': 1.0}, {'identifier': '6X2S', 'score': 1.0}, {'identifier': '6X2X', 'score': 1.0}, {'identifier': '7B3M', 'score': 1.0}, {'identifier': '7B7R', 'score': 1.0}, {'identifier': '7B94', 'score': 1.0}, {'identifier': '7B9L', 'score': 1.0}, {'identifier': '7F2X', 'score': 1.0}, {'identifier': '7M0T', 'score': 1.0}, {'identifier': '7M0U', 'score': 1.0}, {'identifier': '7M0V', 'score': 1.0}, {'identifier': '7M0W', 'score': 1.0}, {'identifier': '7M0X', 'score': 1.0}, {'identifier': '7M0Y', 'score': 1.0}, {'identifier': '7M0Z', 'score': 1.0}, {'identifier': '7MFD', 'score': 1.0}, {'identifier': '7PQV', 'score': 1.0}, {'identifier': '7UMB', 'score': 1.0}, {'identifier': '7XLP', 'score': 1.0}, {'identifier': '7XNC', 'score': 1.0}, {'identifier': '8DGS', 'score': 1.0}, {'identifier': '8DGT', 'score': 1.0}]}\n"
     ]
    },
    {
     "name": "stderr",
     "output_type": "stream",
     "text": [
      "\n"
     ]
    },
    {
     "data": {
      "text/html": [
       "<div>\n",
       "<style scoped>\n",
       "    .dataframe tbody tr th:only-of-type {\n",
       "        vertical-align: middle;\n",
       "    }\n",
       "\n",
       "    .dataframe tbody tr th {\n",
       "        vertical-align: top;\n",
       "    }\n",
       "\n",
       "    .dataframe thead th {\n",
       "        text-align: right;\n",
       "    }\n",
       "</style>\n",
       "<table border=\"1\" class=\"dataframe\">\n",
       "  <thead>\n",
       "    <tr style=\"text-align: right;\">\n",
       "      <th></th>\n",
       "      <th>data source</th>\n",
       "      <th>chemical name</th>\n",
       "      <th>gene symbol</th>\n",
       "      <th>variant</th>\n",
       "      <th>ddg</th>\n",
       "      <th>disease name</th>\n",
       "      <th>label</th>\n",
       "      <th>uniprot id</th>\n",
       "      <th>chemical_type</th>\n",
       "      <th>pubchem id</th>\n",
       "      <th>smile</th>\n",
       "      <th>chromosome</th>\n",
       "      <th>position</th>\n",
       "      <th>ref allele</th>\n",
       "      <th>alt allele</th>\n",
       "      <th>fasta</th>\n",
       "      <th>pubchem fingerprint</th>\n",
       "      <th>icd11</th>\n",
       "      <th>pdb list</th>\n",
       "    </tr>\n",
       "  </thead>\n",
       "  <tbody>\n",
       "    <tr>\n",
       "      <th>0</th>\n",
       "      <td>aimms</td>\n",
       "      <td>dasatinib</td>\n",
       "      <td>ABL1</td>\n",
       "      <td>M244V</td>\n",
       "      <td>0.290000</td>\n",
       "      <td>NaN</td>\n",
       "      <td>NaN</td>\n",
       "      <td>P00519</td>\n",
       "      <td>NaN</td>\n",
       "      <td>3062316</td>\n",
       "      <td>CC1=C(C(=CC=C1)Cl)NC(=O)C2=CN=C(S2)NC3=CC(=NC(...</td>\n",
       "      <td>NaN</td>\n",
       "      <td>NaN</td>\n",
       "      <td>NaN</td>\n",
       "      <td>NaN</td>\n",
       "      <td>MLEICLKLVGCKSKKGLSSSSSCYLEEALQRPVASDFEPQGLSEAA...</td>\n",
       "      <td>1110000001111011101100000000000001000100000000...</td>\n",
       "      <td>NaN</td>\n",
       "      <td>1AB2,1AWO,1BBZ,1JU5,1OPL,1ZZP,2ABL,2E2B,2F4J,2...</td>\n",
       "    </tr>\n",
       "    <tr>\n",
       "      <th>1</th>\n",
       "      <td>aimms</td>\n",
       "      <td>dasatinib</td>\n",
       "      <td>ABL1</td>\n",
       "      <td>G250E</td>\n",
       "      <td>0.480000</td>\n",
       "      <td>NaN</td>\n",
       "      <td>NaN</td>\n",
       "      <td>P00519</td>\n",
       "      <td>NaN</td>\n",
       "      <td>3062316</td>\n",
       "      <td>CC1=C(C(=CC=C1)Cl)NC(=O)C2=CN=C(S2)NC3=CC(=NC(...</td>\n",
       "      <td>NaN</td>\n",
       "      <td>NaN</td>\n",
       "      <td>NaN</td>\n",
       "      <td>NaN</td>\n",
       "      <td>MLEICLKLVGCKSKKGLSSSSSCYLEEALQRPVASDFEPQGLSEAA...</td>\n",
       "      <td>1110000001111011101100000000000001000100000000...</td>\n",
       "      <td>NaN</td>\n",
       "      <td>1AB2,1AWO,1BBZ,1JU5,1OPL,1ZZP,2ABL,2E2B,2F4J,2...</td>\n",
       "    </tr>\n",
       "    <tr>\n",
       "      <th>2</th>\n",
       "      <td>aimms</td>\n",
       "      <td>dasatinib</td>\n",
       "      <td>ABL1</td>\n",
       "      <td>Q252H</td>\n",
       "      <td>0.860000</td>\n",
       "      <td>NaN</td>\n",
       "      <td>NaN</td>\n",
       "      <td>P00519</td>\n",
       "      <td>NaN</td>\n",
       "      <td>3062316</td>\n",
       "      <td>CC1=C(C(=CC=C1)Cl)NC(=O)C2=CN=C(S2)NC3=CC(=NC(...</td>\n",
       "      <td>NaN</td>\n",
       "      <td>NaN</td>\n",
       "      <td>NaN</td>\n",
       "      <td>NaN</td>\n",
       "      <td>MLEICLKLVGCKSKKGLSSSSSCYLEEALQRPVASDFEPQGLSEAA...</td>\n",
       "      <td>1110000001111011101100000000000001000100000000...</td>\n",
       "      <td>NaN</td>\n",
       "      <td>1AB2,1AWO,1BBZ,1JU5,1OPL,1ZZP,2ABL,2E2B,2F4J,2...</td>\n",
       "    </tr>\n",
       "    <tr>\n",
       "      <th>3</th>\n",
       "      <td>aimms</td>\n",
       "      <td>dasatinib</td>\n",
       "      <td>ABL1</td>\n",
       "      <td>Y253F</td>\n",
       "      <td>0.330000</td>\n",
       "      <td>NaN</td>\n",
       "      <td>NaN</td>\n",
       "      <td>P00519</td>\n",
       "      <td>NaN</td>\n",
       "      <td>3062316</td>\n",
       "      <td>CC1=C(C(=CC=C1)Cl)NC(=O)C2=CN=C(S2)NC3=CC(=NC(...</td>\n",
       "      <td>NaN</td>\n",
       "      <td>NaN</td>\n",
       "      <td>NaN</td>\n",
       "      <td>NaN</td>\n",
       "      <td>MLEICLKLVGCKSKKGLSSSSSCYLEEALQRPVASDFEPQGLSEAA...</td>\n",
       "      <td>1110000001111011101100000000000001000100000000...</td>\n",
       "      <td>NaN</td>\n",
       "      <td>1AB2,1AWO,1BBZ,1JU5,1OPL,1ZZP,2ABL,2E2B,2F4J,2...</td>\n",
       "    </tr>\n",
       "    <tr>\n",
       "      <th>4</th>\n",
       "      <td>aimms</td>\n",
       "      <td>dasatinib</td>\n",
       "      <td>ABL1</td>\n",
       "      <td>Y253H</td>\n",
       "      <td>0.290000</td>\n",
       "      <td>NaN</td>\n",
       "      <td>NaN</td>\n",
       "      <td>P00519</td>\n",
       "      <td>NaN</td>\n",
       "      <td>3062316</td>\n",
       "      <td>CC1=C(C(=CC=C1)Cl)NC(=O)C2=CN=C(S2)NC3=CC(=NC(...</td>\n",
       "      <td>NaN</td>\n",
       "      <td>NaN</td>\n",
       "      <td>NaN</td>\n",
       "      <td>NaN</td>\n",
       "      <td>MLEICLKLVGCKSKKGLSSSSSCYLEEALQRPVASDFEPQGLSEAA...</td>\n",
       "      <td>1110000001111011101100000000000001000100000000...</td>\n",
       "      <td>NaN</td>\n",
       "      <td>1AB2,1AWO,1BBZ,1JU5,1OPL,1ZZP,2ABL,2E2B,2F4J,2...</td>\n",
       "    </tr>\n",
       "    <tr>\n",
       "      <th>...</th>\n",
       "      <td>...</td>\n",
       "      <td>...</td>\n",
       "      <td>...</td>\n",
       "      <td>...</td>\n",
       "      <td>...</td>\n",
       "      <td>...</td>\n",
       "      <td>...</td>\n",
       "      <td>...</td>\n",
       "      <td>...</td>\n",
       "      <td>...</td>\n",
       "      <td>...</td>\n",
       "      <td>...</td>\n",
       "      <td>...</td>\n",
       "      <td>...</td>\n",
       "      <td>...</td>\n",
       "      <td>...</td>\n",
       "      <td>...</td>\n",
       "      <td>...</td>\n",
       "      <td>...</td>\n",
       "    </tr>\n",
       "    <tr>\n",
       "      <th>19664</th>\n",
       "      <td>ret</td>\n",
       "      <td>Nintedanib</td>\n",
       "      <td>RET</td>\n",
       "      <td>G810A</td>\n",
       "      <td>-0.044158</td>\n",
       "      <td>NaN</td>\n",
       "      <td>NaN</td>\n",
       "      <td>P07949</td>\n",
       "      <td>NaN</td>\n",
       "      <td>135423438</td>\n",
       "      <td>CN1CCN(CC1)CC(=O)N(C)C2=CC=C(C=C2)N=C(C3=CC=CC...</td>\n",
       "      <td>NaN</td>\n",
       "      <td>NaN</td>\n",
       "      <td>NaN</td>\n",
       "      <td>NaN</td>\n",
       "      <td>MAKATSGAAGLRLLLLLLLPLLGKVALGLYFSRDAYWEKLYVDQAA...</td>\n",
       "      <td>1111000001111011101110000000000000000000000000...</td>\n",
       "      <td>NaN</td>\n",
       "      <td>NaN</td>\n",
       "    </tr>\n",
       "    <tr>\n",
       "      <th>19665</th>\n",
       "      <td>ret</td>\n",
       "      <td>Nintedanib</td>\n",
       "      <td>RET</td>\n",
       "      <td>G810S</td>\n",
       "      <td>0.826043</td>\n",
       "      <td>NaN</td>\n",
       "      <td>NaN</td>\n",
       "      <td>P07949</td>\n",
       "      <td>NaN</td>\n",
       "      <td>135423438</td>\n",
       "      <td>CN1CCN(CC1)CC(=O)N(C)C2=CC=C(C=C2)N=C(C3=CC=CC...</td>\n",
       "      <td>NaN</td>\n",
       "      <td>NaN</td>\n",
       "      <td>NaN</td>\n",
       "      <td>NaN</td>\n",
       "      <td>MAKATSGAAGLRLLLLLLLPLLGKVALGLYFSRDAYWEKLYVDQAA...</td>\n",
       "      <td>1111000001111011101110000000000000000000000000...</td>\n",
       "      <td>NaN</td>\n",
       "      <td>NaN</td>\n",
       "    </tr>\n",
       "    <tr>\n",
       "      <th>19666</th>\n",
       "      <td>ret</td>\n",
       "      <td>Nintedanib</td>\n",
       "      <td>RET</td>\n",
       "      <td>V871I</td>\n",
       "      <td>0.149749</td>\n",
       "      <td>NaN</td>\n",
       "      <td>NaN</td>\n",
       "      <td>P07949</td>\n",
       "      <td>NaN</td>\n",
       "      <td>135423438</td>\n",
       "      <td>CN1CCN(CC1)CC(=O)N(C)C2=CC=C(C=C2)N=C(C3=CC=CC...</td>\n",
       "      <td>NaN</td>\n",
       "      <td>NaN</td>\n",
       "      <td>NaN</td>\n",
       "      <td>NaN</td>\n",
       "      <td>MAKATSGAAGLRLLLLLLLPLLGKVALGLYFSRDAYWEKLYVDQAA...</td>\n",
       "      <td>1111000001111011101110000000000000000000000000...</td>\n",
       "      <td>NaN</td>\n",
       "      <td>NaN</td>\n",
       "    </tr>\n",
       "    <tr>\n",
       "      <th>19667</th>\n",
       "      <td>ret</td>\n",
       "      <td>Nintedanib</td>\n",
       "      <td>RET</td>\n",
       "      <td>F998V</td>\n",
       "      <td>0.000000</td>\n",
       "      <td>NaN</td>\n",
       "      <td>NaN</td>\n",
       "      <td>P07949</td>\n",
       "      <td>NaN</td>\n",
       "      <td>135423438</td>\n",
       "      <td>CN1CCN(CC1)CC(=O)N(C)C2=CC=C(C=C2)N=C(C3=CC=CC...</td>\n",
       "      <td>NaN</td>\n",
       "      <td>NaN</td>\n",
       "      <td>NaN</td>\n",
       "      <td>NaN</td>\n",
       "      <td>MAKATSGAAGLRLLLLLLLPLLGKVALGLYFSRDAYWEKLYVDQAA...</td>\n",
       "      <td>1111000001111011101110000000000000000000000000...</td>\n",
       "      <td>NaN</td>\n",
       "      <td>NaN</td>\n",
       "    </tr>\n",
       "    <tr>\n",
       "      <th>19668</th>\n",
       "      <td>ret</td>\n",
       "      <td>Nintedanib</td>\n",
       "      <td>RET</td>\n",
       "      <td>M918T</td>\n",
       "      <td>0.321169</td>\n",
       "      <td>NaN</td>\n",
       "      <td>NaN</td>\n",
       "      <td>P07949</td>\n",
       "      <td>NaN</td>\n",
       "      <td>135423438</td>\n",
       "      <td>CN1CCN(CC1)CC(=O)N(C)C2=CC=C(C=C2)N=C(C3=CC=CC...</td>\n",
       "      <td>NaN</td>\n",
       "      <td>NaN</td>\n",
       "      <td>NaN</td>\n",
       "      <td>NaN</td>\n",
       "      <td>MAKATSGAAGLRLLLLLLLPLLGKVALGLYFSRDAYWEKLYVDQAA...</td>\n",
       "      <td>1111000001111011101110000000000000000000000000...</td>\n",
       "      <td>NaN</td>\n",
       "      <td>NaN</td>\n",
       "    </tr>\n",
       "  </tbody>\n",
       "</table>\n",
       "<p>19669 rows × 19 columns</p>\n",
       "</div>"
      ],
      "text/plain": [
       "      data source chemical name gene symbol variant       ddg disease name  \\\n",
       "0           aimms     dasatinib        ABL1   M244V  0.290000          NaN   \n",
       "1           aimms     dasatinib        ABL1   G250E  0.480000          NaN   \n",
       "2           aimms     dasatinib        ABL1   Q252H  0.860000          NaN   \n",
       "3           aimms     dasatinib        ABL1   Y253F  0.330000          NaN   \n",
       "4           aimms     dasatinib        ABL1   Y253H  0.290000          NaN   \n",
       "...           ...           ...         ...     ...       ...          ...   \n",
       "19664         ret    Nintedanib         RET   G810A -0.044158          NaN   \n",
       "19665         ret    Nintedanib         RET   G810S  0.826043          NaN   \n",
       "19666         ret    Nintedanib         RET   V871I  0.149749          NaN   \n",
       "19667         ret    Nintedanib         RET   F998V  0.000000          NaN   \n",
       "19668         ret    Nintedanib         RET   M918T  0.321169          NaN   \n",
       "\n",
       "      label uniprot id chemical_type pubchem id  \\\n",
       "0       NaN     P00519           NaN    3062316   \n",
       "1       NaN     P00519           NaN    3062316   \n",
       "2       NaN     P00519           NaN    3062316   \n",
       "3       NaN     P00519           NaN    3062316   \n",
       "4       NaN     P00519           NaN    3062316   \n",
       "...     ...        ...           ...        ...   \n",
       "19664   NaN     P07949           NaN  135423438   \n",
       "19665   NaN     P07949           NaN  135423438   \n",
       "19666   NaN     P07949           NaN  135423438   \n",
       "19667   NaN     P07949           NaN  135423438   \n",
       "19668   NaN     P07949           NaN  135423438   \n",
       "\n",
       "                                                   smile chromosome  position  \\\n",
       "0      CC1=C(C(=CC=C1)Cl)NC(=O)C2=CN=C(S2)NC3=CC(=NC(...        NaN       NaN   \n",
       "1      CC1=C(C(=CC=C1)Cl)NC(=O)C2=CN=C(S2)NC3=CC(=NC(...        NaN       NaN   \n",
       "2      CC1=C(C(=CC=C1)Cl)NC(=O)C2=CN=C(S2)NC3=CC(=NC(...        NaN       NaN   \n",
       "3      CC1=C(C(=CC=C1)Cl)NC(=O)C2=CN=C(S2)NC3=CC(=NC(...        NaN       NaN   \n",
       "4      CC1=C(C(=CC=C1)Cl)NC(=O)C2=CN=C(S2)NC3=CC(=NC(...        NaN       NaN   \n",
       "...                                                  ...        ...       ...   \n",
       "19664  CN1CCN(CC1)CC(=O)N(C)C2=CC=C(C=C2)N=C(C3=CC=CC...        NaN       NaN   \n",
       "19665  CN1CCN(CC1)CC(=O)N(C)C2=CC=C(C=C2)N=C(C3=CC=CC...        NaN       NaN   \n",
       "19666  CN1CCN(CC1)CC(=O)N(C)C2=CC=C(C=C2)N=C(C3=CC=CC...        NaN       NaN   \n",
       "19667  CN1CCN(CC1)CC(=O)N(C)C2=CC=C(C=C2)N=C(C3=CC=CC...        NaN       NaN   \n",
       "19668  CN1CCN(CC1)CC(=O)N(C)C2=CC=C(C=C2)N=C(C3=CC=CC...        NaN       NaN   \n",
       "\n",
       "      ref allele alt allele  \\\n",
       "0            NaN        NaN   \n",
       "1            NaN        NaN   \n",
       "2            NaN        NaN   \n",
       "3            NaN        NaN   \n",
       "4            NaN        NaN   \n",
       "...          ...        ...   \n",
       "19664        NaN        NaN   \n",
       "19665        NaN        NaN   \n",
       "19666        NaN        NaN   \n",
       "19667        NaN        NaN   \n",
       "19668        NaN        NaN   \n",
       "\n",
       "                                                   fasta  \\\n",
       "0      MLEICLKLVGCKSKKGLSSSSSCYLEEALQRPVASDFEPQGLSEAA...   \n",
       "1      MLEICLKLVGCKSKKGLSSSSSCYLEEALQRPVASDFEPQGLSEAA...   \n",
       "2      MLEICLKLVGCKSKKGLSSSSSCYLEEALQRPVASDFEPQGLSEAA...   \n",
       "3      MLEICLKLVGCKSKKGLSSSSSCYLEEALQRPVASDFEPQGLSEAA...   \n",
       "4      MLEICLKLVGCKSKKGLSSSSSCYLEEALQRPVASDFEPQGLSEAA...   \n",
       "...                                                  ...   \n",
       "19664  MAKATSGAAGLRLLLLLLLPLLGKVALGLYFSRDAYWEKLYVDQAA...   \n",
       "19665  MAKATSGAAGLRLLLLLLLPLLGKVALGLYFSRDAYWEKLYVDQAA...   \n",
       "19666  MAKATSGAAGLRLLLLLLLPLLGKVALGLYFSRDAYWEKLYVDQAA...   \n",
       "19667  MAKATSGAAGLRLLLLLLLPLLGKVALGLYFSRDAYWEKLYVDQAA...   \n",
       "19668  MAKATSGAAGLRLLLLLLLPLLGKVALGLYFSRDAYWEKLYVDQAA...   \n",
       "\n",
       "                                     pubchem fingerprint icd11  \\\n",
       "0      1110000001111011101100000000000001000100000000...   NaN   \n",
       "1      1110000001111011101100000000000001000100000000...   NaN   \n",
       "2      1110000001111011101100000000000001000100000000...   NaN   \n",
       "3      1110000001111011101100000000000001000100000000...   NaN   \n",
       "4      1110000001111011101100000000000001000100000000...   NaN   \n",
       "...                                                  ...   ...   \n",
       "19664  1111000001111011101110000000000000000000000000...   NaN   \n",
       "19665  1111000001111011101110000000000000000000000000...   NaN   \n",
       "19666  1111000001111011101110000000000000000000000000...   NaN   \n",
       "19667  1111000001111011101110000000000000000000000000...   NaN   \n",
       "19668  1111000001111011101110000000000000000000000000...   NaN   \n",
       "\n",
       "                                                pdb list  \n",
       "0      1AB2,1AWO,1BBZ,1JU5,1OPL,1ZZP,2ABL,2E2B,2F4J,2...  \n",
       "1      1AB2,1AWO,1BBZ,1JU5,1OPL,1ZZP,2ABL,2E2B,2F4J,2...  \n",
       "2      1AB2,1AWO,1BBZ,1JU5,1OPL,1ZZP,2ABL,2E2B,2F4J,2...  \n",
       "3      1AB2,1AWO,1BBZ,1JU5,1OPL,1ZZP,2ABL,2E2B,2F4J,2...  \n",
       "4      1AB2,1AWO,1BBZ,1JU5,1OPL,1ZZP,2ABL,2E2B,2F4J,2...  \n",
       "...                                                  ...  \n",
       "19664                                                NaN  \n",
       "19665                                                NaN  \n",
       "19666                                                NaN  \n",
       "19667                                                NaN  \n",
       "19668                                                NaN  \n",
       "\n",
       "[19669 rows x 19 columns]"
      ]
     },
     "execution_count": 4,
     "metadata": {},
     "output_type": "execute_result"
    }
   ],
   "source": [
    "all_data_df = pd.read_csv('middlefile/icd11_table.tsv', sep = '\\t')\n",
    "uniprot_id_list = all_data_df['uniprot id'].unique()\n",
    "for i in tqdm(range(5)):\n",
    "    uniprot_id = uniprot_id_list[i]\n",
    "    search_url = \"https://search.rcsb.org/rcsbsearch/v2/query\"\n",
    "    search_request = {\n",
    "        \"query\": {\n",
    "            \"type\": \"group\",\n",
    "            \"logical_operator\": \"and\",\n",
    "            \"nodes\": [\n",
    "                {\n",
    "                    \"type\": \"terminal\",\n",
    "                    \"service\": \"text\",\n",
    "                    \"parameters\": {\n",
    "                        \"operator\": \"exact_match\",\n",
    "                        \"value\": uniprot_id,\n",
    "                        \"attribute\": \"rcsb_polymer_entity_container_identifiers.reference_sequence_identifiers.database_accession\"\n",
    "                    }\n",
    "                },\n",
    "                {\n",
    "                    \"type\": \"terminal\",\n",
    "                    \"service\": \"text\",\n",
    "                    \"parameters\": {\n",
    "                        \"operator\": \"exact_match\",\n",
    "                        \"value\": \"UniProt\",\n",
    "                        \"attribute\": \"rcsb_polymer_entity_container_identifiers.reference_sequence_identifiers.database_name\"\n",
    "                    }\n",
    "                }\n",
    "            ]\n",
    "        },\n",
    "        \"request_options\": {\n",
    "            \"paginate\": {\n",
    "            \"start\": 0,\n",
    "            \"rows\": 1000\n",
    "            }\n",
    "        },\n",
    "        \"return_type\": \"entry\"\n",
    "    }\n",
    "    try:\n",
    "        response = requests.post(search_url, json=search_request)\n",
    "        \n",
    "        pdb_list = response.json()['result_set']\n",
    "        print(response.json())\n",
    "        pdb_str = ''\n",
    "        for i, pdb_item in enumerate(pdb_list):\n",
    "            pdb_str += pdb_item['identifier']\n",
    "            if i != len(pdb_list)-1 :\n",
    "                pdb_str += ','\n",
    "        # print(uniprot_id)\n",
    "        # print(pdb_str)\n",
    "    except:\n",
    "        # print(uniprot_id)\n",
    "        pdb_list = None\n",
    "\n",
    "    all_data_df.loc[all_data_df['uniprot id'] == uniprot_id, 'pdb list'] = pdb_str   \n",
    "\n",
    "all_data_df.to_csv('middlefile/pdb_table.tsv', sep = '\\t', index= False)\n",
    "all_data_df                              \n"
   ]
  },
  {
   "cell_type": "code",
   "execution_count": 12,
   "metadata": {},
   "outputs": [
    {
     "name": "stdout",
     "output_type": "stream",
     "text": [
      "{'query_id': 'e4bfe2df-0dba-44b1-8d9c-4aac2366e493', 'result_type': 'polymer_entity', 'total_count': 104, 'result_set': [{'identifier': '5MO4_1', 'score': 1.0}, {'identifier': '1OPL_1', 'score': 0.9966960352422908}, {'identifier': '1OPK_1', 'score': 0.9955947136563876}, {'identifier': '2FO0_1', 'score': 0.974669603524229}, {'identifier': '8SSN_1', 'score': 0.9085903083700441}, {'identifier': '4XEY_1', 'score': 0.789647577092511}, {'identifier': '2E2B_1', 'score': 0.5374449339207048}, {'identifier': '6XR6_1', 'score': 0.5374449339207048}, {'identifier': '6XR7_1', 'score': 0.5374449339207048}, {'identifier': '4WA9_1', 'score': 0.5330396475770925}]}\n"
     ]
    }
   ],
   "source": [
    "search_url = \"https://search.rcsb.org/rcsbsearch/v2/query\"\n",
    "search_request = {\n",
    "  \"query\": {\n",
    "    \"type\": \"terminal\",\n",
    "    \"service\": \"sequence\",\n",
    "    \"parameters\": {\n",
    "      \"evalue_cutoff\": 1,\n",
    "      \"identity_cutoff\": 0.9,\n",
    "      \"sequence_type\": \"protein\",\n",
    "      \"value\": \"MLEICLKLVGCKSKKGLSSSSSCYLEEALQRPVASDFEPQGLSEAARWNSKENLLAGPSENDPNLFVALYDFVASGDNTLSITKGEKLRVLGYNHNGEWCEAQTKNGQGWVPSNYITPVNSLEKHSWYHGPVSRNAAEYLLSSGINGSFLVRESESSPGQRSISLRYEGRVYHYRINTASDGKLYVSSESRFNTLAELVHHHSTVADGLITTLHYPAPKRNKPTVYGVSPNYDKWEMERTDITMKHKLGGGQYGEVYEGVWKKYSLTVAVKTLKEDTMEVEEFLKEAAVMKEIKHPNLVQLLGVCTREPPFYIITEFMTYGNLLDYLRECNRQEVNAVVLLYMATQISSAMEYLEKKNFIHRDLAARNCLVGENHLVKVADFGLSRLMTGDTYTAHAGAKFPIKWTAPESLAYNKFSIKSDVWAFGVLLWEIATYGMSPYPGIDLSQVYELLEKDYRMERPEGCPEKVYELMRACWQWNPSDRPSFAEIHQAFETMFQESSISDEVEKELGKQGVRGAVSTLLQAPELPTKTRTSRRAAEHRDTTDVPEMPHSKGQGESDPLDHEPAVSPLLPRKERGPPEGGLNEDERLLPKDKKTNLFSALIKKKKKTAPTPPKRSSSFREMDGQPERRGAGEEEGRDISNGALAFTPLDTADPAKSPKPSNGAGVPNGALRESGGSGFRSPHLWKKSSTLTSSRLATGEEEGGGSSSKRFLRSCSASCVPHGAKDTEWRSVTLPRDLQSTGRQFDSSTFGGHKSEKPALPRKRAGENRSDQVTRGTVTPPPRLVKKNEEAADEVFKDIMESSPGSSPPNLTPKPLRRQVTVAPASGLPHKEEAGKGSALGTPAAAEPVTPTSKAGSGAPGGTSKGPAEESRVRRHKHSSESPGRDKGKLSRLKPAPPPPPAASAGKAGGKPSQSPSQEAAGEAVLGAKTKATSLVDAVNSDAAKPSQPGEGLKKPVLPATPKPQSAKPSGTPISPAPVPSTLPSASSALAGDQPSSTAFIPLISTRVSLRKTRQPPERIASGAITKGVVLDSTEALCLAISRNSEQMASHSAVLEAGKNLYTFCVSYVDSIQQMRNKFAFREAINKLENNLRELQICPATAGSGPAATQDFSKLLSSVKEISDIVQR\"\n",
    "    }\n",
    "  },\n",
    "  \"request_options\": {\n",
    "    \"scoring_strategy\": \"sequence\"\n",
    "  },\n",
    "  \"return_type\": \"polymer_entity\"\n",
    "}\n",
    "response = requests.post(search_url, json=search_request)\n",
    "print(response.json())"
   ]
  },
  {
   "cell_type": "code",
   "execution_count": 6,
   "metadata": {},
   "outputs": [
    {
     "data": {
      "text/html": [
       "<div>\n",
       "<style scoped>\n",
       "    .dataframe tbody tr th:only-of-type {\n",
       "        vertical-align: middle;\n",
       "    }\n",
       "\n",
       "    .dataframe tbody tr th {\n",
       "        vertical-align: top;\n",
       "    }\n",
       "\n",
       "    .dataframe thead th {\n",
       "        text-align: right;\n",
       "    }\n",
       "</style>\n",
       "<table border=\"1\" class=\"dataframe\">\n",
       "  <thead>\n",
       "    <tr style=\"text-align: right;\">\n",
       "      <th></th>\n",
       "      <th>data source</th>\n",
       "      <th>count</th>\n",
       "    </tr>\n",
       "  </thead>\n",
       "  <tbody>\n",
       "    <tr>\n",
       "      <th>0</th>\n",
       "      <td>gdsc</td>\n",
       "      <td>8442</td>\n",
       "    </tr>\n",
       "    <tr>\n",
       "      <th>1</th>\n",
       "      <td>pharmgkb</td>\n",
       "      <td>4828</td>\n",
       "    </tr>\n",
       "    <tr>\n",
       "      <th>2</th>\n",
       "      <td>dbmcs</td>\n",
       "      <td>3719</td>\n",
       "    </tr>\n",
       "    <tr>\n",
       "      <th>3</th>\n",
       "      <td>civic</td>\n",
       "      <td>2381</td>\n",
       "    </tr>\n",
       "    <tr>\n",
       "      <th>4</th>\n",
       "      <td>depmep</td>\n",
       "      <td>193</td>\n",
       "    </tr>\n",
       "    <tr>\n",
       "      <th>5</th>\n",
       "      <td>ret</td>\n",
       "      <td>56</td>\n",
       "    </tr>\n",
       "    <tr>\n",
       "      <th>6</th>\n",
       "      <td>aimms</td>\n",
       "      <td>50</td>\n",
       "    </tr>\n",
       "  </tbody>\n",
       "</table>\n",
       "</div>"
      ],
      "text/plain": [
       "  data source  count\n",
       "0        gdsc   8442\n",
       "1    pharmgkb   4828\n",
       "2       dbmcs   3719\n",
       "3       civic   2381\n",
       "4      depmep    193\n",
       "5         ret     56\n",
       "6       aimms     50"
      ]
     },
     "execution_count": 6,
     "metadata": {},
     "output_type": "execute_result"
    }
   ],
   "source": [
    "import pandas as pd\n",
    "data_df = pd.read_csv('middlefile/final_table.tsv', sep = '\\t')\n",
    "data_df['data source'].value_counts().reset_index()"
   ]
  },
  {
   "cell_type": "code",
   "execution_count": 7,
   "metadata": {},
   "outputs": [
    {
     "name": "stdout",
     "output_type": "stream",
     "text": [
      "  data source  disease name\n",
      "0       aimms             0\n",
      "1       civic           181\n",
      "2       dbmcs             0\n",
      "3      depmep             0\n",
      "4        gdsc             0\n",
      "5    pharmgkb           666\n",
      "6         ret             0\n",
      "843\n"
     ]
    }
   ],
   "source": [
    "print(data_df.groupby('data source')['disease name'].nunique().reset_index())\n",
    "print(data_df['disease name'].nunique())"
   ]
  },
  {
   "cell_type": "code",
   "execution_count": 10,
   "metadata": {},
   "outputs": [
    {
     "name": "stdout",
     "output_type": "stream",
     "text": [
      "data source\n",
      "aimms          3\n",
      "civic        256\n",
      "dbmcs        112\n",
      "depmep         5\n",
      "gdsc         124\n",
      "pharmgkb    1054\n",
      "ret            1\n",
      "Name: gene symbol, dtype: int64\n",
      "1323\n"
     ]
    }
   ],
   "source": [
    "print(data_df.groupby('data source')['gene symbol'].nunique())\n",
    "print(data_df['gene symbol'].nunique())"
   ]
  },
  {
   "cell_type": "code",
   "execution_count": 11,
   "metadata": {},
   "outputs": [
    {
     "name": "stdout",
     "output_type": "stream",
     "text": [
      "data source\n",
      "aimms         4\n",
      "civic       623\n",
      "dbmcs       628\n",
      "depmep        5\n",
      "gdsc        234\n",
      "pharmgkb    842\n",
      "ret           4\n",
      "Name: chemical name, dtype: int64\n",
      "2142\n"
     ]
    }
   ],
   "source": [
    "print(data_df.groupby('data source')['chemical name'].nunique())\n",
    "print(data_df['chemical name'].nunique())"
   ]
  },
  {
   "cell_type": "code",
   "execution_count": 12,
   "metadata": {},
   "outputs": [
    {
     "name": "stdout",
     "output_type": "stream",
     "text": [
      "             单点突变数量  多点突变数量\n",
      "data source                \n",
      "aimms            47       3\n",
      "civic           820    1561\n",
      "dbmcs          2986     733\n",
      "depmep          173      20\n",
      "gdsc           7114    1328\n",
      "pharmgkb       1524    3304\n",
      "ret              52       4\n",
      "单点突变数量    12716\n",
      "多点突变数量     6953\n",
      "dtype: int64\n"
     ]
    }
   ],
   "source": [
    "def count_mutation_types(group):\n",
    "    # 定义单点突变的正则表达式\n",
    "    single_mutation_pattern = '^[A-Z][0-9]*[A-Z]$|^c\\.[0-9]+[A-Z]>[A-Z]$|^p\\.[A-Z][0-9]+[A-Z]$'\n",
    "    \n",
    "    # 统计单点和多点突变的数量\n",
    "    single_point_mutations = group['variant'].str.match(single_mutation_pattern).sum()\n",
    "    multi_point_mutations = len(group) - single_point_mutations\n",
    "    \n",
    "    # 创建一个包含统计结果的 Series\n",
    "    result = pd.Series({\n",
    "        '单点突变数量': single_point_mutations,\n",
    "        '多点突变数量': multi_point_mutations\n",
    "    })\n",
    "    \n",
    "    return result\n",
    "\n",
    "# 按照 data source 分组，并应用 count_mutation_types 函数\n",
    "mutation_counts = data_df.groupby('data source').apply(count_mutation_types)\n",
    "\n",
    "# 打印结果\n",
    "print(mutation_counts)\n",
    "print(count_mutation_types(data_df))"
   ]
  },
  {
   "cell_type": "code",
   "execution_count": null,
   "metadata": {},
   "outputs": [],
   "source": []
  }
 ],
 "metadata": {
  "kernelspec": {
   "display_name": "ML",
   "language": "python",
   "name": "python3"
  },
  "language_info": {
   "codemirror_mode": {
    "name": "ipython",
    "version": 3
   },
   "file_extension": ".py",
   "mimetype": "text/x-python",
   "name": "python",
   "nbconvert_exporter": "python",
   "pygments_lexer": "ipython3",
   "version": "3.9.18"
  }
 },
 "nbformat": 4,
 "nbformat_minor": 2
}
