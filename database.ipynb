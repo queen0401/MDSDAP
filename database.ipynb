{
 "cells": [
  {
   "cell_type": "code",
   "execution_count": 2,
   "metadata": {},
   "outputs": [
    {
     "name": "stdout",
     "output_type": "stream",
     "text": [
      "Database(MongoClient(host=['127.0.0.1:27017'], document_class=dict, tz_aware=False, connect=True), 'mdsdap')\n"
     ]
    },
    {
     "name": "stderr",
     "output_type": "stream",
     "text": [
      "100%|██████████| 19669/19669 [00:08<00:00, 2244.35it/s]\n"
     ]
    },
    {
     "data": {
      "text/plain": [
       "Collection(Database(MongoClient(host=['127.0.0.1:27017'], document_class=dict, tz_aware=False, connect=True), 'mdsdap'), 'all_data')"
      ]
     },
     "execution_count": 2,
     "metadata": {},
     "output_type": "execute_result"
    }
   ],
   "source": [
    "import pandas as pd\n",
    "import requests\n",
    "from tqdm import tqdm\n",
    "import pymongo \n",
    "\n",
    "# 读取数据\n",
    "all_data_df = pd.read_csv('middlefile/final_table.tsv', sep='\\t')\n",
    "# all_data_df.head()\n",
    "\n",
    "client = pymongo.MongoClient(host='127.0.0.1') #连接\n",
    "\n",
    "db = client.mdsdap\n",
    "print(db)\n",
    "collections = db.all_data  # 创建集合\n",
    "collections.delete_many({})\n",
    "collections.create_index(\"id\", unique=True)\n",
    "\n",
    "for i in tqdm(range(len(all_data_df))):\n",
    "    ddg = all_data_df['ddg'][i]\n",
    "    source= all_data_df['data source'][i]\n",
    "    chemical = all_data_df['chemical name'][i]\n",
    "    gene = all_data_df['gene symbol'][i]\n",
    "    variant= all_data_df['variant'][i]\n",
    "    disease= all_data_df['disease name'][i]\n",
    "    label= all_data_df['label'][i]\n",
    "    uniprot= all_data_df['uniprot id'][i]\n",
    "    pubchem_id= all_data_df['pubchem id'][i]\n",
    "    smile= all_data_df['smile'][i]\n",
    "    fasta= all_data_df['fasta'][i]\n",
    "    fingerprint= all_data_df['pubchem fingerprint'][i]\n",
    "    icd11= all_data_df['icd11'][i]\n",
    "    pdb= all_data_df['pdb list'][i]\n",
    "    id = int(all_data_df['id'][i])\n",
    "\n",
    "    item = {\n",
    "    \"ddg\": ddg,\n",
    "    \"chemical_name\": chemical,\n",
    "    'pdb_list':pdb,\n",
    "    'icd11':icd11,\n",
    "    'pubchem_fingerprint':fingerprint,\n",
    "    'fasta':fasta,\n",
    "    'uniprot_id': uniprot,\n",
    "    'label': label,\n",
    "    'source': source,\n",
    "    'gene_symbol':gene,\n",
    "    'variant': variant,\n",
    "    'disease_name': disease,\n",
    "    'punchem_id': pubchem_id,\n",
    "    'smile': smile,\n",
    "    'id': id\n",
    "}\n",
    "    collections.insert_one(item)\n",
    "\n",
    "collections\n"
   ]
  },
  {
   "cell_type": "code",
   "execution_count": null,
   "metadata": {},
   "outputs": [],
   "source": []
  }
 ],
 "metadata": {
  "kernelspec": {
   "display_name": "mdsdap",
   "language": "python",
   "name": "python3"
  },
  "language_info": {
   "codemirror_mode": {
    "name": "ipython",
    "version": 3
   },
   "file_extension": ".py",
   "mimetype": "text/x-python",
   "name": "python",
   "nbconvert_exporter": "python",
   "pygments_lexer": "ipython3",
   "version": "3.9.18"
  }
 },
 "nbformat": 4,
 "nbformat_minor": 2
}
