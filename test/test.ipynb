{
 "cells": [
  {
   "cell_type": "code",
   "execution_count": 5,
   "metadata": {},
   "outputs": [
    {
     "ename": "ValueError",
     "evalue": "No records found in handle",
     "output_type": "error",
     "traceback": [
      "\u001b[0;31m---------------------------------------------------------------------------\u001b[0m",
      "\u001b[0;31mValueError\u001b[0m                                Traceback (most recent call last)",
      "\u001b[0;32m<ipython-input-5-e4d89f60aeba>\u001b[0m in \u001b[0;36m<module>\u001b[0;34m()\u001b[0m\n\u001b[1;32m     30\u001b[0m \u001b[0mrsid\u001b[0m \u001b[0;34m=\u001b[0m \u001b[0;34m\"rs10011796\"\u001b[0m\u001b[0;34m\u001b[0m\u001b[0m\n\u001b[1;32m     31\u001b[0m \u001b[0mtranscript_location\u001b[0m \u001b[0;34m=\u001b[0m \u001b[0;34m\"NC_000003.12:183917980\"\u001b[0m\u001b[0;34m\u001b[0m\u001b[0m\n\u001b[0;32m---> 32\u001b[0;31m \u001b[0mresult\u001b[0m \u001b[0;34m=\u001b[0m \u001b[0mget_gene_and_protein_positions\u001b[0m\u001b[0;34m(\u001b[0m\u001b[0mrsid\u001b[0m\u001b[0;34m,\u001b[0m \u001b[0mtranscript_location\u001b[0m\u001b[0;34m)\u001b[0m\u001b[0;34m\u001b[0m\u001b[0m\n\u001b[0m\u001b[1;32m     33\u001b[0m \u001b[0;34m\u001b[0m\u001b[0m\n\u001b[1;32m     34\u001b[0m \u001b[0;32mif\u001b[0m \u001b[0mresult\u001b[0m\u001b[0;34m:\u001b[0m\u001b[0;34m\u001b[0m\u001b[0m\n",
      "\u001b[0;32m<ipython-input-5-e4d89f60aeba>\u001b[0m in \u001b[0;36mget_gene_and_protein_positions\u001b[0;34m(rsid, transcript_location)\u001b[0m\n\u001b[1;32m      5\u001b[0m     \u001b[0mEntrez\u001b[0m\u001b[0;34m.\u001b[0m\u001b[0memail\u001b[0m \u001b[0;34m=\u001b[0m \u001b[0;34m\"liweihao0401@gmail.com\"\u001b[0m\u001b[0;34m\u001b[0m\u001b[0m\n\u001b[1;32m      6\u001b[0m     \u001b[0mhandle\u001b[0m \u001b[0;34m=\u001b[0m \u001b[0mEntrez\u001b[0m\u001b[0;34m.\u001b[0m\u001b[0mefetch\u001b[0m\u001b[0;34m(\u001b[0m\u001b[0mdb\u001b[0m\u001b[0;34m=\u001b[0m\u001b[0;34m\"snp\"\u001b[0m\u001b[0;34m,\u001b[0m \u001b[0mid\u001b[0m\u001b[0;34m=\u001b[0m\u001b[0mrsid\u001b[0m\u001b[0;34m,\u001b[0m \u001b[0mrettype\u001b[0m\u001b[0;34m=\u001b[0m\u001b[0;34m\"gb\"\u001b[0m\u001b[0;34m,\u001b[0m \u001b[0mretmode\u001b[0m\u001b[0;34m=\u001b[0m\u001b[0;34m\"text\"\u001b[0m\u001b[0;34m)\u001b[0m\u001b[0;34m\u001b[0m\u001b[0m\n\u001b[0;32m----> 7\u001b[0;31m     \u001b[0mrecord\u001b[0m \u001b[0;34m=\u001b[0m \u001b[0mSeqIO\u001b[0m\u001b[0;34m.\u001b[0m\u001b[0mread\u001b[0m\u001b[0;34m(\u001b[0m\u001b[0mhandle\u001b[0m\u001b[0;34m,\u001b[0m \u001b[0;34m\"genbank\"\u001b[0m\u001b[0;34m)\u001b[0m\u001b[0;34m\u001b[0m\u001b[0m\n\u001b[0m\u001b[1;32m      8\u001b[0m     \u001b[0mgene_name\u001b[0m \u001b[0;34m=\u001b[0m \u001b[0mrecord\u001b[0m\u001b[0;34m.\u001b[0m\u001b[0mannotations\u001b[0m\u001b[0;34m[\u001b[0m\u001b[0;34m\"gene\"\u001b[0m\u001b[0;34m]\u001b[0m\u001b[0;34m\u001b[0m\u001b[0m\n\u001b[1;32m      9\u001b[0m     \u001b[0mprotein_accession\u001b[0m \u001b[0;34m=\u001b[0m \u001b[0mrecord\u001b[0m\u001b[0;34m.\u001b[0m\u001b[0mfeatures\u001b[0m\u001b[0;34m[\u001b[0m\u001b[0;36m0\u001b[0m\u001b[0;34m]\u001b[0m\u001b[0;34m.\u001b[0m\u001b[0mqualifiers\u001b[0m\u001b[0;34m[\u001b[0m\u001b[0;34m\"protein_id\"\u001b[0m\u001b[0;34m]\u001b[0m\u001b[0;34m[\u001b[0m\u001b[0;36m0\u001b[0m\u001b[0;34m]\u001b[0m\u001b[0;34m\u001b[0m\u001b[0m\n",
      "\u001b[0;32m/home/liwh/.conda/envs/ML/lib/python3.6/site-packages/Bio/SeqIO/__init__.py\u001b[0m in \u001b[0;36mread\u001b[0;34m(handle, format, alphabet)\u001b[0m\n\u001b[1;32m    654\u001b[0m         \u001b[0mrecord\u001b[0m \u001b[0;34m=\u001b[0m \u001b[0mnext\u001b[0m\u001b[0;34m(\u001b[0m\u001b[0miterator\u001b[0m\u001b[0;34m)\u001b[0m\u001b[0;34m\u001b[0m\u001b[0m\n\u001b[1;32m    655\u001b[0m     \u001b[0;32mexcept\u001b[0m \u001b[0mStopIteration\u001b[0m\u001b[0;34m:\u001b[0m\u001b[0;34m\u001b[0m\u001b[0m\n\u001b[0;32m--> 656\u001b[0;31m         \u001b[0;32mraise\u001b[0m \u001b[0mValueError\u001b[0m\u001b[0;34m(\u001b[0m\u001b[0;34m\"No records found in handle\"\u001b[0m\u001b[0;34m)\u001b[0m \u001b[0;32mfrom\u001b[0m \u001b[0;32mNone\u001b[0m\u001b[0;34m\u001b[0m\u001b[0m\n\u001b[0m\u001b[1;32m    657\u001b[0m     \u001b[0;32mtry\u001b[0m\u001b[0;34m:\u001b[0m\u001b[0;34m\u001b[0m\u001b[0m\n\u001b[1;32m    658\u001b[0m         \u001b[0mnext\u001b[0m\u001b[0;34m(\u001b[0m\u001b[0miterator\u001b[0m\u001b[0;34m)\u001b[0m\u001b[0;34m\u001b[0m\u001b[0m\n",
      "\u001b[0;31mValueError\u001b[0m: No records found in handle"
     ]
    }
   ],
   "source": [
    "from Bio import Entrez, SeqIO\n",
    "\n",
    "def get_gene_and_protein_positions(rsid, transcript_location):\n",
    "    # Step 1: Query rsid to get gene and protein information\n",
    "    Entrez.email = \"liweihao0401@gmail.com\"\n",
    "    handle = Entrez.efetch(db=\"snp\", id=rsid, rettype=\"gb\", retmode=\"text\")\n",
    "    record = SeqIO.read(handle, \"genbank\")\n",
    "    gene_name = record.annotations[\"gene\"]\n",
    "    protein_accession = record.features[0].qualifiers[\"protein_id\"][0]\n",
    "\n",
    "    # Step 2: Query transcript location to get gene and protein positions\n",
    "    transcript_accession = transcript_location.split(\":\")[0]\n",
    "    position = int(transcript_location.split(\":\")[1])\n",
    "\n",
    "    handle = Entrez.efetch(db=\"nucleotide\", id=transcript_accession, rettype=\"gb\", retmode=\"text\")\n",
    "    transcript_record = SeqIO.read(handle, \"genbank\")\n",
    "\n",
    "    for feature in transcript_record.features:\n",
    "        if feature.type == \"CDS\":\n",
    "            cds_start = feature.location.start.position\n",
    "            cds_end = feature.location.end.position\n",
    "            if cds_start <= position <= cds_end:\n",
    "                gene_position = feature.qualifiers[\"gene\"][0]\n",
    "                protein_position = position - cds_start + 1\n",
    "                return gene_name, gene_position, protein_accession, protein_position\n",
    "\n",
    "    return None\n",
    "\n",
    "# Example usage\n",
    "rsid = \"rs10011796\"\n",
    "transcript_location = \"NC_000003.12:183917980\"\n",
    "result = get_gene_and_protein_positions(rsid, transcript_location)\n",
    "\n",
    "if result:\n",
    "    gene_name, gene_position, protein_accession, protein_position = result\n",
    "    print(f\"Gene Name: {gene_name}\")\n",
    "    print(f\"Gene Position: {gene_position}\")\n",
    "    print(f\"Protein Accession: {protein_accession}\")\n",
    "    print(f\"Protein Position: {protein_position}\")\n",
    "else:\n",
    "    print(\"No matching information found.\")\n"
   ]
  },
  {
   "cell_type": "code",
   "execution_count": 1,
   "metadata": {},
   "outputs": [
    {
     "name": "stdout",
     "output_type": "stream",
     "text": [
      "{'location': '3:183917980-183917980', 'start': 183917980, 'strand': 1, 'ancestral_allele': 'C', 'allele_string': 'C/T', 'assembly_name': 'GRCh38', 'seq_region_name': '3', 'coord_system': 'chromosome', 'end': 183917980}\n"
     ]
    },
    {
     "ename": "KeyError",
     "evalue": "'gene_symbol'",
     "output_type": "error",
     "traceback": [
      "\u001b[0;31m---------------------------------------------------------------------------\u001b[0m",
      "\u001b[0;31mKeyError\u001b[0m                                  Traceback (most recent call last)",
      "\u001b[0;32m<ipython-input-1-04f989cc8d70>\u001b[0m in \u001b[0;36m<module>\u001b[0;34m()\u001b[0m\n\u001b[1;32m     24\u001b[0m \u001b[0mrsid\u001b[0m \u001b[0;34m=\u001b[0m \u001b[0;34m\"rs1000002\"\u001b[0m\u001b[0;34m\u001b[0m\u001b[0m\n\u001b[1;32m     25\u001b[0m \u001b[0mtranscript_location\u001b[0m \u001b[0;34m=\u001b[0m \u001b[0;34m\"NC_000003.12:183917980\"\u001b[0m\u001b[0;34m\u001b[0m\u001b[0m\n\u001b[0;32m---> 26\u001b[0;31m \u001b[0mresult\u001b[0m \u001b[0;34m=\u001b[0m \u001b[0mget_gene_and_protein_positions\u001b[0m\u001b[0;34m(\u001b[0m\u001b[0mrsid\u001b[0m\u001b[0;34m,\u001b[0m \u001b[0mtranscript_location\u001b[0m\u001b[0;34m)\u001b[0m\u001b[0;34m\u001b[0m\u001b[0m\n\u001b[0m\u001b[1;32m     27\u001b[0m \u001b[0;34m\u001b[0m\u001b[0m\n\u001b[1;32m     28\u001b[0m \u001b[0;32mif\u001b[0m \u001b[0mresult\u001b[0m\u001b[0;34m:\u001b[0m\u001b[0;34m\u001b[0m\u001b[0m\n",
      "\u001b[0;32m<ipython-input-1-04f989cc8d70>\u001b[0m in \u001b[0;36mget_gene_and_protein_positions\u001b[0;34m(rsid, transcript_location)\u001b[0m\n\u001b[1;32m      9\u001b[0m         \u001b[0mdata\u001b[0m \u001b[0;34m=\u001b[0m \u001b[0mresponse\u001b[0m\u001b[0;34m.\u001b[0m\u001b[0mjson\u001b[0m\u001b[0;34m(\u001b[0m\u001b[0;34m)\u001b[0m\u001b[0;34m\u001b[0m\u001b[0m\n\u001b[1;32m     10\u001b[0m         \u001b[0mprint\u001b[0m\u001b[0;34m(\u001b[0m\u001b[0mdata\u001b[0m\u001b[0;34m[\u001b[0m\u001b[0;34m'mappings'\u001b[0m\u001b[0;34m]\u001b[0m\u001b[0;34m[\u001b[0m\u001b[0;36m0\u001b[0m\u001b[0;34m]\u001b[0m\u001b[0;34m)\u001b[0m\u001b[0;34m\u001b[0m\u001b[0m\n\u001b[0;32m---> 11\u001b[0;31m         \u001b[0mgene_name\u001b[0m \u001b[0;34m=\u001b[0m \u001b[0mdata\u001b[0m\u001b[0;34m[\u001b[0m\u001b[0;34m'mappings'\u001b[0m\u001b[0;34m]\u001b[0m\u001b[0;34m[\u001b[0m\u001b[0;36m0\u001b[0m\u001b[0;34m]\u001b[0m\u001b[0;34m[\u001b[0m\u001b[0;34m'gene_symbol'\u001b[0m\u001b[0;34m]\u001b[0m\u001b[0;34m\u001b[0m\u001b[0m\n\u001b[0m\u001b[1;32m     12\u001b[0m         \u001b[0mprotein_id\u001b[0m \u001b[0;34m=\u001b[0m \u001b[0mdata\u001b[0m\u001b[0;34m[\u001b[0m\u001b[0;34m'mappings'\u001b[0m\u001b[0;34m]\u001b[0m\u001b[0;34m[\u001b[0m\u001b[0;36m0\u001b[0m\u001b[0;34m]\u001b[0m\u001b[0;34m[\u001b[0m\u001b[0;34m'protein_id'\u001b[0m\u001b[0;34m]\u001b[0m\u001b[0;34m\u001b[0m\u001b[0m\n\u001b[1;32m     13\u001b[0m     \u001b[0;32melse\u001b[0m\u001b[0;34m:\u001b[0m\u001b[0;34m\u001b[0m\u001b[0m\n",
      "\u001b[0;31mKeyError\u001b[0m: 'gene_symbol'"
     ]
    }
   ],
   "source": [
    "import requests\n",
    "\n",
    "def get_gene_and_protein_positions(rsid, transcript_location):\n",
    "    # Step 1: Query rsid to get gene and protein information\n",
    "    url = f\"https://rest.ensembl.org/variation/human/{rsid}\"\n",
    "    response = requests.get(url, headers={\"Content-Type\": \"application/json\"})\n",
    "    \n",
    "    if response.status_code == 200:\n",
    "        data = response.json()\n",
    "        print(data['mappings'][0])\n",
    "        gene_name = data['mappings'][0]['gene_symbol']\n",
    "        protein_id = data['mappings'][0]['protein_id']\n",
    "    else:\n",
    "        print(f\"Error: Unable to fetch information for rsid {rsid}\")\n",
    "        return None\n",
    "\n",
    "    # Step 2: Parse transcript location to get gene and protein positions\n",
    "    transcript_accession, position = transcript_location.split(\":\")\n",
    "    position = int(position)\n",
    "\n",
    "    return gene_name, transcript_accession, position, protein_id\n",
    "\n",
    "# Example usage\n",
    "rsid = \"rs1000002\"\n",
    "transcript_location = \"NC_000003.12:183917980\"\n",
    "result = get_gene_and_protein_positions(rsid, transcript_location)\n",
    "\n",
    "if result:\n",
    "    gene_name, transcript_accession, position, protein_id = result\n",
    "    print(f\"Gene Name: {gene_name}\")\n",
    "    print(f\"Transcript Accession: {transcript_accession}\")\n",
    "    print(f\"Position: {position}\")\n",
    "    print(f\"Protein ID: {protein_id}\")\n"
   ]
  },
  {
   "cell_type": "code",
   "execution_count": 2,
   "metadata": {},
   "outputs": [
    {
     "ename": "KeyError",
     "evalue": "'transcript_id'",
     "output_type": "error",
     "traceback": [
      "\u001b[0;31m---------------------------------------------------------------------------\u001b[0m",
      "\u001b[0;31mKeyError\u001b[0m                                  Traceback (most recent call last)",
      "\u001b[0;32m<ipython-input-2-05a98d0d8534>\u001b[0m in \u001b[0;36m<module>\u001b[0;34m()\u001b[0m\n\u001b[1;32m     27\u001b[0m \u001b[0mrsid\u001b[0m \u001b[0;34m=\u001b[0m \u001b[0;34m\"rs1000002\"\u001b[0m\u001b[0;34m\u001b[0m\u001b[0m\n\u001b[1;32m     28\u001b[0m \u001b[0mtranscript_location\u001b[0m \u001b[0;34m=\u001b[0m \u001b[0;34m\"NC_000003.12:183917980\"\u001b[0m\u001b[0;34m\u001b[0m\u001b[0m\n\u001b[0;32m---> 29\u001b[0;31m \u001b[0mresult\u001b[0m \u001b[0;34m=\u001b[0m \u001b[0mget_gene_and_protein_positions\u001b[0m\u001b[0;34m(\u001b[0m\u001b[0mrsid\u001b[0m\u001b[0;34m,\u001b[0m \u001b[0mtranscript_location\u001b[0m\u001b[0;34m)\u001b[0m\u001b[0;34m\u001b[0m\u001b[0m\n\u001b[0m\u001b[1;32m     30\u001b[0m \u001b[0;34m\u001b[0m\u001b[0m\n\u001b[1;32m     31\u001b[0m \u001b[0;32mif\u001b[0m \u001b[0mresult\u001b[0m\u001b[0;34m:\u001b[0m\u001b[0;34m\u001b[0m\u001b[0m\n",
      "\u001b[0;32m<ipython-input-2-05a98d0d8534>\u001b[0m in \u001b[0;36mget_gene_and_protein_positions\u001b[0;34m(rsid, transcript_location)\u001b[0m\n\u001b[1;32m      9\u001b[0m         \u001b[0mdata\u001b[0m \u001b[0;34m=\u001b[0m \u001b[0mresponse\u001b[0m\u001b[0;34m.\u001b[0m\u001b[0mjson\u001b[0m\u001b[0;34m(\u001b[0m\u001b[0;34m)\u001b[0m\u001b[0;34m\u001b[0m\u001b[0m\n\u001b[1;32m     10\u001b[0m         \u001b[0;32mif\u001b[0m \u001b[0;34m'mappings'\u001b[0m \u001b[0;32min\u001b[0m \u001b[0mdata\u001b[0m \u001b[0;32mand\u001b[0m \u001b[0mlen\u001b[0m\u001b[0;34m(\u001b[0m\u001b[0mdata\u001b[0m\u001b[0;34m[\u001b[0m\u001b[0;34m'mappings'\u001b[0m\u001b[0;34m]\u001b[0m\u001b[0;34m)\u001b[0m \u001b[0;34m>\u001b[0m \u001b[0;36m0\u001b[0m\u001b[0;34m:\u001b[0m\u001b[0;34m\u001b[0m\u001b[0m\n\u001b[0;32m---> 11\u001b[0;31m             \u001b[0mtranscript_accession\u001b[0m \u001b[0;34m=\u001b[0m \u001b[0mdata\u001b[0m\u001b[0;34m[\u001b[0m\u001b[0;34m'mappings'\u001b[0m\u001b[0;34m]\u001b[0m\u001b[0;34m[\u001b[0m\u001b[0;36m0\u001b[0m\u001b[0;34m]\u001b[0m\u001b[0;34m[\u001b[0m\u001b[0;34m'transcript_id'\u001b[0m\u001b[0;34m]\u001b[0m\u001b[0;34m\u001b[0m\u001b[0m\n\u001b[0m\u001b[1;32m     12\u001b[0m             \u001b[0mposition\u001b[0m \u001b[0;34m=\u001b[0m \u001b[0mdata\u001b[0m\u001b[0;34m[\u001b[0m\u001b[0;34m'mappings'\u001b[0m\u001b[0;34m]\u001b[0m\u001b[0;34m[\u001b[0m\u001b[0;36m0\u001b[0m\u001b[0;34m]\u001b[0m\u001b[0;34m[\u001b[0m\u001b[0;34m'start'\u001b[0m\u001b[0;34m]\u001b[0m\u001b[0;34m\u001b[0m\u001b[0m\n\u001b[1;32m     13\u001b[0m         \u001b[0;32melse\u001b[0m\u001b[0;34m:\u001b[0m\u001b[0;34m\u001b[0m\u001b[0m\n",
      "\u001b[0;31mKeyError\u001b[0m: 'transcript_id'"
     ]
    }
   ],
   "source": [
    "import requests\n",
    "\n",
    "def get_gene_and_protein_positions(rsid, transcript_location):\n",
    "    # Step 1: Query rsid to get gene and protein information\n",
    "    url = f\"https://rest.ensembl.org/variation/human/{rsid}\"\n",
    "    response = requests.get(url, headers={\"Content-Type\": \"application/json\"})\n",
    "    \n",
    "    if response.status_code == 200:\n",
    "        data = response.json()\n",
    "        if 'mappings' in data and len(data['mappings']) > 0:\n",
    "            transcript_accession = data['mappings'][0]['transcript_id']\n",
    "            position = data['mappings'][0]['start']\n",
    "        else:\n",
    "            print(f\"Error: Unable to fetch information for rsid {rsid}\")\n",
    "            return None\n",
    "    else:\n",
    "        print(f\"Error: Unable to fetch information for rsid {rsid}\")\n",
    "        return None\n",
    "\n",
    "    # Step 2: Parse transcript location to get gene and protein positions\n",
    "    transcript_accession, position = transcript_location.split(\":\")\n",
    "    position = int(position)\n",
    "\n",
    "    return transcript_accession, position\n",
    "\n",
    "# Example usage\n",
    "rsid = \"rs1000002\"\n",
    "transcript_location = \"NC_000003.12:183917980\"\n",
    "result = get_gene_and_protein_positions(rsid, transcript_location)\n",
    "\n",
    "if result:\n",
    "    transcript_accession, position = result\n",
    "    print(f\"Transcript Accession: {transcript_accession}\")\n",
    "    print(f\"Position: {position}\")\n"
   ]
  },
  {
   "cell_type": "code",
   "execution_count": 1,
   "metadata": {},
   "outputs": [
    {
     "name": "stdout",
     "output_type": "stream",
     "text": [
      "Error: Unable to fetch information for rsid rs1000002\n"
     ]
    }
   ],
   "source": [
    "import requests\n",
    "\n",
    "def get_gene_and_protein_positions(rsid, transcript_location):\n",
    "    # Step 1: Query transcript location to get gene and protein information\n",
    "    transcript_accession, position = transcript_location.split(\":\")\n",
    "    position = int(position)\n",
    "\n",
    "    url = f\"https://rest.ensembl.org/map/human/{transcript_accession}/{position}..{position}/GRCh38\"\n",
    "    response = requests.get(url, headers={\"Content-Type\": \"application/json\"})\n",
    "    \n",
    "    if response.status_code == 200:\n",
    "        data = response.json()\n",
    "        if 'mappings' in data and len(data['mappings']) > 0:\n",
    "            gene_name = data['mappings'][0]['external_name']\n",
    "            protein_id = data['mappings'][0]['protein_id']\n",
    "        else:\n",
    "            print(f\"Error: Unable to fetch information for rsid {rsid}\")\n",
    "            return None\n",
    "    else:\n",
    "        print(f\"Error: Unable to fetch information for rsid {rsid}\")\n",
    "        return None\n",
    "\n",
    "    return gene_name, transcript_accession, position, protein_id\n",
    "\n",
    "# Example usage\n",
    "rsid = \"rs1000002\"\n",
    "transcript_location = \"NC_000003.12:183917980\"\n",
    "result = get_gene_and_protein_positions(rsid, transcript_location)\n",
    "\n",
    "if result:\n",
    "    gene_name, transcript_accession, position, protein_id = result\n",
    "    print(f\"Gene Name: {gene_name}\")\n",
    "    print(f\"Transcript Accession: {transcript_accession}\")\n",
    "    print(f\"Position: {position}\")\n",
    "    print(f\"Protein ID: {protein_id}\")\n"
   ]
  },
  {
   "cell_type": "code",
   "execution_count": 4,
   "metadata": {},
   "outputs": [
    {
     "data": {
      "text/plain": [
       "<Response [200]>"
      ]
     },
     "execution_count": 4,
     "metadata": {},
     "output_type": "execute_result"
    }
   ],
   "source": [
    "import requests\n",
    "gene = '1HPV'\n",
    "url = 'https://rest.uniprot.org/uniprotkb/stream?compressed=false&format=fasta&query=(reviewed:true)%20AND%20(organism_id:9606)%20AND%20' + gene\n",
    "all_fastas = requests.get(url)\n",
    "all_fastas"
   ]
  },
  {
   "cell_type": "code",
   "execution_count": 20,
   "metadata": {},
   "outputs": [
    {
     "ename": "IndexError",
     "evalue": "list index out of range",
     "output_type": "error",
     "traceback": [
      "\u001b[0;31m---------------------------------------------------------------------------\u001b[0m",
      "\u001b[0;31mIndexError\u001b[0m                                Traceback (most recent call last)",
      "\u001b[0;32m<ipython-input-20-0dc7706c3600>\u001b[0m in \u001b[0;36m<module>\u001b[0;34m()\u001b[0m\n\u001b[1;32m     10\u001b[0m     \u001b[0;31m# 处理返回的JSON数据\u001b[0m\u001b[0;34m\u001b[0m\u001b[0;34m\u001b[0m\u001b[0m\n\u001b[1;32m     11\u001b[0m \u001b[0;34m\u001b[0m\u001b[0m\n\u001b[0;32m---> 12\u001b[0;31m     \u001b[0mprint\u001b[0m\u001b[0;34m(\u001b[0m\u001b[0mdata\u001b[0m\u001b[0;34m[\u001b[0m\u001b[0;34m'results'\u001b[0m\u001b[0;34m]\u001b[0m\u001b[0;34m[\u001b[0m\u001b[0;36m0\u001b[0m\u001b[0;34m]\u001b[0m\u001b[0;34m)\u001b[0m\u001b[0;34m\u001b[0m\u001b[0m\n\u001b[0m\u001b[1;32m     13\u001b[0m     \u001b[0;31m# print(data['results'][0]['primaryAccession'])\u001b[0m\u001b[0;34m\u001b[0m\u001b[0;34m\u001b[0m\u001b[0m\n\u001b[1;32m     14\u001b[0m     \u001b[0;31m# for entry in data:\u001b[0m\u001b[0;34m\u001b[0m\u001b[0;34m\u001b[0m\u001b[0m\n",
      "\u001b[0;31mIndexError\u001b[0m: list index out of range"
     ]
    }
   ],
   "source": [
    "import requests\n",
    "\n",
    "gene = 'ATK1'\n",
    "url = 'https://rest.uniprot.org/uniprotkb/search?format=json&query=(reviewed:true)%20AND%20(organism_id:9606)%20AND%20' + gene\n",
    "\n",
    "response = requests.get(url)\n",
    "\n",
    "if response.status_code == 200:\n",
    "    data = response.json()\n",
    "    # 处理返回的JSON数据\n",
    "\n",
    "    print(data['results'][0])\n",
    "    # print(data['results'][0]['primaryAccession'])\n",
    "    # for entry in data:\n",
    "    #     protein_id = entry['accession']\n",
    "    #     protein_name = entry['protein']['recommendedName']['fullName']\n",
    "    #     print(f'Protein ID: {protein_id}, Protein Name: {protein_name}')\n",
    "else:\n",
    "    print(f'Error: Unable to fetch data. Status code {response.status_code}')\n"
   ]
  },
  {
   "cell_type": "code",
   "execution_count": 34,
   "metadata": {},
   "outputs": [
    {
     "name": "stdout",
     "output_type": "stream",
     "text": [
      "ABL1\n",
      "P00519\n"
     ]
    },
    {
     "ename": "AttributeError",
     "evalue": "'function' object has no attribute 'loc'",
     "output_type": "error",
     "traceback": [
      "\u001b[0;31m---------------------------------------------------------------------------\u001b[0m",
      "\u001b[0;31mAttributeError\u001b[0m                            Traceback (most recent call last)",
      "\u001b[0;32m<ipython-input-34-9be08fcf5cd9>\u001b[0m in \u001b[0;36m<module>\u001b[0;34m()\u001b[0m\n\u001b[1;32m     12\u001b[0m     \u001b[0mprint\u001b[0m\u001b[0;34m(\u001b[0m\u001b[0mgene\u001b[0m\u001b[0;34m)\u001b[0m\u001b[0;34m\u001b[0m\u001b[0m\n\u001b[1;32m     13\u001b[0m     \u001b[0mprint\u001b[0m\u001b[0;34m(\u001b[0m\u001b[0mdata\u001b[0m\u001b[0;34m[\u001b[0m\u001b[0;34m'results'\u001b[0m\u001b[0;34m]\u001b[0m\u001b[0;34m[\u001b[0m\u001b[0;36m0\u001b[0m\u001b[0;34m]\u001b[0m\u001b[0;34m[\u001b[0m\u001b[0;34m'primaryAccession'\u001b[0m\u001b[0;34m]\u001b[0m\u001b[0;34m)\u001b[0m\u001b[0;34m\u001b[0m\u001b[0m\n\u001b[0;32m---> 14\u001b[0;31m     \u001b[0mnew_data_df\u001b[0m\u001b[0;34m.\u001b[0m\u001b[0mloc\u001b[0m\u001b[0;34m[\u001b[0m\u001b[0mnew_data_df\u001b[0m\u001b[0;34m[\u001b[0m\u001b[0;34m'gene symbol'\u001b[0m\u001b[0;34m]\u001b[0m \u001b[0;34m==\u001b[0m \u001b[0mgene\u001b[0m\u001b[0;34m]\u001b[0m\u001b[0;34m[\u001b[0m\u001b[0;34m'uniprot id'\u001b[0m\u001b[0;34m]\u001b[0m \u001b[0;34m=\u001b[0m \u001b[0mdata\u001b[0m\u001b[0;34m[\u001b[0m\u001b[0;34m'results'\u001b[0m\u001b[0;34m]\u001b[0m\u001b[0;34m[\u001b[0m\u001b[0;36m0\u001b[0m\u001b[0;34m]\u001b[0m\u001b[0;34m[\u001b[0m\u001b[0;34m'primaryAccession'\u001b[0m\u001b[0;34m]\u001b[0m\u001b[0;34m\u001b[0m\u001b[0m\n\u001b[0m",
      "\u001b[0;31mAttributeError\u001b[0m: 'function' object has no attribute 'loc'"
     ]
    }
   ],
   "source": [
    "import pandas as pd\n",
    "\n",
    "all_data_df = pd.read_csv('../middlefile/gdsc_all_table.tsv', sep = '\\t')\n",
    "symbol_list = all_data_df['gene symbol'].unique()\n",
    "new_data_df = all_data_df.copy\n",
    "# for i in range(len(symbol_list)):\n",
    "for i in range(3):\n",
    "    gene = symbol_list[i]\n",
    "    url = 'https://rest.uniprot.org/uniprotkb/search?format=json&query=(reviewed:true)%20AND%20(organism_id:9606)%20AND%20' + gene\n",
    "    response = requests.get(url)\n",
    "    data = response.json()\n",
    "    print(gene)\n",
    "    print(data['results'][0]['primaryAccession'])\n",
    "    new_data_df.loc[new_data_df['gene symbol'] == gene]['uniprot id'] = data['results'][0]['primaryAccession']"
   ]
  },
  {
   "cell_type": "code",
   "execution_count": 3,
   "metadata": {},
   "outputs": [
    {
     "name": "stdout",
     "output_type": "stream",
     "text": [
      "Drug Name: WYE-125132\n",
      "PubChem ID: 25260757\n",
      "Fingerprint: 11110000011110111011100000000000000000000000000000000000000000000000000000000000000000000000000000000000000000000000000000000000000000000000000101100010010001001000000000000000001111000111100010000001000000000000010110000000000000000000000001011000000000011111110000000000000000000001111000000000000110000000000000000000000000000000110000111100111000011001101100000110001111111111100011011111110010000001010000000000101010100000001000110110011001110111010000000000100100101000010000101011001000011000001010100000000111011101100010100000001010000110010010011000100110110010100010100010110000001101100111010001101001111010010000001000011011001001111000000010110111101100100000100111101100001101000000000010000011100000100000000000000000000000000000000000000000000000000000000000000100001000000000000000000000000000000000000000000000000000000000000000000000000000000000000000000000000\n",
      "SMILES: CNC(=O)NC1=CC=C(C=C1)C2=NC3=C(C=NN3C4CCC5(CC4)OCCO5)C(=N2)N6CC7CCC(C6)O7\n"
     ]
    }
   ],
   "source": [
    "import pubchempy as pcp\n",
    "\n",
    "def get_pubchem_info(drug_name):\n",
    "    try:\n",
    "        # 通过药物名称查询相关信息\n",
    "        compound = pcp.get_compounds(drug_name, 'name')[0]\n",
    "        \n",
    "        # 获取PubChem ID\n",
    "        pubchem_id = compound.cid\n",
    "        \n",
    "        # 获取指纹 (Fingerprint)\n",
    "        fingerprint = compound.cactvs_fingerprint\n",
    "        \n",
    "        # 获取SMILES\n",
    "        smiles = compound.isomeric_smiles\n",
    "        \n",
    "        return pubchem_id, fingerprint, smiles\n",
    "    except Exception as e:\n",
    "        return None, None, None\n",
    "\n",
    "# 使用例子\n",
    "drug_name = 'WYE-125132'\n",
    "pubchem_id, fingerprint, smiles = get_pubchem_info(drug_name)\n",
    "\n",
    "if pubchem_id is not None:\n",
    "    print(f\"Drug Name: {drug_name}\")\n",
    "    print(f\"PubChem ID: {pubchem_id}\")\n",
    "    print(f\"Fingerprint: {fingerprint}\")\n",
    "    print(f\"SMILES: {smiles}\")\n",
    "else:\n",
    "    print(f\"无法找到与 {drug_name} 相关的信息。\")\n"
   ]
  },
  {
   "cell_type": "code",
   "execution_count": 2,
   "metadata": {},
   "outputs": [
    {
     "ename": "FileNotFoundError",
     "evalue": "[Errno 2] No such file or directory: '../../AlphaMissense/AlpahMissense_aa_substitutions.tsv'",
     "output_type": "error",
     "traceback": [
      "\u001b[0;31m---------------------------------------------------------------------------\u001b[0m",
      "\u001b[0;31mFileNotFoundError\u001b[0m                         Traceback (most recent call last)",
      "\u001b[0;32m<ipython-input-2-eab3172639c3>\u001b[0m in \u001b[0;36m<module>\u001b[0;34m()\u001b[0m\n\u001b[1;32m      1\u001b[0m \u001b[0;32mimport\u001b[0m \u001b[0mpandas\u001b[0m \u001b[0;32mas\u001b[0m \u001b[0mpd\u001b[0m\u001b[0;34m\u001b[0m\u001b[0m\n\u001b[0;32m----> 2\u001b[0;31m \u001b[0maa_sub\u001b[0m \u001b[0;34m=\u001b[0m \u001b[0mpd\u001b[0m\u001b[0;34m.\u001b[0m\u001b[0mread_csv\u001b[0m\u001b[0;34m(\u001b[0m\u001b[0;34m'../../AlphaMissense/AlpahMissense_aa_substitutions.tsv'\u001b[0m\u001b[0;34m,\u001b[0m \u001b[0msep\u001b[0m\u001b[0;34m=\u001b[0m\u001b[0;34m'\\t'\u001b[0m\u001b[0;34m)\u001b[0m\u001b[0;34m\u001b[0m\u001b[0m\n\u001b[0m\u001b[1;32m      3\u001b[0m \u001b[0maa_sub\u001b[0m\u001b[0;34m\u001b[0m\u001b[0m\n",
      "\u001b[0;32m/home/liwh/.conda/envs/ML/lib/python3.6/site-packages/pandas/io/parsers.py\u001b[0m in \u001b[0;36mread_csv\u001b[0;34m(filepath_or_buffer, sep, delimiter, header, names, index_col, usecols, squeeze, prefix, mangle_dupe_cols, dtype, engine, converters, true_values, false_values, skipinitialspace, skiprows, skipfooter, nrows, na_values, keep_default_na, na_filter, verbose, skip_blank_lines, parse_dates, infer_datetime_format, keep_date_col, date_parser, dayfirst, cache_dates, iterator, chunksize, compression, thousands, decimal, lineterminator, quotechar, quoting, doublequote, escapechar, comment, encoding, dialect, error_bad_lines, warn_bad_lines, delim_whitespace, low_memory, memory_map, float_precision)\u001b[0m\n\u001b[1;32m    686\u001b[0m     )\n\u001b[1;32m    687\u001b[0m \u001b[0;34m\u001b[0m\u001b[0m\n\u001b[0;32m--> 688\u001b[0;31m     \u001b[0;32mreturn\u001b[0m \u001b[0m_read\u001b[0m\u001b[0;34m(\u001b[0m\u001b[0mfilepath_or_buffer\u001b[0m\u001b[0;34m,\u001b[0m \u001b[0mkwds\u001b[0m\u001b[0;34m)\u001b[0m\u001b[0;34m\u001b[0m\u001b[0m\n\u001b[0m\u001b[1;32m    689\u001b[0m \u001b[0;34m\u001b[0m\u001b[0m\n\u001b[1;32m    690\u001b[0m \u001b[0;34m\u001b[0m\u001b[0m\n",
      "\u001b[0;32m/home/liwh/.conda/envs/ML/lib/python3.6/site-packages/pandas/io/parsers.py\u001b[0m in \u001b[0;36m_read\u001b[0;34m(filepath_or_buffer, kwds)\u001b[0m\n\u001b[1;32m    452\u001b[0m \u001b[0;34m\u001b[0m\u001b[0m\n\u001b[1;32m    453\u001b[0m     \u001b[0;31m# Create the parser.\u001b[0m\u001b[0;34m\u001b[0m\u001b[0;34m\u001b[0m\u001b[0m\n\u001b[0;32m--> 454\u001b[0;31m     \u001b[0mparser\u001b[0m \u001b[0;34m=\u001b[0m \u001b[0mTextFileReader\u001b[0m\u001b[0;34m(\u001b[0m\u001b[0mfp_or_buf\u001b[0m\u001b[0;34m,\u001b[0m \u001b[0;34m**\u001b[0m\u001b[0mkwds\u001b[0m\u001b[0;34m)\u001b[0m\u001b[0;34m\u001b[0m\u001b[0m\n\u001b[0m\u001b[1;32m    455\u001b[0m \u001b[0;34m\u001b[0m\u001b[0m\n\u001b[1;32m    456\u001b[0m     \u001b[0;32mif\u001b[0m \u001b[0mchunksize\u001b[0m \u001b[0;32mor\u001b[0m \u001b[0miterator\u001b[0m\u001b[0;34m:\u001b[0m\u001b[0;34m\u001b[0m\u001b[0m\n",
      "\u001b[0;32m/home/liwh/.conda/envs/ML/lib/python3.6/site-packages/pandas/io/parsers.py\u001b[0m in \u001b[0;36m__init__\u001b[0;34m(self, f, engine, **kwds)\u001b[0m\n\u001b[1;32m    946\u001b[0m             \u001b[0mself\u001b[0m\u001b[0;34m.\u001b[0m\u001b[0moptions\u001b[0m\u001b[0;34m[\u001b[0m\u001b[0;34m\"has_index_names\"\u001b[0m\u001b[0;34m]\u001b[0m \u001b[0;34m=\u001b[0m \u001b[0mkwds\u001b[0m\u001b[0;34m[\u001b[0m\u001b[0;34m\"has_index_names\"\u001b[0m\u001b[0;34m]\u001b[0m\u001b[0;34m\u001b[0m\u001b[0m\n\u001b[1;32m    947\u001b[0m \u001b[0;34m\u001b[0m\u001b[0m\n\u001b[0;32m--> 948\u001b[0;31m         \u001b[0mself\u001b[0m\u001b[0;34m.\u001b[0m\u001b[0m_make_engine\u001b[0m\u001b[0;34m(\u001b[0m\u001b[0mself\u001b[0m\u001b[0;34m.\u001b[0m\u001b[0mengine\u001b[0m\u001b[0;34m)\u001b[0m\u001b[0;34m\u001b[0m\u001b[0m\n\u001b[0m\u001b[1;32m    949\u001b[0m \u001b[0;34m\u001b[0m\u001b[0m\n\u001b[1;32m    950\u001b[0m     \u001b[0;32mdef\u001b[0m \u001b[0mclose\u001b[0m\u001b[0;34m(\u001b[0m\u001b[0mself\u001b[0m\u001b[0;34m)\u001b[0m\u001b[0;34m:\u001b[0m\u001b[0;34m\u001b[0m\u001b[0m\n",
      "\u001b[0;32m/home/liwh/.conda/envs/ML/lib/python3.6/site-packages/pandas/io/parsers.py\u001b[0m in \u001b[0;36m_make_engine\u001b[0;34m(self, engine)\u001b[0m\n\u001b[1;32m   1178\u001b[0m     \u001b[0;32mdef\u001b[0m \u001b[0m_make_engine\u001b[0m\u001b[0;34m(\u001b[0m\u001b[0mself\u001b[0m\u001b[0;34m,\u001b[0m \u001b[0mengine\u001b[0m\u001b[0;34m=\u001b[0m\u001b[0;34m\"c\"\u001b[0m\u001b[0;34m)\u001b[0m\u001b[0;34m:\u001b[0m\u001b[0;34m\u001b[0m\u001b[0m\n\u001b[1;32m   1179\u001b[0m         \u001b[0;32mif\u001b[0m \u001b[0mengine\u001b[0m \u001b[0;34m==\u001b[0m \u001b[0;34m\"c\"\u001b[0m\u001b[0;34m:\u001b[0m\u001b[0;34m\u001b[0m\u001b[0m\n\u001b[0;32m-> 1180\u001b[0;31m             \u001b[0mself\u001b[0m\u001b[0;34m.\u001b[0m\u001b[0m_engine\u001b[0m \u001b[0;34m=\u001b[0m \u001b[0mCParserWrapper\u001b[0m\u001b[0;34m(\u001b[0m\u001b[0mself\u001b[0m\u001b[0;34m.\u001b[0m\u001b[0mf\u001b[0m\u001b[0;34m,\u001b[0m \u001b[0;34m**\u001b[0m\u001b[0mself\u001b[0m\u001b[0;34m.\u001b[0m\u001b[0moptions\u001b[0m\u001b[0;34m)\u001b[0m\u001b[0;34m\u001b[0m\u001b[0m\n\u001b[0m\u001b[1;32m   1181\u001b[0m         \u001b[0;32melse\u001b[0m\u001b[0;34m:\u001b[0m\u001b[0;34m\u001b[0m\u001b[0m\n\u001b[1;32m   1182\u001b[0m             \u001b[0;32mif\u001b[0m \u001b[0mengine\u001b[0m \u001b[0;34m==\u001b[0m \u001b[0;34m\"python\"\u001b[0m\u001b[0;34m:\u001b[0m\u001b[0;34m\u001b[0m\u001b[0m\n",
      "\u001b[0;32m/home/liwh/.conda/envs/ML/lib/python3.6/site-packages/pandas/io/parsers.py\u001b[0m in \u001b[0;36m__init__\u001b[0;34m(self, src, **kwds)\u001b[0m\n\u001b[1;32m   2008\u001b[0m         \u001b[0mkwds\u001b[0m\u001b[0;34m[\u001b[0m\u001b[0;34m\"usecols\"\u001b[0m\u001b[0;34m]\u001b[0m \u001b[0;34m=\u001b[0m \u001b[0mself\u001b[0m\u001b[0;34m.\u001b[0m\u001b[0musecols\u001b[0m\u001b[0;34m\u001b[0m\u001b[0m\n\u001b[1;32m   2009\u001b[0m \u001b[0;34m\u001b[0m\u001b[0m\n\u001b[0;32m-> 2010\u001b[0;31m         \u001b[0mself\u001b[0m\u001b[0;34m.\u001b[0m\u001b[0m_reader\u001b[0m \u001b[0;34m=\u001b[0m \u001b[0mparsers\u001b[0m\u001b[0;34m.\u001b[0m\u001b[0mTextReader\u001b[0m\u001b[0;34m(\u001b[0m\u001b[0msrc\u001b[0m\u001b[0;34m,\u001b[0m \u001b[0;34m**\u001b[0m\u001b[0mkwds\u001b[0m\u001b[0;34m)\u001b[0m\u001b[0;34m\u001b[0m\u001b[0m\n\u001b[0m\u001b[1;32m   2011\u001b[0m         \u001b[0mself\u001b[0m\u001b[0;34m.\u001b[0m\u001b[0munnamed_cols\u001b[0m \u001b[0;34m=\u001b[0m \u001b[0mself\u001b[0m\u001b[0;34m.\u001b[0m\u001b[0m_reader\u001b[0m\u001b[0;34m.\u001b[0m\u001b[0munnamed_cols\u001b[0m\u001b[0;34m\u001b[0m\u001b[0m\n\u001b[1;32m   2012\u001b[0m \u001b[0;34m\u001b[0m\u001b[0m\n",
      "\u001b[0;32mpandas/_libs/parsers.pyx\u001b[0m in \u001b[0;36mpandas._libs.parsers.TextReader.__cinit__\u001b[0;34m()\u001b[0m\n",
      "\u001b[0;32mpandas/_libs/parsers.pyx\u001b[0m in \u001b[0;36mpandas._libs.parsers.TextReader._setup_parser_source\u001b[0;34m()\u001b[0m\n",
      "\u001b[0;31mFileNotFoundError\u001b[0m: [Errno 2] No such file or directory: '../../AlphaMissense/AlpahMissense_aa_substitutions.tsv'"
     ]
    }
   ],
   "source": [
    "import pandas as pd\n",
    "aa_sub = pd.read_csv('../../AlphaMissense/AlpahMissense_aa_substitutions.tsv', sep='\\t')\n",
    "aa_sub"
   ]
  },
  {
   "cell_type": "code",
   "execution_count": 34,
   "metadata": {},
   "outputs": [
    {
     "name": "stdout",
     "output_type": "stream",
     "text": [
      "{'error': False, 'errorMessage': None, 'resultChopped': False, 'wordSuggestionsChopped': False, 'guessType': 2, 'uniqueSearchId': '4d15cad8-aba9-4641-8c1f-9078113ae861', 'words': None, 'destinationEntities': [{'id': 'http://id.who.int/icd/entity/1969743250', 'title': \"<em class='found'>Non</em> <em class='found'>small</em> <em class='found'>cell</em> <em class='found'>lung</em> cancer\", 'stemId': 'http://id.who.int/icd/entity/1969743250', 'isLeaf': True, 'postcoordinationAvailability': 0, 'hasCodingNote': False, 'hasMaternalChapterLink': False, 'hasPerinatalChapterLink': False, 'matchingPVs': [{'propertyId': 'Synonym', 'label': \"<em class='found'>non</em> <em class='found'>small</em> <em class='found'>cell</em> <em class='found'>lung</em> <em class='found'>carcinoma</em>\", 'score': 0.0125, 'important': True, 'foundationUri': 'http://id.who.int/icd/entity/1969743250', 'propertyValueType': 0}], 'propertiesTruncated': False, 'isResidualOther': False, 'isResidualUnspecified': False, 'chapter': '02', 'theCode': None, 'score': 0.0125, 'titleIsASearchResult': False, 'titleIsTopScore': False, 'entityType': 0, 'important': False, 'descendants': []}, {'id': 'http://id.who.int/icd/entity/476588737', 'title': \"<em class='found'>Small</em> <em class='found'>cell</em> <em class='found'>non</em>-keratinizing squamous <em class='found'>cell</em> <em class='found'>carcinoma</em> of <em class='found'>lung</em>\", 'stemId': 'http://id.who.int/icd/entity/476588737', 'isLeaf': True, 'postcoordinationAvailability': 0, 'hasCodingNote': False, 'hasMaternalChapterLink': False, 'hasPerinatalChapterLink': False, 'matchingPVs': [], 'propertiesTruncated': False, 'isResidualOther': False, 'isResidualUnspecified': False, 'chapter': '02', 'theCode': None, 'score': 0.009009009009009009, 'titleIsASearchResult': True, 'titleIsTopScore': True, 'entityType': 0, 'important': False, 'descendants': []}]}\n"
     ]
    }
   ],
   "source": [
    "import requests\n",
    "\n",
    "token_endpoint = 'https://icdaccessmanagement.who.int/connect/token'\n",
    "client_id = '8ce4ac1c-84d5-4e46-b686-796ab943d907_ce952a66-3b10-41a3-9da3-131c7739883a'\n",
    "client_secret = 'ajUCkbpjrbzTSUmtp8cLtVHCIL6FjPFwz/dONYQeyAM='\n",
    "scope = 'icdapi_access'\n",
    "grant_type = 'client_credentials'\n",
    "\n",
    "\n",
    "# get the OAUTH2 token\n",
    "\n",
    "# set data to post\n",
    "payload = {'client_id': client_id, \n",
    "\t   \t   'client_secret': client_secret, \n",
    "           'scope': scope, \n",
    "           'grant_type': grant_type}\n",
    "           \n",
    "# make request\n",
    "r = requests.post(token_endpoint, data=payload, verify=False).json()\n",
    "token = r['access_token']\n",
    "\n",
    "\n",
    "# access ICD API\n",
    "\n",
    "uri = 'https://id.who.int/icd/entity/search?q=Lung%20Non-small%20Cell%20Carcinoma'\n",
    "\n",
    "# HTTP header fields to set\n",
    "headers = {'Authorization':  'Bearer '+token, \n",
    "           'Accept': 'json', \n",
    "           'Accept-Language': 'en',\n",
    "\t   'API-Version': 'v2'}\n",
    "           \n",
    "# make request           \n",
    "r = requests.get(uri, headers=headers, verify=False)\n",
    "\n",
    "# print the result\n",
    "print (r.json())\n",
    "r.json()['destinationEntities'][0]['id']\t\t\t"
   ]
  },
  {
   "cell_type": "code",
   "execution_count": 39,
   "metadata": {},
   "outputs": [
    {
     "name": "stdout",
     "output_type": "stream",
     "text": [
      "No PDB IDs found for UniProt ID P00519\n"
     ]
    }
   ],
   "source": [
    "def get_pdb_id(uniprot_id):\n",
    "    base_url = \"https://www.uniprot.org/uniprot/\"\n",
    "    params = {\n",
    "        \"query\": f\"id:{uniprot_id}\",\n",
    "        \"format\": \"tab\",\n",
    "        \"columns\": \"id,structure\",\n",
    "    }\n",
    "\n",
    "    response = requests.get(base_url, params=params)\n",
    "    if response.ok:\n",
    "        lines = response.text.strip().split('\\n')\n",
    "        # Skip header line\n",
    "        if len(lines) > 1:\n",
    "            # Each line contains UniProt ID and associated PDB ID(s)\n",
    "            uniprot_id, pdb_ids = lines[1].split('\\t')\n",
    "            return pdb_ids.split(';')\n",
    "    return None\n",
    "\n",
    "# Example usage\n",
    "uniprot_id = \"P00519\"  # Replace with your UniProt ID\n",
    "pdb_ids = get_pdb_id(uniprot_id)\n",
    "\n",
    "if pdb_ids:\n",
    "    print(f\"PDB IDs for UniProt ID {uniprot_id}: {', '.join(pdb_ids)}\")\n",
    "else:\n",
    "    print(f\"No PDB IDs found for UniProt ID {uniprot_id}\")\n"
   ]
  },
  {
   "cell_type": "code",
   "execution_count": 41,
   "metadata": {},
   "outputs": [],
   "source": [
    "base_url = \"https://www.uniprot.org/uniprot/\"\n",
    "params = {\n",
    "    \"query\": f\"id:{'P00519'}\",\n",
    "    \"format\": \"tab\",\n",
    "    \"columns\": \"id,structure\",\n",
    "}\n",
    "\n",
    "response = requests.get(base_url, params=params)\n"
   ]
  },
  {
   "cell_type": "code",
   "execution_count": 59,
   "metadata": {},
   "outputs": [
    {
     "name": "stdout",
     "output_type": "stream",
     "text": [
      "[{'identifier': '1AB2', 'score': 1.0}, {'identifier': '1AWO', 'score': 1.0}, {'identifier': '1BBZ', 'score': 1.0}, {'identifier': '1JU5', 'score': 1.0}, {'identifier': '1OPL', 'score': 1.0}, {'identifier': '1ZZP', 'score': 1.0}, {'identifier': '2ABL', 'score': 1.0}, {'identifier': '2E2B', 'score': 1.0}, {'identifier': '2F4J', 'score': 1.0}, {'identifier': '2FO0', 'score': 1.0}, {'identifier': '2G1T', 'score': 1.0}, {'identifier': '2G2F', 'score': 1.0}, {'identifier': '2G2H', 'score': 1.0}, {'identifier': '2G2I', 'score': 1.0}, {'identifier': '2GQG', 'score': 1.0}, {'identifier': '2HIW', 'score': 1.0}, {'identifier': '2HYY', 'score': 1.0}, {'identifier': '2HZ0', 'score': 1.0}, {'identifier': '2HZ4', 'score': 1.0}, {'identifier': '2HZI', 'score': 1.0}, {'identifier': '2O88', 'score': 1.0}, {'identifier': '2V7A', 'score': 1.0}, {'identifier': '3CS9', 'score': 1.0}, {'identifier': '3EG0', 'score': 1.0}, {'identifier': '3EG1', 'score': 1.0}, {'identifier': '3EG2', 'score': 1.0}, {'identifier': '3EG3', 'score': 1.0}, {'identifier': '3EGU', 'score': 1.0}, {'identifier': '3K2M', 'score': 1.0}, {'identifier': '3PYY', 'score': 1.0}, {'identifier': '3QRI', 'score': 1.0}, {'identifier': '3QRJ', 'score': 1.0}, {'identifier': '3QRK', 'score': 1.0}, {'identifier': '3T04', 'score': 1.0}, {'identifier': '3UE4', 'score': 1.0}, {'identifier': '3UYO', 'score': 1.0}, {'identifier': '4J9B', 'score': 1.0}, {'identifier': '4J9C', 'score': 1.0}, {'identifier': '4J9D', 'score': 1.0}, {'identifier': '4J9E', 'score': 1.0}, {'identifier': '4J9F', 'score': 1.0}, {'identifier': '4J9G', 'score': 1.0}, {'identifier': '4J9H', 'score': 1.0}, {'identifier': '4J9I', 'score': 1.0}, {'identifier': '4JJB', 'score': 1.0}, {'identifier': '4JJC', 'score': 1.0}, {'identifier': '4JJD', 'score': 1.0}, {'identifier': '4TWP', 'score': 1.0}, {'identifier': '4WA9', 'score': 1.0}, {'identifier': '4XEY', 'score': 1.0}, {'identifier': '4YC8', 'score': 1.0}, {'identifier': '4ZOG', 'score': 1.0}, {'identifier': '5DC0', 'score': 1.0}, {'identifier': '5DC4', 'score': 1.0}, {'identifier': '5DC9', 'score': 1.0}, {'identifier': '5HU9', 'score': 1.0}, {'identifier': '5MO4', 'score': 1.0}, {'identifier': '5NP2', 'score': 1.0}, {'identifier': '5OAZ', 'score': 1.0}, {'identifier': '6AMV', 'score': 1.0}, {'identifier': '6AMW', 'score': 1.0}, {'identifier': '6BL8', 'score': 1.0}, {'identifier': '6NPE', 'score': 1.0}, {'identifier': '6NPU', 'score': 1.0}, {'identifier': '6NPV', 'score': 1.0}, {'identifier': '6XR6', 'score': 1.0}, {'identifier': '6XR7', 'score': 1.0}, {'identifier': '6XRG', 'score': 1.0}, {'identifier': '7CC2', 'score': 1.0}, {'identifier': '7DT2', 'score': 1.0}, {'identifier': '7N9G', 'score': 1.0}, {'identifier': '7PVQ', 'score': 1.0}, {'identifier': '7PVR', 'score': 1.0}, {'identifier': '7PVS', 'score': 1.0}, {'identifier': '7PVV', 'score': 1.0}, {'identifier': '7PW2', 'score': 1.0}, {'identifier': '7W7X', 'score': 1.0}, {'identifier': '7W7Y', 'score': 1.0}, {'identifier': '8H7F', 'score': 1.0}, {'identifier': '8H7H', 'score': 1.0}, {'identifier': '8SSN', 'score': 1.0}]\n",
      "No PDB ID found for UniProt ID P00519\n"
     ]
    }
   ],
   "source": [
    "import requests\n",
    "\n",
    "def get_pdb_id_from_uniprot(uniprot_id):\n",
    "    search_url = \"https://search.rcsb.org/rcsbsearch/v2/query\"\n",
    "    search_request = {\n",
    "        \"query\": {\n",
    "            \"type\": \"group\",\n",
    "            \"logical_operator\": \"and\",\n",
    "            \"nodes\": [\n",
    "                {\n",
    "                    \"type\": \"terminal\",\n",
    "                    \"service\": \"text\",\n",
    "                    \"parameters\": {\n",
    "                        \"operator\": \"exact_match\",\n",
    "                        \"value\": uniprot_id,\n",
    "                        \"attribute\": \"rcsb_polymer_entity_container_identifiers.reference_sequence_identifiers.database_accession\"\n",
    "                    }\n",
    "                },\n",
    "                {\n",
    "                    \"type\": \"terminal\",\n",
    "                    \"service\": \"text\",\n",
    "                    \"parameters\": {\n",
    "                        \"operator\": \"exact_match\",\n",
    "                        \"value\": \"UniProt\",\n",
    "                        \"attribute\": \"rcsb_polymer_entity_container_identifiers.reference_sequence_identifiers.database_name\"\n",
    "                    }\n",
    "                }\n",
    "            ]\n",
    "        },\n",
    "        \"request_options\": {\n",
    "            \"paginate\": {\n",
    "            \"start\": 0,\n",
    "            \"rows\": 1000\n",
    "            }\n",
    "         },\n",
    "        \"return_type\": \"entry\"\n",
    "    }\n",
    "\n",
    "    response = requests.post(search_url, json=search_request)\n",
    "    \n",
    "    if response.ok:\n",
    "        data = response.json()\n",
    "        print(data['result_set'])\n",
    "        if \"result_set\" in data and \"data\" in data[\"result_set\"]:\n",
    "            for entry in data[\"result_set\"][\"data\"]:\n",
    "                # Extract PDB ID\n",
    "                pdb_id = entry.get(\"rcsb_polymer_entity_container_identifiers\", {}).get(\"entry_id\")\n",
    "                if pdb_id:\n",
    "                    return pdb_id\n",
    "\n",
    "    return None\n",
    "\n",
    "# Example usage\n",
    "uniprot_id = \"P00519\"\n",
    "pdb_id = get_pdb_id_from_uniprot(uniprot_id)\n",
    "\n",
    "if pdb_id:\n",
    "    print(f\"PDB ID for UniProt ID {uniprot_id}: {pdb_id}\")\n",
    "else:\n",
    "    print(f\"No PDB ID found for UniProt ID {uniprot_id}\")\n"
   ]
  },
  {
   "cell_type": "code",
   "execution_count": 57,
   "metadata": {},
   "outputs": [
    {
     "ename": "FileNotFoundError",
     "evalue": "[Errno 2] No such file or directory: 'middlefile/fasta_table.tsv'",
     "output_type": "error",
     "traceback": [
      "\u001b[0;31m---------------------------------------------------------------------------\u001b[0m",
      "\u001b[0;31mFileNotFoundError\u001b[0m                         Traceback (most recent call last)",
      "\u001b[0;32m<ipython-input-57-e877b7832024>\u001b[0m in \u001b[0;36m<module>\u001b[0;34m()\u001b[0m\n\u001b[1;32m      4\u001b[0m \u001b[0;34m\u001b[0m\u001b[0m\n\u001b[1;32m      5\u001b[0m \u001b[0;31m# 读取数据\u001b[0m\u001b[0;34m\u001b[0m\u001b[0;34m\u001b[0m\u001b[0m\n\u001b[0;32m----> 6\u001b[0;31m \u001b[0mall_data_df\u001b[0m \u001b[0;34m=\u001b[0m \u001b[0mpd\u001b[0m\u001b[0;34m.\u001b[0m\u001b[0mread_csv\u001b[0m\u001b[0;34m(\u001b[0m\u001b[0;34m'middlefile/fasta_table.tsv'\u001b[0m\u001b[0;34m,\u001b[0m \u001b[0msep\u001b[0m\u001b[0;34m=\u001b[0m\u001b[0;34m'\\t'\u001b[0m\u001b[0;34m)\u001b[0m\u001b[0;34m\u001b[0m\u001b[0m\n\u001b[0m\u001b[1;32m      7\u001b[0m \u001b[0;34m\u001b[0m\u001b[0m\n\u001b[1;32m      8\u001b[0m \u001b[0;31m# 添加新列 'pdb list'\u001b[0m\u001b[0;34m\u001b[0m\u001b[0;34m\u001b[0m\u001b[0m\n",
      "\u001b[0;32m/home/liwh/.conda/envs/ML/lib/python3.6/site-packages/pandas/io/parsers.py\u001b[0m in \u001b[0;36mread_csv\u001b[0;34m(filepath_or_buffer, sep, delimiter, header, names, index_col, usecols, squeeze, prefix, mangle_dupe_cols, dtype, engine, converters, true_values, false_values, skipinitialspace, skiprows, skipfooter, nrows, na_values, keep_default_na, na_filter, verbose, skip_blank_lines, parse_dates, infer_datetime_format, keep_date_col, date_parser, dayfirst, cache_dates, iterator, chunksize, compression, thousands, decimal, lineterminator, quotechar, quoting, doublequote, escapechar, comment, encoding, dialect, error_bad_lines, warn_bad_lines, delim_whitespace, low_memory, memory_map, float_precision)\u001b[0m\n\u001b[1;32m    686\u001b[0m     )\n\u001b[1;32m    687\u001b[0m \u001b[0;34m\u001b[0m\u001b[0m\n\u001b[0;32m--> 688\u001b[0;31m     \u001b[0;32mreturn\u001b[0m \u001b[0m_read\u001b[0m\u001b[0;34m(\u001b[0m\u001b[0mfilepath_or_buffer\u001b[0m\u001b[0;34m,\u001b[0m \u001b[0mkwds\u001b[0m\u001b[0;34m)\u001b[0m\u001b[0;34m\u001b[0m\u001b[0m\n\u001b[0m\u001b[1;32m    689\u001b[0m \u001b[0;34m\u001b[0m\u001b[0m\n\u001b[1;32m    690\u001b[0m \u001b[0;34m\u001b[0m\u001b[0m\n",
      "\u001b[0;32m/home/liwh/.conda/envs/ML/lib/python3.6/site-packages/pandas/io/parsers.py\u001b[0m in \u001b[0;36m_read\u001b[0;34m(filepath_or_buffer, kwds)\u001b[0m\n\u001b[1;32m    452\u001b[0m \u001b[0;34m\u001b[0m\u001b[0m\n\u001b[1;32m    453\u001b[0m     \u001b[0;31m# Create the parser.\u001b[0m\u001b[0;34m\u001b[0m\u001b[0;34m\u001b[0m\u001b[0m\n\u001b[0;32m--> 454\u001b[0;31m     \u001b[0mparser\u001b[0m \u001b[0;34m=\u001b[0m \u001b[0mTextFileReader\u001b[0m\u001b[0;34m(\u001b[0m\u001b[0mfp_or_buf\u001b[0m\u001b[0;34m,\u001b[0m \u001b[0;34m**\u001b[0m\u001b[0mkwds\u001b[0m\u001b[0;34m)\u001b[0m\u001b[0;34m\u001b[0m\u001b[0m\n\u001b[0m\u001b[1;32m    455\u001b[0m \u001b[0;34m\u001b[0m\u001b[0m\n\u001b[1;32m    456\u001b[0m     \u001b[0;32mif\u001b[0m \u001b[0mchunksize\u001b[0m \u001b[0;32mor\u001b[0m \u001b[0miterator\u001b[0m\u001b[0;34m:\u001b[0m\u001b[0;34m\u001b[0m\u001b[0m\n",
      "\u001b[0;32m/home/liwh/.conda/envs/ML/lib/python3.6/site-packages/pandas/io/parsers.py\u001b[0m in \u001b[0;36m__init__\u001b[0;34m(self, f, engine, **kwds)\u001b[0m\n\u001b[1;32m    946\u001b[0m             \u001b[0mself\u001b[0m\u001b[0;34m.\u001b[0m\u001b[0moptions\u001b[0m\u001b[0;34m[\u001b[0m\u001b[0;34m\"has_index_names\"\u001b[0m\u001b[0;34m]\u001b[0m \u001b[0;34m=\u001b[0m \u001b[0mkwds\u001b[0m\u001b[0;34m[\u001b[0m\u001b[0;34m\"has_index_names\"\u001b[0m\u001b[0;34m]\u001b[0m\u001b[0;34m\u001b[0m\u001b[0m\n\u001b[1;32m    947\u001b[0m \u001b[0;34m\u001b[0m\u001b[0m\n\u001b[0;32m--> 948\u001b[0;31m         \u001b[0mself\u001b[0m\u001b[0;34m.\u001b[0m\u001b[0m_make_engine\u001b[0m\u001b[0;34m(\u001b[0m\u001b[0mself\u001b[0m\u001b[0;34m.\u001b[0m\u001b[0mengine\u001b[0m\u001b[0;34m)\u001b[0m\u001b[0;34m\u001b[0m\u001b[0m\n\u001b[0m\u001b[1;32m    949\u001b[0m \u001b[0;34m\u001b[0m\u001b[0m\n\u001b[1;32m    950\u001b[0m     \u001b[0;32mdef\u001b[0m \u001b[0mclose\u001b[0m\u001b[0;34m(\u001b[0m\u001b[0mself\u001b[0m\u001b[0;34m)\u001b[0m\u001b[0;34m:\u001b[0m\u001b[0;34m\u001b[0m\u001b[0m\n",
      "\u001b[0;32m/home/liwh/.conda/envs/ML/lib/python3.6/site-packages/pandas/io/parsers.py\u001b[0m in \u001b[0;36m_make_engine\u001b[0;34m(self, engine)\u001b[0m\n\u001b[1;32m   1178\u001b[0m     \u001b[0;32mdef\u001b[0m \u001b[0m_make_engine\u001b[0m\u001b[0;34m(\u001b[0m\u001b[0mself\u001b[0m\u001b[0;34m,\u001b[0m \u001b[0mengine\u001b[0m\u001b[0;34m=\u001b[0m\u001b[0;34m\"c\"\u001b[0m\u001b[0;34m)\u001b[0m\u001b[0;34m:\u001b[0m\u001b[0;34m\u001b[0m\u001b[0m\n\u001b[1;32m   1179\u001b[0m         \u001b[0;32mif\u001b[0m \u001b[0mengine\u001b[0m \u001b[0;34m==\u001b[0m \u001b[0;34m\"c\"\u001b[0m\u001b[0;34m:\u001b[0m\u001b[0;34m\u001b[0m\u001b[0m\n\u001b[0;32m-> 1180\u001b[0;31m             \u001b[0mself\u001b[0m\u001b[0;34m.\u001b[0m\u001b[0m_engine\u001b[0m \u001b[0;34m=\u001b[0m \u001b[0mCParserWrapper\u001b[0m\u001b[0;34m(\u001b[0m\u001b[0mself\u001b[0m\u001b[0;34m.\u001b[0m\u001b[0mf\u001b[0m\u001b[0;34m,\u001b[0m \u001b[0;34m**\u001b[0m\u001b[0mself\u001b[0m\u001b[0;34m.\u001b[0m\u001b[0moptions\u001b[0m\u001b[0;34m)\u001b[0m\u001b[0;34m\u001b[0m\u001b[0m\n\u001b[0m\u001b[1;32m   1181\u001b[0m         \u001b[0;32melse\u001b[0m\u001b[0;34m:\u001b[0m\u001b[0;34m\u001b[0m\u001b[0m\n\u001b[1;32m   1182\u001b[0m             \u001b[0;32mif\u001b[0m \u001b[0mengine\u001b[0m \u001b[0;34m==\u001b[0m \u001b[0;34m\"python\"\u001b[0m\u001b[0;34m:\u001b[0m\u001b[0;34m\u001b[0m\u001b[0m\n",
      "\u001b[0;32m/home/liwh/.conda/envs/ML/lib/python3.6/site-packages/pandas/io/parsers.py\u001b[0m in \u001b[0;36m__init__\u001b[0;34m(self, src, **kwds)\u001b[0m\n\u001b[1;32m   2008\u001b[0m         \u001b[0mkwds\u001b[0m\u001b[0;34m[\u001b[0m\u001b[0;34m\"usecols\"\u001b[0m\u001b[0;34m]\u001b[0m \u001b[0;34m=\u001b[0m \u001b[0mself\u001b[0m\u001b[0;34m.\u001b[0m\u001b[0musecols\u001b[0m\u001b[0;34m\u001b[0m\u001b[0m\n\u001b[1;32m   2009\u001b[0m \u001b[0;34m\u001b[0m\u001b[0m\n\u001b[0;32m-> 2010\u001b[0;31m         \u001b[0mself\u001b[0m\u001b[0;34m.\u001b[0m\u001b[0m_reader\u001b[0m \u001b[0;34m=\u001b[0m \u001b[0mparsers\u001b[0m\u001b[0;34m.\u001b[0m\u001b[0mTextReader\u001b[0m\u001b[0;34m(\u001b[0m\u001b[0msrc\u001b[0m\u001b[0;34m,\u001b[0m \u001b[0;34m**\u001b[0m\u001b[0mkwds\u001b[0m\u001b[0;34m)\u001b[0m\u001b[0;34m\u001b[0m\u001b[0m\n\u001b[0m\u001b[1;32m   2011\u001b[0m         \u001b[0mself\u001b[0m\u001b[0;34m.\u001b[0m\u001b[0munnamed_cols\u001b[0m \u001b[0;34m=\u001b[0m \u001b[0mself\u001b[0m\u001b[0;34m.\u001b[0m\u001b[0m_reader\u001b[0m\u001b[0;34m.\u001b[0m\u001b[0munnamed_cols\u001b[0m\u001b[0;34m\u001b[0m\u001b[0m\n\u001b[1;32m   2012\u001b[0m \u001b[0;34m\u001b[0m\u001b[0m\n",
      "\u001b[0;32mpandas/_libs/parsers.pyx\u001b[0m in \u001b[0;36mpandas._libs.parsers.TextReader.__cinit__\u001b[0;34m()\u001b[0m\n",
      "\u001b[0;32mpandas/_libs/parsers.pyx\u001b[0m in \u001b[0;36mpandas._libs.parsers.TextReader._setup_parser_source\u001b[0;34m()\u001b[0m\n",
      "\u001b[0;31mFileNotFoundError\u001b[0m: [Errno 2] No such file or directory: 'middlefile/fasta_table.tsv'"
     ]
    }
   ],
   "source": [
    "import pandas as pd\n",
    "import requests\n",
    "from tqdm import tqdm\n",
    "\n",
    "# 读取数据\n",
    "all_data_df = pd.read_csv('middlefile/fasta_table.tsv', sep='\\t')\n",
    "\n",
    "# 添加新列 'pdb list'\n",
    "all_data_df['pdb list'] = None  # 或者 all_data_df['pdb list'] = pd.NA，取决于 Pandas 版本\n",
    "\n",
    "# 获取唯一的 Uniprot ID 列表\n",
    "uniprot_id_list = all_data_df['uniprot id'].unique()\n",
    "\n",
    "# 循环处理每个 Uniprot ID\n",
    "for uniprot_id in tqdm(uniprot_id_list[:10]):  # 只处理前 10 个 Uniprot ID，根据需要调整范围\n",
    "    search_url = \"https://search.rcsb.org/rcsbsearch/v2/query\"\n",
    "    search_request = {\n",
    "        # ...（你的搜索请求）\n",
    "    }\n",
    "    try:\n",
    "        response = requests.post(search_url, json=search_request)\n",
    "        pdb_list = response.json()['result_set']\n",
    "        print(type(pdb_list))\n",
    "    except:\n",
    "        print(uniprot_id)\n",
    "        pdb_list = None\n",
    "\n",
    "    # 使用 .loc 根据条件选择行并为 'pdb list' 赋值\n",
    "    all_data_df.loc[all_data_df['uniprot id'] == uniprot_id, 'pdb list'] = [pdb_list]\n",
    "\n",
    "# 打印 DataFrame\n",
    "print(all_data_df)\n"
   ]
  },
  {
   "cell_type": "code",
   "execution_count": null,
   "metadata": {},
   "outputs": [],
   "source": []
  }
 ],
 "metadata": {
  "kernelspec": {
   "display_name": "ML",
   "language": "python",
   "name": "python3"
  },
  "language_info": {
   "codemirror_mode": {
    "name": "ipython",
    "version": 3
   },
   "file_extension": ".py",
   "mimetype": "text/x-python",
   "name": "python",
   "nbconvert_exporter": "python",
   "pygments_lexer": "ipython3",
   "version": "3.6.5"
  }
 },
 "nbformat": 4,
 "nbformat_minor": 2
}
