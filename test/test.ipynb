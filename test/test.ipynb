{
 "cells": [
  {
   "cell_type": "code",
   "execution_count": 5,
   "metadata": {},
   "outputs": [
    {
     "ename": "ValueError",
     "evalue": "No records found in handle",
     "output_type": "error",
     "traceback": [
      "\u001b[0;31m---------------------------------------------------------------------------\u001b[0m",
      "\u001b[0;31mValueError\u001b[0m                                Traceback (most recent call last)",
      "\u001b[0;32m<ipython-input-5-e4d89f60aeba>\u001b[0m in \u001b[0;36m<module>\u001b[0;34m()\u001b[0m\n\u001b[1;32m     30\u001b[0m \u001b[0mrsid\u001b[0m \u001b[0;34m=\u001b[0m \u001b[0;34m\"rs10011796\"\u001b[0m\u001b[0;34m\u001b[0m\u001b[0m\n\u001b[1;32m     31\u001b[0m \u001b[0mtranscript_location\u001b[0m \u001b[0;34m=\u001b[0m \u001b[0;34m\"NC_000003.12:183917980\"\u001b[0m\u001b[0;34m\u001b[0m\u001b[0m\n\u001b[0;32m---> 32\u001b[0;31m \u001b[0mresult\u001b[0m \u001b[0;34m=\u001b[0m \u001b[0mget_gene_and_protein_positions\u001b[0m\u001b[0;34m(\u001b[0m\u001b[0mrsid\u001b[0m\u001b[0;34m,\u001b[0m \u001b[0mtranscript_location\u001b[0m\u001b[0;34m)\u001b[0m\u001b[0;34m\u001b[0m\u001b[0m\n\u001b[0m\u001b[1;32m     33\u001b[0m \u001b[0;34m\u001b[0m\u001b[0m\n\u001b[1;32m     34\u001b[0m \u001b[0;32mif\u001b[0m \u001b[0mresult\u001b[0m\u001b[0;34m:\u001b[0m\u001b[0;34m\u001b[0m\u001b[0m\n",
      "\u001b[0;32m<ipython-input-5-e4d89f60aeba>\u001b[0m in \u001b[0;36mget_gene_and_protein_positions\u001b[0;34m(rsid, transcript_location)\u001b[0m\n\u001b[1;32m      5\u001b[0m     \u001b[0mEntrez\u001b[0m\u001b[0;34m.\u001b[0m\u001b[0memail\u001b[0m \u001b[0;34m=\u001b[0m \u001b[0;34m\"liweihao0401@gmail.com\"\u001b[0m\u001b[0;34m\u001b[0m\u001b[0m\n\u001b[1;32m      6\u001b[0m     \u001b[0mhandle\u001b[0m \u001b[0;34m=\u001b[0m \u001b[0mEntrez\u001b[0m\u001b[0;34m.\u001b[0m\u001b[0mefetch\u001b[0m\u001b[0;34m(\u001b[0m\u001b[0mdb\u001b[0m\u001b[0;34m=\u001b[0m\u001b[0;34m\"snp\"\u001b[0m\u001b[0;34m,\u001b[0m \u001b[0mid\u001b[0m\u001b[0;34m=\u001b[0m\u001b[0mrsid\u001b[0m\u001b[0;34m,\u001b[0m \u001b[0mrettype\u001b[0m\u001b[0;34m=\u001b[0m\u001b[0;34m\"gb\"\u001b[0m\u001b[0;34m,\u001b[0m \u001b[0mretmode\u001b[0m\u001b[0;34m=\u001b[0m\u001b[0;34m\"text\"\u001b[0m\u001b[0;34m)\u001b[0m\u001b[0;34m\u001b[0m\u001b[0m\n\u001b[0;32m----> 7\u001b[0;31m     \u001b[0mrecord\u001b[0m \u001b[0;34m=\u001b[0m \u001b[0mSeqIO\u001b[0m\u001b[0;34m.\u001b[0m\u001b[0mread\u001b[0m\u001b[0;34m(\u001b[0m\u001b[0mhandle\u001b[0m\u001b[0;34m,\u001b[0m \u001b[0;34m\"genbank\"\u001b[0m\u001b[0;34m)\u001b[0m\u001b[0;34m\u001b[0m\u001b[0m\n\u001b[0m\u001b[1;32m      8\u001b[0m     \u001b[0mgene_name\u001b[0m \u001b[0;34m=\u001b[0m \u001b[0mrecord\u001b[0m\u001b[0;34m.\u001b[0m\u001b[0mannotations\u001b[0m\u001b[0;34m[\u001b[0m\u001b[0;34m\"gene\"\u001b[0m\u001b[0;34m]\u001b[0m\u001b[0;34m\u001b[0m\u001b[0m\n\u001b[1;32m      9\u001b[0m     \u001b[0mprotein_accession\u001b[0m \u001b[0;34m=\u001b[0m \u001b[0mrecord\u001b[0m\u001b[0;34m.\u001b[0m\u001b[0mfeatures\u001b[0m\u001b[0;34m[\u001b[0m\u001b[0;36m0\u001b[0m\u001b[0;34m]\u001b[0m\u001b[0;34m.\u001b[0m\u001b[0mqualifiers\u001b[0m\u001b[0;34m[\u001b[0m\u001b[0;34m\"protein_id\"\u001b[0m\u001b[0;34m]\u001b[0m\u001b[0;34m[\u001b[0m\u001b[0;36m0\u001b[0m\u001b[0;34m]\u001b[0m\u001b[0;34m\u001b[0m\u001b[0m\n",
      "\u001b[0;32m/home/liwh/.conda/envs/ML/lib/python3.6/site-packages/Bio/SeqIO/__init__.py\u001b[0m in \u001b[0;36mread\u001b[0;34m(handle, format, alphabet)\u001b[0m\n\u001b[1;32m    654\u001b[0m         \u001b[0mrecord\u001b[0m \u001b[0;34m=\u001b[0m \u001b[0mnext\u001b[0m\u001b[0;34m(\u001b[0m\u001b[0miterator\u001b[0m\u001b[0;34m)\u001b[0m\u001b[0;34m\u001b[0m\u001b[0m\n\u001b[1;32m    655\u001b[0m     \u001b[0;32mexcept\u001b[0m \u001b[0mStopIteration\u001b[0m\u001b[0;34m:\u001b[0m\u001b[0;34m\u001b[0m\u001b[0m\n\u001b[0;32m--> 656\u001b[0;31m         \u001b[0;32mraise\u001b[0m \u001b[0mValueError\u001b[0m\u001b[0;34m(\u001b[0m\u001b[0;34m\"No records found in handle\"\u001b[0m\u001b[0;34m)\u001b[0m \u001b[0;32mfrom\u001b[0m \u001b[0;32mNone\u001b[0m\u001b[0;34m\u001b[0m\u001b[0m\n\u001b[0m\u001b[1;32m    657\u001b[0m     \u001b[0;32mtry\u001b[0m\u001b[0;34m:\u001b[0m\u001b[0;34m\u001b[0m\u001b[0m\n\u001b[1;32m    658\u001b[0m         \u001b[0mnext\u001b[0m\u001b[0;34m(\u001b[0m\u001b[0miterator\u001b[0m\u001b[0;34m)\u001b[0m\u001b[0;34m\u001b[0m\u001b[0m\n",
      "\u001b[0;31mValueError\u001b[0m: No records found in handle"
     ]
    }
   ],
   "source": [
    "from Bio import Entrez, SeqIO\n",
    "\n",
    "def get_gene_and_protein_positions(rsid, transcript_location):\n",
    "    # Step 1: Query rsid to get gene and protein information\n",
    "    Entrez.email = \"liweihao0401@gmail.com\"\n",
    "    handle = Entrez.efetch(db=\"snp\", id=rsid, rettype=\"gb\", retmode=\"text\")\n",
    "    record = SeqIO.read(handle, \"genbank\")\n",
    "    gene_name = record.annotations[\"gene\"]\n",
    "    protein_accession = record.features[0].qualifiers[\"protein_id\"][0]\n",
    "\n",
    "    # Step 2: Query transcript location to get gene and protein positions\n",
    "    transcript_accession = transcript_location.split(\":\")[0]\n",
    "    position = int(transcript_location.split(\":\")[1])\n",
    "\n",
    "    handle = Entrez.efetch(db=\"nucleotide\", id=transcript_accession, rettype=\"gb\", retmode=\"text\")\n",
    "    transcript_record = SeqIO.read(handle, \"genbank\")\n",
    "\n",
    "    for feature in transcript_record.features:\n",
    "        if feature.type == \"CDS\":\n",
    "            cds_start = feature.location.start.position\n",
    "            cds_end = feature.location.end.position\n",
    "            if cds_start <= position <= cds_end:\n",
    "                gene_position = feature.qualifiers[\"gene\"][0]\n",
    "                protein_position = position - cds_start + 1\n",
    "                return gene_name, gene_position, protein_accession, protein_position\n",
    "\n",
    "    return None\n",
    "\n",
    "# Example usage\n",
    "rsid = \"rs10011796\"\n",
    "transcript_location = \"NC_000003.12:183917980\"\n",
    "result = get_gene_and_protein_positions(rsid, transcript_location)\n",
    "\n",
    "if result:\n",
    "    gene_name, gene_position, protein_accession, protein_position = result\n",
    "    print(f\"Gene Name: {gene_name}\")\n",
    "    print(f\"Gene Position: {gene_position}\")\n",
    "    print(f\"Protein Accession: {protein_accession}\")\n",
    "    print(f\"Protein Position: {protein_position}\")\n",
    "else:\n",
    "    print(\"No matching information found.\")\n"
   ]
  },
  {
   "cell_type": "code",
   "execution_count": 1,
   "metadata": {},
   "outputs": [
    {
     "name": "stdout",
     "output_type": "stream",
     "text": [
      "{'location': '3:183917980-183917980', 'start': 183917980, 'strand': 1, 'ancestral_allele': 'C', 'allele_string': 'C/T', 'assembly_name': 'GRCh38', 'seq_region_name': '3', 'coord_system': 'chromosome', 'end': 183917980}\n"
     ]
    },
    {
     "ename": "KeyError",
     "evalue": "'gene_symbol'",
     "output_type": "error",
     "traceback": [
      "\u001b[0;31m---------------------------------------------------------------------------\u001b[0m",
      "\u001b[0;31mKeyError\u001b[0m                                  Traceback (most recent call last)",
      "\u001b[0;32m<ipython-input-1-04f989cc8d70>\u001b[0m in \u001b[0;36m<module>\u001b[0;34m()\u001b[0m\n\u001b[1;32m     24\u001b[0m \u001b[0mrsid\u001b[0m \u001b[0;34m=\u001b[0m \u001b[0;34m\"rs1000002\"\u001b[0m\u001b[0;34m\u001b[0m\u001b[0m\n\u001b[1;32m     25\u001b[0m \u001b[0mtranscript_location\u001b[0m \u001b[0;34m=\u001b[0m \u001b[0;34m\"NC_000003.12:183917980\"\u001b[0m\u001b[0;34m\u001b[0m\u001b[0m\n\u001b[0;32m---> 26\u001b[0;31m \u001b[0mresult\u001b[0m \u001b[0;34m=\u001b[0m \u001b[0mget_gene_and_protein_positions\u001b[0m\u001b[0;34m(\u001b[0m\u001b[0mrsid\u001b[0m\u001b[0;34m,\u001b[0m \u001b[0mtranscript_location\u001b[0m\u001b[0;34m)\u001b[0m\u001b[0;34m\u001b[0m\u001b[0m\n\u001b[0m\u001b[1;32m     27\u001b[0m \u001b[0;34m\u001b[0m\u001b[0m\n\u001b[1;32m     28\u001b[0m \u001b[0;32mif\u001b[0m \u001b[0mresult\u001b[0m\u001b[0;34m:\u001b[0m\u001b[0;34m\u001b[0m\u001b[0m\n",
      "\u001b[0;32m<ipython-input-1-04f989cc8d70>\u001b[0m in \u001b[0;36mget_gene_and_protein_positions\u001b[0;34m(rsid, transcript_location)\u001b[0m\n\u001b[1;32m      9\u001b[0m         \u001b[0mdata\u001b[0m \u001b[0;34m=\u001b[0m \u001b[0mresponse\u001b[0m\u001b[0;34m.\u001b[0m\u001b[0mjson\u001b[0m\u001b[0;34m(\u001b[0m\u001b[0;34m)\u001b[0m\u001b[0;34m\u001b[0m\u001b[0m\n\u001b[1;32m     10\u001b[0m         \u001b[0mprint\u001b[0m\u001b[0;34m(\u001b[0m\u001b[0mdata\u001b[0m\u001b[0;34m[\u001b[0m\u001b[0;34m'mappings'\u001b[0m\u001b[0;34m]\u001b[0m\u001b[0;34m[\u001b[0m\u001b[0;36m0\u001b[0m\u001b[0;34m]\u001b[0m\u001b[0;34m)\u001b[0m\u001b[0;34m\u001b[0m\u001b[0m\n\u001b[0;32m---> 11\u001b[0;31m         \u001b[0mgene_name\u001b[0m \u001b[0;34m=\u001b[0m \u001b[0mdata\u001b[0m\u001b[0;34m[\u001b[0m\u001b[0;34m'mappings'\u001b[0m\u001b[0;34m]\u001b[0m\u001b[0;34m[\u001b[0m\u001b[0;36m0\u001b[0m\u001b[0;34m]\u001b[0m\u001b[0;34m[\u001b[0m\u001b[0;34m'gene_symbol'\u001b[0m\u001b[0;34m]\u001b[0m\u001b[0;34m\u001b[0m\u001b[0m\n\u001b[0m\u001b[1;32m     12\u001b[0m         \u001b[0mprotein_id\u001b[0m \u001b[0;34m=\u001b[0m \u001b[0mdata\u001b[0m\u001b[0;34m[\u001b[0m\u001b[0;34m'mappings'\u001b[0m\u001b[0;34m]\u001b[0m\u001b[0;34m[\u001b[0m\u001b[0;36m0\u001b[0m\u001b[0;34m]\u001b[0m\u001b[0;34m[\u001b[0m\u001b[0;34m'protein_id'\u001b[0m\u001b[0;34m]\u001b[0m\u001b[0;34m\u001b[0m\u001b[0m\n\u001b[1;32m     13\u001b[0m     \u001b[0;32melse\u001b[0m\u001b[0;34m:\u001b[0m\u001b[0;34m\u001b[0m\u001b[0m\n",
      "\u001b[0;31mKeyError\u001b[0m: 'gene_symbol'"
     ]
    }
   ],
   "source": [
    "import requests\n",
    "\n",
    "def get_gene_and_protein_positions(rsid, transcript_location):\n",
    "    # Step 1: Query rsid to get gene and protein information\n",
    "    url = f\"https://rest.ensembl.org/variation/human/{rsid}\"\n",
    "    response = requests.get(url, headers={\"Content-Type\": \"application/json\"})\n",
    "    \n",
    "    if response.status_code == 200:\n",
    "        data = response.json()\n",
    "        print(data['mappings'][0])\n",
    "        gene_name = data['mappings'][0]['gene_symbol']\n",
    "        protein_id = data['mappings'][0]['protein_id']\n",
    "    else:\n",
    "        print(f\"Error: Unable to fetch information for rsid {rsid}\")\n",
    "        return None\n",
    "\n",
    "    # Step 2: Parse transcript location to get gene and protein positions\n",
    "    transcript_accession, position = transcript_location.split(\":\")\n",
    "    position = int(position)\n",
    "\n",
    "    return gene_name, transcript_accession, position, protein_id\n",
    "\n",
    "# Example usage\n",
    "rsid = \"rs1000002\"\n",
    "transcript_location = \"NC_000003.12:183917980\"\n",
    "result = get_gene_and_protein_positions(rsid, transcript_location)\n",
    "\n",
    "if result:\n",
    "    gene_name, transcript_accession, position, protein_id = result\n",
    "    print(f\"Gene Name: {gene_name}\")\n",
    "    print(f\"Transcript Accession: {transcript_accession}\")\n",
    "    print(f\"Position: {position}\")\n",
    "    print(f\"Protein ID: {protein_id}\")\n"
   ]
  },
  {
   "cell_type": "code",
   "execution_count": 2,
   "metadata": {},
   "outputs": [
    {
     "ename": "KeyError",
     "evalue": "'transcript_id'",
     "output_type": "error",
     "traceback": [
      "\u001b[0;31m---------------------------------------------------------------------------\u001b[0m",
      "\u001b[0;31mKeyError\u001b[0m                                  Traceback (most recent call last)",
      "\u001b[0;32m<ipython-input-2-05a98d0d8534>\u001b[0m in \u001b[0;36m<module>\u001b[0;34m()\u001b[0m\n\u001b[1;32m     27\u001b[0m \u001b[0mrsid\u001b[0m \u001b[0;34m=\u001b[0m \u001b[0;34m\"rs1000002\"\u001b[0m\u001b[0;34m\u001b[0m\u001b[0m\n\u001b[1;32m     28\u001b[0m \u001b[0mtranscript_location\u001b[0m \u001b[0;34m=\u001b[0m \u001b[0;34m\"NC_000003.12:183917980\"\u001b[0m\u001b[0;34m\u001b[0m\u001b[0m\n\u001b[0;32m---> 29\u001b[0;31m \u001b[0mresult\u001b[0m \u001b[0;34m=\u001b[0m \u001b[0mget_gene_and_protein_positions\u001b[0m\u001b[0;34m(\u001b[0m\u001b[0mrsid\u001b[0m\u001b[0;34m,\u001b[0m \u001b[0mtranscript_location\u001b[0m\u001b[0;34m)\u001b[0m\u001b[0;34m\u001b[0m\u001b[0m\n\u001b[0m\u001b[1;32m     30\u001b[0m \u001b[0;34m\u001b[0m\u001b[0m\n\u001b[1;32m     31\u001b[0m \u001b[0;32mif\u001b[0m \u001b[0mresult\u001b[0m\u001b[0;34m:\u001b[0m\u001b[0;34m\u001b[0m\u001b[0m\n",
      "\u001b[0;32m<ipython-input-2-05a98d0d8534>\u001b[0m in \u001b[0;36mget_gene_and_protein_positions\u001b[0;34m(rsid, transcript_location)\u001b[0m\n\u001b[1;32m      9\u001b[0m         \u001b[0mdata\u001b[0m \u001b[0;34m=\u001b[0m \u001b[0mresponse\u001b[0m\u001b[0;34m.\u001b[0m\u001b[0mjson\u001b[0m\u001b[0;34m(\u001b[0m\u001b[0;34m)\u001b[0m\u001b[0;34m\u001b[0m\u001b[0m\n\u001b[1;32m     10\u001b[0m         \u001b[0;32mif\u001b[0m \u001b[0;34m'mappings'\u001b[0m \u001b[0;32min\u001b[0m \u001b[0mdata\u001b[0m \u001b[0;32mand\u001b[0m \u001b[0mlen\u001b[0m\u001b[0;34m(\u001b[0m\u001b[0mdata\u001b[0m\u001b[0;34m[\u001b[0m\u001b[0;34m'mappings'\u001b[0m\u001b[0;34m]\u001b[0m\u001b[0;34m)\u001b[0m \u001b[0;34m>\u001b[0m \u001b[0;36m0\u001b[0m\u001b[0;34m:\u001b[0m\u001b[0;34m\u001b[0m\u001b[0m\n\u001b[0;32m---> 11\u001b[0;31m             \u001b[0mtranscript_accession\u001b[0m \u001b[0;34m=\u001b[0m \u001b[0mdata\u001b[0m\u001b[0;34m[\u001b[0m\u001b[0;34m'mappings'\u001b[0m\u001b[0;34m]\u001b[0m\u001b[0;34m[\u001b[0m\u001b[0;36m0\u001b[0m\u001b[0;34m]\u001b[0m\u001b[0;34m[\u001b[0m\u001b[0;34m'transcript_id'\u001b[0m\u001b[0;34m]\u001b[0m\u001b[0;34m\u001b[0m\u001b[0m\n\u001b[0m\u001b[1;32m     12\u001b[0m             \u001b[0mposition\u001b[0m \u001b[0;34m=\u001b[0m \u001b[0mdata\u001b[0m\u001b[0;34m[\u001b[0m\u001b[0;34m'mappings'\u001b[0m\u001b[0;34m]\u001b[0m\u001b[0;34m[\u001b[0m\u001b[0;36m0\u001b[0m\u001b[0;34m]\u001b[0m\u001b[0;34m[\u001b[0m\u001b[0;34m'start'\u001b[0m\u001b[0;34m]\u001b[0m\u001b[0;34m\u001b[0m\u001b[0m\n\u001b[1;32m     13\u001b[0m         \u001b[0;32melse\u001b[0m\u001b[0;34m:\u001b[0m\u001b[0;34m\u001b[0m\u001b[0m\n",
      "\u001b[0;31mKeyError\u001b[0m: 'transcript_id'"
     ]
    }
   ],
   "source": [
    "import requests\n",
    "\n",
    "def get_gene_and_protein_positions(rsid, transcript_location):\n",
    "    # Step 1: Query rsid to get gene and protein information\n",
    "    url = f\"https://rest.ensembl.org/variation/human/{rsid}\"\n",
    "    response = requests.get(url, headers={\"Content-Type\": \"application/json\"})\n",
    "    \n",
    "    if response.status_code == 200:\n",
    "        data = response.json()\n",
    "        if 'mappings' in data and len(data['mappings']) > 0:\n",
    "            transcript_accession = data['mappings'][0]['transcript_id']\n",
    "            position = data['mappings'][0]['start']\n",
    "        else:\n",
    "            print(f\"Error: Unable to fetch information for rsid {rsid}\")\n",
    "            return None\n",
    "    else:\n",
    "        print(f\"Error: Unable to fetch information for rsid {rsid}\")\n",
    "        return None\n",
    "\n",
    "    # Step 2: Parse transcript location to get gene and protein positions\n",
    "    transcript_accession, position = transcript_location.split(\":\")\n",
    "    position = int(position)\n",
    "\n",
    "    return transcript_accession, position\n",
    "\n",
    "# Example usage\n",
    "rsid = \"rs1000002\"\n",
    "transcript_location = \"NC_000003.12:183917980\"\n",
    "result = get_gene_and_protein_positions(rsid, transcript_location)\n",
    "\n",
    "if result:\n",
    "    transcript_accession, position = result\n",
    "    print(f\"Transcript Accession: {transcript_accession}\")\n",
    "    print(f\"Position: {position}\")\n"
   ]
  },
  {
   "cell_type": "code",
   "execution_count": 1,
   "metadata": {},
   "outputs": [
    {
     "name": "stdout",
     "output_type": "stream",
     "text": [
      "Error: Unable to fetch information for rsid rs1000002\n"
     ]
    }
   ],
   "source": [
    "import requests\n",
    "\n",
    "def get_gene_and_protein_positions(rsid, transcript_location):\n",
    "    # Step 1: Query transcript location to get gene and protein information\n",
    "    transcript_accession, position = transcript_location.split(\":\")\n",
    "    position = int(position)\n",
    "\n",
    "    url = f\"https://rest.ensembl.org/map/human/{transcript_accession}/{position}..{position}/GRCh38\"\n",
    "    response = requests.get(url, headers={\"Content-Type\": \"application/json\"})\n",
    "    \n",
    "    if response.status_code == 200:\n",
    "        data = response.json()\n",
    "        if 'mappings' in data and len(data['mappings']) > 0:\n",
    "            gene_name = data['mappings'][0]['external_name']\n",
    "            protein_id = data['mappings'][0]['protein_id']\n",
    "        else:\n",
    "            print(f\"Error: Unable to fetch information for rsid {rsid}\")\n",
    "            return None\n",
    "    else:\n",
    "        print(f\"Error: Unable to fetch information for rsid {rsid}\")\n",
    "        return None\n",
    "\n",
    "    return gene_name, transcript_accession, position, protein_id\n",
    "\n",
    "# Example usage\n",
    "rsid = \"rs1000002\"\n",
    "transcript_location = \"NC_000003.12:183917980\"\n",
    "result = get_gene_and_protein_positions(rsid, transcript_location)\n",
    "\n",
    "if result:\n",
    "    gene_name, transcript_accession, position, protein_id = result\n",
    "    print(f\"Gene Name: {gene_name}\")\n",
    "    print(f\"Transcript Accession: {transcript_accession}\")\n",
    "    print(f\"Position: {position}\")\n",
    "    print(f\"Protein ID: {protein_id}\")\n"
   ]
  }
 ],
 "metadata": {
  "kernelspec": {
   "display_name": "ML",
   "language": "python",
   "name": "python3"
  },
  "language_info": {
   "codemirror_mode": {
    "name": "ipython",
    "version": 3
   },
   "file_extension": ".py",
   "mimetype": "text/x-python",
   "name": "python",
   "nbconvert_exporter": "python",
   "pygments_lexer": "ipython3",
   "version": "3.6.5"
  }
 },
 "nbformat": 4,
 "nbformat_minor": 2
}
